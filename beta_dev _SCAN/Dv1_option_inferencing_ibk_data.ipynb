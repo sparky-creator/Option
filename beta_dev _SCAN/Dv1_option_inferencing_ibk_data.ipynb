{
 "cells": [
  {
   "cell_type": "code",
   "execution_count": 1,
   "id": "f0d96f9c-561a-4b14-a127-9527ed2fa86a",
   "metadata": {},
   "outputs": [],
   "source": [
    "import os\n",
    "import numpy as np\n",
    "import pandas as pd\n",
    "from datetime import datetime, date, timedelta, time\n",
    "os.environ['TZ'] ='America/New_York'\n",
    "\n",
    "import yfinance as yf\n",
    "\n",
    "import seaborn as sns\n",
    "import matplotlib.pyplot as plt\n",
    "\n",
    "from sklearn.tree import DecisionTreeRegressor\n",
    "from sklearn.ensemble import RandomForestRegressor\n",
    "from sklearn.metrics import mean_squared_error, mean_absolute_error\n",
    "\n",
    "from ib_async import *\n",
    "util.startLoop()"
   ]
  },
  {
   "cell_type": "markdown",
   "id": "b49f8d42-045b-4c3b-bb98-0d5acdb61696",
   "metadata": {},
   "source": [
    "### Data Prep for Inferencing"
   ]
  },
  {
   "cell_type": "code",
   "execution_count": 3,
   "id": "78d4390b-5d51-473d-8b43-99cfd36e358a",
   "metadata": {},
   "outputs": [
    {
     "data": {
      "text/plain": [
       "<IB connected to 127.0.0.1:4002 clientId=9>"
      ]
     },
     "execution_count": 3,
     "metadata": {},
     "output_type": "execute_result"
    }
   ],
   "source": [
    "ib = IB()\n",
    "ib.connect(port=4002, clientId=9)"
   ]
  },
  {
   "cell_type": "code",
   "execution_count": 43,
   "id": "4cf65e41-67cb-49d6-8bff-a910f14600e9",
   "metadata": {},
   "outputs": [
    {
     "data": {
      "text/plain": [
       "[Contract(secType='STK', conId=272093, symbol='MSFT', exchange='SMART', primaryExchange='NASDAQ', currency='USD', localSymbol='MSFT', tradingClass='NMS')]"
      ]
     },
     "execution_count": 43,
     "metadata": {},
     "output_type": "execute_result"
    }
   ],
   "source": [
    "contract = Contract(symbol='MSFT', secType='STK', exchange='SMART', currency='USD')\n",
    "ib.qualifyContracts(contract)"
   ]
  },
  {
   "cell_type": "code",
   "execution_count": 5,
   "id": "e2a181d2-4ba7-4cfa-861f-256b0d87336c",
   "metadata": {},
   "outputs": [
    {
     "data": {
      "text/plain": [
       "[Contract(secType='IND', conId=13455763, symbol='VIX', exchange='CBOE', currency='USD', localSymbol='VIX')]"
      ]
     },
     "execution_count": 5,
     "metadata": {},
     "output_type": "execute_result"
    }
   ],
   "source": [
    "contract_vix = Contract(symbol= 'VIX', secType = 'IND',exchange = 'CBOE', currency='USD')\n",
    "ib.qualifyContracts(contract_vix)"
   ]
  },
  {
   "cell_type": "code",
   "execution_count": 6,
   "id": "5db09cf3-e7fc-48ae-bd09-1814e51b5a16",
   "metadata": {},
   "outputs": [
    {
     "data": {
      "text/plain": [
       "[Contract(secType='STK', conId=72539702, symbol='TQQQ', exchange='SMART', primaryExchange='NASDAQ', currency='USD', localSymbol='TQQQ', tradingClass='NMS')]"
      ]
     },
     "execution_count": 6,
     "metadata": {},
     "output_type": "execute_result"
    }
   ],
   "source": [
    "contract_nas = Contract(symbol= 'TQQQ', secType = 'STK',exchange = 'SMART', currency='USD')\n",
    "ib.qualifyContracts(contract_nas)"
   ]
  },
  {
   "cell_type": "code",
   "execution_count": 7,
   "id": "fe3c69b4-8edf-4908-a798-35f519661718",
   "metadata": {},
   "outputs": [],
   "source": [
    "class Data_Request :\n",
    "\n",
    "    \"\"\"\n",
    "    Returns PD data containning equity price with specific time control\n",
    "\n",
    "    Returns:\n",
    "        pd: information regarding the contract of interst.\n",
    "    \"\"\"\n",
    "    \n",
    "    def __init__(self, list_days, contract, barsize, duration, *,specific_time= None, specific_pick_time= None):\n",
    "\n",
    "        self.list_days = list_days\n",
    "        self.contract = contract\n",
    "        #self.init_date = init_date\n",
    "        self.barsize = barsize\n",
    "        self.duration = duration\n",
    "        self.specific_time = specific_time # cut off time . Time object: time(14, 30, 0)\n",
    "        self.specific_pick_time= specific_pick_time\n",
    "\n",
    "    def D_request(self):\n",
    "\n",
    "        his_df =pd.DataFrame()\n",
    "        \n",
    "        for i in range(len(self.list_days)):\n",
    "            init_date=self.list_days[i]\n",
    "            bars = ib.reqHistoricalData(self.contract, init_date, barSizeSetting=self.barsize, durationStr=self.duration, whatToShow=\"TRADES\", useRTH=True)\n",
    "            add_his_df = pd.DataFrame(bars)\n",
    "            add_his_df['date'] = pd.to_datetime(add_his_df['date'])\n",
    "            print(f'retriveing data for {init_date}')\n",
    "\n",
    "            if self.specific_time is not None:\n",
    "                cut_off = datetime.combine(self.list_days[i],self.specific_time)  # need logic if specific_time is defined\n",
    "                pd_cut_off = pd.to_datetime(cut_off).tz_localize('US/Eastern')\n",
    "            #datetime64_eastern = pd.Timestamp(date_time_str).tz_localize('US/Eastern')\n",
    "                add_his_df = add_his_df[add_his_df['date'] > pd_cut_off]\n",
    "            \n",
    "            if self.specific_pick_time is not None:\n",
    "                pick_time = datetime.combine(self.list_days[i],self.specific_pick_time)  # need logic if specific_time is defined\n",
    "                pd_pick_time = pd.to_datetime(pick_time).tz_localize('US/Eastern')\n",
    "            #datetime64_eastern = pd.Timestamp(date_time_str).tz_localize('US/Eastern')\n",
    "                add_his_df = add_his_df[add_his_df['date'] == pd_pick_time]\n",
    "\n",
    "            \n",
    "            his_df = pd.concat([his_df, add_his_df], ignore_index=True)\n",
    "            his_df['Date_Only'] = his_df['date'].dt.date\n",
    "            print(len(his_df))\n",
    "\n",
    "        \n",
    "        return his_df\n"
   ]
  },
  {
   "cell_type": "code",
   "execution_count": 8,
   "id": "2778c667-4ad3-41f8-8af2-9869cafd68aa",
   "metadata": {},
   "outputs": [],
   "source": [
    "# picking out Friday and before specific-time data\n",
    "\n",
    "#specific_time = time(14, 30, 0)\n",
    "def data_filter_v46(df_initial, list_days, specific_time_before = None, specific_time_after= None, on_time= None):\n",
    "    his_df = pd.DataFrame()\n",
    "\n",
    "    df_trimmed = df_initial[df_initial['date'].dt.date.isin(list_days)]\n",
    "\n",
    "    if specific_time_before is not None:\n",
    "\n",
    "        his_df = df_trimmed[(df_trimmed['date'].dt.time < specific_time_before)]\n",
    "        \n",
    "            \n",
    "    if specific_time_after is not None:\n",
    "\n",
    "        his_df = df_trimmed[(df_trimmed['date'].dt.time >= specific_time_after)]\n",
    "\n",
    "    if on_time is not None:\n",
    "        his_df = df_trimmed[(df_trimmed['date'].dt.time == on_time)]\n",
    "\n",
    "    if (specific_time_before is None and specific_time_after is None) and on_time is None:\n",
    "\n",
    "        his_df = df_trimmed\n",
    "        \n",
    "    return his_df"
   ]
  },
  {
   "cell_type": "code",
   "execution_count": null,
   "id": "9c0c04d6-a811-459d-b4eb-677b1d46b103",
   "metadata": {},
   "outputs": [],
   "source": [
    "# picking out Friday and before specific-time data\n",
    "\n",
    "#specific_time = time(14, 30, 0)\n",
    "def data_filter(df_initial, list_days, specific_time_before = None, specific_time_after= None, on_time= None):\n",
    "    his_df = pd.DataFrame()\n",
    "    for i in range(len(list_days)):\n",
    "        init_date=list_days[i]\n",
    "        if specific_time_before is not None:\n",
    "            add_his_df = df_initial[(df_initial['date'].dt.date == init_date) & (df_initial['date'].dt.time < specific_time_before)]\n",
    "           \n",
    "            \n",
    "        if specific_time_after is not None:\n",
    "            add_his_df = df_initial[(df_initial['date'].dt.date == init_date) & (df_initial['date'].dt.time >= specific_time_after)]\n",
    "\n",
    "        if on_time is not None:\n",
    "            add_his_df = df_initial[(df_initial['date'].dt.date == init_date) & (df_initial['date'].dt.time == on_time)]\n",
    "\n",
    "        if (specific_time_before is None and specific_time_after is None) and on_time is None:\n",
    "            add_his_df = df_initial[(df_initial['date'].dt.date == init_date)]\n",
    "        \n",
    "        print(len(his_df))\n",
    "        print(f'retrieving {init_date}')\n",
    "        per_proc = np.round(i+1/len(list_days)*100, decimals=1)\n",
    "        print(f'{per_proc} percent is done')\n",
    "        his_df = pd.concat([his_df, add_his_df], ignore_index=True)\n",
    "        his_df.drop_duplicates(subset=None, keep='first', inplace=True)\n",
    "        his_df['Date_Only'] = his_df['date'].dt.date\n",
    "    return his_df"
   ]
  },
  {
   "cell_type": "code",
   "execution_count": 19,
   "id": "e52c53b2-ad43-4b38-a26a-7dd2af6b3cd7",
   "metadata": {},
   "outputs": [],
   "source": [
    "def data_cleaning(df, in_days):\n",
    "    df_his = pd.DataFrame()\n",
    "    df_return = pd.DataFrame()\n",
    "    \n",
    "    df.drop_duplicates(inplace = True)\n",
    "    df_his = df[df[\"Date_Only\"].isin(in_days)]\n",
    "    df_return = df_his[(df_his['date'].dt.time > time(9,29,40)) & (df_his['date'].dt.time < time(16,00))]\n",
    "\n",
    "    for i in df_return['Date_Only'].unique():\n",
    "        if df_return[df_return['Date_Only'] ==i].shape[0] % 390 != 0:\n",
    "            print(i)\n",
    "    \n",
    "    return df_return"
   ]
  },
  {
   "cell_type": "markdown",
   "id": "34c8eb67-543d-4ad9-b613-d44a8b3f966c",
   "metadata": {},
   "source": [
    "### Inferencing Data Set Collection ###"
   ]
  },
  {
   "cell_type": "code",
   "execution_count": 10,
   "id": "862892f9-c4b7-427f-8ef4-36f3035f9ecc",
   "metadata": {},
   "outputs": [],
   "source": [
    "now =datetime.now()\n",
    "#print(now.date())\n",
    "#print(now.time().minute)\n",
    "#infer_time = time(now.time().hour, now.time().minute -15 )\n",
    "#infer_time = time(now.time().hour, now.time().minute)\n",
    "inferencing_date = now.date() - timedelta(2)\n",
    "\n",
    "#to_day = datetime.now().strftime(\"%y%m%d\")\n",
    "\n",
    "#datetime.now() -timedelta(1)\n",
    "\n",
    "infer_time = time(14,30,0)\n",
    "#infer_time = time(14,30,0)"
   ]
  },
  {
   "cell_type": "code",
   "execution_count": 44,
   "id": "7aa3420a-ca6d-4482-8a76-12a8f9915135",
   "metadata": {},
   "outputs": [
    {
     "name": "stdout",
     "output_type": "stream",
     "text": [
      "retriveing data for 2025-04-04\n",
      "780\n"
     ]
    }
   ],
   "source": [
    "barsize =\"30 secs\"\n",
    "duration = \"1 D\"\n",
    "#DR_stock_meta = Data_Request( \" \",contract, barsize, duration)\n",
    "DR_stock_meta = Data_Request([inferencing_date], contract, barsize, duration)\n",
    "df_all_days_stock = DR_stock_meta.D_request()"
   ]
  },
  {
   "cell_type": "code",
   "execution_count": 12,
   "id": "d21e8784-60e4-458a-a468-73890f6b53f7",
   "metadata": {},
   "outputs": [
    {
     "name": "stdout",
     "output_type": "stream",
     "text": [
      "retriveing data for 2025-04-04\n",
      "1620\n",
      "retriveing data for 2025-04-04\n",
      "780\n"
     ]
    }
   ],
   "source": [
    "DR_IND_VIX = Data_Request([inferencing_date], contract_vix, barsize, duration)\n",
    "DR_STK_TQQQ = Data_Request([inferencing_date], contract_nas, barsize, duration)\n",
    "df_all_days_VIX = DR_IND_VIX.D_request()\n",
    "df_all_days_TQQQ = DR_STK_TQQQ.D_request()"
   ]
  },
  {
   "cell_type": "code",
   "execution_count": 45,
   "id": "f8187a55-3b5c-4f64-b4f7-906e464f53dd",
   "metadata": {},
   "outputs": [],
   "source": [
    "df_stock = data_cleaning(df_all_days_stock,[inferencing_date])"
   ]
  },
  {
   "cell_type": "code",
   "execution_count": 20,
   "id": "7da33195-3d19-4b79-99e1-4151ee20eb80",
   "metadata": {},
   "outputs": [],
   "source": [
    "df_VIX = data_cleaning(df_all_days_VIX,[inferencing_date])"
   ]
  },
  {
   "cell_type": "code",
   "execution_count": 16,
   "id": "11b32d7a-66c7-4412-8cb4-4632dbe1839c",
   "metadata": {},
   "outputs": [],
   "source": [
    "df_TQQQ = data_cleaning(df_all_days_TQQQ,[inferencing_date])"
   ]
  },
  {
   "cell_type": "code",
   "execution_count": 21,
   "id": "4aa96c6c-e407-4087-b213-250ae5f967b0",
   "metadata": {},
   "outputs": [],
   "source": [
    "\n",
    "def data_sparcing_construc(df, sp_day, *, cut_time = None):\n",
    "    #df_group = df.groupby(\"Date_Only\").std(numeric_only=True)\n",
    "    df_filter_prior = data_filter_v46(df, sp_day, specific_time_before = cut_time )\n",
    "    df_group_prior = df_filter_prior.groupby(\"Date_Only\").std(numeric_only=True)\n",
    "    \n",
    "    #df_filter_after = data_filter(df, sp_day, specific_time_after = cut_time )\n",
    "    #df_group_after = df_filter_after.groupby(\"Date_Only\").std(numeric_only=True)\n",
    "\n",
    "\n",
    "    df_group_train =pd.DataFrame()\n",
    "    #df_group_train['Target_std'] = pd.DataFrame(df_group_after[['open','high','low','close']].max(axis=1))\n",
    "    df_group_train['prior_std'] = pd.DataFrame(df_group_prior[['open','high','low','close']].max(axis=1))\n",
    "    df_group_train['prior_Vol'] = pd.DataFrame(df_filter_prior.groupby(\"Date_Only\").mean()['volume'])\n",
    "    df_group_train['prior_spread'] = df_filter_prior.groupby('Date_Only')['open'].max() - df_filter_prior.groupby('Date_Only')['open'].min()\n",
    "\n",
    "\n",
    "    df_group_train['prior_range'] =pd.DataFrame(df_filter_prior.groupby('Date_Only')['close'].max() -df_filter_prior.groupby('Date_Only')['close'].min() )\n",
    "\n",
    "    df_initial = df_filter_prior\n",
    "    new_time = time(cut_time.hour, cut_time.minute -1)\n",
    "    df_group_train['cut_open'] = df_initial[(df_initial['date'].dt.time == new_time)]['open'].values\n",
    "    \n",
    "    cut_name =['cut_1hr','cut_2hr','cut_3hr']\n",
    "    for i in range(3):\n",
    "        print(f'time avaiable {i}')\n",
    "        prior = time(cut_time.hour - (i+1), cut_time.minute)\n",
    "        df_group_train[cut_name[i]] = df_initial[(df_initial['date'].dt.time == new_time)]['open'].values- df_initial[(df_initial['date'].dt.time == prior)]['open'].values\n",
    "\n",
    "    #df_group_train['Class_target'] = df_filter_after[(df_filter_after['date'].dt.time == time(15, 49, 0))]['close'].values- df_initial[(df_initial['date'].dt.time == new_time)]['open'].values\n",
    "    \n",
    "    return df_group_train, df_filter_prior, df_group_prior\n",
    "    "
   ]
  },
  {
   "cell_type": "code",
   "execution_count": 22,
   "id": "e0839af3-ef97-46fa-8ce3-fcbbd6fcabcb",
   "metadata": {},
   "outputs": [
    {
     "name": "stdout",
     "output_type": "stream",
     "text": [
      "14:30:00\n"
     ]
    }
   ],
   "source": [
    "#print(now.time().minute)\n",
    "#infer_time = time(now.time().hour, now.time().minute -15 )\n",
    "print(infer_time)"
   ]
  },
  {
   "cell_type": "code",
   "execution_count": 46,
   "id": "b7eb65d5-801c-4dfb-b1e9-f5ea8b17a750",
   "metadata": {},
   "outputs": [
    {
     "name": "stdout",
     "output_type": "stream",
     "text": [
      "time avaiable 0\n",
      "time avaiable 1\n",
      "time avaiable 2\n"
     ]
    }
   ],
   "source": [
    "df_group_train, df_filter_prior, df_group_prior = data_sparcing_construc(df_stock, [inferencing_date], cut_time= infer_time)"
   ]
  },
  {
   "cell_type": "code",
   "execution_count": 24,
   "id": "ba9237c8-c9f7-4804-825d-8403febaa198",
   "metadata": {},
   "outputs": [
    {
     "name": "stdout",
     "output_type": "stream",
     "text": [
      "time avaiable 0\n",
      "time avaiable 1\n",
      "time avaiable 2\n"
     ]
    }
   ],
   "source": [
    "df_group_train_tqqq, *_ = data_sparcing_construc(df_TQQQ, [inferencing_date], cut_time= infer_time)"
   ]
  },
  {
   "cell_type": "code",
   "execution_count": 25,
   "id": "2549cdbc-137d-41f8-9dd9-3a57e99ff2bf",
   "metadata": {},
   "outputs": [],
   "source": [
    "# end time needs to be adjusted\n",
    "#vix_infer_time = time(now.time().hour -1, now.time().minute )\n",
    "vix_infer_time = infer_time "
   ]
  },
  {
   "cell_type": "code",
   "execution_count": 26,
   "id": "314e64f1-8d83-4d25-a574-83902484e4f5",
   "metadata": {},
   "outputs": [
    {
     "name": "stdout",
     "output_type": "stream",
     "text": [
      "time avaiable 0\n",
      "time avaiable 1\n",
      "time avaiable 2\n"
     ]
    }
   ],
   "source": [
    "df_group_train_vix, *_ = data_sparcing_construc(df_VIX, [inferencing_date], cut_time= vix_infer_time)"
   ]
  },
  {
   "cell_type": "code",
   "execution_count": 27,
   "id": "110aa9da-056e-43e1-aba4-23a2d83e3661",
   "metadata": {},
   "outputs": [
    {
     "data": {
      "text/html": [
       "<div>\n",
       "<style scoped>\n",
       "    .dataframe tbody tr th:only-of-type {\n",
       "        vertical-align: middle;\n",
       "    }\n",
       "\n",
       "    .dataframe tbody tr th {\n",
       "        vertical-align: top;\n",
       "    }\n",
       "\n",
       "    .dataframe thead th {\n",
       "        text-align: right;\n",
       "    }\n",
       "</style>\n",
       "<table border=\"1\" class=\"dataframe\">\n",
       "  <thead>\n",
       "    <tr style=\"text-align: right;\">\n",
       "      <th></th>\n",
       "      <th>prior_std</th>\n",
       "      <th>prior_Vol</th>\n",
       "      <th>prior_spread</th>\n",
       "      <th>prior_range</th>\n",
       "      <th>cut_open</th>\n",
       "      <th>cut_1hr</th>\n",
       "      <th>cut_2hr</th>\n",
       "      <th>cut_3hr</th>\n",
       "    </tr>\n",
       "    <tr>\n",
       "      <th>Date_Only</th>\n",
       "      <th></th>\n",
       "      <th></th>\n",
       "      <th></th>\n",
       "      <th></th>\n",
       "      <th></th>\n",
       "      <th></th>\n",
       "      <th></th>\n",
       "      <th></th>\n",
       "    </tr>\n",
       "  </thead>\n",
       "  <tbody>\n",
       "    <tr>\n",
       "      <th>2025-04-04</th>\n",
       "      <td>1.782175</td>\n",
       "      <td>0.0</td>\n",
       "      <td>8.21</td>\n",
       "      <td>8.15</td>\n",
       "      <td>42.66</td>\n",
       "      <td>-0.05</td>\n",
       "      <td>1.03</td>\n",
       "      <td>2.17</td>\n",
       "    </tr>\n",
       "  </tbody>\n",
       "</table>\n",
       "</div>"
      ],
      "text/plain": [
       "            prior_std  prior_Vol  prior_spread  prior_range  cut_open  \\\n",
       "Date_Only                                                               \n",
       "2025-04-04   1.782175        0.0          8.21         8.15     42.66   \n",
       "\n",
       "            cut_1hr  cut_2hr  cut_3hr  \n",
       "Date_Only                              \n",
       "2025-04-04    -0.05     1.03     2.17  "
      ]
     },
     "execution_count": 27,
     "metadata": {},
     "output_type": "execute_result"
    }
   ],
   "source": [
    "df_group_train_vix"
   ]
  },
  {
   "cell_type": "code",
   "execution_count": 47,
   "id": "18bf7897-64ff-431a-821b-5364c06bbfb3",
   "metadata": {},
   "outputs": [],
   "source": [
    "df_final_joninted_vix=pd.DataFrame()\n",
    "df_final_joninted_all=pd.DataFrame()\n",
    "\n",
    "df_group_train_vix.columns =['vix_prior_std','vix_Vol','vix_pr_spread','vix_prior_range','vix_cut_open','vix_cut_1hr','vix_cut_2hr','vix_cut_3hr']\n",
    "df_final_jointed_vix = pd.concat([df_group_train,df_group_train_vix], axis=1)\n",
    "df_group_train_tqqq.columns =['tqqq_prior_std','tqqq_Vol','tqqq_pr_spread','tqqq_prior_range','tqqq_cut_open','tqqq_cut_1hr','tqqq_cut_2hr','tqqq_cut_3hr']\n",
    "df_final_jointed_all = pd.concat([df_final_jointed_vix,df_group_train_tqqq], axis=1)\n",
    "df_final_jointed_all.drop(['vix_Vol'], axis=1, inplace=True)"
   ]
  },
  {
   "cell_type": "code",
   "execution_count": 48,
   "id": "6f6803c7-cc68-4303-bd03-8ba89821c114",
   "metadata": {},
   "outputs": [
    {
     "data": {
      "text/html": [
       "<div>\n",
       "<style scoped>\n",
       "    .dataframe tbody tr th:only-of-type {\n",
       "        vertical-align: middle;\n",
       "    }\n",
       "\n",
       "    .dataframe tbody tr th {\n",
       "        vertical-align: top;\n",
       "    }\n",
       "\n",
       "    .dataframe thead th {\n",
       "        text-align: right;\n",
       "    }\n",
       "</style>\n",
       "<table border=\"1\" class=\"dataframe\">\n",
       "  <thead>\n",
       "    <tr style=\"text-align: right;\">\n",
       "      <th></th>\n",
       "      <th>prior_std</th>\n",
       "      <th>prior_Vol</th>\n",
       "      <th>prior_spread</th>\n",
       "      <th>prior_range</th>\n",
       "      <th>cut_open</th>\n",
       "      <th>cut_1hr</th>\n",
       "      <th>cut_2hr</th>\n",
       "      <th>cut_3hr</th>\n",
       "      <th>vix_prior_std</th>\n",
       "      <th>vix_pr_spread</th>\n",
       "      <th>...</th>\n",
       "      <th>vix_cut_2hr</th>\n",
       "      <th>vix_cut_3hr</th>\n",
       "      <th>tqqq_prior_std</th>\n",
       "      <th>tqqq_Vol</th>\n",
       "      <th>tqqq_pr_spread</th>\n",
       "      <th>tqqq_prior_range</th>\n",
       "      <th>tqqq_cut_open</th>\n",
       "      <th>tqqq_cut_1hr</th>\n",
       "      <th>tqqq_cut_2hr</th>\n",
       "      <th>tqqq_cut_3hr</th>\n",
       "    </tr>\n",
       "    <tr>\n",
       "      <th>Date_Only</th>\n",
       "      <th></th>\n",
       "      <th></th>\n",
       "      <th></th>\n",
       "      <th></th>\n",
       "      <th></th>\n",
       "      <th></th>\n",
       "      <th></th>\n",
       "      <th></th>\n",
       "      <th></th>\n",
       "      <th></th>\n",
       "      <th></th>\n",
       "      <th></th>\n",
       "      <th></th>\n",
       "      <th></th>\n",
       "      <th></th>\n",
       "      <th></th>\n",
       "      <th></th>\n",
       "      <th></th>\n",
       "      <th></th>\n",
       "      <th></th>\n",
       "      <th></th>\n",
       "    </tr>\n",
       "  </thead>\n",
       "  <tbody>\n",
       "    <tr>\n",
       "      <th>2025-04-04</th>\n",
       "      <td>2.825599</td>\n",
       "      <td>28849.151667</td>\n",
       "      <td>11.6</td>\n",
       "      <td>11.54</td>\n",
       "      <td>362.66</td>\n",
       "      <td>-1.89</td>\n",
       "      <td>-1.84</td>\n",
       "      <td>-4.12</td>\n",
       "      <td>1.782175</td>\n",
       "      <td>8.21</td>\n",
       "      <td>...</td>\n",
       "      <td>1.03</td>\n",
       "      <td>2.17</td>\n",
       "      <td>1.173611</td>\n",
       "      <td>262093.086667</td>\n",
       "      <td>4.71</td>\n",
       "      <td>4.72</td>\n",
       "      <td>42.14</td>\n",
       "      <td>-0.37</td>\n",
       "      <td>-0.73</td>\n",
       "      <td>-2.17</td>\n",
       "    </tr>\n",
       "  </tbody>\n",
       "</table>\n",
       "<p>1 rows × 23 columns</p>\n",
       "</div>"
      ],
      "text/plain": [
       "            prior_std     prior_Vol  prior_spread  prior_range  cut_open  \\\n",
       "Date_Only                                                                  \n",
       "2025-04-04   2.825599  28849.151667          11.6        11.54    362.66   \n",
       "\n",
       "            cut_1hr  cut_2hr  cut_3hr  vix_prior_std  vix_pr_spread  ...  \\\n",
       "Date_Only                                                            ...   \n",
       "2025-04-04    -1.89    -1.84    -4.12       1.782175           8.21  ...   \n",
       "\n",
       "            vix_cut_2hr  vix_cut_3hr  tqqq_prior_std       tqqq_Vol  \\\n",
       "Date_Only                                                             \n",
       "2025-04-04         1.03         2.17        1.173611  262093.086667   \n",
       "\n",
       "            tqqq_pr_spread  tqqq_prior_range  tqqq_cut_open  tqqq_cut_1hr  \\\n",
       "Date_Only                                                                   \n",
       "2025-04-04            4.71              4.72          42.14         -0.37   \n",
       "\n",
       "            tqqq_cut_2hr  tqqq_cut_3hr  \n",
       "Date_Only                               \n",
       "2025-04-04         -0.73         -2.17  \n",
       "\n",
       "[1 rows x 23 columns]"
      ]
     },
     "execution_count": 48,
     "metadata": {},
     "output_type": "execute_result"
    }
   ],
   "source": [
    "df_final_jointed_all"
   ]
  },
  {
   "cell_type": "markdown",
   "id": "56d446b6-7827-412e-9e35-80fb0c4fcb05",
   "metadata": {},
   "source": [
    "### INFERENCING###"
   ]
  },
  {
   "cell_type": "code",
   "execution_count": 49,
   "id": "3ec081b5-08cc-448b-87b9-f26221a5eaf4",
   "metadata": {},
   "outputs": [
    {
     "data": {
      "text/plain": [
       "Index(['prior_std', 'prior_Vol', 'prior_spread', 'prior_range', 'cut_open',\n",
       "       'cut_1hr', 'cut_2hr', 'cut_3hr', 'vix_prior_std', 'vix_pr_spread',\n",
       "       'vix_prior_range', 'vix_cut_open', 'vix_cut_1hr', 'vix_cut_2hr',\n",
       "       'vix_cut_3hr', 'tqqq_prior_std', 'tqqq_Vol', 'tqqq_pr_spread',\n",
       "       'tqqq_prior_range', 'tqqq_cut_open', 'tqqq_cut_1hr', 'tqqq_cut_2hr',\n",
       "       'tqqq_cut_3hr'],\n",
       "      dtype='object')"
      ]
     },
     "execution_count": 49,
     "metadata": {},
     "output_type": "execute_result"
    }
   ],
   "source": [
    "df_final_jointed_all.columns"
   ]
  },
  {
   "cell_type": "code",
   "execution_count": 50,
   "id": "9b375a5f-5b57-4a9c-934a-d043269131df",
   "metadata": {},
   "outputs": [],
   "source": [
    "df_final_jointed_all.reset_index(inplace=True)\n",
    "inference_data = df_final_jointed_all.drop('Date_Only', axis=1)"
   ]
  },
  {
   "cell_type": "code",
   "execution_count": 51,
   "id": "2b854690-a671-4c54-ae31-e502ea7927c4",
   "metadata": {},
   "outputs": [
    {
     "data": {
      "text/plain": [
       "(1, 23)"
      ]
     },
     "execution_count": 51,
     "metadata": {},
     "output_type": "execute_result"
    }
   ],
   "source": [
    "inference_data.shape"
   ]
  },
  {
   "cell_type": "markdown",
   "id": "c5f541b3-f4a7-45e2-aab6-2940a37161f2",
   "metadata": {},
   "source": [
    "### spread model"
   ]
  },
  {
   "cell_type": "code",
   "execution_count": 52,
   "id": "75008cf3-e306-4519-99df-2e203e35d91b",
   "metadata": {},
   "outputs": [],
   "source": [
    "\n",
    "entry = df_filter_prior.tail(1)['close'].values"
   ]
  },
  {
   "cell_type": "code",
   "execution_count": null,
   "id": "8c70c6fb-8dff-4216-b7c4-62d6b53cbbc2",
   "metadata": {},
   "outputs": [],
   "source": [
    "import joblib\n",
    "# Assuming 'model' is your trained model object\n",
    "# spread_model\n",
    "filename = 'xgb_model_w_all_spread.joblib'\n",
    "loaded_model = joblib.load(filename)"
   ]
  },
  {
   "cell_type": "code",
   "execution_count": 53,
   "id": "0b1a73c2-4082-49cd-8da2-c9bef2ab14ed",
   "metadata": {},
   "outputs": [],
   "source": [
    "import joblib\n",
    "filename = 'SVR_model_35_MSFT.joblib'\n",
    "loaded_model = joblib.load(filename)\n",
    "sc_filename = 'scaler4svr_MSFT.save'\n",
    "scaler =joblib.load(sc_filename)"
   ]
  },
  {
   "cell_type": "code",
   "execution_count": null,
   "id": "838f0098-2e39-4e62-bd59-da82b0d9bd81",
   "metadata": {},
   "outputs": [],
   "source": [
    "filename_std = 'xgb_model_w_all_std.joblib'\n",
    "loaded_std_model = joblib.load(filename_std)"
   ]
  },
  {
   "cell_type": "code",
   "execution_count": 54,
   "id": "4373e4cf-1776-4ce7-ba70-6ece14b4cd1a",
   "metadata": {},
   "outputs": [
    {
     "data": {
      "text/html": [
       "<div>\n",
       "<style scoped>\n",
       "    .dataframe tbody tr th:only-of-type {\n",
       "        vertical-align: middle;\n",
       "    }\n",
       "\n",
       "    .dataframe tbody tr th {\n",
       "        vertical-align: top;\n",
       "    }\n",
       "\n",
       "    .dataframe thead th {\n",
       "        text-align: right;\n",
       "    }\n",
       "</style>\n",
       "<table border=\"1\" class=\"dataframe\">\n",
       "  <thead>\n",
       "    <tr style=\"text-align: right;\">\n",
       "      <th></th>\n",
       "      <th>prior_std</th>\n",
       "      <th>prior_Vol</th>\n",
       "      <th>prior_spread</th>\n",
       "      <th>prior_range</th>\n",
       "      <th>cut_open</th>\n",
       "      <th>cut_1hr</th>\n",
       "      <th>cut_2hr</th>\n",
       "      <th>cut_3hr</th>\n",
       "      <th>vix_prior_std</th>\n",
       "      <th>vix_pr_spread</th>\n",
       "      <th>...</th>\n",
       "      <th>vix_cut_2hr</th>\n",
       "      <th>vix_cut_3hr</th>\n",
       "      <th>tqqq_prior_std</th>\n",
       "      <th>tqqq_Vol</th>\n",
       "      <th>tqqq_pr_spread</th>\n",
       "      <th>tqqq_prior_range</th>\n",
       "      <th>tqqq_cut_open</th>\n",
       "      <th>tqqq_cut_1hr</th>\n",
       "      <th>tqqq_cut_2hr</th>\n",
       "      <th>tqqq_cut_3hr</th>\n",
       "    </tr>\n",
       "  </thead>\n",
       "  <tbody>\n",
       "    <tr>\n",
       "      <th>0</th>\n",
       "      <td>2.825599</td>\n",
       "      <td>28849.151667</td>\n",
       "      <td>11.6</td>\n",
       "      <td>11.54</td>\n",
       "      <td>362.66</td>\n",
       "      <td>-1.89</td>\n",
       "      <td>-1.84</td>\n",
       "      <td>-4.12</td>\n",
       "      <td>1.782175</td>\n",
       "      <td>8.21</td>\n",
       "      <td>...</td>\n",
       "      <td>1.03</td>\n",
       "      <td>2.17</td>\n",
       "      <td>1.173611</td>\n",
       "      <td>262093.086667</td>\n",
       "      <td>4.71</td>\n",
       "      <td>4.72</td>\n",
       "      <td>42.14</td>\n",
       "      <td>-0.37</td>\n",
       "      <td>-0.73</td>\n",
       "      <td>-2.17</td>\n",
       "    </tr>\n",
       "  </tbody>\n",
       "</table>\n",
       "<p>1 rows × 23 columns</p>\n",
       "</div>"
      ],
      "text/plain": [
       "   prior_std     prior_Vol  prior_spread  prior_range  cut_open  cut_1hr  \\\n",
       "0   2.825599  28849.151667          11.6        11.54    362.66    -1.89   \n",
       "\n",
       "   cut_2hr  cut_3hr  vix_prior_std  vix_pr_spread  ...  vix_cut_2hr  \\\n",
       "0    -1.84    -4.12       1.782175           8.21  ...         1.03   \n",
       "\n",
       "   vix_cut_3hr  tqqq_prior_std       tqqq_Vol  tqqq_pr_spread  \\\n",
       "0         2.17        1.173611  262093.086667            4.71   \n",
       "\n",
       "   tqqq_prior_range  tqqq_cut_open  tqqq_cut_1hr  tqqq_cut_2hr  tqqq_cut_3hr  \n",
       "0              4.72          42.14         -0.37         -0.73         -2.17  \n",
       "\n",
       "[1 rows x 23 columns]"
      ]
     },
     "execution_count": 54,
     "metadata": {},
     "output_type": "execute_result"
    }
   ],
   "source": [
    "inference_data"
   ]
  },
  {
   "cell_type": "code",
   "execution_count": 55,
   "id": "0c8466e3-b735-4c1e-8091-b7b2eb0816b8",
   "metadata": {},
   "outputs": [],
   "source": [
    "\n",
    "yhat_spread = loaded_model.predict(scaler.transform(inference_data))"
   ]
  },
  {
   "cell_type": "code",
   "execution_count": 56,
   "id": "8aecd320-39da-4a38-8dba-3b0dc66e62e8",
   "metadata": {},
   "outputs": [],
   "source": [
    "#yhat_std = loaded_std_model.predict(inference_data)"
   ]
  },
  {
   "cell_type": "code",
   "execution_count": 57,
   "id": "68599f33-bc1f-4d7f-8cee-9c98d39a098a",
   "metadata": {},
   "outputs": [
    {
     "data": {
      "text/plain": [
       "array([3.53761353])"
      ]
     },
     "execution_count": 57,
     "metadata": {},
     "output_type": "execute_result"
    }
   ],
   "source": [
    "yhat_spread"
   ]
  },
  {
   "cell_type": "code",
   "execution_count": null,
   "id": "22434279-be29-4ca2-b27c-857abddd693d",
   "metadata": {},
   "outputs": [],
   "source": [
    "# old model array([1.291517], dtype=float32)"
   ]
  },
  {
   "cell_type": "code",
   "execution_count": null,
   "id": "562b0a3f-151e-4bc0-a0a2-f0128a4ff252",
   "metadata": {},
   "outputs": [],
   "source": []
  },
  {
   "cell_type": "code",
   "execution_count": 58,
   "id": "38f04bad-7bd4-42a6-8376-258f49658079",
   "metadata": {},
   "outputs": [],
   "source": [
    "y_value = entry\n",
    "y_value_p = entry + yhat_spread[0]\n",
    "y_value_m = entry - yhat_spread[0]\n"
   ]
  },
  {
   "cell_type": "code",
   "execution_count": null,
   "id": "4de35ad6-de57-4bc0-9266-e611fcca9754",
   "metadata": {},
   "outputs": [],
   "source": [
    "y_value_p_std = entry + yhat_std[0]*3\n",
    "y_value_m_std = entry - yhat_std[0]*3"
   ]
  },
  {
   "cell_type": "code",
   "execution_count": 59,
   "id": "3d054413-5db1-4445-8683-6123be4e8e38",
   "metadata": {},
   "outputs": [
    {
     "name": "stdout",
     "output_type": "stream",
     "text": [
      "[366.19761353] [362.66] [359.12238647]\n"
     ]
    }
   ],
   "source": [
    "print(y_value_p,y_value, y_value_m )"
   ]
  },
  {
   "cell_type": "code",
   "execution_count": null,
   "id": "24e6fdc0-0e98-40a8-8c9a-299ef3957d32",
   "metadata": {},
   "outputs": [],
   "source": [
    "print(y_value_p_std,y_value, y_value_m_std )"
   ]
  },
  {
   "cell_type": "code",
   "execution_count": 60,
   "id": "a7747af4-6229-4720-a862-7f69539b77bf",
   "metadata": {},
   "outputs": [
    {
     "data": {
      "text/plain": [
       "<matplotlib.lines.Line2D at 0x2419193a210>"
      ]
     },
     "execution_count": 60,
     "metadata": {},
     "output_type": "execute_result"
    },
    {
     "data": {
      "image/png": "[encoded data removed]",
      "text/plain": [
       "<Figure size 640x480 with 1 Axes>"
      ]
     },
     "metadata": {},
     "output_type": "display_data"
    },
    {
     "name": "stderr",
     "output_type": "stream",
     "text": [
      "Error 1100, reqId -1: Connectivity between IBKR and Trader Workstation has been lost.\n",
      "Error 1102, reqId -1: Connectivity between IBKR and Trader Workstation has been restored - data maintained. All data farms are connected: usfarm; ushmds; secdefnj.\n",
      "Error 1100, reqId -1: Connectivity between IBKR and Trader Workstation has been lost.\n",
      "Error 1102, reqId -1: Connectivity between IBKR and Trader Workstation has been restored - data maintained. All data farms are connected: usfarm; ushmds; secdefnj.\n"
     ]
    }
   ],
   "source": [
    "#df_all_days_stock['close'].plot(xlim=(300,400), ylim=(575,587))\n",
    "df_all_days_stock['close'].plot()\n",
    "plt.xlabel('time')\n",
    "plt.axhline(y=y_value, color='r', linestyle='--', label=f'y = {y_value}')\n",
    "plt.axhline(y=y_value_p, color='black', linestyle='--', label=f'y = {y_value_p}')\n",
    "plt.axhline(y=y_value_m, color='black', linestyle='--', label=f'y = {y_value_m}')"
   ]
  },
  {
   "cell_type": "code",
   "execution_count": null,
   "id": "8d198710-b644-45f9-aa63-c3d8e5b49832",
   "metadata": {},
   "outputs": [],
   "source": [
    "## checking right options"
   ]
  },
  {
   "cell_type": "code",
   "execution_count": null,
   "id": "6ff655d0-d50b-434c-a34a-5b1dad512f14",
   "metadata": {},
   "outputs": [],
   "source": [
    "def get_option_chain(symbol):\n",
    "    contract = Stock(symbol=symbol, exchange='SMART', currency='USD')\n",
    "    ib.qualifyContracts(contract)\n",
    "    chains = ib.reqSecDefOptParams(underlyingSymbol=contract.symbol, futFopExchange=\"\", underlyingSecType=contract.secType, underlyingConId=contract.conId)\n",
    "    chain = [ c for c in chains if c.exchange =='SMART'][0]\n",
    "    return chain"
   ]
  },
  {
   "cell_type": "code",
   "execution_count": null,
   "id": "9da00574-5557-4c6d-b511-e4010407ecf8",
   "metadata": {},
   "outputs": [],
   "source": [
    "def get_options_chain_for_expiry(symbol, expiry, min_strike=0, max_strike=np.Inf):\n",
    "    option_chain = get_option_chain(symbol)\n",
    "    options=[]\n",
    "    for strike in option_chain.strikes:\n",
    "        if strike <= max_strike and strike >= min_strike:\n",
    "            for right in ['C', 'P']:\n",
    "                option = Option(symbol=symbol, lastTradeDateOrContractMonth=expiry, strike=strike, right=right, exchange='SMART', currency='USD')\n",
    "                options.append(option)\n",
    "    valid_options=ib.qualifyContracts(*options)\n",
    "    return valid_options"
   ]
  },
  {
   "cell_type": "code",
   "execution_count": null,
   "id": "0dd975fe-838f-4671-bbda-7acb5275d426",
   "metadata": {},
   "outputs": [],
   "source": [
    "### OPTION"
   ]
  },
  {
   "cell_type": "code",
   "execution_count": null,
   "id": "6f5bf7fb-f9ab-4e96-a886-bd206b37b1b5",
   "metadata": {},
   "outputs": [],
   "source": [
    "contract = Contract(symbol='META', secType='STK', exchange='SMART', currency='USD')\n",
    "ib.qualifyContracts(contract)"
   ]
  },
  {
   "cell_type": "code",
   "execution_count": null,
   "id": "4279b4da-f3cd-4faf-a2e8-08178b7866ff",
   "metadata": {},
   "outputs": [],
   "source": [
    "print(entry)"
   ]
  },
  {
   "cell_type": "code",
   "execution_count": null,
   "id": "dfffd4bd-e625-4463-badf-584181bcff4a",
   "metadata": {},
   "outputs": [],
   "source": [
    "print(y_value_p, y_value_m) "
   ]
  },
  {
   "cell_type": "code",
   "execution_count": null,
   "id": "876fe6c2-d172-4999-aa92-ea2afe0d78f8",
   "metadata": {},
   "outputs": [],
   "source": [
    "valid_options = get_options_chain_for_expiry(\"META\", \"20250404\", min_strike=500, max_strike=520)"
   ]
  },
  {
   "cell_type": "code",
   "execution_count": null,
   "id": "7f932c77-2a36-472c-ac8f-3c67d266dc04",
   "metadata": {},
   "outputs": [],
   "source": [
    "tickers_dict = {}\n",
    "for option in valid_options:\n",
    "    tickers_dict[(option.right, option.strike)] = ib.reqMktData(contract =option, genericTickList=\"\", snapshot=False, regulatorySnapshot=False)"
   ]
  },
  {
   "cell_type": "code",
   "execution_count": null,
   "id": "0a2017cf-23fe-4820-8bfe-0db01f7076a4",
   "metadata": {},
   "outputs": [],
   "source": [
    "ticker_call_to_sell_margin = tickers_dict['C', 520]\n",
    "ticker_call_to_sell_margin.midpoint()"
   ]
  },
  {
   "cell_type": "code",
   "execution_count": null,
   "id": "5dab3391-7af1-447f-b33b-3f6c6b7b65fb",
   "metadata": {},
   "outputs": [],
   "source": [
    "\n",
    "ticker_call_to_sell = tickers_dict['C', 515]\n",
    "ticker_call_to_sell.midpoint()"
   ]
  },
  {
   "cell_type": "code",
   "execution_count": null,
   "id": "95adf5db-5b80-478c-aa92-2dd8f594ebaa",
   "metadata": {},
   "outputs": [],
   "source": [
    "ticker_put_to_sell = tickers_dict['P', 500]\n",
    "ticker_put_to_sell.midpoint()"
   ]
  },
  {
   "cell_type": "code",
   "execution_count": null,
   "id": "e98847b4-dde2-4bd8-9819-782c6d95cb3e",
   "metadata": {},
   "outputs": [],
   "source": [
    "ticker_put_to_sell_margin = tickers_dict['P', 500]\n",
    "ticker_put_to_sell_margin.midpoint()"
   ]
  },
  {
   "cell_type": "code",
   "execution_count": null,
   "id": "edb2cb0b-f913-45df-a0e6-31c00a78f3a0",
   "metadata": {},
   "outputs": [],
   "source": [
    "print(f'current price({entry}')"
   ]
  },
  {
   "cell_type": "code",
   "execution_count": null,
   "id": "31585f0e-23c0-46b3-9771-9bbe9fe3f13a",
   "metadata": {},
   "outputs": [],
   "source": []
  }
 ],
 "metadata": {
  "kernelspec": {
   "display_name": "Python 3 (ipykernel)",
   "language": "python",
   "name": "python3"
  },
  "language_info": {
   "codemirror_mode": {
    "name": "ipython",
    "version": 3
   },
   "file_extension": ".py",
   "mimetype": "text/x-python",
   "name": "python",
   "nbconvert_exporter": "python",
   "pygments_lexer": "ipython3",
   "version": "3.12.7"
  }
 },
 "nbformat": 4,
 "nbformat_minor": 5
}
