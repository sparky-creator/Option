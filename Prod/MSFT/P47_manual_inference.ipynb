{
 "cells": [
  {
   "cell_type": "code",
   "execution_count": 1,
   "id": "f0d96f9c-561a-4b14-a127-9527ed2fa86a",
   "metadata": {},
   "outputs": [],
   "source": [
    "import os\n",
    "import math\n",
    "import numpy as np\n",
    "import pandas as pd\n",
    "from datetime import datetime, date, timedelta, time\n",
    "os.environ['TZ'] ='America/New_York'\n",
    "\n",
    "#import yfinance as yf\n",
    "\n",
    "import seaborn as sns\n",
    "import matplotlib.pyplot as plt\n",
    "\n",
    "from sklearn.tree import DecisionTreeRegressor\n",
    "from sklearn.ensemble import RandomForestRegressor\n",
    "from sklearn.metrics import mean_squared_error, mean_absolute_error\n",
    "\n",
    "from ib_async import *\n",
    "util.startLoop()"
   ]
  },
  {
   "cell_type": "markdown",
   "id": "b49f8d42-045b-4c3b-bb98-0d5acdb61696",
   "metadata": {},
   "source": [
    "### Data Prep for Inferencing"
   ]
  },
  {
   "cell_type": "code",
   "execution_count": 2,
   "id": "78d4390b-5d51-473d-8b43-99cfd36e358a",
   "metadata": {},
   "outputs": [
    {
     "data": {
      "text/plain": [
       "<IB connected to 127.0.0.1:7496 clientId=7>"
      ]
     },
     "execution_count": 2,
     "metadata": {},
     "output_type": "execute_result"
    }
   ],
   "source": [
    "ib = IB()\n",
    "ib.connect(port=7496, clientId=7)"
   ]
  },
  {
   "cell_type": "code",
   "execution_count": 3,
   "id": "4cf65e41-67cb-49d6-8bff-a910f14600e9",
   "metadata": {},
   "outputs": [
    {
     "data": {
      "text/plain": [
       "[Contract(secType='STK', conId=272093, symbol='MSFT', exchange='SMART', primaryExchange='NASDAQ', currency='USD', localSymbol='MSFT', tradingClass='NMS')]"
      ]
     },
     "execution_count": 3,
     "metadata": {},
     "output_type": "execute_result"
    }
   ],
   "source": [
    "contract = Contract(symbol='MSFT', secType='STK', exchange='SMART', currency='USD')\n",
    "ib.qualifyContracts(contract)"
   ]
  },
  {
   "cell_type": "code",
   "execution_count": 4,
   "id": "e2a181d2-4ba7-4cfa-861f-256b0d87336c",
   "metadata": {},
   "outputs": [
    {
     "data": {
      "text/plain": [
       "[Contract(secType='IND', conId=13455763, symbol='VIX', exchange='CBOE', currency='USD', localSymbol='VIX')]"
      ]
     },
     "execution_count": 4,
     "metadata": {},
     "output_type": "execute_result"
    }
   ],
   "source": [
    "contract_vix = Contract(symbol= 'VIX', secType = 'IND',exchange = 'CBOE', currency='USD')\n",
    "ib.qualifyContracts(contract_vix)"
   ]
  },
  {
   "cell_type": "code",
   "execution_count": 5,
   "id": "5db09cf3-e7fc-48ae-bd09-1814e51b5a16",
   "metadata": {},
   "outputs": [
    {
     "data": {
      "text/plain": [
       "[Contract(secType='STK', conId=72539702, symbol='TQQQ', exchange='SMART', primaryExchange='NASDAQ', currency='USD', localSymbol='TQQQ', tradingClass='NMS')]"
      ]
     },
     "execution_count": 5,
     "metadata": {},
     "output_type": "execute_result"
    }
   ],
   "source": [
    "contract_nas = Contract(symbol= 'TQQQ', secType = 'STK',exchange = 'SMART', currency='USD')\n",
    "ib.qualifyContracts(contract_nas)"
   ]
  },
  {
   "cell_type": "code",
   "execution_count": 6,
   "id": "fe3c69b4-8edf-4908-a798-35f519661718",
   "metadata": {},
   "outputs": [],
   "source": [
    "class Data_Request :\n",
    "\n",
    "    \"\"\"\n",
    "    Returns PD data containning equity price with specific time control\n",
    "\n",
    "    Returns:\n",
    "        pd: information regarding the contract of interst.\n",
    "    \"\"\"\n",
    "    \n",
    "    def __init__(self, list_days, contract, barsize, duration, *,specific_time= None, specific_pick_time= None):\n",
    "\n",
    "        self.list_days = list_days\n",
    "        self.contract = contract\n",
    "        #self.init_date = init_date\n",
    "        self.barsize = barsize\n",
    "        self.duration = duration\n",
    "        self.specific_time = specific_time # cut off time . Time object: time(14, 30, 0)\n",
    "        self.specific_pick_time= specific_pick_time\n",
    "\n",
    "    def D_request(self):\n",
    "\n",
    "        his_df =pd.DataFrame()\n",
    "        \n",
    "        for i in range(len(self.list_days)):\n",
    "            init_date=self.list_days[i]\n",
    "            bars = ib.reqHistoricalData(self.contract, init_date, barSizeSetting=self.barsize, durationStr=self.duration, whatToShow=\"TRADES\", useRTH=True)\n",
    "            add_his_df = pd.DataFrame(bars)\n",
    "            add_his_df['date'] = pd.to_datetime(add_his_df['date'])\n",
    "            print(f'retriveing data for {init_date}')\n",
    "\n",
    "            if self.specific_time is not None:\n",
    "                cut_off = datetime.combine(self.list_days[i],self.specific_time)  # need logic if specific_time is defined\n",
    "                pd_cut_off = pd.to_datetime(cut_off).tz_localize('US/Eastern')\n",
    "            #datetime64_eastern = pd.Timestamp(date_time_str).tz_localize('US/Eastern')\n",
    "                add_his_df = add_his_df[add_his_df['date'] > pd_cut_off]\n",
    "            \n",
    "            if self.specific_pick_time is not None:\n",
    "                pick_time = datetime.combine(self.list_days[i],self.specific_pick_time)  # need logic if specific_time is defined\n",
    "                pd_pick_time = pd.to_datetime(pick_time).tz_localize('US/Eastern')\n",
    "            #datetime64_eastern = pd.Timestamp(date_time_str).tz_localize('US/Eastern')\n",
    "                add_his_df = add_his_df[add_his_df['date'] == pd_pick_time]\n",
    "\n",
    "            \n",
    "            his_df = pd.concat([his_df, add_his_df], ignore_index=True)\n",
    "            his_df['Date_Only'] = his_df['date'].dt.date\n",
    "            print(len(his_df))\n",
    "\n",
    "        \n",
    "        return his_df\n"
   ]
  },
  {
   "cell_type": "code",
   "execution_count": 7,
   "id": "2bb2e0c4-90ae-407f-9245-93cb98a93e0a",
   "metadata": {},
   "outputs": [],
   "source": [
    "# picking out Friday and before specific-time data\n",
    "\n",
    "#specific_time = time(14, 30, 0)\n",
    "def data_filter_v46(df_initial, list_days, specific_time_before = None, specific_time_after= None, on_time= None):\n",
    "    his_df = pd.DataFrame()\n",
    "\n",
    "    df_trimmed = df_initial[df_initial['date'].dt.date.isin(list_days)]\n",
    "\n",
    "    if specific_time_before is not None:\n",
    "\n",
    "        his_df = df_trimmed[(df_trimmed['date'].dt.time < specific_time_before)]\n",
    "        \n",
    "            \n",
    "    if specific_time_after is not None:\n",
    "\n",
    "        his_df = df_trimmed[(df_trimmed['date'].dt.time >= specific_time_after)]\n",
    "\n",
    "    if on_time is not None:\n",
    "        his_df = df_trimmed[(df_trimmed['date'].dt.time == on_time)]\n",
    "\n",
    "    if (specific_time_before is None and specific_time_after is None) and on_time is None:\n",
    "\n",
    "        his_df = df_trimmed\n",
    "        \n",
    "    return his_df"
   ]
  },
  {
   "cell_type": "code",
   "execution_count": 8,
   "id": "9c0c04d6-a811-459d-b4eb-677b1d46b103",
   "metadata": {},
   "outputs": [],
   "source": [
    "# picking out Friday and before specific-time data\n",
    "\n",
    "#specific_time = time(14, 30, 0)\n",
    "def data_filter(df_initial, list_days, specific_time_before = None, specific_time_after= None, on_time= None):\n",
    "    his_df = pd.DataFrame()\n",
    "    for i in range(len(list_days)):\n",
    "        init_date=list_days[i]\n",
    "        if specific_time_before is not None:\n",
    "            add_his_df = df_initial[(df_initial['date'].dt.date == init_date) & (df_initial['date'].dt.time < specific_time_before)]\n",
    "           \n",
    "            \n",
    "        if specific_time_after is not None:\n",
    "            add_his_df = df_initial[(df_initial['date'].dt.date == init_date) & (df_initial['date'].dt.time >= specific_time_after)]\n",
    "\n",
    "        if on_time is not None:\n",
    "            add_his_df = df_initial[(df_initial['date'].dt.date == init_date) & (df_initial['date'].dt.time == on_time)]\n",
    "\n",
    "        if (specific_time_before is None and specific_time_after is None) and on_time is None:\n",
    "            add_his_df = df_initial[(df_initial['date'].dt.date == init_date)]\n",
    "        \n",
    "        print(len(his_df))\n",
    "        print(f'retrieving {init_date}')\n",
    "        per_proc = np.round(i+1/len(list_days)*100, decimals=1)\n",
    "        print(f'{per_proc} percent is done')\n",
    "        his_df = pd.concat([his_df, add_his_df], ignore_index=True)\n",
    "        his_df.drop_duplicates(subset=None, keep='first', inplace=True)\n",
    "        his_df['Date_Only'] = his_df['date'].dt.date\n",
    "    return his_df"
   ]
  },
  {
   "cell_type": "code",
   "execution_count": 9,
   "id": "6031ed19-9470-47df-a4cb-47018b3b00b3",
   "metadata": {},
   "outputs": [],
   "source": [
    "def data_cleaning(df, in_days):\n",
    "    df_his = pd.DataFrame()\n",
    "    df_return = pd.DataFrame()\n",
    "    \n",
    "    df.drop_duplicates(inplace = True)\n",
    "    df_his = df[df[\"Date_Only\"].isin(in_days)]\n",
    "    df_return = df_his[(df_his['date'].dt.time > time(9,29,40)) & (df_his['date'].dt.time < time(16,00))]\n",
    "\n",
    "    for i in df_return['Date_Only'].unique():\n",
    "        if df_return[df_return['Date_Only'] ==i].shape[0] % 390 != 0:\n",
    "            print(i)\n",
    "    \n",
    "    return df_return"
   ]
  },
  {
   "cell_type": "markdown",
   "id": "34c8eb67-543d-4ad9-b613-d44a8b3f966c",
   "metadata": {},
   "source": [
    "### Inferencing Data Set Collection ###"
   ]
  },
  {
   "cell_type": "code",
   "execution_count": 13,
   "id": "862892f9-c4b7-427f-8ef4-36f3035f9ecc",
   "metadata": {},
   "outputs": [],
   "source": [
    "now =datetime.now()\n",
    "#print(now.date())\n",
    "#print(now.time().minute)\n",
    "#infer_time = time(now.time().hour, now.time().minute -15 )\n",
    "#infer_time = time(now.time().hour, now.time().minute)\n",
    "inferencing_date = now.date() - timedelta(0)\n",
    "infer_time = time(14, 1,0)\n",
    "#infer_time = time(14,30,0)"
   ]
  },
  {
   "cell_type": "code",
   "execution_count": 14,
   "id": "7aa3420a-ca6d-4482-8a76-12a8f9915135",
   "metadata": {},
   "outputs": [
    {
     "name": "stdout",
     "output_type": "stream",
     "text": [
      "retriveing data for 2025-04-11\n",
      "780\n"
     ]
    }
   ],
   "source": [
    "barsize =\"30 secs\"\n",
    "duration = \"1 D\"\n",
    "#DR_stock_MSFT = Data_Request( \" \",contract, barsize, duration)\n",
    "DR_stock_MSFT = Data_Request([inferencing_date], contract, barsize, duration)\n",
    "df_all_days_stock = DR_stock_MSFT.D_request()"
   ]
  },
  {
   "cell_type": "code",
   "execution_count": 15,
   "id": "d21e8784-60e4-458a-a468-73890f6b53f7",
   "metadata": {},
   "outputs": [
    {
     "name": "stdout",
     "output_type": "stream",
     "text": [
      "retriveing data for 2025-04-11\n",
      "1620\n",
      "retriveing data for 2025-04-11\n",
      "780\n"
     ]
    }
   ],
   "source": [
    "DR_IND_VIX = Data_Request([inferencing_date], contract_vix, barsize, duration)\n",
    "DR_STK_TQQQ = Data_Request([inferencing_date], contract_nas, barsize, duration)\n",
    "df_all_days_VIX = DR_IND_VIX.D_request()\n",
    "df_all_days_TQQQ = DR_STK_TQQQ.D_request()"
   ]
  },
  {
   "cell_type": "code",
   "execution_count": 16,
   "id": "1b3c525f-3564-4943-a6d8-a8b62af6722b",
   "metadata": {},
   "outputs": [],
   "source": [
    "df_stock = data_cleaning(df_all_days_stock,[inferencing_date])\n",
    "df_VIX = data_cleaning(df_all_days_VIX,[inferencing_date])\n",
    "df_TQQQ = data_cleaning(df_all_days_TQQQ,[inferencing_date])"
   ]
  },
  {
   "cell_type": "code",
   "execution_count": 17,
   "id": "f8187a55-3b5c-4f64-b4f7-906e464f53dd",
   "metadata": {},
   "outputs": [
    {
     "name": "stdout",
     "output_type": "stream",
     "text": [
      "                         date    open    high     low   close    volume  \\\n",
      "779 2025-04-11 15:59:30-04:00  387.91  388.36  387.52  387.99  401827.0   \n",
      "\n",
      "     average  barCount   Date_Only  \n",
      "779    387.9      2100  2025-04-11  \n",
      "                          date   open   high    low  close  volume  average  \\\n",
      "1619 2025-04-11 15:59:30-05:00  37.56  37.56  37.56  37.56     0.0      0.0   \n",
      "\n",
      "      barCount   Date_Only  \n",
      "1619         0  2025-04-11  \n",
      "                         date   open   high    low  close    volume  average  \\\n",
      "779 2025-04-11 15:59:30-04:00  48.63  48.66  48.52  48.61  812014.0   48.589   \n",
      "\n",
      "     barCount   Date_Only  \n",
      "779      2400  2025-04-11  \n"
     ]
    }
   ],
   "source": [
    "print(df_all_days_stock.tail(1))\n",
    "print(df_all_days_VIX.tail(1))\n",
    "print(df_all_days_TQQQ.tail(1))"
   ]
  },
  {
   "cell_type": "code",
   "execution_count": null,
   "id": "af053f54-d77c-4899-8395-b9d7a26ea793",
   "metadata": {},
   "outputs": [],
   "source": [
    "#df_all_days_stock = DR_stock_MSFT.D_request()"
   ]
  },
  {
   "cell_type": "code",
   "execution_count": 34,
   "id": "6b748e96-b721-4e16-8b86-e0b93f064253",
   "metadata": {},
   "outputs": [],
   "source": [
    "\n",
    "def data_sparcing_construc(df, sp_day, *, cut_time = None):\n",
    "    #df_group = df.groupby(\"Date_Only\").std(numeric_only=True)\n",
    "    df_filter_prior = data_filter_v46(df, sp_day, specific_time_before = cut_time )\n",
    "    df_group_prior = df_filter_prior.groupby(\"Date_Only\").std(numeric_only=True)\n",
    "    \n",
    "    #df_filter_after = data_filter(df, sp_day, specific_time_after = cut_time )\n",
    "    #df_group_after = df_filter_after.groupby(\"Date_Only\").std(numeric_only=True)\n",
    "\n",
    "\n",
    "    df_group_train =pd.DataFrame()\n",
    "    #df_group_train['Target_std'] = pd.DataFrame(df_group_after[['open','high','low','close']].max(axis=1))\n",
    "    df_group_train['prior_std'] = pd.DataFrame(df_group_prior[['open','high','low','close']].max(axis=1))\n",
    "    df_group_train['prior_Vol'] = pd.DataFrame(df_filter_prior.groupby(\"Date_Only\").mean()['volume'])\n",
    "    df_group_train['prior_spread'] = df_filter_prior.groupby('Date_Only')['open'].max() - df_filter_prior.groupby('Date_Only')['open'].min()\n",
    "\n",
    "\n",
    "    df_group_train['prior_range'] =pd.DataFrame(df_filter_prior.groupby('Date_Only')['close'].max() -df_filter_prior.groupby('Date_Only')['close'].min() )\n",
    "\n",
    "    df_initial = df_filter_prior\n",
    "    new_time = time(cut_time.hour, cut_time.minute -1)\n",
    "    df_group_train['cut_close'] = df_initial[(df_initial['date'].dt.time == new_time)]['close'].values\n",
    "    \n",
    "    cut_name =['cut_1hr','cut_2hr','cut_3hr']\n",
    "    for i in range(3):\n",
    "        print(f'time avaiable {i}')\n",
    "        prior = time(cut_time.hour - (i+1), cut_time.minute)\n",
    "        df_group_train[cut_name[i]] = df_initial[(df_initial['date'].dt.time == new_time)]['open'].values- df_initial[(df_initial['date'].dt.time == prior)]['open'].values\n",
    "\n",
    "    #df_group_train['Class_target'] = df_filter_after[(df_filter_after['date'].dt.time == time(15, 49, 0))]['close'].values- df_initial[(df_initial['date'].dt.time == new_time)]['open'].values\n",
    "    \n",
    "    return df_group_train, df_filter_prior, df_group_prior\n",
    "    "
   ]
  },
  {
   "cell_type": "code",
   "execution_count": 35,
   "id": "b7eb65d5-801c-4dfb-b1e9-f5ea8b17a750",
   "metadata": {},
   "outputs": [
    {
     "name": "stdout",
     "output_type": "stream",
     "text": [
      "time avaiable 0\n",
      "time avaiable 1\n",
      "time avaiable 2\n"
     ]
    }
   ],
   "source": [
    "df_group_train, df_filter_prior, df_group_prior = data_sparcing_construc(df_all_days_stock, [inferencing_date], cut_time= infer_time)"
   ]
  },
  {
   "cell_type": "code",
   "execution_count": 36,
   "id": "ba9237c8-c9f7-4804-825d-8403febaa198",
   "metadata": {},
   "outputs": [
    {
     "name": "stdout",
     "output_type": "stream",
     "text": [
      "time avaiable 0\n",
      "time avaiable 1\n",
      "time avaiable 2\n"
     ]
    }
   ],
   "source": [
    "df_group_train_tqqq, *_ = data_sparcing_construc(df_all_days_TQQQ, [inferencing_date], cut_time= infer_time)"
   ]
  },
  {
   "cell_type": "code",
   "execution_count": 37,
   "id": "2549cdbc-137d-41f8-9dd9-3a57e99ff2bf",
   "metadata": {},
   "outputs": [],
   "source": [
    "# end time needs to be adjusted\n",
    "#vix_infer_time = time(now.time().hour -1, now.time().minute )\n",
    "vix_infer_time = infer_time "
   ]
  },
  {
   "cell_type": "code",
   "execution_count": 38,
   "id": "314e64f1-8d83-4d25-a574-83902484e4f5",
   "metadata": {},
   "outputs": [
    {
     "name": "stdout",
     "output_type": "stream",
     "text": [
      "time avaiable 0\n",
      "time avaiable 1\n",
      "time avaiable 2\n"
     ]
    }
   ],
   "source": [
    "df_group_train_vix, *_ = data_sparcing_construc(df_all_days_VIX, [inferencing_date], cut_time= vix_infer_time)"
   ]
  },
  {
   "cell_type": "code",
   "execution_count": 39,
   "id": "5290a392-6d1f-4a71-9467-ef92f5e470c0",
   "metadata": {},
   "outputs": [],
   "source": [
    "df_final_joninted_vix=pd.DataFrame()\n",
    "df_final_joninted_all=pd.DataFrame()\n",
    "\n",
    "df_group_train_vix.columns =['vix_prior_std','vix_Vol','vix_pr_spread','vix_prior_range','vix_cut_open','vix_cut_1hr','vix_cut_2hr','vix_cut_3hr']\n",
    "df_final_jointed_vix = pd.concat([df_group_train,df_group_train_vix], axis=1)\n",
    "df_group_train_tqqq.columns =['tqqq_prior_std','tqqq_Vol','tqqq_pr_spread','tqqq_prior_range','tqqq_cut_open','tqqq_cut_1hr','tqqq_cut_2hr','tqqq_cut_3hr']\n",
    "df_final_jointed_all = pd.concat([df_final_jointed_vix,df_group_train_tqqq], axis=1)\n",
    "df_final_jointed_all.drop(['vix_Vol'], axis=1, inplace=True)\n"
   ]
  },
  {
   "cell_type": "code",
   "execution_count": 40,
   "id": "6f6803c7-cc68-4303-bd03-8ba89821c114",
   "metadata": {},
   "outputs": [
    {
     "data": {
      "text/html": [
       "<div>\n",
       "<style scoped>\n",
       "    .dataframe tbody tr th:only-of-type {\n",
       "        vertical-align: middle;\n",
       "    }\n",
       "\n",
       "    .dataframe tbody tr th {\n",
       "        vertical-align: top;\n",
       "    }\n",
       "\n",
       "    .dataframe thead th {\n",
       "        text-align: right;\n",
       "    }\n",
       "</style>\n",
       "<table border=\"1\" class=\"dataframe\">\n",
       "  <thead>\n",
       "    <tr style=\"text-align: right;\">\n",
       "      <th></th>\n",
       "      <th>prior_std</th>\n",
       "      <th>prior_Vol</th>\n",
       "      <th>prior_spread</th>\n",
       "      <th>prior_range</th>\n",
       "      <th>cut_close</th>\n",
       "      <th>cut_1hr</th>\n",
       "      <th>cut_2hr</th>\n",
       "      <th>cut_3hr</th>\n",
       "      <th>vix_prior_std</th>\n",
       "      <th>vix_pr_spread</th>\n",
       "      <th>...</th>\n",
       "      <th>vix_cut_2hr</th>\n",
       "      <th>vix_cut_3hr</th>\n",
       "      <th>tqqq_prior_std</th>\n",
       "      <th>tqqq_Vol</th>\n",
       "      <th>tqqq_pr_spread</th>\n",
       "      <th>tqqq_prior_range</th>\n",
       "      <th>tqqq_cut_open</th>\n",
       "      <th>tqqq_cut_1hr</th>\n",
       "      <th>tqqq_cut_2hr</th>\n",
       "      <th>tqqq_cut_3hr</th>\n",
       "    </tr>\n",
       "    <tr>\n",
       "      <th>Date_Only</th>\n",
       "      <th></th>\n",
       "      <th></th>\n",
       "      <th></th>\n",
       "      <th></th>\n",
       "      <th></th>\n",
       "      <th></th>\n",
       "      <th></th>\n",
       "      <th></th>\n",
       "      <th></th>\n",
       "      <th></th>\n",
       "      <th></th>\n",
       "      <th></th>\n",
       "      <th></th>\n",
       "      <th></th>\n",
       "      <th></th>\n",
       "      <th></th>\n",
       "      <th></th>\n",
       "      <th></th>\n",
       "      <th></th>\n",
       "      <th></th>\n",
       "      <th></th>\n",
       "    </tr>\n",
       "  </thead>\n",
       "  <tbody>\n",
       "    <tr>\n",
       "      <th>2025-04-11</th>\n",
       "      <td>2.513074</td>\n",
       "      <td>13113.378229</td>\n",
       "      <td>10.7</td>\n",
       "      <td>10.69</td>\n",
       "      <td>388.88</td>\n",
       "      <td>2.34</td>\n",
       "      <td>2.73</td>\n",
       "      <td>5.82</td>\n",
       "      <td>1.745951</td>\n",
       "      <td>7.36</td>\n",
       "      <td>...</td>\n",
       "      <td>-0.37</td>\n",
       "      <td>-3.55</td>\n",
       "      <td>1.054467</td>\n",
       "      <td>209908.673432</td>\n",
       "      <td>4.33</td>\n",
       "      <td>4.31</td>\n",
       "      <td>48.66</td>\n",
       "      <td>0.84</td>\n",
       "      <td>1.83</td>\n",
       "      <td>2.53</td>\n",
       "    </tr>\n",
       "  </tbody>\n",
       "</table>\n",
       "<p>1 rows × 23 columns</p>\n",
       "</div>"
      ],
      "text/plain": [
       "            prior_std     prior_Vol  prior_spread  prior_range  cut_close  \\\n",
       "Date_Only                                                                   \n",
       "2025-04-11   2.513074  13113.378229          10.7        10.69     388.88   \n",
       "\n",
       "            cut_1hr  cut_2hr  cut_3hr  vix_prior_std  vix_pr_spread  ...  \\\n",
       "Date_Only                                                            ...   \n",
       "2025-04-11     2.34     2.73     5.82       1.745951           7.36  ...   \n",
       "\n",
       "            vix_cut_2hr  vix_cut_3hr  tqqq_prior_std       tqqq_Vol  \\\n",
       "Date_Only                                                             \n",
       "2025-04-11        -0.37        -3.55        1.054467  209908.673432   \n",
       "\n",
       "            tqqq_pr_spread  tqqq_prior_range  tqqq_cut_open  tqqq_cut_1hr  \\\n",
       "Date_Only                                                                   \n",
       "2025-04-11            4.33              4.31          48.66          0.84   \n",
       "\n",
       "            tqqq_cut_2hr  tqqq_cut_3hr  \n",
       "Date_Only                               \n",
       "2025-04-11          1.83          2.53  \n",
       "\n",
       "[1 rows x 23 columns]"
      ]
     },
     "execution_count": 40,
     "metadata": {},
     "output_type": "execute_result"
    }
   ],
   "source": [
    "df_final_jointed_all"
   ]
  },
  {
   "cell_type": "markdown",
   "id": "56d446b6-7827-412e-9e35-80fb0c4fcb05",
   "metadata": {},
   "source": [
    "### INFERENCING###"
   ]
  },
  {
   "cell_type": "code",
   "execution_count": 41,
   "id": "9b375a5f-5b57-4a9c-934a-d043269131df",
   "metadata": {},
   "outputs": [],
   "source": [
    "df_final_jointed_all.reset_index(inplace=True)\n",
    "inference_data = df_final_jointed_all.drop('Date_Only', axis=1)"
   ]
  },
  {
   "cell_type": "code",
   "execution_count": 42,
   "id": "2b854690-a671-4c54-ae31-e502ea7927c4",
   "metadata": {},
   "outputs": [
    {
     "data": {
      "text/plain": [
       "(1, 23)"
      ]
     },
     "execution_count": 42,
     "metadata": {},
     "output_type": "execute_result"
    }
   ],
   "source": [
    "inference_data.shape"
   ]
  },
  {
   "cell_type": "code",
   "execution_count": 43,
   "id": "c382ff94-2a72-4cab-90e0-f93970fe8e0e",
   "metadata": {},
   "outputs": [
    {
     "data": {
      "text/plain": [
       "'C:\\\\Users\\\\jepar\\\\PycharmProjects\\\\Option_Play\\\\Prod\\\\MSFT'"
      ]
     },
     "execution_count": 43,
     "metadata": {},
     "output_type": "execute_result"
    }
   ],
   "source": [
    "pwd"
   ]
  },
  {
   "cell_type": "code",
   "execution_count": 44,
   "id": "8c70c6fb-8dff-4216-b7c4-62d6b53cbbc2",
   "metadata": {},
   "outputs": [],
   "source": [
    "import joblib\n",
    "# Assuming 'model' is your trained model object\n",
    "filename = 'xgb_model_MSFT_price_spread_update.joblib'\n",
    "loaded_model = joblib.load(filename)"
   ]
  },
  {
   "cell_type": "code",
   "execution_count": 45,
   "id": "0c8466e3-b735-4c1e-8091-b7b2eb0816b8",
   "metadata": {},
   "outputs": [],
   "source": [
    "yhat = loaded_model.predict(inference_data)"
   ]
  },
  {
   "cell_type": "code",
   "execution_count": 46,
   "id": "68599f33-bc1f-4d7f-8cee-9c98d39a098a",
   "metadata": {},
   "outputs": [
    {
     "data": {
      "text/plain": [
       "array([4.0684967], dtype=float32)"
      ]
     },
     "execution_count": 46,
     "metadata": {},
     "output_type": "execute_result"
    }
   ],
   "source": [
    "yhat"
   ]
  },
  {
   "cell_type": "code",
   "execution_count": 47,
   "id": "22434279-be29-4ca2-b27c-857abddd693d",
   "metadata": {},
   "outputs": [],
   "source": [
    "# old model array([1.291517], dtype=float32)"
   ]
  },
  {
   "cell_type": "code",
   "execution_count": 48,
   "id": "75008cf3-e306-4519-99df-2e203e35d91b",
   "metadata": {},
   "outputs": [],
   "source": [
    "#entry  = df_all_days_stock.iloc[600]['close']\n",
    "Entry = df_all_days_stock.tail(1)['close'].values"
   ]
  },
  {
   "cell_type": "code",
   "execution_count": 49,
   "id": "38f04bad-7bd4-42a6-8376-258f49658079",
   "metadata": {},
   "outputs": [],
   "source": [
    "y_value = Entry\n",
    "y_value_p = Entry + yhat[0]\n",
    "y_value_m = Entry - yhat[0]"
   ]
  },
  {
   "cell_type": "code",
   "execution_count": 50,
   "id": "3d054413-5db1-4445-8683-6123be4e8e38",
   "metadata": {},
   "outputs": [
    {
     "name": "stdout",
     "output_type": "stream",
     "text": [
      "[392.0584967] [387.99] [383.9215033]\n"
     ]
    }
   ],
   "source": [
    "print(y_value_p, Entry ,y_value_m )"
   ]
  },
  {
   "cell_type": "code",
   "execution_count": 56,
   "id": "d6ad6837-cc41-44f2-b361-dbc59756ca4d",
   "metadata": {},
   "outputs": [
    {
     "data": {
      "text/plain": [
       "date         2025-04-11 14:04:00-04:00\n",
       "open                             389.0\n",
       "high                            389.17\n",
       "low                             388.96\n",
       "close                           389.14\n",
       "volume                          4235.0\n",
       "average                        389.092\n",
       "barCount                            36\n",
       "Date_Only                   2025-04-11\n",
       "Name: 548, dtype: object"
      ]
     },
     "execution_count": 56,
     "metadata": {},
     "output_type": "execute_result"
    }
   ],
   "source": [
    "df_all_days_stock.iloc[548]"
   ]
  },
  {
   "cell_type": "code",
   "execution_count": 57,
   "id": "a7747af4-6229-4720-a862-7f69539b77bf",
   "metadata": {},
   "outputs": [
    {
     "data": {
      "text/plain": [
       "<matplotlib.lines.Line2D at 0x2c3a7410d50>"
      ]
     },
     "execution_count": 57,
     "metadata": {},
     "output_type": "execute_result"
    },
    {
     "data": {
      "image/png": "[encoded data removed]",
      "text/plain": [
       "<Figure size 640x480 with 1 Axes>"
      ]
     },
     "metadata": {},
     "output_type": "display_data"
    }
   ],
   "source": [
    "#df_all_days_stock['close'].plot(xlim=(300,400), ylim=(575,587))\n",
    "df_all_days_stock['close'].plot()\n",
    "plt.xlabel('time')\n",
    "plt.axhline(y=y_value, color='r', linestyle='--', label=f'y = {y_value}')\n",
    "plt.axhline(y=y_value_p, color='black', linestyle='--', label=f'y = {y_value_p}')\n",
    "plt.axhline(y=y_value_m, color='black', linestyle='--', label=f'y = {y_value_m}')"
   ]
  },
  {
   "cell_type": "code",
   "execution_count": null,
   "id": "8d198710-b644-45f9-aa63-c3d8e5b49832",
   "metadata": {},
   "outputs": [],
   "source": [
    "## checking right options"
   ]
  },
  {
   "cell_type": "code",
   "execution_count": null,
   "id": "6ff655d0-d50b-434c-a34a-5b1dad512f14",
   "metadata": {},
   "outputs": [],
   "source": [
    "def get_option_chain(symbol):\n",
    "    contract = Stock(symbol=symbol, exchange='SMART', currency='USD')\n",
    "    ib.qualifyContracts(contract)\n",
    "    chains = ib.reqSecDefOptParams(underlyingSymbol=contract.symbol, futFopExchange=\"\", underlyingSecType=contract.secType, underlyingConId=contract.conId)\n",
    "    chain = [ c for c in chains if c.exchange =='SMART'][0]\n",
    "    return chain"
   ]
  },
  {
   "cell_type": "code",
   "execution_count": null,
   "id": "9da00574-5557-4c6d-b511-e4010407ecf8",
   "metadata": {},
   "outputs": [],
   "source": [
    "def get_options_chain_for_expiry(symbol, expiry, min_strike=0, max_strike=np.Inf):\n",
    "    option_chain = get_option_chain(symbol)\n",
    "    options=[]\n",
    "    for strike in option_chain.strikes:\n",
    "        if strike <= max_strike and strike >= min_strike:\n",
    "            for right in ['C', 'P']:\n",
    "                option = Option(symbol=symbol, lastTradeDateOrContractMonth=expiry, strike=strike, right=right, exchange='SMART', currency='USD')\n",
    "                options.append(option)\n",
    "    valid_options=ib.qualifyContracts(*options)\n",
    "    return valid_options"
   ]
  },
  {
   "cell_type": "code",
   "execution_count": null,
   "id": "0dd975fe-838f-4671-bbda-7acb5275d426",
   "metadata": {},
   "outputs": [],
   "source": [
    "### OPTION"
   ]
  },
  {
   "cell_type": "code",
   "execution_count": null,
   "id": "57ff7664-3354-44a0-b450-419c45264990",
   "metadata": {},
   "outputs": [],
   "source": [
    "def round_up_to_nearest_ten(num):\n",
    "  \"\"\"Rounds a number up to the nearest ten.\"\"\"\n",
    "  return math.ceil(num / 10) * 10\n",
    "\n",
    "\n",
    "def find_closest_number(numbers, target):\n",
    "  \"\"\"\n",
    "  Finds the number in a list that is closest to a target number.\n",
    "\n",
    "  Args:\n",
    "    numbers: A list of numbers.\n",
    "    target: The target number.\n",
    "\n",
    "  Returns:\n",
    "    The number in the list that is closest to the target number.\n",
    "  \"\"\"\n",
    "  if not numbers:\n",
    "    return None\n",
    "  \n",
    "  closest_number = numbers[0]\n",
    "  min_difference = abs(numbers[0] - target)\n",
    "\n",
    "  for number in numbers:\n",
    "    difference = abs(number - target)\n",
    "    if difference < min_difference:\n",
    "      min_difference = difference\n",
    "      closest_number = number\n",
    "\n",
    "  return closest_number\n"
   ]
  },
  {
   "cell_type": "code",
   "execution_count": null,
   "id": "08f110e9-99ea-4761-99bb-e6f9ea5b2eff",
   "metadata": {},
   "outputs": [],
   "source": [
    "Rd_up_Entry = round_up_to_nearest_ten(Entry[0])\n",
    "Rd_up_Entry"
   ]
  },
  {
   "cell_type": "code",
   "execution_count": null,
   "id": "f48e83e5-7891-446a-99f2-8c2360bb7943",
   "metadata": {},
   "outputs": [],
   "source": [
    "inferencing_date"
   ]
  },
  {
   "cell_type": "code",
   "execution_count": null,
   "id": "336397ca-53bb-4181-8b34-74d41dca0a96",
   "metadata": {},
   "outputs": [],
   "source": [
    "to_day = inferencing_date.strftime(\"20%y%m%d\")\n",
    "print(to_day)"
   ]
  },
  {
   "cell_type": "code",
   "execution_count": null,
   "id": "4279b4da-f3cd-4faf-a2e8-08178b7866ff",
   "metadata": {},
   "outputs": [],
   "source": [
    "print(entry)"
   ]
  },
  {
   "cell_type": "code",
   "execution_count": null,
   "id": "a888962a-be23-4666-b72b-c2d70d7f813a",
   "metadata": {},
   "outputs": [],
   "source": [
    "# getting valid option chains\n",
    "\n",
    "valid_options = get_options_chain_for_expiry(\"MSFT\", to_day , min_strike= Rd_up_Entry  -30, max_strike=Rd_up_Entry +30,)"
   ]
  },
  {
   "cell_type": "code",
   "execution_count": null,
   "id": "858056d1-c89d-4a47-b0e9-2e73865e1235",
   "metadata": {},
   "outputs": [],
   "source": [
    "list_strke = []\n",
    "for list_str in valid_options:\n",
    "    list_strke.append(list_str.strike)\n",
    "    \n",
    "### OPTION to find closes available strike price\n",
    "\n",
    "upper_strk_number = find_closest_number(list_strke, y_value_p)\n",
    "\n",
    "#global Up_Call\n",
    "Up_Call = upper_strk_number +5\n",
    "\n",
    "lower_strk_number = find_closest_number(list_strke, y_value_m)\n",
    "\n",
    "#global Down_Put\n",
    "Down_Put = lower_strk_number - 5 "
   ]
  },
  {
   "cell_type": "code",
   "execution_count": null,
   "id": "50131cd0-2d1f-4ee6-a6f9-6e649569f056",
   "metadata": {},
   "outputs": [],
   "source": [
    "tickers_dict = {}\n",
    "    \n",
    "for option in valid_options:\n",
    "    tickers_dict[(option.right, option.strike)] = ib.reqMktData(contract =option, genericTickList=\"\", snapshot=False, regulatorySnapshot=False)\n",
    "    #tickers_dict[(option.right, option.strike)] = ib.reqHistoricalData(contract =option)\n",
    "    \n",
    "ticker_call_to_sell_target = tickers_dict['C', Up_Call]\n",
    "UCV = ticker_call_to_sell_target.midpoint()\n",
    "\n",
    "ticker_put_to_sell_target = tickers_dict['P', Down_Put]\n",
    "LPV = ticker_put_to_sell_target.midpoint()\n",
    "\n",
    "print(f'current price({Entry})')\n",
    "print(f'upper_strike ({Up_Call}) at {UCV}')\n",
    "print(f'lower_strike ({Down_Put}) at {LPV}')\n",
    "\n",
    "#############################\n",
    "#SELL options\n",
    "#############################\n",
    "\n",
    "\n",
    "# Sample DataFrame\n",
    "df = pd.DataFrame([{'time':datetime.now(),'upper_Call_value': UCV, 'lower_Put_value': LPV}])\n",
    "\n",
    "df.to_pickle('price_move.pkl')"
   ]
  },
  {
   "cell_type": "code",
   "execution_count": null,
   "id": "eea14e96-5f1d-4284-910a-bcb12a315e65",
   "metadata": {},
   "outputs": [],
   "source": [
    "Rd_up_Entry = round_up_to_nearest_ten(Entry)\n",
    "\n",
    "# getting valid option chains\n",
    "\n",
    "valid_options = get_options_chain_for_expiry(\"MSFT\", to_day , min_strike= Rd_up_Entry  -30, max_strike=Rd_up_Entry +30,)\n",
    "#print(valid_options)\n",
    "\n",
    "list_strke = []\n",
    "for list_str in valid_options:\n",
    "    list_strke.append(list_str.strike)\n",
    "    \n",
    "### OPTION to find closes available strike price\n",
    "\n",
    "upper_strk_number = find_closest_number(list_strke, y_value_p)\n",
    "\n",
    "#global Up_Call\n",
    "Up_Call = upper_strk_number +5\n",
    "\n",
    "lower_strk_number = find_closest_number(list_strke, y_value_m)\n",
    "\n",
    "#global Down_Put\n",
    "Down_Put = lower_strk_number - 5 \n",
    "\n",
    "\n",
    "tickers_dict = {}\n",
    "    \n",
    "for option in valid_options:\n",
    "    tickers_dict[(option.right, option.strike)] = ib.reqMktData(contract =option, genericTickList=\"\", snapshot=False, regulatorySnapshot=False)\n",
    "\n",
    "ticker_call_to_sell_target = tickers_dict['C', Up_Call]\n",
    "UCV = ticker_call_to_sell_target.midpoint()\n",
    "\n",
    "ticker_put_to_sell_target = tickers_dict['P', Down_Put]\n",
    "LPV = ticker_put_to_sell_target.midpoint()\n",
    "\n",
    "print(f'current price({Entry})')\n",
    "print(f'upper_strike price({Up_Call})')\n",
    "print(f'upper_strike price({Down_Put})')\n",
    "\n",
    "#############################\n",
    "#SELL options\n",
    "#############################\n",
    "\n",
    "\n",
    "# Sample DataFrame\n",
    "df = pd.DataFrame([{'time':datetime.now(),'upper_Call_value': UCV, 'lower_Put_value': LPV}])\n",
    "\n",
    "df.to_pickle('price_move.pkl')\n"
   ]
  },
  {
   "cell_type": "code",
   "execution_count": null,
   "id": "31585f0e-23c0-46b3-9771-9bbe9fe3f13a",
   "metadata": {},
   "outputs": [],
   "source": []
  }
 ],
 "metadata": {
  "kernelspec": {
   "display_name": "Python 3 (ipykernel)",
   "language": "python",
   "name": "python3"
  },
  "language_info": {
   "codemirror_mode": {
    "name": "ipython",
    "version": 3
   },
   "file_extension": ".py",
   "mimetype": "text/x-python",
   "name": "python",
   "nbconvert_exporter": "python",
   "pygments_lexer": "ipython3",
   "version": "3.11.11"
  }
 },
 "nbformat": 4,
 "nbformat_minor": 5
}
