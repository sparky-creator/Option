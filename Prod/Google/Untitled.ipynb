{
 "cells": [
  {
   "cell_type": "code",
   "execution_count": 1,
   "id": "136f3704-ad45-4428-9d0c-feb23da737f5",
   "metadata": {},
   "outputs": [],
   "source": [
    "import numpy as np"
   ]
  },
  {
   "cell_type": "code",
   "execution_count": 7,
   "id": "ce8f1364-37fb-4493-8fe4-dd6bdaca0f39",
   "metadata": {},
   "outputs": [],
   "source": [
    "X = np.random.randn(4,4)"
   ]
  },
  {
   "cell_type": "code",
   "execution_count": 8,
   "id": "c7734491-1565-46d6-845c-e9a68d1d1de7",
   "metadata": {},
   "outputs": [
    {
     "data": {
      "text/plain": [
       "array([[-1.12201926,  0.62668281, -0.38312157, -0.54563296],\n",
       "       [ 0.28907648,  0.93042067, -0.72031917, -0.33685498],\n",
       "       [-0.47989186,  1.79267819, -0.11974564,  0.31709946],\n",
       "       [ 0.11545699,  1.4342302 , -0.3448477 ,  1.30176033]])"
      ]
     },
     "execution_count": 8,
     "metadata": {},
     "output_type": "execute_result"
    }
   ],
   "source": [
    "X"
   ]
  },
  {
   "cell_type": "code",
   "execution_count": 11,
   "id": "84f191cb-456a-4ff6-8d1e-130128dca60c",
   "metadata": {},
   "outputs": [
    {
     "data": {
      "text/plain": [
       "array([[-1.12201926,  0.62668281, -0.38312157, -0.54563296,  0.28907648,\n",
       "         0.93042067, -0.72031917, -0.33685498],\n",
       "       [-0.47989186,  1.79267819, -0.11974564,  0.31709946,  0.11545699,\n",
       "         1.4342302 , -0.3448477 ,  1.30176033]])"
      ]
     },
     "execution_count": 11,
     "metadata": {},
     "output_type": "execute_result"
    }
   ],
   "source": [
    "X.reshape(-1,8)"
   ]
  },
  {
   "cell_type": "code",
   "execution_count": 13,
   "id": "a5e73d8c-9054-4fb4-b0dc-47e9aa45bfd4",
   "metadata": {},
   "outputs": [
    {
     "data": {
      "text/plain": [
       "array([ 0.        ,  0.0990099 ,  0.1980198 ,  0.2970297 ,  0.3960396 ,\n",
       "        0.4950495 ,  0.59405941,  0.69306931,  0.79207921,  0.89108911,\n",
       "        0.99009901,  1.08910891,  1.18811881,  1.28712871,  1.38613861,\n",
       "        1.48514851,  1.58415842,  1.68316832,  1.78217822,  1.88118812,\n",
       "        1.98019802,  2.07920792,  2.17821782,  2.27722772,  2.37623762,\n",
       "        2.47524752,  2.57425743,  2.67326733,  2.77227723,  2.87128713,\n",
       "        2.97029703,  3.06930693,  3.16831683,  3.26732673,  3.36633663,\n",
       "        3.46534653,  3.56435644,  3.66336634,  3.76237624,  3.86138614,\n",
       "        3.96039604,  4.05940594,  4.15841584,  4.25742574,  4.35643564,\n",
       "        4.45544554,  4.55445545,  4.65346535,  4.75247525,  4.85148515,\n",
       "        4.95049505,  5.04950495,  5.14851485,  5.24752475,  5.34653465,\n",
       "        5.44554455,  5.54455446,  5.64356436,  5.74257426,  5.84158416,\n",
       "        5.94059406,  6.03960396,  6.13861386,  6.23762376,  6.33663366,\n",
       "        6.43564356,  6.53465347,  6.63366337,  6.73267327,  6.83168317,\n",
       "        6.93069307,  7.02970297,  7.12871287,  7.22772277,  7.32673267,\n",
       "        7.42574257,  7.52475248,  7.62376238,  7.72277228,  7.82178218,\n",
       "        7.92079208,  8.01980198,  8.11881188,  8.21782178,  8.31683168,\n",
       "        8.41584158,  8.51485149,  8.61386139,  8.71287129,  8.81188119,\n",
       "        8.91089109,  9.00990099,  9.10891089,  9.20792079,  9.30693069,\n",
       "        9.40594059,  9.5049505 ,  9.6039604 ,  9.7029703 ,  9.8019802 ,\n",
       "        9.9009901 , 10.        , 10.0990099 , 10.1980198 , 10.2970297 ,\n",
       "       10.3960396 , 10.4950495 , 10.59405941, 10.69306931, 10.79207921,\n",
       "       10.89108911, 10.99009901])"
      ]
     },
     "execution_count": 13,
     "metadata": {},
     "output_type": "execute_result"
    }
   ],
   "source": [
    "np.arange(0, 11, 10/101)"
   ]
  },
  {
   "cell_type": "code",
   "execution_count": 16,
   "id": "7327a5ab-1553-4a57-9304-96fab672632d",
   "metadata": {},
   "outputs": [
    {
     "data": {
      "text/plain": [
       "array([ 0. ,  0.1,  0.2,  0.3,  0.4,  0.5,  0.6,  0.7,  0.8,  0.9,  1. ,\n",
       "        1.1,  1.2,  1.3,  1.4,  1.5,  1.6,  1.7,  1.8,  1.9,  2. ,  2.1,\n",
       "        2.2,  2.3,  2.4,  2.5,  2.6,  2.7,  2.8,  2.9,  3. ,  3.1,  3.2,\n",
       "        3.3,  3.4,  3.5,  3.6,  3.7,  3.8,  3.9,  4. ,  4.1,  4.2,  4.3,\n",
       "        4.4,  4.5,  4.6,  4.7,  4.8,  4.9,  5. ,  5.1,  5.2,  5.3,  5.4,\n",
       "        5.5,  5.6,  5.7,  5.8,  5.9,  6. ,  6.1,  6.2,  6.3,  6.4,  6.5,\n",
       "        6.6,  6.7,  6.8,  6.9,  7. ,  7.1,  7.2,  7.3,  7.4,  7.5,  7.6,\n",
       "        7.7,  7.8,  7.9,  8. ,  8.1,  8.2,  8.3,  8.4,  8.5,  8.6,  8.7,\n",
       "        8.8,  8.9,  9. ,  9.1,  9.2,  9.3,  9.4,  9.5,  9.6,  9.7,  9.8,\n",
       "        9.9, 10. ])"
      ]
     },
     "execution_count": 16,
     "metadata": {},
     "output_type": "execute_result"
    }
   ],
   "source": [
    "np.linspace(0,10,101)"
   ]
  },
  {
   "cell_type": "code",
   "execution_count": 17,
   "id": "d6199271-0910-4048-8811-1614620d9ce2",
   "metadata": {},
   "outputs": [],
   "source": [
    "arr=np.arange(0,11)"
   ]
  },
  {
   "cell_type": "code",
   "execution_count": 18,
   "id": "4d14f7f3-d876-4da5-98bb-a82f60fbc571",
   "metadata": {},
   "outputs": [
    {
     "data": {
      "text/plain": [
       "array([1, 2, 3, 4])"
      ]
     },
     "execution_count": 18,
     "metadata": {},
     "output_type": "execute_result"
    }
   ],
   "source": [
    "arr[1:5]"
   ]
  },
  {
   "cell_type": "code",
   "execution_count": 19,
   "id": "387113a1-9d89-44b2-b79e-dcd17540fd3d",
   "metadata": {},
   "outputs": [
    {
     "data": {
      "text/plain": [
       "array([0, 1, 2, 3, 4])"
      ]
     },
     "execution_count": 19,
     "metadata": {},
     "output_type": "execute_result"
    }
   ],
   "source": [
    "arr[:5]"
   ]
  },
  {
   "cell_type": "code",
   "execution_count": 22,
   "id": "61278db1-986b-4c64-a0fe-ab6d520e6ff8",
   "metadata": {},
   "outputs": [
    {
     "data": {
      "text/plain": [
       "array([ 0,  2,  4,  6,  8, 10, 12, 14, 16, 18, 20])"
      ]
     },
     "execution_count": 22,
     "metadata": {},
     "output_type": "execute_result"
    }
   ],
   "source": [
    "arr*2"
   ]
  },
  {
   "cell_type": "code",
   "execution_count": 23,
   "id": "7c27c267-81bb-405d-aa04-bc5ab907dc97",
   "metadata": {},
   "outputs": [],
   "source": [
    "temp =arr[0]"
   ]
  },
  {
   "cell_type": "code",
   "execution_count": 24,
   "id": "8bf678c6-33ca-4ce6-a7b8-70a1f6951b19",
   "metadata": {},
   "outputs": [
    {
     "data": {
      "text/plain": [
       "0"
      ]
     },
     "execution_count": 24,
     "metadata": {},
     "output_type": "execute_result"
    }
   ],
   "source": [
    "temp"
   ]
  },
  {
   "cell_type": "code",
   "execution_count": 25,
   "id": "037f2b33-4aea-4e7d-8a0f-b5e3d41373b4",
   "metadata": {},
   "outputs": [
    {
     "data": {
      "text/plain": [
       "10"
      ]
     },
     "execution_count": 25,
     "metadata": {},
     "output_type": "execute_result"
    }
   ],
   "source": [
    "temp+10"
   ]
  },
  {
   "cell_type": "code",
   "execution_count": 26,
   "id": "f8de66ed-7272-4b69-b3a5-bfeb7715804c",
   "metadata": {},
   "outputs": [],
   "source": [
    "temp =10"
   ]
  },
  {
   "cell_type": "code",
   "execution_count": 27,
   "id": "c20354e4-fb65-41fb-9d65-e9de231b7f36",
   "metadata": {},
   "outputs": [
    {
     "data": {
      "text/plain": [
       "array([ 0,  1,  2,  3,  4,  5,  6,  7,  8,  9, 10])"
      ]
     },
     "execution_count": 27,
     "metadata": {},
     "output_type": "execute_result"
    }
   ],
   "source": [
    "arr"
   ]
  },
  {
   "cell_type": "code",
   "execution_count": 39,
   "id": "ded38472-cd11-426c-9ffb-f02e86ff9776",
   "metadata": {},
   "outputs": [],
   "source": [
    "arr_2nd = np.array([[11,12,13],[21,22,23],[31,32,33]])"
   ]
  },
  {
   "cell_type": "code",
   "execution_count": 40,
   "id": "f2d46882-e059-4c7f-bdec-086e04ff9ef6",
   "metadata": {},
   "outputs": [
    {
     "data": {
      "text/plain": [
       "(3, 3)"
      ]
     },
     "execution_count": 40,
     "metadata": {},
     "output_type": "execute_result"
    }
   ],
   "source": [
    "arr_2nd.shape"
   ]
  },
  {
   "cell_type": "code",
   "execution_count": 42,
   "id": "d2be4369-3707-48a7-b6fb-4aa8954c41ed",
   "metadata": {},
   "outputs": [
    {
     "data": {
      "text/plain": [
       "array([21, 22, 23])"
      ]
     },
     "execution_count": 42,
     "metadata": {},
     "output_type": "execute_result"
    }
   ],
   "source": [
    "arr_2nd[1]"
   ]
  },
  {
   "cell_type": "code",
   "execution_count": 45,
   "id": "6aef729f-7efb-4fc4-bafd-8b3afa466bdc",
   "metadata": {},
   "outputs": [
    {
     "data": {
      "text/plain": [
       "22"
      ]
     },
     "execution_count": 45,
     "metadata": {},
     "output_type": "execute_result"
    }
   ],
   "source": [
    "arr_2nd[1,1]"
   ]
  },
  {
   "cell_type": "code",
   "execution_count": 46,
   "id": "bdea767d-03f5-4865-a759-0972daae5c30",
   "metadata": {},
   "outputs": [],
   "source": [
    "arr=np.arange(1,11)"
   ]
  },
  {
   "cell_type": "code",
   "execution_count": 47,
   "id": "e1e6ff7c-4e8a-47fe-8992-02b00dfa2c50",
   "metadata": {},
   "outputs": [
    {
     "data": {
      "text/plain": [
       "array([ 1,  2,  3,  4,  5,  6,  7,  8,  9, 10])"
      ]
     },
     "execution_count": 47,
     "metadata": {},
     "output_type": "execute_result"
    }
   ],
   "source": [
    "arr"
   ]
  },
  {
   "cell_type": "code",
   "execution_count": 48,
   "id": "81d6bde0-17b4-4702-9d1a-6de96da5102a",
   "metadata": {},
   "outputs": [
    {
     "data": {
      "text/plain": [
       "array([False, False, False, False,  True,  True,  True,  True,  True,\n",
       "        True])"
      ]
     },
     "execution_count": 48,
     "metadata": {},
     "output_type": "execute_result"
    }
   ],
   "source": [
    "arr > 4"
   ]
  },
  {
   "cell_type": "code",
   "execution_count": 49,
   "id": "56ca9652-e003-4c70-88c2-a3f141b56e83",
   "metadata": {},
   "outputs": [
    {
     "data": {
      "text/plain": [
       "array([ 5,  6,  7,  8,  9, 10])"
      ]
     },
     "execution_count": 49,
     "metadata": {},
     "output_type": "execute_result"
    }
   ],
   "source": [
    "arr[arr>4]"
   ]
  },
  {
   "cell_type": "code",
   "execution_count": 50,
   "id": "819d98d7-cedf-4e81-b417-727f406c6c45",
   "metadata": {},
   "outputs": [
    {
     "data": {
      "text/plain": [
       "array([ 1,  2,  3,  4,  5,  6,  7,  8,  9, 10])"
      ]
     },
     "execution_count": 50,
     "metadata": {},
     "output_type": "execute_result"
    }
   ],
   "source": [
    "arr"
   ]
  },
  {
   "cell_type": "code",
   "execution_count": 55,
   "id": "72c82d08-25f2-431c-815d-c24eee38c0ad",
   "metadata": {},
   "outputs": [
    {
     "data": {
      "text/plain": [
       "array([ 1,  2,  3,  4,  5,  6,  7,  8,  9, 10])"
      ]
     },
     "execution_count": 55,
     "metadata": {},
     "output_type": "execute_result"
    }
   ],
   "source": [
    "arr"
   ]
  },
  {
   "cell_type": "raw",
   "id": "efcdd199-143e-45de-8a7a-a65d6e1cefd3",
   "metadata": {},
   "source": [
    "ch = arr / arr"
   ]
  },
  {
   "cell_type": "code",
   "execution_count": 61,
   "id": "3b27c34a-5427-426e-a849-ef454891f761",
   "metadata": {},
   "outputs": [
    {
     "data": {
      "text/plain": [
       "array([1., 1., 1., 1., 1., 1., 1., 1., 1., 1.])"
      ]
     },
     "execution_count": 61,
     "metadata": {},
     "output_type": "execute_result"
    }
   ],
   "source": [
    "arr/arr"
   ]
  },
  {
   "cell_type": "code",
   "execution_count": 62,
   "id": "d9e17a1e-5f9e-4bb9-9673-4e0bf8a607b2",
   "metadata": {},
   "outputs": [
    {
     "data": {
      "text/plain": [
       "array([ 1,  2,  3,  4,  5,  6,  7,  8,  9, 10])"
      ]
     },
     "execution_count": 62,
     "metadata": {},
     "output_type": "execute_result"
    }
   ],
   "source": [
    "arr"
   ]
  },
  {
   "cell_type": "code",
   "execution_count": 64,
   "id": "6de5d11c-6970-4740-9b44-c0d1203c6226",
   "metadata": {},
   "outputs": [
    {
     "data": {
      "text/plain": [
       "55"
      ]
     },
     "execution_count": 64,
     "metadata": {},
     "output_type": "execute_result"
    }
   ],
   "source": [
    "arr.sum()"
   ]
  },
  {
   "cell_type": "code",
   "execution_count": 65,
   "id": "c527ebd6-a41d-45eb-b9d3-2bcc84245c32",
   "metadata": {},
   "outputs": [
    {
     "data": {
      "text/plain": [
       "10"
      ]
     },
     "execution_count": 65,
     "metadata": {},
     "output_type": "execute_result"
    }
   ],
   "source": [
    "arr.max()"
   ]
  },
  {
   "cell_type": "code",
   "execution_count": 67,
   "id": "f33e0f2e-d4b0-4bd1-bb0e-dde69ea474c8",
   "metadata": {},
   "outputs": [
    {
     "data": {
      "text/plain": [
       "8.25"
      ]
     },
     "execution_count": 67,
     "metadata": {},
     "output_type": "execute_result"
    }
   ],
   "source": [
    "arr.var()"
   ]
  },
  {
   "cell_type": "code",
   "execution_count": 68,
   "id": "941a9ead-eed5-4f1a-b262-6a58ca29cef1",
   "metadata": {},
   "outputs": [
    {
     "ename": "NameError",
     "evalue": "name 'a' is not defined",
     "output_type": "error",
     "traceback": [
      "\u001b[1;31m---------------------------------------------------------------------------\u001b[0m",
      "\u001b[1;31mNameError\u001b[0m                                 Traceback (most recent call last)",
      "Cell \u001b[1;32mIn[68], line 1\u001b[0m\n\u001b[1;32m----> 1\u001b[0m a\n",
      "\u001b[1;31mNameError\u001b[0m: name 'a' is not defined"
     ]
    }
   ],
   "source": [
    "a"
   ]
  },
  {
   "cell_type": "code",
   "execution_count": 69,
   "id": "3e917802-86e6-4c66-92ea-f58ba1ed6914",
   "metadata": {},
   "outputs": [
    {
     "data": {
      "text/plain": [
       "array([[11, 12, 13],\n",
       "       [21, 22, 23],\n",
       "       [31, 32, 33]])"
      ]
     },
     "execution_count": 69,
     "metadata": {},
     "output_type": "execute_result"
    }
   ],
   "source": [
    "arr_2nd"
   ]
  },
  {
   "cell_type": "code",
   "execution_count": 70,
   "id": "10315e12-2c20-4765-8701-07abee4ff44a",
   "metadata": {},
   "outputs": [
    {
     "data": {
      "text/plain": [
       "22.0"
      ]
     },
     "execution_count": 70,
     "metadata": {},
     "output_type": "execute_result"
    }
   ],
   "source": [
    "arr_2nd.mean()"
   ]
  },
  {
   "cell_type": "code",
   "execution_count": 76,
   "id": "80f2861d-00f3-42f6-9a5e-99d6ccbcd01f",
   "metadata": {},
   "outputs": [
    {
     "data": {
      "text/plain": [
       "array([63, 66, 69])"
      ]
     },
     "execution_count": 76,
     "metadata": {},
     "output_type": "execute_result"
    }
   ],
   "source": [
    "arr_2nd.sum(axis=0)"
   ]
  },
  {
   "cell_type": "code",
   "execution_count": null,
   "id": "8b8a6cf9-9911-4ba5-b408-2b27d8bb4634",
   "metadata": {},
   "outputs": [],
   "source": []
  }
 ],
 "metadata": {
  "kernelspec": {
   "display_name": "Python 3 (ipykernel)",
   "language": "python",
   "name": "python3"
  },
  "language_info": {
   "codemirror_mode": {
    "name": "ipython",
    "version": 3
   },
   "file_extension": ".py",
   "mimetype": "text/x-python",
   "name": "python",
   "nbconvert_exporter": "python",
   "pygments_lexer": "ipython3",
   "version": "3.12.7"
  }
 },
 "nbformat": 4,
 "nbformat_minor": 5
}
