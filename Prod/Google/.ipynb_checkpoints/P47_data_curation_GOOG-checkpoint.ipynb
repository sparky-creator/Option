{
 "cells": [
  {
   "cell_type": "code",
   "execution_count": 1,
   "id": "f0d96f9c-561a-4b14-a127-9527ed2fa86a",
   "metadata": {},
   "outputs": [],
   "source": [
    "import os\n",
    "import numpy as np\n",
    "import pandas as pd\n",
    "from datetime import datetime, date, timedelta, time\n",
    "os.environ['TZ'] ='America/New_York'\n",
    "\n",
    "import yfinance as yf\n",
    "\n",
    "import seaborn as sns\n",
    "import matplotlib.pyplot as plt\n",
    "\n",
    "from sklearn.tree import DecisionTreeRegressor\n",
    "from sklearn.ensemble import RandomForestRegressor\n",
    "from sklearn.metrics import mean_squared_error, mean_absolute_error\n",
    "\n",
    "from ib_async import *\n",
    "util.startLoop()"
   ]
  },
  {
   "cell_type": "code",
   "execution_count": null,
   "id": "6a24bcc0-9806-4742-8269-d1743c59ce77",
   "metadata": {},
   "outputs": [],
   "source": []
  },
  {
   "cell_type": "markdown",
   "id": "b49f8d42-045b-4c3b-bb98-0d5acdb61696",
   "metadata": {},
   "source": [
    "### Data Prep for Inferencing"
   ]
  },
  {
   "cell_type": "code",
   "execution_count": 2,
   "id": "78d4390b-5d51-473d-8b43-99cfd36e358a",
   "metadata": {},
   "outputs": [
    {
     "data": {
      "text/plain": [
       "<IB connected to 127.0.0.1:4002 clientId=1>"
      ]
     },
     "execution_count": 2,
     "metadata": {},
     "output_type": "execute_result"
    }
   ],
   "source": [
    "ib = IB()\n",
    "ib.connect(port=4002, clientId=1)"
   ]
  },
  {
   "cell_type": "code",
   "execution_count": 3,
   "id": "4cf65e41-67cb-49d6-8bff-a910f14600e9",
   "metadata": {},
   "outputs": [
    {
     "data": {
      "text/plain": [
       "[Contract(secType='STK', conId=208813720, symbol='GOOG', exchange='SMART', primaryExchange='NASDAQ', currency='USD', localSymbol='GOOG', tradingClass='NMS')]"
      ]
     },
     "execution_count": 3,
     "metadata": {},
     "output_type": "execute_result"
    }
   ],
   "source": [
    "contract = Contract(symbol='GOOG', secType='STK', exchange='SMART', currency='USD')\n",
    "ib.qualifyContracts(contract)"
   ]
  },
  {
   "cell_type": "code",
   "execution_count": 4,
   "id": "e2a181d2-4ba7-4cfa-861f-256b0d87336c",
   "metadata": {},
   "outputs": [
    {
     "data": {
      "text/plain": [
       "[Contract(secType='IND', conId=13455763, symbol='VIX', exchange='CBOE', currency='USD', localSymbol='VIX')]"
      ]
     },
     "execution_count": 4,
     "metadata": {},
     "output_type": "execute_result"
    }
   ],
   "source": [
    "contract_vix = Contract(symbol= 'VIX', secType = 'IND',exchange = 'CBOE', currency='USD')\n",
    "ib.qualifyContracts(contract_vix)"
   ]
  },
  {
   "cell_type": "code",
   "execution_count": 5,
   "id": "5db09cf3-e7fc-48ae-bd09-1814e51b5a16",
   "metadata": {},
   "outputs": [
    {
     "data": {
      "text/plain": [
       "[Contract(secType='STK', conId=72539702, symbol='TQQQ', exchange='SMART', primaryExchange='NASDAQ', currency='USD', localSymbol='TQQQ', tradingClass='NMS')]"
      ]
     },
     "execution_count": 5,
     "metadata": {},
     "output_type": "execute_result"
    }
   ],
   "source": [
    "contract_nas = Contract(symbol= 'TQQQ', secType = 'STK',exchange = 'SMART', currency='USD')\n",
    "ib.qualifyContracts(contract_nas)"
   ]
  },
  {
   "cell_type": "code",
   "execution_count": 6,
   "id": "287a6330-c731-47bc-8be7-65516105d735",
   "metadata": {},
   "outputs": [],
   "source": [
    "def get_fridays_in_range(start_date, end_date):\n",
    "    \"\"\"\n",
    "    Returns a list of dates that are Fridays within the given date range.\n",
    "\n",
    "    Args:\n",
    "        start_date (date): The start date of the range.\n",
    "        end_date (date): The end date of the range.\n",
    "\n",
    "    Returns:\n",
    "        list: A list of date objects representing Fridays within the range.\n",
    "    \"\"\"\n",
    "    fridays = []\n",
    "    all_dates = []\n",
    "    current_date = start_date\n",
    "    all_current_date = start_date\n",
    "\n",
    "    # Adjust to the first Friday\n",
    "    days_until_friday = (4 - current_date.weekday()) % 7\n",
    "    current_date += timedelta(days=days_until_friday)\n",
    "\n",
    "    while current_date <= end_date:\n",
    "        fridays.append(current_date)\n",
    "        current_date += timedelta(days=7) # Move to the next Friday\n",
    "\n",
    "    while all_current_date <= end_date:\n",
    "        all_dates.append(all_current_date)\n",
    "        all_current_date += timedelta(days=1)\n",
    "\n",
    "    biz_dates = [ d for d in all_dates if d.weekday()<5]\n",
    "    \n",
    "    return fridays, biz_dates\n",
    "\n",
    "# Example Usage\n",
    "start_date = date(2024, 2, 1)\n",
    "end_date = date(2025, 4, 4)\n",
    "\n",
    "fridays, all_dates = get_fridays_in_range(start_date, end_date)\n",
    "# removing Non-trading Holidays\n",
    "\n",
    "fridays.remove(date(2024, 3, 29))\n",
    "fridays.remove(date(2024, 11, 29))\n",
    "\n",
    "#all_dates.remove(date(2024, 1, 15))\n",
    "all_dates.remove(date(2024, 2, 19))\n",
    "all_dates.remove(date(2024, 3, 29))\n",
    "all_dates.remove(date(2024, 5, 27))\n",
    "all_dates.remove(date(2024, 6, 19))\n",
    "all_dates.remove(date(2024, 7, 3))\n",
    "all_dates.remove(date(2024, 7, 4))\n",
    "all_dates.remove(date(2024, 9, 2))\n",
    "all_dates.remove(date(2024, 11, 28))\n",
    "all_dates.remove(date(2024, 11, 29))\n",
    "all_dates.remove(date(2024, 12, 24))\n",
    "all_dates.remove(date(2024, 12, 25))\n",
    "\n",
    "all_dates.remove(date(2025, 1, 1))\n",
    "all_dates.remove(date(2025, 1, 8))\n",
    "all_dates.remove(date(2025, 1, 20))\n",
    "all_dates.remove(date(2025, 2, 17))\n"
   ]
  },
  {
   "cell_type": "code",
   "execution_count": 7,
   "id": "9844d487-3c68-48b9-9af2-6ac9dbd2a251",
   "metadata": {},
   "outputs": [],
   "source": [
    "# duration is fixed for an year\n",
    "def simple_data_req( contract, end_date , barsize =\"1 min\", data_clean = True):\n",
    "\n",
    "   \n",
    "    df_acc=pd.DataFrame()\n",
    "    df_hist=pd.DataFrame()\n",
    "\n",
    "    for i in range(17):\n",
    "        print(f'fetching data for {i}')\n",
    "        bars = ib.reqHistoricalData(contract= contract, endDateTime=end_date, barSizeSetting= barsize, durationStr= \"20 D\", whatToShow=\"TRADES\", useRTH=True)\n",
    "        df = util.df(bars)\n",
    "        end_date = end_date - timedelta(20+2)\n",
    "        df_acc = pd.concat([df, df_acc], ignore_index=True)\n",
    "        print(f'head date {df_acc.head(1)['date']}')\n",
    "        print(f'tail date {df_acc.tail(1)['date']}')\n",
    "\n",
    "    df_acc['Date_Only'] = df_acc['date'].dt.date\n",
    "    \n",
    "    if data_clean == True:\n",
    "        df_hist = df_acc[(df_acc['date'].dt.time >= time(9, 30)) & (df_acc['date'].dt.time < time(16, 00))]\n",
    "    else:\n",
    "        df_hist = df_acc\n",
    "\n",
    "    #df_hist.drop_duplicates(inplace=True)\n",
    "    \n",
    "    return df_hist"
   ]
  },
  {
   "cell_type": "code",
   "execution_count": 8,
   "id": "9c0c04d6-a811-459d-b4eb-677b1d46b103",
   "metadata": {},
   "outputs": [],
   "source": [
    "# picking out Friday and before specific-time data\n",
    "\n",
    "#specific_time = time(14, 30, 0)\n",
    "def data_filter_v46(df_initial, list_days, specific_time_before = None, specific_time_after= None, on_time= None):\n",
    "    his_df = pd.DataFrame()\n",
    "\n",
    "    df_trimmed = df_initial[df_initial['date'].dt.date.isin(list_days)]\n",
    "\n",
    "    if specific_time_before is not None:\n",
    "\n",
    "        his_df = df_trimmed[(df_trimmed['date'].dt.time < specific_time_before)]\n",
    "        \n",
    "            \n",
    "    if specific_time_after is not None:\n",
    "\n",
    "        his_df = df_trimmed[(df_trimmed['date'].dt.time >= specific_time_after)]\n",
    "\n",
    "    if on_time is not None:\n",
    "        his_df = df_trimmed[(df_trimmed['date'].dt.time == on_time)]\n",
    "\n",
    "    if (specific_time_before is None and specific_time_after is None) and on_time is None:\n",
    "\n",
    "        his_df = df_trimmed\n",
    "        \n",
    "    return his_df"
   ]
  },
  {
   "cell_type": "code",
   "execution_count": 9,
   "id": "deef7ed4-20fa-40b2-8fcc-98c85578b5b3",
   "metadata": {},
   "outputs": [],
   "source": [
    "from datetime import date, timedelta\n",
    "\n",
    "def calculate_business_days(start_date, end_date):\n",
    "    \"\"\"\n",
    "    Calculates the number of business days between two dates, excluding weekends.\n",
    "\n",
    "    Args:\n",
    "        start_date (date): The start date.\n",
    "        end_date (date): The end date.\n",
    "\n",
    "    Returns:\n",
    "        int: The number of business days.\n",
    "    \"\"\"\n",
    "    business_days = 0\n",
    "    current_date = start_date\n",
    "    while current_date <= end_date:\n",
    "        if current_date.weekday() < 5:  # Monday to Friday\n",
    "            business_days += 1\n",
    "        current_date += timedelta(days=1)\n",
    "    return business_days\n",
    "\n",
    "# Example usage:\n",
    "# start_date = date(2025, 2, 1)  # April 7, 2025 (Monday)\n",
    "# end_date = date(2025, 4, 3)  # April 18, 2025 (Friday)\n",
    "# num_business_days = calculate_business_days(start_date, end_date)\n",
    "# print(f\"Number of business days between {start_date} and {end_date}: {num_business_days}\")"
   ]
  },
  {
   "cell_type": "markdown",
   "id": "34c8eb67-543d-4ad9-b613-d44a8b3f966c",
   "metadata": {},
   "source": [
    "### Trainning Data Set Collection ###"
   ]
  },
  {
   "cell_type": "code",
   "execution_count": 10,
   "id": "7aa3420a-ca6d-4482-8a76-12a8f9915135",
   "metadata": {
    "scrolled": true
   },
   "outputs": [
    {
     "name": "stdout",
     "output_type": "stream",
     "text": [
      "fetching data for 0\n",
      "head date 0   2025-03-10 09:30:00-04:00\n",
      "Name: date, dtype: datetime64[ns, US/Eastern]\n",
      "tail date 7799   2025-04-04 15:59:00-04:00\n",
      "Name: date, dtype: datetime64[ns, US/Eastern]\n",
      "fetching data for 1\n",
      "head date 0   2025-02-13 09:30:00-05:00\n",
      "Name: date, dtype: datetime64[ns, US/Eastern]\n",
      "tail date 15599   2025-04-04 15:59:00-04:00\n",
      "Name: date, dtype: datetime64[ns, US/Eastern]\n",
      "fetching data for 2\n",
      "head date 0   2025-01-22 09:30:00-05:00\n",
      "Name: date, dtype: datetime64[ns, US/Eastern]\n",
      "tail date 23399   2025-04-04 15:59:00-04:00\n",
      "Name: date, dtype: datetime64[ns, US/Eastern]\n",
      "fetching data for 3\n",
      "head date 0   2024-12-27 09:30:00-05:00\n",
      "Name: date, dtype: datetime64[ns, US/Eastern]\n",
      "tail date 31199   2025-04-04 15:59:00-04:00\n",
      "Name: date, dtype: datetime64[ns, US/Eastern]\n",
      "fetching data for 4\n",
      "head date 0   2024-12-06 09:30:00-05:00\n",
      "Name: date, dtype: datetime64[ns, US/Eastern]\n",
      "tail date 38819   2025-04-04 15:59:00-04:00\n",
      "Name: date, dtype: datetime64[ns, US/Eastern]\n",
      "fetching data for 5\n",
      "head date 0   2024-11-15 09:30:00-05:00\n",
      "Name: date, dtype: datetime64[ns, US/Eastern]\n",
      "tail date 46439   2025-04-04 15:59:00-04:00\n",
      "Name: date, dtype: datetime64[ns, US/Eastern]\n",
      "fetching data for 6\n",
      "head date 0   2024-10-28 09:30:00-04:00\n",
      "Name: date, dtype: datetime64[ns, US/Eastern]\n",
      "tail date 54239   2025-04-04 15:59:00-04:00\n",
      "Name: date, dtype: datetime64[ns, US/Eastern]\n",
      "fetching data for 7\n",
      "head date 0   2024-10-07 09:30:00-04:00\n",
      "Name: date, dtype: datetime64[ns, US/Eastern]\n",
      "tail date 62039   2025-04-04 15:59:00-04:00\n",
      "Name: date, dtype: datetime64[ns, US/Eastern]\n",
      "fetching data for 8\n",
      "head date 0   2024-09-13 09:30:00-04:00\n",
      "Name: date, dtype: datetime64[ns, US/Eastern]\n",
      "tail date 69839   2025-04-04 15:59:00-04:00\n",
      "Name: date, dtype: datetime64[ns, US/Eastern]\n",
      "fetching data for 9\n",
      "head date 0   2024-08-21 09:30:00-04:00\n",
      "Name: date, dtype: datetime64[ns, US/Eastern]\n",
      "tail date 77639   2025-04-04 15:59:00-04:00\n",
      "Name: date, dtype: datetime64[ns, US/Eastern]\n",
      "fetching data for 10\n",
      "head date 0   2024-07-31 09:30:00-04:00\n",
      "Name: date, dtype: datetime64[ns, US/Eastern]\n",
      "tail date 85439   2025-04-04 15:59:00-04:00\n",
      "Name: date, dtype: datetime64[ns, US/Eastern]\n",
      "fetching data for 11\n",
      "head date 0   2024-07-09 09:30:00-04:00\n",
      "Name: date, dtype: datetime64[ns, US/Eastern]\n",
      "tail date 93239   2025-04-04 15:59:00-04:00\n",
      "Name: date, dtype: datetime64[ns, US/Eastern]\n",
      "fetching data for 12\n",
      "head date 0   2024-06-13 09:30:00-04:00\n",
      "Name: date, dtype: datetime64[ns, US/Eastern]\n",
      "tail date 100859   2025-04-04 15:59:00-04:00\n",
      "Name: date, dtype: datetime64[ns, US/Eastern]\n",
      "fetching data for 13\n",
      "head date 0   2024-05-23 09:30:00-04:00\n",
      "Name: date, dtype: datetime64[ns, US/Eastern]\n",
      "tail date 108659   2025-04-04 15:59:00-04:00\n",
      "Name: date, dtype: datetime64[ns, US/Eastern]\n",
      "fetching data for 14\n",
      "head date 0   2024-05-03 09:30:00-04:00\n",
      "Name: date, dtype: datetime64[ns, US/Eastern]\n",
      "tail date 116459   2025-04-04 15:59:00-04:00\n",
      "Name: date, dtype: datetime64[ns, US/Eastern]\n",
      "fetching data for 15\n",
      "head date 0   2024-04-12 09:30:00-04:00\n",
      "Name: date, dtype: datetime64[ns, US/Eastern]\n",
      "tail date 124259   2025-04-04 15:59:00-04:00\n",
      "Name: date, dtype: datetime64[ns, US/Eastern]\n",
      "fetching data for 16\n",
      "head date 0   2024-03-20 09:30:00-04:00\n",
      "Name: date, dtype: datetime64[ns, US/Eastern]\n",
      "tail date 132059   2025-04-04 15:59:00-04:00\n",
      "Name: date, dtype: datetime64[ns, US/Eastern]\n"
     ]
    }
   ],
   "source": [
    "barsize =\"1 min\"\n",
    "\n",
    "df_all_days_stock = simple_data_req(contract = contract, end_date = end_date, barsize= barsize )"
   ]
  },
  {
   "cell_type": "code",
   "execution_count": 11,
   "id": "0d0b0f99-5722-4c18-a1f0-571a9f61a279",
   "metadata": {},
   "outputs": [
    {
     "name": "stdout",
     "output_type": "stream",
     "text": [
      "2024-07-03\n",
      "2024-11-29\n",
      "2024-12-24\n"
     ]
    }
   ],
   "source": [
    "for i in df_all_days_stock['Date_Only'].unique():\n",
    "    if df_all_days_stock[df_all_days_stock['Date_Only'] ==i].shape[0] % 390 != 0:\n",
    "        print(i)"
   ]
  },
  {
   "cell_type": "code",
   "execution_count": null,
   "id": "d21e8784-60e4-458a-a468-73890f6b53f7",
   "metadata": {},
   "outputs": [],
   "source": [
    "df_VIX = simple_data_req(contract = contract_vix, end_date = end_date, barsize= barsize )\n"
   ]
  },
  {
   "cell_type": "code",
   "execution_count": null,
   "id": "7674878a-466d-47ff-8822-a14a0bbce8ff",
   "metadata": {},
   "outputs": [],
   "source": [
    "df_TQQQ = simple_data_req(contract = contract_nas, end_date = end_date, barsize= barsize )"
   ]
  },
  {
   "cell_type": "code",
   "execution_count": 12,
   "id": "a26876b2-3410-4843-b77d-234477b03acd",
   "metadata": {},
   "outputs": [],
   "source": [
    "### data cleaning ## step\n",
    "# clean duplicate\n",
    "# is in the days of interest\n",
    "# within windows\n",
    "\n",
    "def data_cleaning(df, in_days):\n",
    "    df_his = pd.DataFrame()\n",
    "    df_return = pd.DataFrame()\n",
    "    \n",
    "    df.drop_duplicates(inplace = True)\n",
    "    df_his = df[df[\"Date_Only\"].isin(in_days)]\n",
    "    df_return = df_his[(df_his['date'].dt.time > time(9,29)) & (df_his['date'].dt.time < time(16,00))]\n",
    "\n",
    "    for i in df_return['Date_Only'].unique():\n",
    "        if df_return[df_return['Date_Only'] ==i].shape[0] % 390 != 0:\n",
    "            print(i)\n",
    "    \n",
    "    return df_return"
   ]
  },
  {
   "cell_type": "code",
   "execution_count": 13,
   "id": "2392c52b-c139-489e-ab7e-b8ba07c4f6b0",
   "metadata": {},
   "outputs": [
    {
     "data": {
      "text/plain": [
       "(100620, 9)"
      ]
     },
     "execution_count": 13,
     "metadata": {},
     "output_type": "execute_result"
    }
   ],
   "source": [
    "df_GOOG = data_cleaning(df_all_days_stock, all_dates)\n",
    "\n",
    "df_GOOG.shape"
   ]
  },
  {
   "cell_type": "code",
   "execution_count": null,
   "id": "67c595a2-9b2a-419e-89ad-688e7ec75371",
   "metadata": {},
   "outputs": [],
   "source": [
    "df_TQQQ_trim = data_cleaning(df_TQQQ, all_dates)\n",
    "\n",
    "df_TQQQ_trim.shape"
   ]
  },
  {
   "cell_type": "code",
   "execution_count": null,
   "id": "658bca8f-47eb-457b-ab96-8aed79b366b9",
   "metadata": {},
   "outputs": [],
   "source": [
    "df_VIX_trim = data_cleaning(df_VIX, all_dates)\n",
    "\n",
    "df_VIX_trim.shape"
   ]
  },
  {
   "cell_type": "code",
   "execution_count": 14,
   "id": "63108393-d693-4b18-8c28-3188405fddb7",
   "metadata": {},
   "outputs": [
    {
     "ename": "NameError",
     "evalue": "name 'df_VIX_trim' is not defined",
     "output_type": "error",
     "traceback": [
      "\u001b[1;31m---------------------------------------------------------------------------\u001b[0m",
      "\u001b[1;31mNameError\u001b[0m                                 Traceback (most recent call last)",
      "Cell \u001b[1;32mIn[14], line 4\u001b[0m\n\u001b[0;32m      1\u001b[0m df_GOOG\u001b[38;5;241m.\u001b[39mto_csv(\u001b[38;5;124m'\u001b[39m\u001b[38;5;124mGOOG_master_stock_info.csv\u001b[39m\u001b[38;5;124m'\u001b[39m, index\u001b[38;5;241m=\u001b[39m\u001b[38;5;28;01mFalse\u001b[39;00m)\n\u001b[0;32m      2\u001b[0m df_GOOG\u001b[38;5;241m.\u001b[39mto_pickle(\u001b[38;5;124m'\u001b[39m\u001b[38;5;124mGOOG_master_stock_info.pkl\u001b[39m\u001b[38;5;124m'\u001b[39m)\n\u001b[1;32m----> 4\u001b[0m df_VIX_trim\u001b[38;5;241m.\u001b[39mto_csv(\u001b[38;5;124m'\u001b[39m\u001b[38;5;124mVIX_master_info.csv\u001b[39m\u001b[38;5;124m'\u001b[39m, index\u001b[38;5;241m=\u001b[39m\u001b[38;5;28;01mFalse\u001b[39;00m)\n\u001b[0;32m      5\u001b[0m df_VIX_trim\u001b[38;5;241m.\u001b[39mto_pickle(\u001b[38;5;124m'\u001b[39m\u001b[38;5;124mVIX_master_info.pkl\u001b[39m\u001b[38;5;124m'\u001b[39m)\n\u001b[0;32m      7\u001b[0m df_TQQQ_trim\u001b[38;5;241m.\u001b[39mto_csv(\u001b[38;5;124m'\u001b[39m\u001b[38;5;124mTQQQ_master_info.csv\u001b[39m\u001b[38;5;124m'\u001b[39m, index\u001b[38;5;241m=\u001b[39m\u001b[38;5;28;01mFalse\u001b[39;00m)\n",
      "\u001b[1;31mNameError\u001b[0m: name 'df_VIX_trim' is not defined"
     ]
    }
   ],
   "source": [
    "df_GOOG.to_csv('GOOG_master_stock_info.csv', index=False)\n",
    "df_GOOG.to_pickle('GOOG_master_stock_info.pkl')\n",
    "\n",
    "df_VIX_trim.to_csv('VIX_master_info.csv', index=False)\n",
    "df_VIX_trim.to_pickle('VIX_master_info.pkl')\n",
    "\n",
    "df_TQQQ_trim.to_csv('TQQQ_master_info.csv', index=False)\n",
    "df_TQQQ_trim.to_pickle('TQQQ_master_info.pkl')"
   ]
  },
  {
   "cell_type": "code",
   "execution_count": 15,
   "id": "56d9c8a5-e508-44be-8516-e4336dacebaf",
   "metadata": {},
   "outputs": [],
   "source": [
    "df_GOOG = pd.read_pickle('GOOG_master_stock_info.pkl')\n",
    "df_VIX = pd.read_pickle('VIX_master_info.pkl')\n",
    "df_TQQQ = pd.read_pickle('TQQQ_master_info.pkl')"
   ]
  },
  {
   "cell_type": "code",
   "execution_count": 16,
   "id": "84f78005-55c6-4f0d-b9cb-8312aa231869",
   "metadata": {},
   "outputs": [],
   "source": [
    "cut_time = time(14, 30, 0)"
   ]
  },
  {
   "cell_type": "code",
   "execution_count": 17,
   "id": "6b748e96-b721-4e16-8b86-e0b93f064253",
   "metadata": {},
   "outputs": [],
   "source": [
    "\n",
    "def data_sparcing_construc(df, sp_day, *, cut_time = None):\n",
    "    #df_group = df.groupby(\"Date_Only\").std(numeric_only=True)\n",
    "    df_filter_prior = data_filter_v46(df, sp_day, specific_time_before = cut_time )\n",
    "    df_group_prior = df_filter_prior.groupby(\"Date_Only\").std(numeric_only=True)\n",
    "    \n",
    "    df_filter_after = data_filter_v46(df, sp_day, specific_time_after = cut_time )\n",
    "    df_group_after = df_filter_after.groupby(\"Date_Only\").std(numeric_only=True)\n",
    "\n",
    "\n",
    "    df_group_train =pd.DataFrame()\n",
    "    df_group_train['Target_std'] = pd.DataFrame(df_group_after[['open','high','low','close']].max(axis=1))\n",
    "    df_group_train['Target_spread'] = df_filter_after.groupby('Date_Only')['open'].max() - df_filter_after.groupby('Date_Only')['open'].min()\n",
    "    \n",
    "    df_group_train['prior_std'] = pd.DataFrame(df_group_prior[['open','high','low','close']].max(axis=1))\n",
    "    df_group_train['prior_Vol'] = pd.DataFrame(df_filter_prior.groupby(\"Date_Only\").mean()['volume'])\n",
    "    df_group_train['prior_spread'] = df_filter_prior.groupby('Date_Only')['open'].max() - df_filter_prior.groupby('Date_Only')['open'].min()\n",
    "\n",
    "    df_group_train['prior_range'] =pd.DataFrame(df_filter_prior.groupby('Date_Only')['close'].max() -df_filter_prior.groupby('Date_Only')['close'].min() )\n",
    "    \n",
    "    df_initial = df_filter_prior.copy()\n",
    "    new_time = time(cut_time.hour, cut_time.minute -1)\n",
    "    df_group_train['cut_open'] = df_filter_prior[(df_filter_prior['date'].dt.time == new_time)]['open'].values\n",
    "\n",
    "    cut_name =['cut_1hr','cut_2hr','cut_3hr']\n",
    "    for i in range(3):\n",
    "        print(i)\n",
    "        prior = time(cut_time.hour - (i+1), cut_time.minute)\n",
    "        df_group_train[cut_name[i]] = df_initial[(df_initial['date'].dt.time == new_time)]['open'].values- df_initial[(df_initial['date'].dt.time == prior)]['open'].values\n",
    "\n",
    "    \n",
    "    return df_group_train, df_filter_prior, df_filter_after, df_group_prior, df_group_after\n",
    "    "
   ]
  },
  {
   "cell_type": "code",
   "execution_count": 18,
   "id": "b7eb65d5-801c-4dfb-b1e9-f5ea8b17a750",
   "metadata": {},
   "outputs": [
    {
     "name": "stdout",
     "output_type": "stream",
     "text": [
      "0\n",
      "1\n",
      "2\n"
     ]
    }
   ],
   "source": [
    "df_group_train, df_filter_prior, df_filter_after, df_group_prior, df_group_after = data_sparcing_construc(df_all_days_stock, all_dates, cut_time= cut_time)"
   ]
  },
  {
   "cell_type": "code",
   "execution_count": null,
   "id": "0649db1d-5682-46ab-8eed-1608db6ac60a",
   "metadata": {},
   "outputs": [],
   "source": [
    "# df_VIX_check = df_all_days_VIX[(df_all_days_VIX['date'].dt.time > time(9,29)) & (df_all_days_VIX['date'].dt.time < time(16,00))]"
   ]
  },
  {
   "cell_type": "code",
   "execution_count": null,
   "id": "d77c278b-be81-4b0b-9dd8-b4ce10f019df",
   "metadata": {},
   "outputs": [],
   "source": [
    "# for d in biz_dates:\n",
    "#     for df in df_TQQQ_clean:\n",
    "#         if len(df_TQQQ_clean[df_TQQQ_clean['Date_Only']==d]) !=390:\n",
    "#             print(d)"
   ]
  },
  {
   "cell_type": "code",
   "execution_count": null,
   "id": "3ac6296b-78fa-43d7-b65c-d1a7efbbaf79",
   "metadata": {},
   "outputs": [],
   "source": [
    "# # switching\n",
    "# df_VIX = pd.DataFrame()\n",
    "# df_VIX = df_VIX_clean.copy()\n",
    "\n",
    "# df_TQQQ = pd.DataFrame()\n",
    "# df_TQQQ = df_TQQQ_clean.copy()\n",
    "\n",
    "# df_all_days_stock = pd.DataFrame()\n",
    "# df_all_days_stock = df_stock_clean.copy()"
   ]
  },
  {
   "cell_type": "code",
   "execution_count": null,
   "id": "ab96f96c-bd41-4563-b7ad-2014b6297fbc",
   "metadata": {},
   "outputs": [],
   "source": []
  },
  {
   "cell_type": "code",
   "execution_count": 19,
   "id": "ba9237c8-c9f7-4804-825d-8403febaa198",
   "metadata": {},
   "outputs": [
    {
     "name": "stdout",
     "output_type": "stream",
     "text": [
      "0\n",
      "1\n",
      "2\n",
      "0\n",
      "1\n",
      "2\n"
     ]
    }
   ],
   "source": [
    "df_group_train_vix, *_  = data_sparcing_construc(df_VIX, all_dates, cut_time= cut_time)\n",
    "df_group_train_tqqq, *_ = data_sparcing_construc(df_TQQQ, all_dates, cut_time= cut_time)"
   ]
  },
  {
   "cell_type": "code",
   "execution_count": 20,
   "id": "5290a392-6d1f-4a71-9467-ef92f5e470c0",
   "metadata": {},
   "outputs": [],
   "source": [
    "df_final_jointed_vix=pd.DataFrame()\n",
    "df_final_jointed_all=pd.DataFrame()\n",
    "\n",
    "df_group_train_vix.columns =['vix_std','vix_spread','vix_prior_std','vix_Vol', 'vix_pr_spread','vix_prior_range','vix_cut_open','vix_cut_1hr','vix_cut_2hr','vix_cut_3hr']\n",
    "df_final_jointed_vix = pd.concat([df_group_train,df_group_train_vix], axis=1)\n",
    "df_group_train_tqqq.columns =['tqqq_std','tqqq_spread','tqqq_prior_std','tqqq_Vol','tqqq_pr_spread','tqqq_prior_range','tqqq_cut_open','tqqq_cut_1hr','tqqq_cut_2hr','tqqq_cut_3hr']\n",
    "df_final_jointed_all = pd.concat([df_final_jointed_vix,df_group_train_tqqq], axis=1)\n",
    "df_final_jointed_all.drop(['vix_std','vix_Vol','tqqq_std'], axis=1, inplace=True)"
   ]
  },
  {
   "cell_type": "code",
   "execution_count": 21,
   "id": "6f6803c7-cc68-4303-bd03-8ba89821c114",
   "metadata": {},
   "outputs": [
    {
     "data": {
      "text/html": [
       "<div>\n",
       "<style scoped>\n",
       "    .dataframe tbody tr th:only-of-type {\n",
       "        vertical-align: middle;\n",
       "    }\n",
       "\n",
       "    .dataframe tbody tr th {\n",
       "        vertical-align: top;\n",
       "    }\n",
       "\n",
       "    .dataframe thead th {\n",
       "        text-align: right;\n",
       "    }\n",
       "</style>\n",
       "<table border=\"1\" class=\"dataframe\">\n",
       "  <thead>\n",
       "    <tr style=\"text-align: right;\">\n",
       "      <th></th>\n",
       "      <th>Target_std</th>\n",
       "      <th>Target_spread</th>\n",
       "      <th>prior_std</th>\n",
       "      <th>prior_Vol</th>\n",
       "      <th>prior_spread</th>\n",
       "      <th>prior_range</th>\n",
       "      <th>cut_open</th>\n",
       "      <th>cut_1hr</th>\n",
       "      <th>cut_2hr</th>\n",
       "      <th>cut_3hr</th>\n",
       "      <th>...</th>\n",
       "      <th>vix_cut_3hr</th>\n",
       "      <th>tqqq_spread</th>\n",
       "      <th>tqqq_prior_std</th>\n",
       "      <th>tqqq_Vol</th>\n",
       "      <th>tqqq_pr_spread</th>\n",
       "      <th>tqqq_prior_range</th>\n",
       "      <th>tqqq_cut_open</th>\n",
       "      <th>tqqq_cut_1hr</th>\n",
       "      <th>tqqq_cut_2hr</th>\n",
       "      <th>tqqq_cut_3hr</th>\n",
       "    </tr>\n",
       "    <tr>\n",
       "      <th>Date_Only</th>\n",
       "      <th></th>\n",
       "      <th></th>\n",
       "      <th></th>\n",
       "      <th></th>\n",
       "      <th></th>\n",
       "      <th></th>\n",
       "      <th></th>\n",
       "      <th></th>\n",
       "      <th></th>\n",
       "      <th></th>\n",
       "      <th></th>\n",
       "      <th></th>\n",
       "      <th></th>\n",
       "      <th></th>\n",
       "      <th></th>\n",
       "      <th></th>\n",
       "      <th></th>\n",
       "      <th></th>\n",
       "      <th></th>\n",
       "      <th></th>\n",
       "      <th></th>\n",
       "    </tr>\n",
       "  </thead>\n",
       "  <tbody>\n",
       "    <tr>\n",
       "      <th>2024-03-20</th>\n",
       "      <td>0.239614</td>\n",
       "      <td>1.02</td>\n",
       "      <td>0.316430</td>\n",
       "      <td>23082.316667</td>\n",
       "      <td>1.72</td>\n",
       "      <td>1.73</td>\n",
       "      <td>148.89</td>\n",
       "      <td>0.96</td>\n",
       "      <td>0.47</td>\n",
       "      <td>0.29</td>\n",
       "      <td>...</td>\n",
       "      <td>-0.78</td>\n",
       "      <td>1.94</td>\n",
       "      <td>0.277909</td>\n",
       "      <td>127510.016667</td>\n",
       "      <td>1.40</td>\n",
       "      <td>1.40</td>\n",
       "      <td>60.57</td>\n",
       "      <td>1.04</td>\n",
       "      <td>0.87</td>\n",
       "      <td>0.81</td>\n",
       "    </tr>\n",
       "    <tr>\n",
       "      <th>2024-03-21</th>\n",
       "      <td>0.262196</td>\n",
       "      <td>0.88</td>\n",
       "      <td>0.829420</td>\n",
       "      <td>32286.996667</td>\n",
       "      <td>2.80</td>\n",
       "      <td>2.83</td>\n",
       "      <td>148.48</td>\n",
       "      <td>0.21</td>\n",
       "      <td>-0.44</td>\n",
       "      <td>-0.27</td>\n",
       "      <td>...</td>\n",
       "      <td>-0.07</td>\n",
       "      <td>0.54</td>\n",
       "      <td>0.277116</td>\n",
       "      <td>150414.430000</td>\n",
       "      <td>1.18</td>\n",
       "      <td>1.18</td>\n",
       "      <td>63.04</td>\n",
       "      <td>-0.47</td>\n",
       "      <td>-0.88</td>\n",
       "      <td>-0.41</td>\n",
       "    </tr>\n",
       "    <tr>\n",
       "      <th>2024-03-22</th>\n",
       "      <td>0.216227</td>\n",
       "      <td>0.75</td>\n",
       "      <td>0.370929</td>\n",
       "      <td>31170.190000</td>\n",
       "      <td>2.30</td>\n",
       "      <td>2.08</td>\n",
       "      <td>151.92</td>\n",
       "      <td>0.33</td>\n",
       "      <td>0.52</td>\n",
       "      <td>-0.35</td>\n",
       "      <td>...</td>\n",
       "      <td>0.10</td>\n",
       "      <td>0.60</td>\n",
       "      <td>0.337054</td>\n",
       "      <td>99536.533333</td>\n",
       "      <td>1.20</td>\n",
       "      <td>1.21</td>\n",
       "      <td>63.02</td>\n",
       "      <td>0.12</td>\n",
       "      <td>0.56</td>\n",
       "      <td>0.57</td>\n",
       "    </tr>\n",
       "    <tr>\n",
       "      <th>2024-03-25</th>\n",
       "      <td>0.277144</td>\n",
       "      <td>0.91</td>\n",
       "      <td>0.334276</td>\n",
       "      <td>21066.500000</td>\n",
       "      <td>1.94</td>\n",
       "      <td>1.84</td>\n",
       "      <td>150.56</td>\n",
       "      <td>0.12</td>\n",
       "      <td>0.06</td>\n",
       "      <td>0.44</td>\n",
       "      <td>...</td>\n",
       "      <td>0.04</td>\n",
       "      <td>0.62</td>\n",
       "      <td>0.290495</td>\n",
       "      <td>98000.976667</td>\n",
       "      <td>1.44</td>\n",
       "      <td>1.44</td>\n",
       "      <td>62.52</td>\n",
       "      <td>0.16</td>\n",
       "      <td>0.36</td>\n",
       "      <td>0.31</td>\n",
       "    </tr>\n",
       "    <tr>\n",
       "      <th>2024-03-26</th>\n",
       "      <td>0.387204</td>\n",
       "      <td>1.11</td>\n",
       "      <td>0.422641</td>\n",
       "      <td>27582.020000</td>\n",
       "      <td>2.01</td>\n",
       "      <td>1.99</td>\n",
       "      <td>152.64</td>\n",
       "      <td>-0.08</td>\n",
       "      <td>0.16</td>\n",
       "      <td>0.19</td>\n",
       "      <td>...</td>\n",
       "      <td>0.09</td>\n",
       "      <td>1.23</td>\n",
       "      <td>0.173323</td>\n",
       "      <td>95270.283333</td>\n",
       "      <td>0.74</td>\n",
       "      <td>0.75</td>\n",
       "      <td>62.52</td>\n",
       "      <td>0.11</td>\n",
       "      <td>0.00</td>\n",
       "      <td>-0.09</td>\n",
       "    </tr>\n",
       "    <tr>\n",
       "      <th>...</th>\n",
       "      <td>...</td>\n",
       "      <td>...</td>\n",
       "      <td>...</td>\n",
       "      <td>...</td>\n",
       "      <td>...</td>\n",
       "      <td>...</td>\n",
       "      <td>...</td>\n",
       "      <td>...</td>\n",
       "      <td>...</td>\n",
       "      <td>...</td>\n",
       "      <td>...</td>\n",
       "      <td>...</td>\n",
       "      <td>...</td>\n",
       "      <td>...</td>\n",
       "      <td>...</td>\n",
       "      <td>...</td>\n",
       "      <td>...</td>\n",
       "      <td>...</td>\n",
       "      <td>...</td>\n",
       "      <td>...</td>\n",
       "      <td>...</td>\n",
       "    </tr>\n",
       "    <tr>\n",
       "      <th>2025-03-31</th>\n",
       "      <td>0.288903</td>\n",
       "      <td>1.37</td>\n",
       "      <td>1.022935</td>\n",
       "      <td>41089.793333</td>\n",
       "      <td>3.50</td>\n",
       "      <td>3.51</td>\n",
       "      <td>155.77</td>\n",
       "      <td>0.35</td>\n",
       "      <td>0.13</td>\n",
       "      <td>1.49</td>\n",
       "      <td>...</td>\n",
       "      <td>0.06</td>\n",
       "      <td>1.24</td>\n",
       "      <td>0.734290</td>\n",
       "      <td>228802.953333</td>\n",
       "      <td>3.40</td>\n",
       "      <td>3.44</td>\n",
       "      <td>56.40</td>\n",
       "      <td>0.97</td>\n",
       "      <td>0.64</td>\n",
       "      <td>1.49</td>\n",
       "    </tr>\n",
       "    <tr>\n",
       "      <th>2025-04-01</th>\n",
       "      <td>0.357301</td>\n",
       "      <td>1.46</td>\n",
       "      <td>0.960278</td>\n",
       "      <td>31208.036667</td>\n",
       "      <td>4.74</td>\n",
       "      <td>4.43</td>\n",
       "      <td>157.62</td>\n",
       "      <td>-1.18</td>\n",
       "      <td>-1.71</td>\n",
       "      <td>-1.63</td>\n",
       "      <td>...</td>\n",
       "      <td>0.13</td>\n",
       "      <td>1.92</td>\n",
       "      <td>0.810529</td>\n",
       "      <td>226256.846667</td>\n",
       "      <td>3.24</td>\n",
       "      <td>3.25</td>\n",
       "      <td>56.90</td>\n",
       "      <td>-1.04</td>\n",
       "      <td>-1.33</td>\n",
       "      <td>-1.40</td>\n",
       "    </tr>\n",
       "    <tr>\n",
       "      <th>2025-04-02</th>\n",
       "      <td>0.310987</td>\n",
       "      <td>1.31</td>\n",
       "      <td>0.666031</td>\n",
       "      <td>22275.550000</td>\n",
       "      <td>3.45</td>\n",
       "      <td>3.46</td>\n",
       "      <td>157.98</td>\n",
       "      <td>-1.98</td>\n",
       "      <td>-1.10</td>\n",
       "      <td>-0.65</td>\n",
       "      <td>...</td>\n",
       "      <td>0.17</td>\n",
       "      <td>1.57</td>\n",
       "      <td>0.970509</td>\n",
       "      <td>234781.373333</td>\n",
       "      <td>4.97</td>\n",
       "      <td>4.95</td>\n",
       "      <td>58.82</td>\n",
       "      <td>-1.86</td>\n",
       "      <td>-1.29</td>\n",
       "      <td>-0.63</td>\n",
       "    </tr>\n",
       "    <tr>\n",
       "      <th>2025-04-03</th>\n",
       "      <td>0.320635</td>\n",
       "      <td>1.06</td>\n",
       "      <td>0.525062</td>\n",
       "      <td>39575.786667</td>\n",
       "      <td>2.36</td>\n",
       "      <td>2.36</td>\n",
       "      <td>153.12</td>\n",
       "      <td>-0.76</td>\n",
       "      <td>-1.20</td>\n",
       "      <td>-0.58</td>\n",
       "      <td>...</td>\n",
       "      <td>1.90</td>\n",
       "      <td>1.46</td>\n",
       "      <td>0.636954</td>\n",
       "      <td>302665.480000</td>\n",
       "      <td>3.06</td>\n",
       "      <td>3.08</td>\n",
       "      <td>51.02</td>\n",
       "      <td>-0.68</td>\n",
       "      <td>-1.87</td>\n",
       "      <td>-0.52</td>\n",
       "    </tr>\n",
       "    <tr>\n",
       "      <th>2025-04-04</th>\n",
       "      <td>0.765473</td>\n",
       "      <td>3.37</td>\n",
       "      <td>0.817962</td>\n",
       "      <td>46562.086667</td>\n",
       "      <td>4.72</td>\n",
       "      <td>4.73</td>\n",
       "      <td>149.79</td>\n",
       "      <td>-0.06</td>\n",
       "      <td>-0.31</td>\n",
       "      <td>-0.86</td>\n",
       "      <td>...</td>\n",
       "      <td>2.17</td>\n",
       "      <td>2.45</td>\n",
       "      <td>1.186273</td>\n",
       "      <td>524186.173333</td>\n",
       "      <td>4.63</td>\n",
       "      <td>4.62</td>\n",
       "      <td>42.14</td>\n",
       "      <td>-0.37</td>\n",
       "      <td>-0.73</td>\n",
       "      <td>-2.17</td>\n",
       "    </tr>\n",
       "  </tbody>\n",
       "</table>\n",
       "<p>258 rows × 27 columns</p>\n",
       "</div>"
      ],
      "text/plain": [
       "            Target_std  Target_spread  prior_std     prior_Vol  prior_spread  \\\n",
       "Date_Only                                                                      \n",
       "2024-03-20    0.239614           1.02   0.316430  23082.316667          1.72   \n",
       "2024-03-21    0.262196           0.88   0.829420  32286.996667          2.80   \n",
       "2024-03-22    0.216227           0.75   0.370929  31170.190000          2.30   \n",
       "2024-03-25    0.277144           0.91   0.334276  21066.500000          1.94   \n",
       "2024-03-26    0.387204           1.11   0.422641  27582.020000          2.01   \n",
       "...                ...            ...        ...           ...           ...   \n",
       "2025-03-31    0.288903           1.37   1.022935  41089.793333          3.50   \n",
       "2025-04-01    0.357301           1.46   0.960278  31208.036667          4.74   \n",
       "2025-04-02    0.310987           1.31   0.666031  22275.550000          3.45   \n",
       "2025-04-03    0.320635           1.06   0.525062  39575.786667          2.36   \n",
       "2025-04-04    0.765473           3.37   0.817962  46562.086667          4.72   \n",
       "\n",
       "            prior_range  cut_open  cut_1hr  cut_2hr  cut_3hr  ...  \\\n",
       "Date_Only                                                     ...   \n",
       "2024-03-20         1.73    148.89     0.96     0.47     0.29  ...   \n",
       "2024-03-21         2.83    148.48     0.21    -0.44    -0.27  ...   \n",
       "2024-03-22         2.08    151.92     0.33     0.52    -0.35  ...   \n",
       "2024-03-25         1.84    150.56     0.12     0.06     0.44  ...   \n",
       "2024-03-26         1.99    152.64    -0.08     0.16     0.19  ...   \n",
       "...                 ...       ...      ...      ...      ...  ...   \n",
       "2025-03-31         3.51    155.77     0.35     0.13     1.49  ...   \n",
       "2025-04-01         4.43    157.62    -1.18    -1.71    -1.63  ...   \n",
       "2025-04-02         3.46    157.98    -1.98    -1.10    -0.65  ...   \n",
       "2025-04-03         2.36    153.12    -0.76    -1.20    -0.58  ...   \n",
       "2025-04-04         4.73    149.79    -0.06    -0.31    -0.86  ...   \n",
       "\n",
       "            vix_cut_3hr  tqqq_spread  tqqq_prior_std       tqqq_Vol  \\\n",
       "Date_Only                                                             \n",
       "2024-03-20        -0.78         1.94        0.277909  127510.016667   \n",
       "2024-03-21        -0.07         0.54        0.277116  150414.430000   \n",
       "2024-03-22         0.10         0.60        0.337054   99536.533333   \n",
       "2024-03-25         0.04         0.62        0.290495   98000.976667   \n",
       "2024-03-26         0.09         1.23        0.173323   95270.283333   \n",
       "...                 ...          ...             ...            ...   \n",
       "2025-03-31         0.06         1.24        0.734290  228802.953333   \n",
       "2025-04-01         0.13         1.92        0.810529  226256.846667   \n",
       "2025-04-02         0.17         1.57        0.970509  234781.373333   \n",
       "2025-04-03         1.90         1.46        0.636954  302665.480000   \n",
       "2025-04-04         2.17         2.45        1.186273  524186.173333   \n",
       "\n",
       "            tqqq_pr_spread  tqqq_prior_range  tqqq_cut_open  tqqq_cut_1hr  \\\n",
       "Date_Only                                                                   \n",
       "2024-03-20            1.40              1.40          60.57          1.04   \n",
       "2024-03-21            1.18              1.18          63.04         -0.47   \n",
       "2024-03-22            1.20              1.21          63.02          0.12   \n",
       "2024-03-25            1.44              1.44          62.52          0.16   \n",
       "2024-03-26            0.74              0.75          62.52          0.11   \n",
       "...                    ...               ...            ...           ...   \n",
       "2025-03-31            3.40              3.44          56.40          0.97   \n",
       "2025-04-01            3.24              3.25          56.90         -1.04   \n",
       "2025-04-02            4.97              4.95          58.82         -1.86   \n",
       "2025-04-03            3.06              3.08          51.02         -0.68   \n",
       "2025-04-04            4.63              4.62          42.14         -0.37   \n",
       "\n",
       "            tqqq_cut_2hr  tqqq_cut_3hr  \n",
       "Date_Only                               \n",
       "2024-03-20          0.87          0.81  \n",
       "2024-03-21         -0.88         -0.41  \n",
       "2024-03-22          0.56          0.57  \n",
       "2024-03-25          0.36          0.31  \n",
       "2024-03-26          0.00         -0.09  \n",
       "...                  ...           ...  \n",
       "2025-03-31          0.64          1.49  \n",
       "2025-04-01         -1.33         -1.40  \n",
       "2025-04-02         -1.29         -0.63  \n",
       "2025-04-03         -1.87         -0.52  \n",
       "2025-04-04         -0.73         -2.17  \n",
       "\n",
       "[258 rows x 27 columns]"
      ]
     },
     "execution_count": 21,
     "metadata": {},
     "output_type": "execute_result"
    }
   ],
   "source": [
    "df_final_jointed_all"
   ]
  },
  {
   "cell_type": "code",
   "execution_count": 22,
   "id": "923e8507-c6cb-4d2b-8d89-630c1acdcc54",
   "metadata": {},
   "outputs": [
    {
     "data": {
      "text/plain": [
       "Index(['Target_std', 'Target_spread', 'prior_std', 'prior_Vol', 'prior_spread',\n",
       "       'prior_range', 'cut_open', 'cut_1hr', 'cut_2hr', 'cut_3hr',\n",
       "       'vix_spread', 'vix_prior_std', 'vix_pr_spread', 'vix_prior_range',\n",
       "       'vix_cut_open', 'vix_cut_1hr', 'vix_cut_2hr', 'vix_cut_3hr',\n",
       "       'tqqq_spread', 'tqqq_prior_std', 'tqqq_Vol', 'tqqq_pr_spread',\n",
       "       'tqqq_prior_range', 'tqqq_cut_open', 'tqqq_cut_1hr', 'tqqq_cut_2hr',\n",
       "       'tqqq_cut_3hr'],\n",
       "      dtype='object')"
      ]
     },
     "execution_count": 22,
     "metadata": {},
     "output_type": "execute_result"
    }
   ],
   "source": [
    "df_final_jointed_all.columns"
   ]
  },
  {
   "cell_type": "code",
   "execution_count": 23,
   "id": "d0fd80b2-cad9-4c48-b844-7baad3a5a150",
   "metadata": {},
   "outputs": [],
   "source": [
    "df_final_jointed_all.drop(['vix_spread','tqqq_spread'], axis=1, inplace =True)"
   ]
  },
  {
   "cell_type": "code",
   "execution_count": 24,
   "id": "b8ca909b-7b56-41e6-940b-339401e9cad9",
   "metadata": {},
   "outputs": [
    {
     "data": {
      "text/plain": [
       "Index(['Target_std', 'Target_spread', 'prior_std', 'prior_Vol', 'prior_spread',\n",
       "       'prior_range', 'cut_open', 'cut_1hr', 'cut_2hr', 'cut_3hr',\n",
       "       'vix_prior_std', 'vix_pr_spread', 'vix_prior_range', 'vix_cut_open',\n",
       "       'vix_cut_1hr', 'vix_cut_2hr', 'vix_cut_3hr', 'tqqq_prior_std',\n",
       "       'tqqq_Vol', 'tqqq_pr_spread', 'tqqq_prior_range', 'tqqq_cut_open',\n",
       "       'tqqq_cut_1hr', 'tqqq_cut_2hr', 'tqqq_cut_3hr'],\n",
       "      dtype='object')"
      ]
     },
     "execution_count": 24,
     "metadata": {},
     "output_type": "execute_result"
    }
   ],
   "source": [
    "df_final_jointed_all.columns"
   ]
  },
  {
   "cell_type": "code",
   "execution_count": 25,
   "id": "3e68a55b-bcc7-453e-84f1-729da1ef9067",
   "metadata": {},
   "outputs": [],
   "source": [
    "df_final_jointed_all.to_pickle('GOOG_trainning_master_data.pkl')"
   ]
  },
  {
   "cell_type": "code",
   "execution_count": null,
   "id": "9b375a5f-5b57-4a9c-934a-d043269131df",
   "metadata": {},
   "outputs": [],
   "source": []
  },
  {
   "cell_type": "code",
   "execution_count": null,
   "id": "71a78e49-61ff-4ea7-94ac-ae7cbdb356e5",
   "metadata": {},
   "outputs": [],
   "source": []
  }
 ],
 "metadata": {
  "kernelspec": {
   "display_name": "Python 3 (ipykernel)",
   "language": "python",
   "name": "python3"
  },
  "language_info": {
   "codemirror_mode": {
    "name": "ipython",
    "version": 3
   },
   "file_extension": ".py",
   "mimetype": "text/x-python",
   "name": "python",
   "nbconvert_exporter": "python",
   "pygments_lexer": "ipython3",
   "version": "3.12.7"
  }
 },
 "nbformat": 4,
 "nbformat_minor": 5
}
