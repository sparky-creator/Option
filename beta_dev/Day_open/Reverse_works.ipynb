{
 "cells": [
  {
   "cell_type": "code",
   "execution_count": 1,
   "id": "108c2f6e-d735-410b-aa17-f47fab91c737",
   "metadata": {},
   "outputs": [],
   "source": [
    "import os\n",
    "import math\n",
    "import numpy as np\n",
    "import pandas as pd\n",
    "from datetime import datetime, date, timedelta, time\n",
    "os.environ['TZ'] ='America/New_York'\n",
    "\n",
    "#import yfinance as yf\n",
    "\n",
    "import seaborn as sns\n",
    "import matplotlib.pyplot as plt\n",
    "\n",
    "from sklearn.tree import DecisionTreeRegressor\n",
    "from sklearn.ensemble import RandomForestRegressor\n",
    "from sklearn.metrics import mean_squared_error, mean_absolute_error\n",
    "\n",
    "from ib_async import *\n",
    "util.startLoop()"
   ]
  },
  {
   "cell_type": "code",
   "execution_count": 2,
   "id": "5c578887-e8a6-44b7-aa88-21f1802746a7",
   "metadata": {},
   "outputs": [
    {
     "data": {
      "text/plain": [
       "<IB connected to 127.0.0.1:7496 clientId=0>"
      ]
     },
     "execution_count": 2,
     "metadata": {},
     "output_type": "execute_result"
    }
   ],
   "source": [
    "ib = IB()\n",
    "ib.connect(port=7496, clientId=0)"
   ]
  },
  {
   "cell_type": "code",
   "execution_count": 4,
   "id": "00e85675-392e-4c6b-8a00-bd5faf35f16f",
   "metadata": {},
   "outputs": [],
   "source": [
    "def simple_data_req( contract, end_date , barsize =\"5 mins\", data_clean = True):\n",
    "\n",
    "   \n",
    "    df_acc=pd.DataFrame()\n",
    "    df_hist=pd.DataFrame()\n",
    "\n",
    "    for i in range(1):\n",
    "        print(f'fetching data for {i}')\n",
    "        end_date = end_date - timedelta(i)\n",
    "        bars = ib.reqHistoricalData(contract= contract, endDateTime=end_date, barSizeSetting= barsize, durationStr= \"230 D\", whatToShow=\"TRADES\", useRTH=True)\n",
    "        df = util.df(bars)\n",
    "        \n",
    "        df_acc = pd.concat([df, df_acc], ignore_index=True)\n",
    "        print(f'head date {df_acc.head(1)['date']}')\n",
    "        print(f'tail date {df_acc.tail(1)['date']}')\n",
    "\n",
    "    df_acc['Date_Only'] = df_acc['date'].dt.date\n",
    "    \n",
    "    if data_clean == True:\n",
    "        df_hist = df_acc[(df_acc['date'].dt.time >= time(9, 30)) & (df_acc['date'].dt.time < time(16, 00))]\n",
    "    else:\n",
    "        df_hist = df_acc\n",
    "\n",
    "    #df_hist.drop_duplicates(inplace=True)\n",
    "    \n",
    "    return df_hist"
   ]
  },
  {
   "cell_type": "code",
   "execution_count": 3,
   "id": "35d0ba2f-805b-4a57-bf8b-21b3948b2e7b",
   "metadata": {},
   "outputs": [
    {
     "data": {
      "text/plain": [
       "[Contract(secType='STK', conId=72539702, symbol='TQQQ', exchange='SMART', primaryExchange='NASDAQ', currency='USD', localSymbol='TQQQ', tradingClass='NMS')]"
      ]
     },
     "execution_count": 3,
     "metadata": {},
     "output_type": "execute_result"
    }
   ],
   "source": [
    "contract = Contract(symbol='TQQQ', secType='STK', exchange='SMART', currency='USD')\n",
    "ib.qualifyContracts(contract)"
   ]
  },
  {
   "cell_type": "code",
   "execution_count": 5,
   "id": "bfe5be43-9b61-4d27-9cce-b1a5a32e891e",
   "metadata": {},
   "outputs": [],
   "source": [
    "now =datetime.now()\n",
    "inferencing_date = now.date() - timedelta(1)"
   ]
  },
  {
   "cell_type": "code",
   "execution_count": 6,
   "id": "3dfdb069-d2f0-4e4b-981d-b666069d1a2b",
   "metadata": {},
   "outputs": [
    {
     "name": "stdout",
     "output_type": "stream",
     "text": [
      "fetching data for 0\n",
      "head date 0   2024-05-20 09:30:00-04:00\n",
      "Name: date, dtype: datetime64[ns, US/Eastern]\n",
      "tail date 17831   2025-04-21 15:55:00-04:00\n",
      "Name: date, dtype: datetime64[ns, US/Eastern]\n"
     ]
    }
   ],
   "source": [
    "df_TQQQ = simple_data_req(contract, inferencing_date,)"
   ]
  },
  {
   "cell_type": "code",
   "execution_count": 13,
   "id": "a5679171-053c-4b57-bfcb-e3aed973e2a5",
   "metadata": {},
   "outputs": [],
   "source": [
    "df_TQQQ['diff_close_open'] = df_TQQQ['open'] - df_TQQQ['close'].shift(1)"
   ]
  },
  {
   "cell_type": "code",
   "execution_count": 15,
   "id": "c5ddec0d-65d7-4692-94b1-32fc72c1a2e3",
   "metadata": {},
   "outputs": [
    {
     "data": {
      "text/plain": [
       "date               2024-05-21 09:30:00-04:00\n",
       "open                                   63.44\n",
       "high                                   63.68\n",
       "low                                    63.35\n",
       "close                                  63.66\n",
       "volume                             1598649.0\n",
       "average                               63.482\n",
       "barCount                                4912\n",
       "Date_Only                         2024-05-21\n",
       "diff_close_open                        -0.82\n",
       "Name: 78, dtype: object"
      ]
     },
     "execution_count": 15,
     "metadata": {},
     "output_type": "execute_result"
    }
   ],
   "source": [
    "df_TQQQ.iloc[78]"
   ]
  },
  {
   "cell_type": "code",
   "execution_count": 16,
   "id": "a71baa7b-363c-474c-b3bf-e4eb3f79d2be",
   "metadata": {},
   "outputs": [],
   "source": [
    "def distance(data, acc_volume):\n",
    "    buy = data.close -data.low\n",
    "    sell = data.high - data.close\n",
    "    dist_BS = (buy - sell)*data.volume/acc_volume\n",
    "    #dist_BS = (buy - sell)\n",
    "    return dist_BS"
   ]
  },
  {
   "cell_type": "code",
   "execution_count": 17,
   "id": "7790c433-e6ab-4c52-bf92-14eca9e2c48e",
   "metadata": {},
   "outputs": [],
   "source": [
    "def mid_price(data):\n",
    "    mid = (data.high+data.low)/2\n",
    "    return mid"
   ]
  },
  {
   "cell_type": "code",
   "execution_count": 19,
   "id": "3f1b5e83-e827-4e07-b170-acc9eb7055ea",
   "metadata": {},
   "outputs": [],
   "source": [
    "df = df_TQQQ.copy()"
   ]
  },
  {
   "cell_type": "code",
   "execution_count": null,
   "id": "190f8ead-c67d-47f7-9787-16266d43a054",
   "metadata": {},
   "outputs": [],
   "source": [
    "acc_distance = 0\n",
    "acc_volume = 0\n",
    "mid = []\n",
    "\n",
    "def feature_creation(df, initial_acc, barsize=5 ):\n",
    "    \n",
    "    for n in range(230):\n",
    "        print(f'period: {n}')\n",
    "        flag = ''\n",
    "        Period = (30/barsize + 6*60/barsize)*n\n",
    "        \n",
    "        for i in range(initial_acc):\n",
    "            acc_volume += df.iloc[i+Period].volume\n",
    "        \n",
    "    # need to find acc_volume first        \n",
    "        for i in range(initial_acc):\n",
    "            dist_BS = distance(df.iloc[i+Period], acc_volume)\n",
    "            acc_distance += dist_BS\n",
    "            mid.append(mid_price(df.iloc[i+Period]))\n",
    "        \n",
    "        mid_price_adj = mid[2]- mid[0]\n",
    "        \n",
    "\n",
    "    \n",
    "        if flag =='BUY':\n",
    "    \n",
    "            flag_below='False'\n",
    "            flag_above ='False'\n",
    "            \n",
    "            trade_width = (df_GOOG.iloc[0+Test].high -df_GOOG.iloc[0+Test].low)*2\n",
    "            win_amount = 0\n",
    "            \n",
    "            for i in range(50):\n",
    "                if df_GOOG.iloc[i+Test].low < df_GOOG.iloc[0+Test].high and  i>2:\n",
    "                    print(i)\n",
    "                    print(f'close: {df_GOOG.iloc[i+Test].close}')\n",
    "                    print(f' bought at {df_GOOG.iloc[0+Test].high}')\n",
    "                    flag_below ='True'\n",
    "                elif (df_GOOG.iloc[i+Test].close -df_GOOG.iloc[i+Test].open)/(df_GOOG.iloc[i+Test].high -df_GOOG.iloc[i+Test].low)>0.8 :\n",
    "                    print(f' flag_high bought at {df_GOOG.iloc[i+Test].close}')\n",
    "                    bought_at =df_GOOG.iloc[i+Test].close\n",
    "                    flag_above ='True'\n",
    "                else:\n",
    "                    break\n",
    "                    \n",
    "                                                \n",
    "                if flag_below ==True and  df_GOOG.iloc[i+Test].high > df_GOOG.iloc[0+Test].high:\n",
    "                    print('TRADE!')\n",
    "    \n",
    "                if flag_below == 'True':\n",
    "                    if df_GOOG.iloc[i+Test].high > (df_GOOG.iloc[0+Test].high+trade_width):\n",
    "                        win_amount += trade_width\n",
    "                        print(f'close and won {win_amount}')\n",
    "                        break\n",
    "                    if df_GOOG.iloc[i+Test].low < df_GOOG.iloc[0+Test].low:\n",
    "                        win_amount -= trade_width/2\n",
    "                        print(f'close and won $ {win_amount}')\n",
    "                        break\n",
    "    \n",
    "                if flag_above =='True':\n",
    "                    \n",
    "                    if df_GOOG.iloc[i+Test].high > (df_GOOG.iloc[i+Test].close+trade_width*2):\n",
    "                        win_amount += trade_width\n",
    "                        print(f'close and won {win_amount}')\n",
    "                        break\n",
    "                    else:\n",
    "                        win_amount += df_GOOG.iloc[77+Test].high -bought_at\n",
    "                    \n"
   ]
  },
  {
   "cell_type": "code",
   "execution_count": null,
   "id": "28354355-3399-4c75-a741-85875dd6c5c1",
   "metadata": {},
   "outputs": [],
   "source": [
    "period = 1\n",
    "df_GOOG.iloc[0+78*period:40+78*period].close.plot()"
   ]
  },
  {
   "cell_type": "code",
   "execution_count": null,
   "id": "d479cd57-cac7-48d6-b937-26624daa5b0f",
   "metadata": {},
   "outputs": [],
   "source": [
    "df_GOOG.iloc[78].high"
   ]
  },
  {
   "cell_type": "code",
   "execution_count": null,
   "id": "29492900-5d3a-4eed-9770-9cca0fbb931d",
   "metadata": {},
   "outputs": [],
   "source": [
    "df_GOOG.iloc[78].close"
   ]
  },
  {
   "cell_type": "code",
   "execution_count": null,
   "id": "4556b8b2-ad46-4dca-9d42-70808de18c0c",
   "metadata": {},
   "outputs": [],
   "source": [
    "df_GOOG.iloc[8]"
   ]
  },
  {
   "cell_type": "code",
   "execution_count": null,
   "id": "0d78c831-9271-4bda-9de2-1a7d3592fa7f",
   "metadata": {},
   "outputs": [],
   "source": [
    "df_GOOG.iloc[0:80].close.plot()"
   ]
  },
  {
   "cell_type": "code",
   "execution_count": null,
   "id": "6d3eb869-9ade-4989-a839-206a016925b8",
   "metadata": {},
   "outputs": [],
   "source": [
    "df_GOOG.iloc[0:80].close.plot()"
   ]
  },
  {
   "cell_type": "code",
   "execution_count": null,
   "id": "9c7c5bcf-5a3f-454a-800f-f6f74740531b",
   "metadata": {},
   "outputs": [],
   "source": [
    "for index, row in df_test.iterrows():\n",
    "    dist_BS = distance(row)\n",
    "    if dist_BS >0:\n",
    "        print(index)"
   ]
  },
  {
   "cell_type": "code",
   "execution_count": null,
   "id": "34a3f76c-fb2a-44d8-8b37-56ae6960ed40",
   "metadata": {},
   "outputs": [],
   "source": [
    "df_GOOG.iloc[1]"
   ]
  },
  {
   "cell_type": "code",
   "execution_count": null,
   "id": "20b01635-7f9b-4373-878e-5039bb01e36c",
   "metadata": {},
   "outputs": [],
   "source": [
    "df_high_second = df_high = df_GOOG.iloc[1]['high']\n",
    "df_low_second = df_GOOG.iloc[1]['low']\n",
    "df_mid_second = (df_high_second+df_low_second)/2"
   ]
  },
  {
   "cell_type": "code",
   "execution_count": null,
   "id": "0a8e7c8b-2592-460c-9da5-79c1feb28e7e",
   "metadata": {},
   "outputs": [],
   "source": [
    "df_mid_second"
   ]
  },
  {
   "cell_type": "code",
   "execution_count": null,
   "id": "ef03eaf3-4c4d-4321-a61f-02b449bcb7d5",
   "metadata": {},
   "outputs": [],
   "source": [
    "df_test = df_GOOG[:100]"
   ]
  },
  {
   "cell_type": "code",
   "execution_count": null,
   "id": "52173f74-59b3-4f32-ba57-238218afd662",
   "metadata": {},
   "outputs": [],
   "source": [
    "df_test['close'].plot()"
   ]
  },
  {
   "cell_type": "code",
   "execution_count": null,
   "id": "234b231f-8deb-4189-a1d0-80b2d2af965f",
   "metadata": {},
   "outputs": [],
   "source": [
    "for index, row in df_test.iterrows():\n",
    "    if row.high < df_mid and index > 2:\n",
    "        print(index)\n",
    "\n",
    "    if row.low > df_low:\n",
    "        print(f'low : {index}')\n",
    "    if row.high < df_mid:\n",
    "        print(f'high : {index}')\n",
    "        "
   ]
  },
  {
   "cell_type": "code",
   "execution_count": null,
   "id": "9c1e18e6-36da-4034-8322-004ce98b1db3",
   "metadata": {},
   "outputs": [],
   "source": []
  },
  {
   "cell_type": "code",
   "execution_count": null,
   "id": "eb5ff1fa-20ab-4893-923f-ce23f9612e6d",
   "metadata": {},
   "outputs": [],
   "source": [
    "# clear and close it"
   ]
  }
 ],
 "metadata": {
  "kernelspec": {
   "display_name": "Python 3 (ipykernel)",
   "language": "python",
   "name": "python3"
  },
  "language_info": {
   "codemirror_mode": {
    "name": "ipython",
    "version": 3
   },
   "file_extension": ".py",
   "mimetype": "text/x-python",
   "name": "python",
   "nbconvert_exporter": "python",
   "pygments_lexer": "ipython3",
   "version": "3.13.2"
  }
 },
 "nbformat": 4,
 "nbformat_minor": 5
}
