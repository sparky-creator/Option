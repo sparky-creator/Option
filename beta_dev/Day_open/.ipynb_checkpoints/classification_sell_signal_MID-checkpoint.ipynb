{
 "cells": [
  {
   "cell_type": "code",
   "execution_count": 1,
   "id": "108c2f6e-d735-410b-aa17-f47fab91c737",
   "metadata": {},
   "outputs": [],
   "source": [
    "import os\n",
    "import math\n",
    "import numpy as np\n",
    "import pandas as pd\n",
    "from datetime import datetime, date, timedelta, time\n",
    "os.environ['TZ'] ='America/New_York'\n",
    "\n",
    "#import yfinance as yf\n",
    "\n",
    "import seaborn as sns\n",
    "import matplotlib.pyplot as plt\n",
    "\n",
    "from sklearn.tree import DecisionTreeRegressor\n",
    "from sklearn.ensemble import RandomForestRegressor\n",
    "from sklearn.metrics import mean_squared_error, mean_absolute_error\n",
    "from sklearn.model_selection import train_test_split\n",
    "\n",
    "from ib_async import *\n",
    "util.startLoop()"
   ]
  },
  {
   "cell_type": "code",
   "execution_count": 2,
   "id": "5c578887-e8a6-44b7-aa88-21f1802746a7",
   "metadata": {},
   "outputs": [
    {
     "data": {
      "text/plain": [
       "<IB connected to 127.0.0.1:7496 clientId=5>"
      ]
     },
     "execution_count": 2,
     "metadata": {},
     "output_type": "execute_result"
    },
    {
     "name": "stderr",
     "output_type": "stream",
     "text": [
      "Error 1100, reqId -1: Connectivity between IBKR and Trader Workstation has been lost.\n",
      "Error 1102, reqId -1: Connectivity between IBKR and Trader Workstation has been restored - data maintained. All data farms are connected: hfarm; usfarm.nj; cashfarm; usopt; usfarm; ushmds; secdefil.\n"
     ]
    }
   ],
   "source": [
    "ib = IB()\n",
    "ib.connect(port=7496, clientId=5)"
   ]
  },
  {
   "cell_type": "code",
   "execution_count": 3,
   "id": "00e85675-392e-4c6b-8a00-bd5faf35f16f",
   "metadata": {},
   "outputs": [],
   "source": [
    "def simple_data_req( contract, end_date , barsize =\"5 mins\", data_clean = True):\n",
    "\n",
    "   \n",
    "    df_acc=pd.DataFrame()\n",
    "    df_hist=pd.DataFrame()\n",
    "\n",
    "    for i in range(1):\n",
    "        print(f'fetching data for {i}')\n",
    "        end_date = end_date - timedelta(i)\n",
    "        bars = ib.reqHistoricalData(contract= contract, endDateTime=end_date, barSizeSetting= barsize, durationStr= \"230 D\", whatToShow=\"TRADES\", useRTH=True)\n",
    "        df = util.df(bars)\n",
    "        \n",
    "        df_acc = pd.concat([df, df_acc], ignore_index=True)\n",
    "        print(f'head date {df_acc.head(1)['date']}')\n",
    "        print(f'tail date {df_acc.tail(1)['date']}')\n",
    "\n",
    "    df_acc['Date_Only'] = df_acc['date'].dt.date\n",
    "    \n",
    "    if data_clean == True:\n",
    "        df_hist = df_acc[(df_acc['date'].dt.time >= time(9, 30)) & (df_acc['date'].dt.time < time(16, 00))]\n",
    "    else:\n",
    "        df_hist = df_acc\n",
    "\n",
    "    #df_hist.drop_duplicates(inplace=True)\n",
    "    \n",
    "    return df_hist"
   ]
  },
  {
   "cell_type": "code",
   "execution_count": 4,
   "id": "35d0ba2f-805b-4a57-bf8b-21b3948b2e7b",
   "metadata": {},
   "outputs": [
    {
     "data": {
      "text/plain": [
       "[Contract(secType='STK', conId=72539702, symbol='TQQQ', exchange='SMART', primaryExchange='NASDAQ', currency='USD', localSymbol='TQQQ', tradingClass='NMS')]"
      ]
     },
     "execution_count": 4,
     "metadata": {},
     "output_type": "execute_result"
    }
   ],
   "source": [
    "contract = Contract(symbol='TQQQ', secType='STK', exchange='SMART', currency='USD')\n",
    "ib.qualifyContracts(contract)"
   ]
  },
  {
   "cell_type": "code",
   "execution_count": 40,
   "id": "bfe5be43-9b61-4d27-9cce-b1a5a32e891e",
   "metadata": {},
   "outputs": [],
   "source": [
    "now =datetime.now()\n",
    "inferencing_date = now.date() -timedelta(2)"
   ]
  },
  {
   "cell_type": "code",
   "execution_count": 41,
   "id": "3dfdb069-d2f0-4e4b-981d-b666069d1a2b",
   "metadata": {},
   "outputs": [
    {
     "name": "stdout",
     "output_type": "stream",
     "text": [
      "fetching data for 0\n",
      "head date 0   2024-05-21 09:30:00-04:00\n",
      "Name: date, dtype: datetime64[ns, US/Eastern]\n",
      "tail date 17831   2025-04-22 15:55:00-04:00\n",
      "Name: date, dtype: datetime64[ns, US/Eastern]\n"
     ]
    }
   ],
   "source": [
    "df_stock = simple_data_req(contract, inferencing_date,)"
   ]
  },
  {
   "cell_type": "code",
   "execution_count": 42,
   "id": "e07a2ddf-f765-439d-90af-2d7a30946c8f",
   "metadata": {},
   "outputs": [],
   "source": [
    "df_temp = df_stock.copy()"
   ]
  },
  {
   "cell_type": "code",
   "execution_count": 8,
   "id": "b7ded1bb-a6f4-4e5b-a28f-17b604dba381",
   "metadata": {},
   "outputs": [],
   "source": [
    "# capturing yesterday price close and today's open difference"
   ]
  },
  {
   "cell_type": "code",
   "execution_count": 9,
   "id": "b24bf62e-f37d-4112-b50f-3d019885964e",
   "metadata": {},
   "outputs": [],
   "source": [
    "#df_stock['diff_close_open'] = df_stock['open'] - df_stock['close'].shift(1)\n",
    "#df_stock['diff_close_open'] = df_stock['diff_close_open'].shift(2)"
   ]
  },
  {
   "cell_type": "code",
   "execution_count": 10,
   "id": "a71baa7b-363c-474c-b3bf-e4eb3f79d2be",
   "metadata": {},
   "outputs": [],
   "source": [
    "def distance(data, acc_volume):\n",
    "    buy = data.close -data.low\n",
    "    sell = data.high - data.close\n",
    "    #dist_BS = (buy - sell)*data.volume/acc_volume\n",
    "    dist_BS = (buy - sell)\n",
    "    return dist_BS"
   ]
  },
  {
   "cell_type": "code",
   "execution_count": 11,
   "id": "7790c433-e6ab-4c52-bf92-14eca9e2c48e",
   "metadata": {},
   "outputs": [],
   "source": [
    "def mid_price(data):\n",
    "    mid = (data.high+data.low)/2\n",
    "    return mid"
   ]
  },
  {
   "cell_type": "code",
   "execution_count": 43,
   "id": "389bd365-da7d-4419-b6de-52ccade2cfb2",
   "metadata": {},
   "outputs": [],
   "source": [
    "df_ST = df_stock.copy()"
   ]
  },
  {
   "cell_type": "code",
   "execution_count": 13,
   "id": "190f8ead-c67d-47f7-9787-16266d43a054",
   "metadata": {},
   "outputs": [],
   "source": [
    "\n",
    "\n",
    "def feature_creation(df, initial_acc, barsize=5 , df_train=pd.DataFrame(), stock_flag=True ):\n",
    "\n",
    "    acc_distance = 0\n",
    "    acc_volume = 0\n",
    "    mid = []\n",
    "\n",
    "    df['diff_pr_close_open'] = (df['open'] - df['close'].shift(1))/df['open']*100\n",
    "    \n",
    "    df['diff_pr_close_open'] = df['diff_pr_close_open'].shift(initial_acc)\n",
    "\n",
    "    \n",
    "    for n in range(229):   #  takeing out the last period out\n",
    "        flag = ''\n",
    "\n",
    "        Period = int(30/barsize + 6*60/barsize)*n\n",
    "        acc_volume =  df.iloc[[0 + Period,1 + Period, 2+ Period ]].volume.sum()\n",
    "        mid = []\n",
    "    # need to find acc_volume first        \n",
    "        for i in range(initial_acc):\n",
    "            dist_BS = distance(df.iloc[i+Period], acc_volume)\n",
    "            acc_distance += dist_BS\n",
    "            mid.append(mid_price(df.iloc[i+Period]))\n",
    "        \n",
    "        mid_price_adj = (mid[initial_acc-1]- mid[0])/mid[0]*100\n",
    "\n",
    "        if stock_flag ==True:\n",
    "            df['Target_30min'] = (df['close'] - df['close'].shift(-6))/df['close'] *100\n",
    "            df['Target_15min'] = (df['close'] - df['close'].shift(-3))/df['close'] *100\n",
    "            df['Target_1hr'] = (df['close'] - df['close'].shift(-12))/df['close'] *100\n",
    "            df['Target_10min'] = (df['close'] - df['close'].shift(-2))/df['close'] *100\n",
    "\n",
    "        \n",
    "        df.loc[initial_acc + Period, 'acc_distance'] = acc_distance\n",
    "        df.loc[initial_acc + Period, 'mid_price'] = mid_price_adj\n",
    "\n",
    "        #if Period >= int(30/barsize + 6*60/barsize):\n",
    "            \n",
    "            #df.loc[initial_acc + Period, 'diff_open_pr_close'] = (df_stock.iloc[Period]['open'] - df_stock.iloc[Period -1]['close'])/df_stock.iloc[Period -1]['close']*100\n",
    "        #    df.loc[initial_acc + Period, 'diff_open_pr_close'] = (df.iloc[Period]['open'] - df.iloc[Period -1]['close'])/df.iloc[Period -1]['close']*100\n",
    "\n",
    "        df['diff_open_1hr'] = df['open'].diff(1)/df['open']*100\n",
    "        df['diff_open_2hr'] = df['open'].diff(2)/df['open']*100\n",
    "        #df_dum =pd.DataFrame()\n",
    "        #df_dum['open'] = df['open']\n",
    "\n",
    "        \n",
    "        df['diff_high_1hr'] = df['high'].diff(1)/df['high']*100\n",
    "        df['diff_high_2hr'] = df['high'].diff(2)/df['high']*100\n",
    "\n",
    "        df['diff_low_1hr'] = df['low'].diff(1)/df['low']*100\n",
    "        df['diff_low_2hr'] = df['low'].diff(2)/df['low']*100\n",
    "        \n",
    "        df['diff_close_1hr'] = df['close'].diff(1)/df['close']*100\n",
    "        df['diff_close_2hr'] = df['close'].diff(2)/df['close']*100\n",
    "        \n",
    "\n",
    "        df_select = pd.DataFrame(df.iloc[initial_acc+Period])\n",
    "\n",
    "        df_train = pd.concat([df_train,df_select.T], ignore_index=True)\n",
    "\n",
    "                    \n",
    "    df_train['high'] = (df_train['high']-df_train['open'])/df_train['open']*100\n",
    "    df_train['low'] = (df_train['low']-df_train['open'])/df_train['open']*100\n",
    "    df_train['close'] = (df_train['close']-df_train['open'])/df_train['open']*100\n",
    "    df_train['open'] = (df_train['open']-df_train['open'])/df_train['open']*100\n",
    "\n",
    "\n",
    "    return df, df_train \n"
   ]
  },
  {
   "cell_type": "code",
   "execution_count": 44,
   "id": "387b056e-8852-460b-ad80-ca5852c4663c",
   "metadata": {},
   "outputs": [],
   "source": [
    "df_test, df_train = feature_creation(df_ST, 12)"
   ]
  },
  {
   "cell_type": "code",
   "execution_count": 60,
   "id": "48ac45f0-ff25-4071-905f-e05dff29c524",
   "metadata": {},
   "outputs": [
    {
     "data": {
      "text/html": [
       "<div>\n",
       "<style scoped>\n",
       "    .dataframe tbody tr th:only-of-type {\n",
       "        vertical-align: middle;\n",
       "    }\n",
       "\n",
       "    .dataframe tbody tr th {\n",
       "        vertical-align: top;\n",
       "    }\n",
       "\n",
       "    .dataframe thead th {\n",
       "        text-align: right;\n",
       "    }\n",
       "</style>\n",
       "<table border=\"1\" class=\"dataframe\">\n",
       "  <thead>\n",
       "    <tr style=\"text-align: right;\">\n",
       "      <th></th>\n",
       "      <th>date</th>\n",
       "      <th>open</th>\n",
       "      <th>high</th>\n",
       "      <th>low</th>\n",
       "      <th>close</th>\n",
       "      <th>volume</th>\n",
       "      <th>average</th>\n",
       "      <th>barCount</th>\n",
       "      <th>Date_Only</th>\n",
       "      <th>diff_pr_close_open</th>\n",
       "      <th>...</th>\n",
       "      <th>acc_distance</th>\n",
       "      <th>mid_price</th>\n",
       "      <th>diff_open_1hr</th>\n",
       "      <th>diff_open_2hr</th>\n",
       "      <th>diff_high_1hr</th>\n",
       "      <th>diff_high_2hr</th>\n",
       "      <th>diff_low_1hr</th>\n",
       "      <th>diff_low_2hr</th>\n",
       "      <th>diff_close_1hr</th>\n",
       "      <th>diff_close_2hr</th>\n",
       "    </tr>\n",
       "  </thead>\n",
       "  <tbody>\n",
       "    <tr>\n",
       "      <th>10</th>\n",
       "      <td>2024-05-21 10:20:00-04:00</td>\n",
       "      <td>63.72</td>\n",
       "      <td>63.83</td>\n",
       "      <td>63.71</td>\n",
       "      <td>63.82</td>\n",
       "      <td>298953.0</td>\n",
       "      <td>63.780</td>\n",
       "      <td>664</td>\n",
       "      <td>2024-05-21</td>\n",
       "      <td>NaN</td>\n",
       "      <td>...</td>\n",
       "      <td>NaN</td>\n",
       "      <td>NaN</td>\n",
       "      <td>-0.015694</td>\n",
       "      <td>-0.031387</td>\n",
       "      <td>0.000000</td>\n",
       "      <td>0.062666</td>\n",
       "      <td>0.031392</td>\n",
       "      <td>0.172657</td>\n",
       "      <td>0.172360</td>\n",
       "      <td>0.156691</td>\n",
       "    </tr>\n",
       "    <tr>\n",
       "      <th>11</th>\n",
       "      <td>2024-05-21 10:25:00-04:00</td>\n",
       "      <td>63.82</td>\n",
       "      <td>63.90</td>\n",
       "      <td>63.81</td>\n",
       "      <td>63.89</td>\n",
       "      <td>448570.0</td>\n",
       "      <td>63.854</td>\n",
       "      <td>1009</td>\n",
       "      <td>2024-05-21</td>\n",
       "      <td>NaN</td>\n",
       "      <td>...</td>\n",
       "      <td>NaN</td>\n",
       "      <td>NaN</td>\n",
       "      <td>0.156691</td>\n",
       "      <td>0.141022</td>\n",
       "      <td>0.109546</td>\n",
       "      <td>0.109546</td>\n",
       "      <td>0.156715</td>\n",
       "      <td>0.188058</td>\n",
       "      <td>0.109563</td>\n",
       "      <td>0.281734</td>\n",
       "    </tr>\n",
       "    <tr>\n",
       "      <th>12</th>\n",
       "      <td>2024-05-21 10:30:00-04:00</td>\n",
       "      <td>63.89</td>\n",
       "      <td>64.03</td>\n",
       "      <td>63.85</td>\n",
       "      <td>64.01</td>\n",
       "      <td>1071254.0</td>\n",
       "      <td>63.977</td>\n",
       "      <td>1843</td>\n",
       "      <td>2024-05-21</td>\n",
       "      <td>NaN</td>\n",
       "      <td>...</td>\n",
       "      <td>0.89</td>\n",
       "      <td>0.535307</td>\n",
       "      <td>0.109563</td>\n",
       "      <td>0.266082</td>\n",
       "      <td>0.203030</td>\n",
       "      <td>0.312354</td>\n",
       "      <td>0.062647</td>\n",
       "      <td>0.219264</td>\n",
       "      <td>0.187471</td>\n",
       "      <td>0.296829</td>\n",
       "    </tr>\n",
       "  </tbody>\n",
       "</table>\n",
       "<p>3 rows × 24 columns</p>\n",
       "</div>"
      ],
      "text/plain": [
       "                        date   open   high    low  close     volume  average  \\\n",
       "10 2024-05-21 10:20:00-04:00  63.72  63.83  63.71  63.82   298953.0   63.780   \n",
       "11 2024-05-21 10:25:00-04:00  63.82  63.90  63.81  63.89   448570.0   63.854   \n",
       "12 2024-05-21 10:30:00-04:00  63.89  64.03  63.85  64.01  1071254.0   63.977   \n",
       "\n",
       "    barCount   Date_Only  diff_pr_close_open  ...  acc_distance  mid_price  \\\n",
       "10       664  2024-05-21                 NaN  ...           NaN        NaN   \n",
       "11      1009  2024-05-21                 NaN  ...           NaN        NaN   \n",
       "12      1843  2024-05-21                 NaN  ...          0.89   0.535307   \n",
       "\n",
       "    diff_open_1hr  diff_open_2hr  diff_high_1hr  diff_high_2hr  diff_low_1hr  \\\n",
       "10      -0.015694      -0.031387       0.000000       0.062666      0.031392   \n",
       "11       0.156691       0.141022       0.109546       0.109546      0.156715   \n",
       "12       0.109563       0.266082       0.203030       0.312354      0.062647   \n",
       "\n",
       "    diff_low_2hr  diff_close_1hr  diff_close_2hr  \n",
       "10      0.172657        0.172360        0.156691  \n",
       "11      0.188058        0.109563        0.281734  \n",
       "12      0.219264        0.187471        0.296829  \n",
       "\n",
       "[3 rows x 24 columns]"
      ]
     },
     "execution_count": 60,
     "metadata": {},
     "output_type": "execute_result"
    }
   ],
   "source": [
    "df_test[10:13]"
   ]
  },
  {
   "cell_type": "code",
   "execution_count": 45,
   "id": "ea1ec845-80d0-47f1-aa80-b2201aefd698",
   "metadata": {},
   "outputs": [
    {
     "data": {
      "text/plain": [
       "Index(['date', 'open', 'high', 'low', 'close', 'volume', 'average', 'barCount',\n",
       "       'Date_Only', 'diff_pr_close_open', 'Target_30min', 'Target_15min',\n",
       "       'Target_1hr', 'Target_10min', 'acc_distance', 'mid_price',\n",
       "       'diff_open_1hr', 'diff_open_2hr', 'diff_high_1hr', 'diff_high_2hr',\n",
       "       'diff_low_1hr', 'diff_low_2hr', 'diff_close_1hr', 'diff_close_2hr'],\n",
       "      dtype='object')"
      ]
     },
     "execution_count": 45,
     "metadata": {},
     "output_type": "execute_result"
    }
   ],
   "source": [
    "df_train.columns"
   ]
  },
  {
   "cell_type": "code",
   "execution_count": 46,
   "id": "5cc57e57-eee2-40c6-bdb0-f141a30b0977",
   "metadata": {},
   "outputs": [],
   "source": [
    "df_train['Target_15min_cat'] = np.where(df_train['Target_15min'] > 0, 1, 0)\n",
    "df_train['Target_30min_cat'] = np.where(df_train['Target_30min']  > 0, 1, 0)\n",
    "df_train['Target_1hr_cat'] = np.where(df_train['Target_1hr'] > 0, 1, 0)\n",
    "df_train['Target_10min_cat'] = np.where(df_train['Target_10min']  > 0, 1, 0)"
   ]
  },
  {
   "cell_type": "code",
   "execution_count": 47,
   "id": "ebca827e-58b6-4e23-b44c-b2fd7d1e53b7",
   "metadata": {},
   "outputs": [],
   "source": [
    "#df_train_clean = pd.concat([df_train, df_train_TQ_clean], axis=1)\n",
    "\n",
    "df_model_train = df_train.drop(columns=['date', 'Date_Only'], axis=1).dropna()"
   ]
  },
  {
   "cell_type": "code",
   "execution_count": 48,
   "id": "7793967a-19f7-4405-9d67-311e60d6a16d",
   "metadata": {},
   "outputs": [],
   "source": [
    "df_model_train = df_model_train.astype(float)\n",
    "#df_model_train.reset_index(inplace=True)\n",
    "#df_model_train['Target_10min_cat'] = df_model_train['Target_10min_cat'].astype(int)"
   ]
  },
  {
   "cell_type": "code",
   "execution_count": 49,
   "id": "16b8c5bf-0781-4d88-8676-5a5962df109c",
   "metadata": {},
   "outputs": [],
   "source": [
    "X = df_model_train.drop(['open','Target_30min','Target_1hr', 'Target_30min_cat','Target_1hr_cat','Target_15min', 'Target_15min_cat','Target_10min', 'Target_10min_cat'], axis=1)  \n",
    "#y = df_option['Target_std']\n",
    "y = df_model_train['Target_30min_cat']"
   ]
  },
  {
   "cell_type": "code",
   "execution_count": 50,
   "id": "05a02c1d-d8bf-4d67-b359-00bc7096d403",
   "metadata": {},
   "outputs": [],
   "source": [
    "\n",
    "X_train, X_test, y_train, y_test = train_test_split(X, y, test_size=0.2, random_state=42)"
   ]
  },
  {
   "cell_type": "code",
   "execution_count": 51,
   "id": "678000bc-fe11-4c76-9878-b48c15401c7f",
   "metadata": {},
   "outputs": [
    {
     "data": {
      "text/plain": [
       "(182, 17)"
      ]
     },
     "execution_count": 51,
     "metadata": {},
     "output_type": "execute_result"
    }
   ],
   "source": [
    "X_train.shape"
   ]
  },
  {
   "cell_type": "code",
   "execution_count": 52,
   "id": "cf73bcd3-c281-47c1-9b4f-5fc61788ffc1",
   "metadata": {},
   "outputs": [
    {
     "data": {
      "text/html": [
       "<div>\n",
       "<style scoped>\n",
       "    .dataframe tbody tr th:only-of-type {\n",
       "        vertical-align: middle;\n",
       "    }\n",
       "\n",
       "    .dataframe tbody tr th {\n",
       "        vertical-align: top;\n",
       "    }\n",
       "\n",
       "    .dataframe thead th {\n",
       "        text-align: right;\n",
       "    }\n",
       "</style>\n",
       "<table border=\"1\" class=\"dataframe\">\n",
       "  <thead>\n",
       "    <tr style=\"text-align: right;\">\n",
       "      <th></th>\n",
       "      <th>high</th>\n",
       "      <th>low</th>\n",
       "      <th>close</th>\n",
       "      <th>volume</th>\n",
       "      <th>average</th>\n",
       "      <th>barCount</th>\n",
       "      <th>diff_pr_close_open</th>\n",
       "      <th>acc_distance</th>\n",
       "      <th>mid_price</th>\n",
       "      <th>diff_open_1hr</th>\n",
       "      <th>diff_open_2hr</th>\n",
       "      <th>diff_high_1hr</th>\n",
       "      <th>diff_high_2hr</th>\n",
       "      <th>diff_low_1hr</th>\n",
       "      <th>diff_low_2hr</th>\n",
       "      <th>diff_close_1hr</th>\n",
       "      <th>diff_close_2hr</th>\n",
       "    </tr>\n",
       "  </thead>\n",
       "  <tbody>\n",
       "    <tr>\n",
       "      <th>151</th>\n",
       "      <td>0.481058</td>\n",
       "      <td>-0.012026</td>\n",
       "      <td>0.420926</td>\n",
       "      <td>372623.0</td>\n",
       "      <td>83.343</td>\n",
       "      <td>1432.0</td>\n",
       "      <td>0.000000</td>\n",
       "      <td>24.34</td>\n",
       "      <td>0.180854</td>\n",
       "      <td>0.120265</td>\n",
       "      <td>0.505111</td>\n",
       "      <td>0.371035</td>\n",
       "      <td>0.550569</td>\n",
       "      <td>0.240558</td>\n",
       "      <td>0.517200</td>\n",
       "      <td>0.407186</td>\n",
       "      <td>0.526946</td>\n",
       "    </tr>\n",
       "    <tr>\n",
       "      <th>56</th>\n",
       "      <td>0.252781</td>\n",
       "      <td>0.000000</td>\n",
       "      <td>0.252781</td>\n",
       "      <td>250598.0</td>\n",
       "      <td>59.423</td>\n",
       "      <td>686.0</td>\n",
       "      <td>0.000000</td>\n",
       "      <td>7.51</td>\n",
       "      <td>-0.694328</td>\n",
       "      <td>-0.353893</td>\n",
       "      <td>-0.168520</td>\n",
       "      <td>-0.100857</td>\n",
       "      <td>-0.319381</td>\n",
       "      <td>0.303337</td>\n",
       "      <td>-0.084260</td>\n",
       "      <td>0.252143</td>\n",
       "      <td>-0.117667</td>\n",
       "    </tr>\n",
       "    <tr>\n",
       "      <th>166</th>\n",
       "      <td>0.056497</td>\n",
       "      <td>-0.112994</td>\n",
       "      <td>-0.090395</td>\n",
       "      <td>293659.0</td>\n",
       "      <td>88.479</td>\n",
       "      <td>824.0</td>\n",
       "      <td>0.011274</td>\n",
       "      <td>29.47</td>\n",
       "      <td>-0.259140</td>\n",
       "      <td>-0.124294</td>\n",
       "      <td>-0.022599</td>\n",
       "      <td>-0.067758</td>\n",
       "      <td>-0.101637</td>\n",
       "      <td>-0.045249</td>\n",
       "      <td>-0.124434</td>\n",
       "      <td>-0.090477</td>\n",
       "      <td>-0.203574</td>\n",
       "    </tr>\n",
       "    <tr>\n",
       "      <th>70</th>\n",
       "      <td>0.253127</td>\n",
       "      <td>-0.059559</td>\n",
       "      <td>0.044669</td>\n",
       "      <td>261058.0</td>\n",
       "      <td>67.218</td>\n",
       "      <td>820.0</td>\n",
       "      <td>0.000000</td>\n",
       "      <td>10.27</td>\n",
       "      <td>0.947084</td>\n",
       "      <td>0.193568</td>\n",
       "      <td>0.044669</td>\n",
       "      <td>0.089113</td>\n",
       "      <td>0.148522</td>\n",
       "      <td>0.134088</td>\n",
       "      <td>0.223480</td>\n",
       "      <td>0.059533</td>\n",
       "      <td>0.208364</td>\n",
       "    </tr>\n",
       "    <tr>\n",
       "      <th>168</th>\n",
       "      <td>0.195088</td>\n",
       "      <td>-0.057379</td>\n",
       "      <td>0.137709</td>\n",
       "      <td>397228.0</td>\n",
       "      <td>87.215</td>\n",
       "      <td>1071.0</td>\n",
       "      <td>-0.022815</td>\n",
       "      <td>29.34</td>\n",
       "      <td>-0.530156</td>\n",
       "      <td>-0.321322</td>\n",
       "      <td>-0.516410</td>\n",
       "      <td>-0.125988</td>\n",
       "      <td>-0.355057</td>\n",
       "      <td>0.022965</td>\n",
       "      <td>-0.183718</td>\n",
       "      <td>0.080220</td>\n",
       "      <td>-0.171900</td>\n",
       "    </tr>\n",
       "    <tr>\n",
       "      <th>...</th>\n",
       "      <td>...</td>\n",
       "      <td>...</td>\n",
       "      <td>...</td>\n",
       "      <td>...</td>\n",
       "      <td>...</td>\n",
       "      <td>...</td>\n",
       "      <td>...</td>\n",
       "      <td>...</td>\n",
       "      <td>...</td>\n",
       "      <td>...</td>\n",
       "      <td>...</td>\n",
       "      <td>...</td>\n",
       "      <td>...</td>\n",
       "      <td>...</td>\n",
       "      <td>...</td>\n",
       "      <td>...</td>\n",
       "      <td>...</td>\n",
       "    </tr>\n",
       "    <tr>\n",
       "      <th>107</th>\n",
       "      <td>0.000000</td>\n",
       "      <td>-0.391608</td>\n",
       "      <td>-0.265734</td>\n",
       "      <td>468102.0</td>\n",
       "      <td>71.369</td>\n",
       "      <td>1587.0</td>\n",
       "      <td>-0.013841</td>\n",
       "      <td>13.11</td>\n",
       "      <td>-1.033001</td>\n",
       "      <td>0.377622</td>\n",
       "      <td>0.265734</td>\n",
       "      <td>-0.041958</td>\n",
       "      <td>0.097902</td>\n",
       "      <td>0.000000</td>\n",
       "      <td>0.056164</td>\n",
       "      <td>-0.266442</td>\n",
       "      <td>0.112186</td>\n",
       "    </tr>\n",
       "    <tr>\n",
       "      <th>15</th>\n",
       "      <td>0.041362</td>\n",
       "      <td>-0.179236</td>\n",
       "      <td>-0.027575</td>\n",
       "      <td>659903.0</td>\n",
       "      <td>72.469</td>\n",
       "      <td>1917.0</td>\n",
       "      <td>2.450359</td>\n",
       "      <td>3.67</td>\n",
       "      <td>1.906839</td>\n",
       "      <td>0.220598</td>\n",
       "      <td>0.468772</td>\n",
       "      <td>0.041345</td>\n",
       "      <td>0.248071</td>\n",
       "      <td>0.138122</td>\n",
       "      <td>0.359116</td>\n",
       "      <td>-0.013791</td>\n",
       "      <td>0.193077</td>\n",
       "    </tr>\n",
       "    <tr>\n",
       "      <th>93</th>\n",
       "      <td>0.463365</td>\n",
       "      <td>-0.072401</td>\n",
       "      <td>0.405445</td>\n",
       "      <td>302064.0</td>\n",
       "      <td>69.263</td>\n",
       "      <td>939.0</td>\n",
       "      <td>0.028584</td>\n",
       "      <td>11.94</td>\n",
       "      <td>-0.716743</td>\n",
       "      <td>-0.072401</td>\n",
       "      <td>0.434405</td>\n",
       "      <td>-0.201787</td>\n",
       "      <td>0.158547</td>\n",
       "      <td>0.014491</td>\n",
       "      <td>0.376757</td>\n",
       "      <td>0.389386</td>\n",
       "      <td>0.331699</td>\n",
       "    </tr>\n",
       "    <tr>\n",
       "      <th>180</th>\n",
       "      <td>0.094429</td>\n",
       "      <td>-0.070822</td>\n",
       "      <td>0.070822</td>\n",
       "      <td>92918.0</td>\n",
       "      <td>84.724</td>\n",
       "      <td>353.0</td>\n",
       "      <td>0.000000</td>\n",
       "      <td>33.30</td>\n",
       "      <td>-0.053079</td>\n",
       "      <td>-0.035411</td>\n",
       "      <td>-0.118036</td>\n",
       "      <td>0.011792</td>\n",
       "      <td>-0.070755</td>\n",
       "      <td>-0.023624</td>\n",
       "      <td>0.023624</td>\n",
       "      <td>0.070771</td>\n",
       "      <td>0.035386</td>\n",
       "    </tr>\n",
       "    <tr>\n",
       "      <th>103</th>\n",
       "      <td>0.147611</td>\n",
       "      <td>-0.026838</td>\n",
       "      <td>0.026838</td>\n",
       "      <td>244403.0</td>\n",
       "      <td>74.574</td>\n",
       "      <td>730.0</td>\n",
       "      <td>0.026795</td>\n",
       "      <td>12.69</td>\n",
       "      <td>0.114178</td>\n",
       "      <td>0.000000</td>\n",
       "      <td>-0.026838</td>\n",
       "      <td>0.053598</td>\n",
       "      <td>0.013399</td>\n",
       "      <td>0.040268</td>\n",
       "      <td>0.040268</td>\n",
       "      <td>0.040247</td>\n",
       "      <td>0.026831</td>\n",
       "    </tr>\n",
       "  </tbody>\n",
       "</table>\n",
       "<p>182 rows × 17 columns</p>\n",
       "</div>"
      ],
      "text/plain": [
       "         high       low     close    volume  average  barCount  \\\n",
       "151  0.481058 -0.012026  0.420926  372623.0   83.343    1432.0   \n",
       "56   0.252781  0.000000  0.252781  250598.0   59.423     686.0   \n",
       "166  0.056497 -0.112994 -0.090395  293659.0   88.479     824.0   \n",
       "70   0.253127 -0.059559  0.044669  261058.0   67.218     820.0   \n",
       "168  0.195088 -0.057379  0.137709  397228.0   87.215    1071.0   \n",
       "..        ...       ...       ...       ...      ...       ...   \n",
       "107  0.000000 -0.391608 -0.265734  468102.0   71.369    1587.0   \n",
       "15   0.041362 -0.179236 -0.027575  659903.0   72.469    1917.0   \n",
       "93   0.463365 -0.072401  0.405445  302064.0   69.263     939.0   \n",
       "180  0.094429 -0.070822  0.070822   92918.0   84.724     353.0   \n",
       "103  0.147611 -0.026838  0.026838  244403.0   74.574     730.0   \n",
       "\n",
       "     diff_pr_close_open  acc_distance  mid_price  diff_open_1hr  \\\n",
       "151            0.000000         24.34   0.180854       0.120265   \n",
       "56             0.000000          7.51  -0.694328      -0.353893   \n",
       "166            0.011274         29.47  -0.259140      -0.124294   \n",
       "70             0.000000         10.27   0.947084       0.193568   \n",
       "168           -0.022815         29.34  -0.530156      -0.321322   \n",
       "..                  ...           ...        ...            ...   \n",
       "107           -0.013841         13.11  -1.033001       0.377622   \n",
       "15             2.450359          3.67   1.906839       0.220598   \n",
       "93             0.028584         11.94  -0.716743      -0.072401   \n",
       "180            0.000000         33.30  -0.053079      -0.035411   \n",
       "103            0.026795         12.69   0.114178       0.000000   \n",
       "\n",
       "     diff_open_2hr  diff_high_1hr  diff_high_2hr  diff_low_1hr  diff_low_2hr  \\\n",
       "151       0.505111       0.371035       0.550569      0.240558      0.517200   \n",
       "56       -0.168520      -0.100857      -0.319381      0.303337     -0.084260   \n",
       "166      -0.022599      -0.067758      -0.101637     -0.045249     -0.124434   \n",
       "70        0.044669       0.089113       0.148522      0.134088      0.223480   \n",
       "168      -0.516410      -0.125988      -0.355057      0.022965     -0.183718   \n",
       "..             ...            ...            ...           ...           ...   \n",
       "107       0.265734      -0.041958       0.097902      0.000000      0.056164   \n",
       "15        0.468772       0.041345       0.248071      0.138122      0.359116   \n",
       "93        0.434405      -0.201787       0.158547      0.014491      0.376757   \n",
       "180      -0.118036       0.011792      -0.070755     -0.023624      0.023624   \n",
       "103      -0.026838       0.053598       0.013399      0.040268      0.040268   \n",
       "\n",
       "     diff_close_1hr  diff_close_2hr  \n",
       "151        0.407186        0.526946  \n",
       "56         0.252143       -0.117667  \n",
       "166       -0.090477       -0.203574  \n",
       "70         0.059533        0.208364  \n",
       "168        0.080220       -0.171900  \n",
       "..              ...             ...  \n",
       "107       -0.266442        0.112186  \n",
       "15        -0.013791        0.193077  \n",
       "93         0.389386        0.331699  \n",
       "180        0.070771        0.035386  \n",
       "103        0.040247        0.026831  \n",
       "\n",
       "[182 rows x 17 columns]"
      ]
     },
     "execution_count": 52,
     "metadata": {},
     "output_type": "execute_result"
    }
   ],
   "source": [
    "X_train"
   ]
  },
  {
   "cell_type": "code",
   "execution_count": 53,
   "id": "1835e067-8a81-4ee1-ad84-c86fcae433ff",
   "metadata": {},
   "outputs": [
    {
     "data": {
      "text/plain": [
       "(182,)"
      ]
     },
     "execution_count": 53,
     "metadata": {},
     "output_type": "execute_result"
    }
   ],
   "source": [
    "y_train.shape"
   ]
  },
  {
   "cell_type": "code",
   "execution_count": 54,
   "id": "1be4233c-b35d-49ea-9e28-da942f6e77d8",
   "metadata": {},
   "outputs": [
    {
     "name": "stdout",
     "output_type": "stream",
     "text": [
      "Accuracy: 0.65\n"
     ]
    }
   ],
   "source": [
    "import xgboost as xgb\n",
    "\n",
    "\n",
    "from sklearn.metrics import accuracy_score\n",
    "\n",
    "# Load the iris dataset\n",
    "\n",
    "\n",
    "\n",
    "# Split data into training and testing sets\n",
    "\n",
    "# Create an XGBoost classifier\n",
    "model = xgb.XGBClassifier(\n",
    "    objective='binary:logistic',  # Specify the objective function for multi-class classification               # Specify the number of classes\n",
    "    n_estimators=100,           # Number of boosting rounds (trees)\n",
    "    learning_rate=0.1,          # Step size shrinkage to prevent overfitting\n",
    "    max_depth=3,                # Maximum depth of a tree\n",
    "    random_state=42             # Random seed for reproducibility\n",
    ")\n",
    "\n",
    "#model = XGBClassifier(objective='binary:logistic', random_state=42)\n",
    "\n",
    "# Train the model\n",
    "model.fit(X_train, y_train)\n",
    "\n",
    "# Make predictions on the test set\n",
    "y_pred = model.predict(X_test)\n",
    "\n",
    "# Evaluate the model\n",
    "accuracy = accuracy_score(y_test, y_pred)\n",
    "print(f\"Accuracy: {accuracy:.2f}\")"
   ]
  },
  {
   "cell_type": "code",
   "execution_count": 57,
   "id": "4df70f5c-cc33-4ac4-95df-7c7eabe8f287",
   "metadata": {},
   "outputs": [
    {
     "data": {
      "text/plain": [
       "['xgb_model_up_down.joblib']"
      ]
     },
     "execution_count": 57,
     "metadata": {},
     "output_type": "execute_result"
    }
   ],
   "source": [
    "import joblib\n",
    "# Assuming 'model' is your trained model object\n",
    "filename = 'xgb_model_up_down.joblib'\n",
    "joblib.dump(model, filename)"
   ]
  },
  {
   "cell_type": "code",
   "execution_count": 55,
   "id": "403677a5-cb12-4260-8c77-04ff7f8fde72",
   "metadata": {},
   "outputs": [
    {
     "data": {
      "image/png": "[encoded data removed]",
      "text/plain": [
       "<Figure size 640x480 with 2 Axes>"
      ]
     },
     "metadata": {},
     "output_type": "display_data"
    },
    {
     "name": "stdout",
     "output_type": "stream",
     "text": [
      "[[16  5]\n",
      " [11 14]]\n"
     ]
    }
   ],
   "source": [
    "from sklearn.metrics import confusion_matrix, ConfusionMatrixDisplay\n",
    "\n",
    "cm = confusion_matrix(y_test, y_pred)\n",
    "\n",
    "# Visualize the confusion matrix\n",
    "disp = ConfusionMatrixDisplay(confusion_matrix=cm, display_labels=['Negative', 'Positive'])\n",
    "disp.plot()\n",
    "plt.show()\n",
    "\n",
    "# Print the confusion matrix\n",
    "print(cm)"
   ]
  },
  {
   "cell_type": "code",
   "execution_count": 26,
   "id": "50b9a1b8-52d8-42c5-b705-f8f595e1905f",
   "metadata": {},
   "outputs": [
    {
     "data": {
      "image/png": "[encoded data removed]",
      "text/plain": [
       "<Figure size 800x600 with 1 Axes>"
      ]
     },
     "metadata": {},
     "output_type": "display_data"
    }
   ],
   "source": [
    "\n",
    "from sklearn.metrics import roc_curve, roc_auc_score\n",
    "\n",
    "y_prob = model.predict_proba(X_test)[:, 1]\n",
    "\n",
    "# Compute the ROC curve\n",
    "fpr, tpr, thresholds = roc_curve(y_test, y_prob)\n",
    "\n",
    "# Compute the AUC score\n",
    "roc_auc = roc_auc_score(y_test, y_prob)\n",
    "\n",
    "# Plot the ROC curve\n",
    "plt.figure(figsize=(8, 6))\n",
    "plt.plot(fpr, tpr, color='darkorange', lw=2, label=f'ROC curve (AUC = {roc_auc:.2f})')\n",
    "plt.plot([0, 1], [0, 1], color='navy', lw=2, linestyle='--')\n",
    "plt.xlim([0.0, 1.0])\n",
    "plt.ylim([0.0, 1.05])\n",
    "plt.xlabel('False Positive Rate')\n",
    "plt.ylabel('True Positive Rate')\n",
    "plt.title('Receiver Operating Characteristic (ROC)')\n",
    "plt.legend(loc='lower right')\n",
    "plt.show()"
   ]
  },
  {
   "cell_type": "markdown",
   "id": "62e89c64-ec12-46ad-9766-31720d4ea3af",
   "metadata": {},
   "source": [
    " thresholds"
   ]
  },
  {
   "cell_type": "code",
   "execution_count": 27,
   "id": "e8bb1949-5697-4d6b-8780-a31bc3d10455",
   "metadata": {},
   "outputs": [
    {
     "data": {
      "text/plain": [
       "array([       inf, 0.9599482 , 0.9396541 , 0.8558571 , 0.766456  ,\n",
       "       0.6756958 , 0.6420851 , 0.6308951 , 0.58090246, 0.5176195 ,\n",
       "       0.47566116, 0.44903567, 0.40720248, 0.38133872, 0.35263366,\n",
       "       0.3313401 , 0.18759117, 0.16984744, 0.09191915, 0.05813916,\n",
       "       0.03446458, 0.01707472], dtype=float32)"
      ]
     },
     "execution_count": 27,
     "metadata": {},
     "output_type": "execute_result"
    }
   ],
   "source": [
    "thresholds"
   ]
  },
  {
   "cell_type": "code",
   "execution_count": 28,
   "id": "c0a87cfa-310a-4371-b9bd-4fd46086048d",
   "metadata": {},
   "outputs": [],
   "source": [
    "n_thresholds = thresholds[16:20]"
   ]
  },
  {
   "cell_type": "code",
   "execution_count": 29,
   "id": "93480f7b-ec6f-4dad-9d3c-983b4d832668",
   "metadata": {},
   "outputs": [],
   "source": [
    "n_thresholds =np.linspace(0.5, 0.2, 5)"
   ]
  },
  {
   "cell_type": "code",
   "execution_count": 30,
   "id": "ebc22884-cfbf-4c58-8cdf-0abcb094accf",
   "metadata": {},
   "outputs": [
    {
     "data": {
      "image/png": "[encoded data removed]",
      "text/plain": [
       "<Figure size 1500x500 with 10 Axes>"
      ]
     },
     "metadata": {},
     "output_type": "display_data"
    }
   ],
   "source": [
    "import numpy as np\n",
    "from sklearn.metrics import confusion_matrix\n",
    "import matplotlib.pyplot as plt\n",
    "import seaborn as sns\n",
    "\n",
    "def plot_confusion_matrix(y_true, y_pred, threshold, ax):\n",
    "    \"\"\"\n",
    "    Calculates and plots the confusion matrix for given true and predicted labels at a specified threshold.\n",
    "\n",
    "    Args:\n",
    "        y_true (array-like): True labels.\n",
    "        y_pred (array-like): Predicted probabilities.\n",
    "        threshold (float): Probability threshold for classification.\n",
    "        ax (matplotlib.axes._subplots.AxesSubplot): Axis object to plot on.\n",
    "    \"\"\"\n",
    "    y_pred_class = (y_pred > threshold).astype(int)\n",
    "    cm = confusion_matrix(y_true, y_pred_class)\n",
    "    \n",
    "    sns.heatmap(cm, annot=True, fmt='d', cmap='Blues', ax=ax)\n",
    "    ax.set_title(f'Threshold: {threshold}')\n",
    "    ax.set_xlabel('Predicted Label')\n",
    "    ax.set_ylabel('True Label')\n",
    "\n",
    "# Example usage\n",
    "\n",
    "fig, axes = plt.subplots(1, len(n_thresholds), figsize=(15, 5))\n",
    "\n",
    "for i, threshold in enumerate(n_thresholds):\n",
    "    plot_confusion_matrix(y_test, y_prob, threshold, axes[i])\n",
    "\n",
    "plt.tight_layout()\n",
    "plt.show()"
   ]
  },
  {
   "cell_type": "code",
   "execution_count": 32,
   "id": "9c1e18e6-36da-4034-8322-004ce98b1db3",
   "metadata": {},
   "outputs": [
    {
     "name": "stdout",
     "output_type": "stream",
     "text": [
      "Fitting 2 folds for each of 243 candidates, totalling 486 fits\n",
      "Best parameters: {'colsample_bytree': 0.8, 'learning_rate': 0.01, 'max_depth': 3, 'n_estimators': 100, 'subsample': 0.7}\n",
      "Best score: 0.6043956043956044\n",
      "AUC on the data: 0.4865384615384616\n"
     ]
    }
   ],
   "source": [
    "import xgboost as xgb\n",
    "from sklearn.model_selection import GridSearchCV, StratifiedKFold\n",
    "from sklearn.metrics import roc_auc_score\n",
    "from sklearn.datasets import make_classification\n",
    "\n",
    "\n",
    "# Define the XGBoost classifier\n",
    "xgb_clf = xgb.XGBClassifier(\n",
    "    objective='binary:logistic',  # Specify binary classification\n",
    "    #eval_metric='accuracy',            # Evaluation metric\n",
    "    #use_label_encoder=False,       # Avoid a warning\n",
    "    random_state=42\n",
    ")\n",
    "\n",
    "# Define the parameter grid to search\n",
    "param_grid = {\n",
    "    'n_estimators': [100, 200, 300],\n",
    "    'max_depth': [3, 4, 5],\n",
    "    'learning_rate': [0.01, 0.1, 0.2],\n",
    "    'subsample': [0.7, 0.8, 0.9],\n",
    "    'colsample_bytree': [0.6, 0.7, 0.8]\n",
    "}\n",
    "\n",
    "# Define cross-validation strategy\n",
    "cv = StratifiedKFold(n_splits=2, shuffle=True, random_state=42)\n",
    "\n",
    "# Initialize Grid Search\n",
    "grid_search = GridSearchCV(\n",
    "    estimator=xgb_clf,\n",
    "    param_grid=param_grid,\n",
    "    scoring='accuracy',\n",
    "    cv=cv,\n",
    "    n_jobs=-1, # Use all available cores\n",
    "    verbose=1\n",
    ")\n",
    "\n",
    "# Fit Grid Search to the data\n",
    "grid_search.fit(X_train, y_train)\n",
    "\n",
    "# Print the best parameters and score\n",
    "print(\"Best parameters:\", grid_search.best_params_)\n",
    "print(\"Best score:\", grid_search.best_score_)\n",
    "\n",
    "# Get the best model\n",
    "best_model = grid_search.best_estimator_\n",
    "\n",
    "# Make predictions on the test set (or the same data for demonstration)\n",
    "y_prob = best_model.predict_proba(X_test)[:, 1]\n",
    "auc_score = roc_auc_score(y_test, y_prob)\n",
    "print(\"AUC on the data:\", auc_score)"
   ]
  },
  {
   "cell_type": "code",
   "execution_count": 33,
   "id": "b6f7ac69-908c-4634-a0bd-897116ffe2d0",
   "metadata": {},
   "outputs": [
    {
     "data": {
      "image/png": "[encoded data removed]",
      "text/plain": [
       "<Figure size 800x600 with 1 Axes>"
      ]
     },
     "metadata": {},
     "output_type": "display_data"
    }
   ],
   "source": [
    "# Compute the ROC curve\n",
    "fpr, tpr, thresholds = roc_curve(y_test, y_prob)\n",
    "\n",
    "# Compute the AUC score\n",
    "roc_auc = roc_auc_score(y_test, y_prob)\n",
    "\n",
    "# Plot the ROC curve\n",
    "plt.figure(figsize=(8, 6))\n",
    "plt.plot(fpr, tpr, color='darkorange', lw=2, label=f'ROC curve (AUC = {roc_auc:.2f})')\n",
    "plt.plot([0, 1], [0, 1], color='navy', lw=2, linestyle='--')\n",
    "plt.xlim([0.0, 1.0])\n",
    "plt.ylim([0.0, 1.05])\n",
    "plt.xlabel('False Positive Rate')\n",
    "plt.ylabel('True Positive Rate')\n",
    "plt.title('Receiver Operating Characteristic (ROC)')\n",
    "plt.legend(loc='lower right')\n",
    "plt.show()"
   ]
  },
  {
   "cell_type": "code",
   "execution_count": 34,
   "id": "824b6557-f5c4-4c8f-8727-112a0dfac9a2",
   "metadata": {},
   "outputs": [
    {
     "data": {
      "image/png": "[encoded data removed]",
      "text/plain": [
       "<Figure size 1500x500 with 10 Axes>"
      ]
     },
     "metadata": {},
     "output_type": "display_data"
    }
   ],
   "source": [
    "import numpy as np\n",
    "from sklearn.metrics import confusion_matrix\n",
    "import matplotlib.pyplot as plt\n",
    "import seaborn as sns\n",
    "\n",
    "n_thresholds =np.linspace(0.6, 0.3, 5)\n",
    "\n",
    "fig, axes = plt.subplots(1, len(n_thresholds), figsize=(15, 5))\n",
    "\n",
    "for i, threshold in enumerate(n_thresholds):\n",
    "    plot_confusion_matrix(y_test, y_prob, threshold, axes[i])\n",
    "\n",
    "plt.tight_layout()\n",
    "plt.show()"
   ]
  },
  {
   "cell_type": "code",
   "execution_count": null,
   "id": "8777de0e-eace-4cf5-80dc-6a6ecf287c9e",
   "metadata": {},
   "outputs": [],
   "source": [
    "from sklearn.ensemble import AdaBoostClassifier"
   ]
  },
  {
   "cell_type": "code",
   "execution_count": null,
   "id": "c1992859-f3aa-49ff-acc4-a5d229c09942",
   "metadata": {},
   "outputs": [],
   "source": [
    "error_rates = []\n",
    "\n",
    "for n in range(1,96):\n",
    "    \n",
    "    model = AdaBoostClassifier(n_estimators=n)\n",
    "    model.fit(X_train,y_train)\n",
    "    preds = model.predict(X_test)\n",
    "    err = 1 - accuracy_score(y_test,preds)\n",
    "    \n",
    "    error_rates.append(err)"
   ]
  },
  {
   "cell_type": "code",
   "execution_count": null,
   "id": "02bd750a-66dd-474b-8149-008ec59f107d",
   "metadata": {},
   "outputs": [],
   "source": [
    "plt.plot(range(1,96),error_rates)"
   ]
  },
  {
   "cell_type": "code",
   "execution_count": null,
   "id": "d85aa590-48ec-4f14-9b57-4cc8919ed730",
   "metadata": {},
   "outputs": [],
   "source": []
  }
 ],
 "metadata": {
  "kernelspec": {
   "display_name": "Python 3 (ipykernel)",
   "language": "python",
   "name": "python3"
  },
  "language_info": {
   "codemirror_mode": {
    "name": "ipython",
    "version": 3
   },
   "file_extension": ".py",
   "mimetype": "text/x-python",
   "name": "python",
   "nbconvert_exporter": "python",
   "pygments_lexer": "ipython3",
   "version": "3.13.2"
  }
 },
 "nbformat": 4,
 "nbformat_minor": 5
}
