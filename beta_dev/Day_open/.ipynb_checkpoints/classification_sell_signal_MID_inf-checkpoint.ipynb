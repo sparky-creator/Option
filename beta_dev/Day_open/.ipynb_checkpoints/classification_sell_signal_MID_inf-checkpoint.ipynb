{
 "cells": [
  {
   "cell_type": "code",
   "execution_count": 1,
   "id": "108c2f6e-d735-410b-aa17-f47fab91c737",
   "metadata": {},
   "outputs": [],
   "source": [
    "import os\n",
    "import math\n",
    "import numpy as np\n",
    "import pandas as pd\n",
    "from datetime import datetime, date, timedelta, time\n",
    "os.environ['TZ'] ='America/New_York'\n",
    "\n",
    "#import yfinance as yf\n",
    "\n",
    "import seaborn as sns\n",
    "import matplotlib.pyplot as plt\n",
    "\n",
    "from sklearn.tree import DecisionTreeRegressor\n",
    "from sklearn.ensemble import RandomForestRegressor\n",
    "from sklearn.metrics import mean_squared_error, mean_absolute_error\n",
    "from sklearn.model_selection import train_test_split\n",
    "\n",
    "from ib_async import *\n",
    "util.startLoop()"
   ]
  },
  {
   "cell_type": "code",
   "execution_count": 2,
   "id": "5c578887-e8a6-44b7-aa88-21f1802746a7",
   "metadata": {},
   "outputs": [
    {
     "data": {
      "text/plain": [
       "<IB connected to 127.0.0.1:7496 clientId=6>"
      ]
     },
     "execution_count": 2,
     "metadata": {},
     "output_type": "execute_result"
    },
    {
     "name": "stderr",
     "output_type": "stream",
     "text": [
      "Error 1100, reqId -1: Connectivity between IBKR and Trader Workstation has been lost.\n",
      "Error 1102, reqId -1: Connectivity between IBKR and Trader Workstation has been restored - data maintained. All data farms are connected: hfarm; usfarm.nj; cashfarm; usopt; usfarm; ushmds; secdefil.\n"
     ]
    }
   ],
   "source": [
    "ib = IB()\n",
    "ib.connect(port=7496, clientId=6)"
   ]
  },
  {
   "cell_type": "code",
   "execution_count": 3,
   "id": "00e85675-392e-4c6b-8a00-bd5faf35f16f",
   "metadata": {},
   "outputs": [],
   "source": [
    "def simple_data_req( contract, end_date , barsize =\"5 mins\", data_clean = True):\n",
    "\n",
    "   \n",
    "    df_acc=pd.DataFrame()\n",
    "    df_hist=pd.DataFrame()\n",
    "\n",
    "    for i in range(1):\n",
    "        print(f'fetching data for {i}')\n",
    "        end_date = end_date - timedelta(i)\n",
    "        bars = ib.reqHistoricalData(contract= contract, endDateTime=end_date, barSizeSetting= barsize, durationStr= \"2 D\", whatToShow=\"TRADES\", useRTH=True)\n",
    "        df = util.df(bars)\n",
    "        \n",
    "        df_acc = pd.concat([df, df_acc], ignore_index=True)\n",
    "        print(f'head date {df_acc.head(1)['date']}')\n",
    "        print(f'tail date {df_acc.tail(1)['date']}')\n",
    "\n",
    "    df_acc['Date_Only'] = df_acc['date'].dt.date\n",
    "    \n",
    "    if data_clean == True:\n",
    "        df_hist = df_acc[(df_acc['date'].dt.time >= time(9, 30)) & (df_acc['date'].dt.time < time(16, 00))]\n",
    "    else:\n",
    "        df_hist = df_acc\n",
    "\n",
    "    #df_hist.drop_duplicates(inplace=True)\n",
    "    \n",
    "    return df_hist"
   ]
  },
  {
   "cell_type": "code",
   "execution_count": 19,
   "id": "35d0ba2f-805b-4a57-bf8b-21b3948b2e7b",
   "metadata": {},
   "outputs": [
    {
     "data": {
      "text/plain": [
       "[Contract(secType='STK', conId=72539702, symbol='TQQQ', exchange='SMART', primaryExchange='NASDAQ', currency='USD', localSymbol='TQQQ', tradingClass='NMS')]"
      ]
     },
     "execution_count": 19,
     "metadata": {},
     "output_type": "execute_result"
    }
   ],
   "source": [
    "contract = Contract(symbol='TQQQ', secType='STK', exchange='SMART', currency='USD')\n",
    "ib.qualifyContracts(contract)"
   ]
  },
  {
   "cell_type": "code",
   "execution_count": 20,
   "id": "bfe5be43-9b61-4d27-9cce-b1a5a32e891e",
   "metadata": {},
   "outputs": [],
   "source": [
    "now =datetime.now()\n",
    "inferencing_date = now.date()"
   ]
  },
  {
   "cell_type": "code",
   "execution_count": 179,
   "id": "3dfdb069-d2f0-4e4b-981d-b666069d1a2b",
   "metadata": {},
   "outputs": [
    {
     "name": "stdout",
     "output_type": "stream",
     "text": [
      "fetching data for 0\n",
      "head date 0   2025-04-23 09:30:00-04:00\n",
      "Name: date, dtype: datetime64[ns, US/Eastern]\n",
      "tail date 103   2025-04-24 11:35:00-04:00\n",
      "Name: date, dtype: datetime64[ns, US/Eastern]\n"
     ]
    }
   ],
   "source": [
    "df_stock = simple_data_req(contract, inferencing_date,)"
   ]
  },
  {
   "cell_type": "code",
   "execution_count": 180,
   "id": "e07a2ddf-f765-439d-90af-2d7a30946c8f",
   "metadata": {},
   "outputs": [],
   "source": [
    "df_temp = df_stock.copy()"
   ]
  },
  {
   "cell_type": "code",
   "execution_count": 181,
   "id": "9a861389-31ed-45eb-8e09-c5b73a02df3f",
   "metadata": {},
   "outputs": [
    {
     "data": {
      "text/html": [
       "<div>\n",
       "<style scoped>\n",
       "    .dataframe tbody tr th:only-of-type {\n",
       "        vertical-align: middle;\n",
       "    }\n",
       "\n",
       "    .dataframe tbody tr th {\n",
       "        vertical-align: top;\n",
       "    }\n",
       "\n",
       "    .dataframe thead th {\n",
       "        text-align: right;\n",
       "    }\n",
       "</style>\n",
       "<table border=\"1\" class=\"dataframe\">\n",
       "  <thead>\n",
       "    <tr style=\"text-align: right;\">\n",
       "      <th></th>\n",
       "      <th>date</th>\n",
       "      <th>open</th>\n",
       "      <th>high</th>\n",
       "      <th>low</th>\n",
       "      <th>close</th>\n",
       "      <th>volume</th>\n",
       "      <th>average</th>\n",
       "      <th>barCount</th>\n",
       "      <th>Date_Only</th>\n",
       "    </tr>\n",
       "  </thead>\n",
       "  <tbody>\n",
       "    <tr>\n",
       "      <th>103</th>\n",
       "      <td>2025-04-24 11:35:00-04:00</td>\n",
       "      <td>50.96</td>\n",
       "      <td>51.06</td>\n",
       "      <td>50.85</td>\n",
       "      <td>51.02</td>\n",
       "      <td>663946.0</td>\n",
       "      <td>50.964</td>\n",
       "      <td>1827</td>\n",
       "      <td>2025-04-24</td>\n",
       "    </tr>\n",
       "  </tbody>\n",
       "</table>\n",
       "</div>"
      ],
      "text/plain": [
       "                         date   open   high    low  close    volume  average  \\\n",
       "103 2025-04-24 11:35:00-04:00  50.96  51.06  50.85  51.02  663946.0   50.964   \n",
       "\n",
       "     barCount   Date_Only  \n",
       "103      1827  2025-04-24  "
      ]
     },
     "execution_count": 181,
     "metadata": {},
     "output_type": "execute_result"
    }
   ],
   "source": [
    "df_temp[-1:]"
   ]
  },
  {
   "cell_type": "code",
   "execution_count": 182,
   "id": "b7ded1bb-a6f4-4e5b-a28f-17b604dba381",
   "metadata": {},
   "outputs": [],
   "source": [
    "# capturing yesterday price close and today's open difference"
   ]
  },
  {
   "cell_type": "code",
   "execution_count": 183,
   "id": "b24bf62e-f37d-4112-b50f-3d019885964e",
   "metadata": {},
   "outputs": [],
   "source": [
    "#df_stock['diff_close_open'] = df_stock['open'] - df_stock['close'].shift(1)\n",
    "#df_stock['diff_close_open'] = df_stock['diff_close_open'].shift(2)"
   ]
  },
  {
   "cell_type": "code",
   "execution_count": 184,
   "id": "a71baa7b-363c-474c-b3bf-e4eb3f79d2be",
   "metadata": {},
   "outputs": [],
   "source": [
    "def distance(data, acc_volume):\n",
    "    buy = data.close -data.low\n",
    "    sell = data.high - data.close\n",
    "    #dist_BS = (buy - sell)*data.volume/acc_volume\n",
    "    dist_BS = (buy - sell)\n",
    "    return dist_BS"
   ]
  },
  {
   "cell_type": "code",
   "execution_count": 185,
   "id": "7790c433-e6ab-4c52-bf92-14eca9e2c48e",
   "metadata": {},
   "outputs": [],
   "source": [
    "def mid_price(data):\n",
    "    mid = (data.high+data.low)/2\n",
    "    return mid"
   ]
  },
  {
   "cell_type": "code",
   "execution_count": 186,
   "id": "389bd365-da7d-4419-b6de-52ccade2cfb2",
   "metadata": {},
   "outputs": [],
   "source": [
    "df_ST = df_stock.copy()"
   ]
  },
  {
   "cell_type": "code",
   "execution_count": 125,
   "id": "190f8ead-c67d-47f7-9787-16266d43a054",
   "metadata": {},
   "outputs": [],
   "source": [
    "\n",
    "\n",
    "def feature_creation(df, initial_acc, barsize=5 , df_train=pd.DataFrame(), stock_flag=True ):\n",
    "\n",
    "    acc_distance = 0\n",
    "    acc_volume = 0\n",
    "    mid = []\n",
    "\n",
    "    df['diff_pr_close_open'] = (df['open'] - df['close'].shift(1))/df['open']*100\n",
    "    \n",
    "    df['diff_pr_close_open'] = df['diff_pr_close_open'].shift(initial_acc)\n",
    "\n",
    "    \n",
    "    for n in range(1):   #  takeing out the last period out\n",
    "        flag = ''\n",
    "\n",
    "        fix = int(30/barsize + 6*60/barsize)\n",
    "\n",
    "        Period = int(30/barsize + 6*60/barsize)*n\n",
    "        acc_volume =  df.iloc[[0 + Period,1 + Period, 2+ Period ]].volume.sum()\n",
    "        mid = []\n",
    "    # need to find acc_volume first        \n",
    "        for i in range(initial_acc):\n",
    "            dist_BS = distance(df.iloc[i+Period], acc_volume)\n",
    "            acc_distance += dist_BS\n",
    "            mid.append(mid_price(df.iloc[i+Period]))\n",
    "        \n",
    "        mid_price_adj = (mid[initial_acc-1]- mid[0])/mid[0]*100\n",
    "\n",
    "        print(mid_price_adj)\n",
    "\n",
    "        if stock_flag ==False:\n",
    "            df['Target_30min'] = (df['close'] - df['close'].shift(-6))/df['close'] *100\n",
    "            df['Target_15min'] = (df['close'] - df['close'].shift(-3))/df['close'] *100\n",
    "            df['Target_1hr'] = (df['close'] - df['close'].shift(-12))/df['close'] *100\n",
    "            df['Target_10min'] = (df['close'] - df['close'].shift(-2))/df['close'] *100\n",
    "\n",
    "        \n",
    "        df.loc[initial_acc + fix, 'acc_distance'] = acc_distance\n",
    "        df.loc[initial_acc + fix, 'mid_price'] = mid_price_adj\n",
    "\n",
    "        #if Period >= int(30/barsize + 6*60/barsize):\n",
    "            \n",
    "            #df.loc[initial_acc + Period, 'diff_open_pr_close'] = (df_stock.iloc[Period]['open'] - df_stock.iloc[Period -1]['close'])/df_stock.iloc[Period -1]['close']*100\n",
    "        #    df.loc[initial_acc + Period, 'diff_open_pr_close'] = (df.iloc[Period]['open'] - df.iloc[Period -1]['close'])/df.iloc[Period -1]['close']*100\n",
    "\n",
    "        df['diff_open_1hr'] = df['open'].diff(1)/df['open']*100\n",
    "        df['diff_open_2hr'] = df['open'].diff(2)/df['open']*100\n",
    "        #df_dum =pd.DataFrame()\n",
    "        #df_dum['open'] = df['open']\n",
    "\n",
    "        \n",
    "        df['diff_high_1hr'] = df['high'].diff(1)/df['high']*100\n",
    "        df['diff_high_2hr'] = df['high'].diff(2)/df['high']*100\n",
    "\n",
    "        df['diff_low_1hr'] = df['low'].diff(1)/df['low']*100\n",
    "        df['diff_low_2hr'] = df['low'].diff(2)/df['low']*100\n",
    "        \n",
    "        df['diff_close_1hr'] = df['close'].diff(1)/df['close']*100\n",
    "        df['diff_close_2hr'] = df['close'].diff(2)/df['close']*100\n",
    "        \n",
    "\n",
    "        df_select = pd.DataFrame(df.iloc[initial_acc+fix])\n",
    "\n",
    "        df_train = pd.concat([df_train,df_select.T], ignore_index=True)\n",
    "\n",
    "                    \n",
    "    df_train['high'] = (df_train['high']-df_train['open'])/df_train['open']*100\n",
    "    df_train['low'] = (df_train['low']-df_train['open'])/df_train['open']*100\n",
    "    df_train['close'] = (df_train['close']-df_train['open'])/df_train['open']*100\n",
    "    df_train['open'] = (df_train['open']-df_train['open'])/df_train['open']*100\n",
    "\n",
    "\n",
    "    return df, df_train \n"
   ]
  },
  {
   "cell_type": "code",
   "execution_count": 187,
   "id": "387b056e-8852-460b-ad80-ca5852c4663c",
   "metadata": {},
   "outputs": [
    {
     "name": "stdout",
     "output_type": "stream",
     "text": [
      "-1.2238292707595912\n"
     ]
    }
   ],
   "source": [
    "df_test, df_train = feature_creation(df_ST, 25)"
   ]
  },
  {
   "cell_type": "code",
   "execution_count": 188,
   "id": "d0af4d56-4990-4c55-a061-ae9781dc5a44",
   "metadata": {},
   "outputs": [
    {
     "data": {
      "text/plain": [
       "(1, 20)"
      ]
     },
     "execution_count": 188,
     "metadata": {},
     "output_type": "execute_result"
    }
   ],
   "source": [
    "df_train.shape"
   ]
  },
  {
   "cell_type": "code",
   "execution_count": 189,
   "id": "a4a34499-ba76-4a04-8ffa-5bfd708e1de7",
   "metadata": {},
   "outputs": [
    {
     "data": {
      "text/html": [
       "<div>\n",
       "<style scoped>\n",
       "    .dataframe tbody tr th:only-of-type {\n",
       "        vertical-align: middle;\n",
       "    }\n",
       "\n",
       "    .dataframe tbody tr th {\n",
       "        vertical-align: top;\n",
       "    }\n",
       "\n",
       "    .dataframe thead th {\n",
       "        text-align: right;\n",
       "    }\n",
       "</style>\n",
       "<table border=\"1\" class=\"dataframe\">\n",
       "  <thead>\n",
       "    <tr style=\"text-align: right;\">\n",
       "      <th></th>\n",
       "      <th>date</th>\n",
       "      <th>open</th>\n",
       "      <th>high</th>\n",
       "      <th>low</th>\n",
       "      <th>close</th>\n",
       "      <th>volume</th>\n",
       "      <th>average</th>\n",
       "      <th>barCount</th>\n",
       "      <th>Date_Only</th>\n",
       "      <th>diff_pr_close_open</th>\n",
       "      <th>acc_distance</th>\n",
       "      <th>mid_price</th>\n",
       "      <th>diff_open_1hr</th>\n",
       "      <th>diff_open_2hr</th>\n",
       "      <th>diff_high_1hr</th>\n",
       "      <th>diff_high_2hr</th>\n",
       "      <th>diff_low_1hr</th>\n",
       "      <th>diff_low_2hr</th>\n",
       "      <th>diff_close_1hr</th>\n",
       "      <th>diff_close_2hr</th>\n",
       "    </tr>\n",
       "  </thead>\n",
       "  <tbody>\n",
       "    <tr>\n",
       "      <th>0</th>\n",
       "      <td>2025-04-24 11:35:00-04:00</td>\n",
       "      <td>0.0</td>\n",
       "      <td>0.196232</td>\n",
       "      <td>-0.215856</td>\n",
       "      <td>0.117739</td>\n",
       "      <td>663946.0</td>\n",
       "      <td>50.964</td>\n",
       "      <td>1827</td>\n",
       "      <td>2025-04-24</td>\n",
       "      <td>1.354124</td>\n",
       "      <td>1.3</td>\n",
       "      <td>-1.223829</td>\n",
       "      <td>0.255102</td>\n",
       "      <td>0.05887</td>\n",
       "      <td>0.176263</td>\n",
       "      <td>0.078339</td>\n",
       "      <td>0.452311</td>\n",
       "      <td>0.294985</td>\n",
       "      <td>0.117601</td>\n",
       "      <td>0.372403</td>\n",
       "    </tr>\n",
       "  </tbody>\n",
       "</table>\n",
       "</div>"
      ],
      "text/plain": [
       "                        date open      high       low     close    volume  \\\n",
       "0  2025-04-24 11:35:00-04:00  0.0  0.196232 -0.215856  0.117739  663946.0   \n",
       "\n",
       "  average barCount   Date_Only diff_pr_close_open acc_distance mid_price  \\\n",
       "0  50.964     1827  2025-04-24           1.354124          1.3 -1.223829   \n",
       "\n",
       "  diff_open_1hr diff_open_2hr diff_high_1hr diff_high_2hr diff_low_1hr  \\\n",
       "0      0.255102       0.05887      0.176263      0.078339     0.452311   \n",
       "\n",
       "  diff_low_2hr diff_close_1hr diff_close_2hr  \n",
       "0     0.294985       0.117601       0.372403  "
      ]
     },
     "execution_count": 189,
     "metadata": {},
     "output_type": "execute_result"
    }
   ],
   "source": [
    "df_train"
   ]
  },
  {
   "cell_type": "code",
   "execution_count": 190,
   "id": "5cc57e57-eee2-40c6-bdb0-f141a30b0977",
   "metadata": {},
   "outputs": [],
   "source": [
    "# df_train['Target_15min_cat'] = np.where(df_train['Target_15min'] > 0, 1, 0)\n",
    "# df_train['Target_30min_cat'] = np.where(df_train['Target_30min']  > 0, 1, 0)\n",
    "# df_train['Target_1hr_cat'] = np.where(df_train['Target_1hr'] > 0, 1, 0)\n",
    "# df_train['Target_10min_cat'] = np.where(df_train['Target_10min']  > 0, 1, 0)"
   ]
  },
  {
   "cell_type": "code",
   "execution_count": 191,
   "id": "ebca827e-58b6-4e23-b44c-b2fd7d1e53b7",
   "metadata": {},
   "outputs": [],
   "source": [
    "#df_train_clean = pd.concat([df_train, df_train_TQ_clean], axis=1)\n",
    "\n",
    "df_model_inference = df_train.drop(columns=['date', 'Date_Only'], axis=1)"
   ]
  },
  {
   "cell_type": "code",
   "execution_count": 192,
   "id": "9d87622d-646a-4c58-8774-ebcef1d1dc5a",
   "metadata": {},
   "outputs": [
    {
     "data": {
      "text/html": [
       "<div>\n",
       "<style scoped>\n",
       "    .dataframe tbody tr th:only-of-type {\n",
       "        vertical-align: middle;\n",
       "    }\n",
       "\n",
       "    .dataframe tbody tr th {\n",
       "        vertical-align: top;\n",
       "    }\n",
       "\n",
       "    .dataframe thead th {\n",
       "        text-align: right;\n",
       "    }\n",
       "</style>\n",
       "<table border=\"1\" class=\"dataframe\">\n",
       "  <thead>\n",
       "    <tr style=\"text-align: right;\">\n",
       "      <th></th>\n",
       "      <th>open</th>\n",
       "      <th>high</th>\n",
       "      <th>low</th>\n",
       "      <th>close</th>\n",
       "      <th>volume</th>\n",
       "      <th>average</th>\n",
       "      <th>barCount</th>\n",
       "      <th>diff_pr_close_open</th>\n",
       "      <th>acc_distance</th>\n",
       "      <th>mid_price</th>\n",
       "      <th>diff_open_1hr</th>\n",
       "      <th>diff_open_2hr</th>\n",
       "      <th>diff_high_1hr</th>\n",
       "      <th>diff_high_2hr</th>\n",
       "      <th>diff_low_1hr</th>\n",
       "      <th>diff_low_2hr</th>\n",
       "      <th>diff_close_1hr</th>\n",
       "      <th>diff_close_2hr</th>\n",
       "    </tr>\n",
       "  </thead>\n",
       "  <tbody>\n",
       "    <tr>\n",
       "      <th>0</th>\n",
       "      <td>0.0</td>\n",
       "      <td>0.196232</td>\n",
       "      <td>-0.215856</td>\n",
       "      <td>0.117739</td>\n",
       "      <td>663946.0</td>\n",
       "      <td>50.964</td>\n",
       "      <td>1827</td>\n",
       "      <td>1.354124</td>\n",
       "      <td>1.3</td>\n",
       "      <td>-1.223829</td>\n",
       "      <td>0.255102</td>\n",
       "      <td>0.05887</td>\n",
       "      <td>0.176263</td>\n",
       "      <td>0.078339</td>\n",
       "      <td>0.452311</td>\n",
       "      <td>0.294985</td>\n",
       "      <td>0.117601</td>\n",
       "      <td>0.372403</td>\n",
       "    </tr>\n",
       "  </tbody>\n",
       "</table>\n",
       "</div>"
      ],
      "text/plain": [
       "  open      high       low     close    volume average barCount  \\\n",
       "0  0.0  0.196232 -0.215856  0.117739  663946.0  50.964     1827   \n",
       "\n",
       "  diff_pr_close_open acc_distance mid_price diff_open_1hr diff_open_2hr  \\\n",
       "0           1.354124          1.3 -1.223829      0.255102       0.05887   \n",
       "\n",
       "  diff_high_1hr diff_high_2hr diff_low_1hr diff_low_2hr diff_close_1hr  \\\n",
       "0      0.176263      0.078339     0.452311     0.294985       0.117601   \n",
       "\n",
       "  diff_close_2hr  \n",
       "0       0.372403  "
      ]
     },
     "execution_count": 192,
     "metadata": {},
     "output_type": "execute_result"
    }
   ],
   "source": [
    "df_model_inference"
   ]
  },
  {
   "cell_type": "code",
   "execution_count": 193,
   "id": "7793967a-19f7-4405-9d67-311e60d6a16d",
   "metadata": {},
   "outputs": [],
   "source": [
    "df_model_train = df_model_inference.astype(float)\n",
    "#df_model_train.reset_index(inplace=True)\n",
    "#df_model_train['Target_10min_cat'] = df_model_train['Target_10min_cat'].astype(int)"
   ]
  },
  {
   "cell_type": "code",
   "execution_count": 194,
   "id": "16b8c5bf-0781-4d88-8676-5a5962df109c",
   "metadata": {},
   "outputs": [],
   "source": [
    "X = df_model_train.drop(['open'], axis=1)  \n",
    "#y = df_option['Target_std']\n",
    "#y = df_model_train['Target_30min_cat']"
   ]
  },
  {
   "cell_type": "code",
   "execution_count": 195,
   "id": "cf73bcd3-c281-47c1-9b4f-5fc61788ffc1",
   "metadata": {},
   "outputs": [],
   "source": [
    "import joblib\n",
    "# Assuming 'model' is your trained model object\n",
    "filename = 'xgb_model_up_down.joblib'\n",
    "#filename = 'DN_model48_price_spread.joblib'\n",
    "loaded_model = joblib.load(filename)"
   ]
  },
  {
   "cell_type": "code",
   "execution_count": 196,
   "id": "1835e067-8a81-4ee1-ad84-c86fcae433ff",
   "metadata": {},
   "outputs": [],
   "source": [
    "yhat = loaded_model.predict(X)"
   ]
  },
  {
   "cell_type": "code",
   "execution_count": 197,
   "id": "7dffdfff-ec85-4163-9ac5-2a9373f814cb",
   "metadata": {},
   "outputs": [
    {
     "data": {
      "text/plain": [
       "array([1])"
      ]
     },
     "execution_count": 197,
     "metadata": {},
     "output_type": "execute_result"
    }
   ],
   "source": [
    "yhat"
   ]
  },
  {
   "cell_type": "code",
   "execution_count": 198,
   "id": "4e2bff88-5545-4b3e-b507-1f6b8fc1e241",
   "metadata": {},
   "outputs": [
    {
     "data": {
      "text/plain": [
       "array([[0.1911875, 0.8088125]], dtype=float32)"
      ]
     },
     "execution_count": 198,
     "metadata": {},
     "output_type": "execute_result"
    }
   ],
   "source": [
    "prob = loaded_model.predict_proba(X)\n",
    "prob"
   ]
  },
  {
   "cell_type": "code",
   "execution_count": null,
   "id": "2d0d3be6-d729-4f22-bc6d-8387985e8b8f",
   "metadata": {},
   "outputs": [],
   "source": [
    "df_"
   ]
  },
  {
   "cell_type": "code",
   "execution_count": null,
   "id": "1be4233c-b35d-49ea-9e28-da942f6e77d8",
   "metadata": {},
   "outputs": [],
   "source": [
    "import xgboost as xgb\n",
    "\n",
    "\n",
    "from sklearn.metrics import accuracy_score\n",
    "\n",
    "# Load the iris dataset\n",
    "\n",
    "\n",
    "\n",
    "# Split data into training and testing sets\n",
    "\n",
    "# Create an XGBoost classifier\n",
    "model = xgb.XGBClassifier(\n",
    "    objective='binary:logistic',  # Specify the objective function for multi-class classification               # Specify the number of classes\n",
    "    n_estimators=100,           # Number of boosting rounds (trees)\n",
    "    learning_rate=0.1,          # Step size shrinkage to prevent overfitting\n",
    "    max_depth=3,                # Maximum depth of a tree\n",
    "    random_state=42             # Random seed for reproducibility\n",
    ")\n",
    "\n",
    "#model = XGBClassifier(objective='binary:logistic', random_state=42)\n",
    "\n",
    "# Train the model\n",
    "model.fit(X_train, y_train)\n",
    "\n",
    "# Make predictions on the test set\n",
    "y_pred = model.predict(X_test)\n",
    "\n",
    "# Evaluate the model\n",
    "accuracy = accuracy_score(y_test, y_pred)\n",
    "print(f\"Accuracy: {accuracy:.2f}\")"
   ]
  },
  {
   "cell_type": "code",
   "execution_count": null,
   "id": "403677a5-cb12-4260-8c77-04ff7f8fde72",
   "metadata": {},
   "outputs": [],
   "source": [
    "from sklearn.metrics import confusion_matrix, ConfusionMatrixDisplay\n",
    "\n",
    "cm = confusion_matrix(y_test, y_pred)\n",
    "\n",
    "# Visualize the confusion matrix\n",
    "disp = ConfusionMatrixDisplay(confusion_matrix=cm, display_labels=['Negative', 'Positive'])\n",
    "disp.plot()\n",
    "plt.show()\n",
    "\n",
    "# Print the confusion matrix\n",
    "print(cm)"
   ]
  },
  {
   "cell_type": "code",
   "execution_count": null,
   "id": "50b9a1b8-52d8-42c5-b705-f8f595e1905f",
   "metadata": {},
   "outputs": [],
   "source": [
    "\n",
    "from sklearn.metrics import roc_curve, roc_auc_score\n",
    "\n",
    "y_prob = model.predict_proba(X_test)[:, 1]\n",
    "\n",
    "# Compute the ROC curve\n",
    "fpr, tpr, thresholds = roc_curve(y_test, y_prob)\n",
    "\n",
    "# Compute the AUC score\n",
    "roc_auc = roc_auc_score(y_test, y_prob)\n",
    "\n",
    "# Plot the ROC curve\n",
    "plt.figure(figsize=(8, 6))\n",
    "plt.plot(fpr, tpr, color='darkorange', lw=2, label=f'ROC curve (AUC = {roc_auc:.2f})')\n",
    "plt.plot([0, 1], [0, 1], color='navy', lw=2, linestyle='--')\n",
    "plt.xlim([0.0, 1.0])\n",
    "plt.ylim([0.0, 1.05])\n",
    "plt.xlabel('False Positive Rate')\n",
    "plt.ylabel('True Positive Rate')\n",
    "plt.title('Receiver Operating Characteristic (ROC)')\n",
    "plt.legend(loc='lower right')\n",
    "plt.show()"
   ]
  },
  {
   "cell_type": "markdown",
   "id": "62e89c64-ec12-46ad-9766-31720d4ea3af",
   "metadata": {},
   "source": [
    " thresholds"
   ]
  },
  {
   "cell_type": "code",
   "execution_count": null,
   "id": "e8bb1949-5697-4d6b-8780-a31bc3d10455",
   "metadata": {},
   "outputs": [],
   "source": [
    "thresholds"
   ]
  },
  {
   "cell_type": "code",
   "execution_count": null,
   "id": "c0a87cfa-310a-4371-b9bd-4fd46086048d",
   "metadata": {},
   "outputs": [],
   "source": [
    "n_thresholds = thresholds[16:20]"
   ]
  },
  {
   "cell_type": "code",
   "execution_count": null,
   "id": "93480f7b-ec6f-4dad-9d3c-983b4d832668",
   "metadata": {},
   "outputs": [],
   "source": [
    "n_thresholds =np.linspace(0.5, 0.2, 5)"
   ]
  },
  {
   "cell_type": "code",
   "execution_count": null,
   "id": "ebc22884-cfbf-4c58-8cdf-0abcb094accf",
   "metadata": {},
   "outputs": [],
   "source": [
    "import numpy as np\n",
    "from sklearn.metrics import confusion_matrix\n",
    "import matplotlib.pyplot as plt\n",
    "import seaborn as sns\n",
    "\n",
    "def plot_confusion_matrix(y_true, y_pred, threshold, ax):\n",
    "    \"\"\"\n",
    "    Calculates and plots the confusion matrix for given true and predicted labels at a specified threshold.\n",
    "\n",
    "    Args:\n",
    "        y_true (array-like): True labels.\n",
    "        y_pred (array-like): Predicted probabilities.\n",
    "        threshold (float): Probability threshold for classification.\n",
    "        ax (matplotlib.axes._subplots.AxesSubplot): Axis object to plot on.\n",
    "    \"\"\"\n",
    "    y_pred_class = (y_pred > threshold).astype(int)\n",
    "    cm = confusion_matrix(y_true, y_pred_class)\n",
    "    \n",
    "    sns.heatmap(cm, annot=True, fmt='d', cmap='Blues', ax=ax)\n",
    "    ax.set_title(f'Threshold: {threshold}')\n",
    "    ax.set_xlabel('Predicted Label')\n",
    "    ax.set_ylabel('True Label')\n",
    "\n",
    "# Example usage\n",
    "\n",
    "fig, axes = plt.subplots(1, len(n_thresholds), figsize=(15, 5))\n",
    "\n",
    "for i, threshold in enumerate(n_thresholds):\n",
    "    plot_confusion_matrix(y_test, y_prob, threshold, axes[i])\n",
    "\n",
    "plt.tight_layout()\n",
    "plt.show()"
   ]
  },
  {
   "cell_type": "code",
   "execution_count": null,
   "id": "9c1e18e6-36da-4034-8322-004ce98b1db3",
   "metadata": {},
   "outputs": [],
   "source": [
    "import xgboost as xgb\n",
    "from sklearn.model_selection import GridSearchCV, StratifiedKFold\n",
    "from sklearn.metrics import roc_auc_score\n",
    "from sklearn.datasets import make_classification\n",
    "\n",
    "\n",
    "# Define the XGBoost classifier\n",
    "xgb_clf = xgb.XGBClassifier(\n",
    "    objective='binary:logistic',  # Specify binary classification\n",
    "    #eval_metric='accuracy',            # Evaluation metric\n",
    "    #use_label_encoder=False,       # Avoid a warning\n",
    "    random_state=42\n",
    ")\n",
    "\n",
    "# Define the parameter grid to search\n",
    "param_grid = {\n",
    "    'n_estimators': [100, 200, 300],\n",
    "    'max_depth': [3, 4, 5],\n",
    "    'learning_rate': [0.01, 0.1, 0.2],\n",
    "    'subsample': [0.7, 0.8, 0.9],\n",
    "    'colsample_bytree': [0.6, 0.7, 0.8]\n",
    "}\n",
    "\n",
    "# Define cross-validation strategy\n",
    "cv = StratifiedKFold(n_splits=2, shuffle=True, random_state=42)\n",
    "\n",
    "# Initialize Grid Search\n",
    "grid_search = GridSearchCV(\n",
    "    estimator=xgb_clf,\n",
    "    param_grid=param_grid,\n",
    "    scoring='accuracy',\n",
    "    cv=cv,\n",
    "    n_jobs=-1, # Use all available cores\n",
    "    verbose=1\n",
    ")\n",
    "\n",
    "# Fit Grid Search to the data\n",
    "grid_search.fit(X_train, y_train)\n",
    "\n",
    "# Print the best parameters and score\n",
    "print(\"Best parameters:\", grid_search.best_params_)\n",
    "print(\"Best score:\", grid_search.best_score_)\n",
    "\n",
    "# Get the best model\n",
    "best_model = grid_search.best_estimator_\n",
    "\n",
    "# Make predictions on the test set (or the same data for demonstration)\n",
    "y_prob = best_model.predict_proba(X_test)[:, 1]\n",
    "auc_score = roc_auc_score(y_test, y_prob)\n",
    "print(\"AUC on the data:\", auc_score)"
   ]
  },
  {
   "cell_type": "code",
   "execution_count": null,
   "id": "b6f7ac69-908c-4634-a0bd-897116ffe2d0",
   "metadata": {},
   "outputs": [],
   "source": [
    "# Compute the ROC curve\n",
    "fpr, tpr, thresholds = roc_curve(y_test, y_prob)\n",
    "\n",
    "# Compute the AUC score\n",
    "roc_auc = roc_auc_score(y_test, y_prob)\n",
    "\n",
    "# Plot the ROC curve\n",
    "plt.figure(figsize=(8, 6))\n",
    "plt.plot(fpr, tpr, color='darkorange', lw=2, label=f'ROC curve (AUC = {roc_auc:.2f})')\n",
    "plt.plot([0, 1], [0, 1], color='navy', lw=2, linestyle='--')\n",
    "plt.xlim([0.0, 1.0])\n",
    "plt.ylim([0.0, 1.05])\n",
    "plt.xlabel('False Positive Rate')\n",
    "plt.ylabel('True Positive Rate')\n",
    "plt.title('Receiver Operating Characteristic (ROC)')\n",
    "plt.legend(loc='lower right')\n",
    "plt.show()"
   ]
  },
  {
   "cell_type": "code",
   "execution_count": null,
   "id": "824b6557-f5c4-4c8f-8727-112a0dfac9a2",
   "metadata": {},
   "outputs": [],
   "source": [
    "import numpy as np\n",
    "from sklearn.metrics import confusion_matrix\n",
    "import matplotlib.pyplot as plt\n",
    "import seaborn as sns\n",
    "\n",
    "n_thresholds =np.linspace(0.6, 0.3, 5)\n",
    "\n",
    "fig, axes = plt.subplots(1, len(n_thresholds), figsize=(15, 5))\n",
    "\n",
    "for i, threshold in enumerate(n_thresholds):\n",
    "    plot_confusion_matrix(y_test, y_prob, threshold, axes[i])\n",
    "\n",
    "plt.tight_layout()\n",
    "plt.show()"
   ]
  },
  {
   "cell_type": "code",
   "execution_count": null,
   "id": "8777de0e-eace-4cf5-80dc-6a6ecf287c9e",
   "metadata": {},
   "outputs": [],
   "source": [
    "from sklearn.ensemble import AdaBoostClassifier"
   ]
  },
  {
   "cell_type": "code",
   "execution_count": null,
   "id": "c1992859-f3aa-49ff-acc4-a5d229c09942",
   "metadata": {},
   "outputs": [],
   "source": [
    "error_rates = []\n",
    "\n",
    "for n in range(1,96):\n",
    "    \n",
    "    model = AdaBoostClassifier(n_estimators=n)\n",
    "    model.fit(X_train,y_train)\n",
    "    preds = model.predict(X_test)\n",
    "    err = 1 - accuracy_score(y_test,preds)\n",
    "    \n",
    "    error_rates.append(err)"
   ]
  },
  {
   "cell_type": "code",
   "execution_count": null,
   "id": "02bd750a-66dd-474b-8149-008ec59f107d",
   "metadata": {},
   "outputs": [],
   "source": [
    "plt.plot(range(1,96),error_rates)"
   ]
  },
  {
   "cell_type": "code",
   "execution_count": null,
   "id": "d85aa590-48ec-4f14-9b57-4cc8919ed730",
   "metadata": {},
   "outputs": [],
   "source": []
  }
 ],
 "metadata": {
  "kernelspec": {
   "display_name": "Python 3 (ipykernel)",
   "language": "python",
   "name": "python3"
  },
  "language_info": {
   "codemirror_mode": {
    "name": "ipython",
    "version": 3
   },
   "file_extension": ".py",
   "mimetype": "text/x-python",
   "name": "python",
   "nbconvert_exporter": "python",
   "pygments_lexer": "ipython3",
   "version": "3.13.2"
  }
 },
 "nbformat": 4,
 "nbformat_minor": 5
}
