{
 "cells": [
  {
   "cell_type": "code",
   "execution_count": null,
   "id": "6e6d17a4-11b0-42c2-aeff-1e36776a2ae5",
   "metadata": {},
   "outputs": [],
   "source": [
    "!pip install ib_async"
   ]
  },
  {
   "cell_type": "code",
   "execution_count": 1,
   "id": "f0d96f9c-561a-4b14-a127-9527ed2fa86a",
   "metadata": {},
   "outputs": [],
   "source": [
    "import os\n",
    "import numpy as np\n",
    "import pandas as pd\n",
    "from datetime import datetime, date, timedelta, time\n",
    "os.environ['TZ'] ='America/New_York'\n",
    "\n",
    "#import yfinance as yf\n",
    "\n",
    "import seaborn as sns\n",
    "import matplotlib.pyplot as plt\n",
    "\n",
    "from sklearn.tree import DecisionTreeRegressor\n",
    "from sklearn.ensemble import RandomForestRegressor\n",
    "from sklearn.metrics import mean_squared_error, mean_absolute_error\n",
    "\n",
    "from ib_async import *\n",
    "util.startLoop()"
   ]
  },
  {
   "cell_type": "code",
   "execution_count": null,
   "id": "6a24bcc0-9806-4742-8269-d1743c59ce77",
   "metadata": {},
   "outputs": [],
   "source": []
  },
  {
   "cell_type": "markdown",
   "id": "b49f8d42-045b-4c3b-bb98-0d5acdb61696",
   "metadata": {},
   "source": [
    "### Data Prep for Inferencing"
   ]
  },
  {
   "cell_type": "code",
   "execution_count": null,
   "id": "78d4390b-5d51-473d-8b43-99cfd36e358a",
   "metadata": {},
   "outputs": [],
   "source": [
    "ib = IB()\n",
    "ib.connect(port=7496, clientId=1)"
   ]
  },
  {
   "cell_type": "code",
   "execution_count": null,
   "id": "4cf65e41-67cb-49d6-8bff-a910f14600e9",
   "metadata": {},
   "outputs": [],
   "source": [
    "contract = Contract(symbol='META', secType='STK', exchange='SMART', currency='USD')\n",
    "ib.qualifyContracts(contract)"
   ]
  },
  {
   "cell_type": "code",
   "execution_count": null,
   "id": "e2a181d2-4ba7-4cfa-861f-256b0d87336c",
   "metadata": {},
   "outputs": [],
   "source": [
    "contract_vix = Contract(symbol= 'VIX', secType = 'IND',exchange = 'CBOE', currency='USD')\n",
    "ib.qualifyContracts(contract_vix)"
   ]
  },
  {
   "cell_type": "code",
   "execution_count": null,
   "id": "5db09cf3-e7fc-48ae-bd09-1814e51b5a16",
   "metadata": {},
   "outputs": [],
   "source": [
    "contract_nas = Contract(symbol= 'TQQQ', secType = 'STK',exchange = 'SMART', currency='USD')\n",
    "ib.qualifyContracts(contract_nas)"
   ]
  },
  {
   "cell_type": "code",
   "execution_count": 2,
   "id": "287a6330-c731-47bc-8be7-65516105d735",
   "metadata": {},
   "outputs": [],
   "source": [
    "def get_fridays_in_range(start_date, end_date):\n",
    "    \"\"\"\n",
    "    Returns a list of dates that are Fridays within the given date range.\n",
    "\n",
    "    Args:\n",
    "        start_date (date): The start date of the range.\n",
    "        end_date (date): The end date of the range.\n",
    "\n",
    "    Returns:\n",
    "        list: A list of date objects representing Fridays within the range.\n",
    "    \"\"\"\n",
    "    fridays = []\n",
    "    all_dates = []\n",
    "    current_date = start_date\n",
    "    all_current_date = start_date\n",
    "\n",
    "    # Adjust to the first Friday\n",
    "    days_until_friday = (4 - current_date.weekday()) % 7\n",
    "    current_date += timedelta(days=days_until_friday)\n",
    "\n",
    "    while current_date <= end_date:\n",
    "        fridays.append(current_date)\n",
    "        current_date += timedelta(days=7) # Move to the next Friday\n",
    "\n",
    "    while all_current_date <= end_date:\n",
    "        all_dates.append(all_current_date)\n",
    "        all_current_date += timedelta(days=1)\n",
    "\n",
    "    biz_dates = [ d for d in all_dates if d.weekday()<5]\n",
    "    \n",
    "    return fridays, biz_dates\n",
    "\n",
    "# Example Usage\n",
    "start_date = date(2024, 2, 1)\n",
    "end_date = date(2025, 4, 8)\n",
    "\n",
    "fridays, all_dates = get_fridays_in_range(start_date, end_date)\n",
    "# removing Non-trading Holidays\n",
    "\n",
    "fridays.remove(date(2024, 3, 29))\n",
    "fridays.remove(date(2024, 11, 29))\n",
    "\n",
    "#all_dates.remove(date(2024, 1, 15))\n",
    "all_dates.remove(date(2024, 2, 19))\n",
    "all_dates.remove(date(2024, 3, 29))\n",
    "all_dates.remove(date(2024, 5, 27))\n",
    "all_dates.remove(date(2024, 6, 19))\n",
    "all_dates.remove(date(2024, 7, 3))\n",
    "all_dates.remove(date(2024, 7, 4))\n",
    "all_dates.remove(date(2024, 9, 2))\n",
    "all_dates.remove(date(2024, 11, 28))\n",
    "all_dates.remove(date(2024, 11, 29))\n",
    "all_dates.remove(date(2024, 12, 24))\n",
    "all_dates.remove(date(2024, 12, 25))\n",
    "\n",
    "all_dates.remove(date(2025, 1, 1))\n",
    "all_dates.remove(date(2025, 1, 8))\n",
    "all_dates.remove(date(2025, 1, 20))\n",
    "all_dates.remove(date(2025, 2, 17))\n"
   ]
  },
  {
   "cell_type": "code",
   "execution_count": null,
   "id": "9844d487-3c68-48b9-9af2-6ac9dbd2a251",
   "metadata": {},
   "outputs": [],
   "source": [
    "# duration is fixed for an year\n",
    "def simple_data_req( contract, end_date , barsize =\"1 min\", data_clean = True):\n",
    "\n",
    "   \n",
    "    df_acc=pd.DataFrame()\n",
    "    df_hist=pd.DataFrame()\n",
    "\n",
    "    for i in range(17):\n",
    "        print(f'fetching data for {i}')\n",
    "        bars = ib.reqHistoricalData(contract= contract, endDateTime=end_date, barSizeSetting= barsize, durationStr= \"20 D\", whatToShow=\"TRADES\", useRTH=True)\n",
    "        df = util.df(bars)\n",
    "        end_date = end_date - timedelta(20+2)\n",
    "        df_acc = pd.concat([df, df_acc], ignore_index=True)\n",
    "        print(f\"head date {df_acc.head(1)['date']}\")\n",
    "        print(f\"tail date {df_acc.tail(1)['date']}\")\n",
    "        #print(df)\n",
    "\n",
    "        df_acc['Date_Only'] = df_acc['date'].dt.date\n",
    "    \n",
    "    if data_clean == True:\n",
    "        df_hist = df_acc[(df_acc['date'].dt.time >= time(9, 30)) & (df_acc['date'].dt.time < time(16, 00))]\n",
    "    else:\n",
    "        df_hist = df_acc\n",
    "\n",
    "    #df_hist.drop_duplicates(inplace=True)\n",
    "    \n",
    "    return df_hist"
   ]
  },
  {
   "cell_type": "code",
   "execution_count": 3,
   "id": "9c0c04d6-a811-459d-b4eb-677b1d46b103",
   "metadata": {},
   "outputs": [],
   "source": [
    "# picking out Friday and before specific-time data\n",
    "\n",
    "#specific_time = time(14, 30, 0)\n",
    "def data_filter_v46(df_initial, list_days, specific_time_before = None, specific_time_after= None, on_time= None):\n",
    "    his_df = pd.DataFrame()\n",
    "\n",
    "    df_trimmed = df_initial[df_initial['date'].dt.date.isin(list_days)]\n",
    "\n",
    "    if specific_time_before is not None:\n",
    "\n",
    "        his_df = df_trimmed[(df_trimmed['date'].dt.time < specific_time_before)]\n",
    "        \n",
    "            \n",
    "    if specific_time_after is not None:\n",
    "\n",
    "        his_df = df_trimmed[(df_trimmed['date'].dt.time >= specific_time_after)]\n",
    "\n",
    "    if on_time is not None:\n",
    "        his_df = df_trimmed[(df_trimmed['date'].dt.time == on_time)]\n",
    "\n",
    "    if (specific_time_before is None and specific_time_after is None) and on_time is None:\n",
    "\n",
    "        his_df = df_trimmed\n",
    "        \n",
    "    return his_df"
   ]
  },
  {
   "cell_type": "code",
   "execution_count": 4,
   "id": "deef7ed4-20fa-40b2-8fcc-98c85578b5b3",
   "metadata": {},
   "outputs": [],
   "source": [
    "from datetime import date, timedelta\n",
    "\n",
    "def calculate_business_days(start_date, end_date):\n",
    "    \"\"\"\n",
    "    Calculates the number of business days between two dates, excluding weekends.\n",
    "\n",
    "    Args:\n",
    "        start_date (date): The start date.\n",
    "        end_date (date): The end date.\n",
    "\n",
    "    Returns:\n",
    "        int: The number of business days.\n",
    "    \"\"\"\n",
    "    business_days = 0\n",
    "    current_date = start_date\n",
    "    while current_date <= end_date:\n",
    "        if current_date.weekday() < 5:  # Monday to Friday\n",
    "            business_days += 1\n",
    "        current_date += timedelta(days=1)\n",
    "    return business_days\n",
    "\n",
    "# Example usage:\n",
    "# start_date = date(2025, 2, 1)  # April 7, 2025 (Monday)\n",
    "# end_date = date(2025, 4, 3)  # April 18, 2025 (Friday)\n",
    "# num_business_days = calculate_business_days(start_date, end_date)\n",
    "# print(f\"Number of business days between {start_date} and {end_date}: {num_business_days}\")"
   ]
  },
  {
   "cell_type": "code",
   "execution_count": 5,
   "id": "bfe84c98-e2ce-4c5b-8e02-22be0f9bb9fd",
   "metadata": {},
   "outputs": [],
   "source": [
    "df_META = pd.read_pickle('META_master_stock_info.pkl')\n",
    "df_VIX = pd.read_pickle('VIX_master_info.pkl')\n",
    "df_TQQQ = pd.read_pickle('TQQQ_master_info.pkl')"
   ]
  },
  {
   "cell_type": "markdown",
   "id": "34c8eb67-543d-4ad9-b613-d44a8b3f966c",
   "metadata": {},
   "source": [
    "### Trainning Data Set Collection ###"
   ]
  },
  {
   "cell_type": "code",
   "execution_count": null,
   "id": "7aa3420a-ca6d-4482-8a76-12a8f9915135",
   "metadata": {
    "scrolled": true
   },
   "outputs": [],
   "source": [
    "barsize =\"5 mins\"\n",
    "\n",
    "df_all_days_stock = simple_data_req(contract = contract, end_date = end_date, barsize= barsize )"
   ]
  },
  {
   "cell_type": "code",
   "execution_count": null,
   "id": "9e24647c-a9a7-4aad-b56f-8ab6afd1c5fe",
   "metadata": {},
   "outputs": [],
   "source": [
    "#df_META = pd.read_pickle('META_master_stock_info.pkl')\n",
    "df_VIX = pd.read_pickle('VIX_master_info.pkl')\n",
    "df_TQQQ = pd.read_pickle('TQQQ_master_info.pkl')"
   ]
  },
  {
   "cell_type": "code",
   "execution_count": 6,
   "id": "ed94504e-e38d-4319-b6b9-a7d8a5ac7ffe",
   "metadata": {},
   "outputs": [],
   "source": [
    "\n",
    "def calculate_macd(data, fast_period=12, slow_period=26, signal_period=9):\n",
    "    \"\"\"\n",
    "    Calculates the MACD indicator for a given time series data.\n",
    "\n",
    "    Args:\n",
    "        data (pd.Series): Time series data (e.g., closing prices).\n",
    "        fast_period (int): Period for the fast EMA (default: 12).\n",
    "        slow_period (int): Period for the slow EMA (default: 26).\n",
    "        signal_period (int): Period for the signal line EMA (default: 9).\n",
    "\n",
    "    Returns:\n",
    "        pd.DataFrame: DataFrame containing MACD, signal line, and histogram.\n",
    "    \"\"\"\n",
    "    fast_ema = data.ewm(span=fast_period, adjust=False).mean()\n",
    "    slow_ema = data.ewm(span=slow_period, adjust=False).mean()\n",
    "    macd_line = fast_ema - slow_ema\n",
    "    signal_line = macd_line.ewm(span=signal_period, adjust=False).mean()\n",
    "    histogram = macd_line - signal_line\n",
    "\n",
    "    macd_df = pd.DataFrame({\n",
    "        'MACD': macd_line,\n",
    "        'Signal_Line': signal_line,\n",
    "        'Histogram': histogram\n",
    "    })\n",
    "    return macd_df\n",
    "\n",
    "# Example usage with sample data\n",
    "#data = pd.Series(np.random.rand(100))\n",
    "data = df_META['close']\n",
    "df_META['MACD']= calculate_macd(data)['MACD']\n",
    "df_META['diff_MACD'] = df_META['MACD'].diff()\n",
    "df_META['MACD_Sig'] =calculate_macd(data)['Signal_Line']\n",
    "df_META['diff_M_Sig'] = df_META['MACD_Sig'].diff()\n",
    "#print(macd_result)"
   ]
  },
  {
   "cell_type": "code",
   "execution_count": null,
   "id": "099cd745-2778-46b4-9992-3d14955f6c9a",
   "metadata": {},
   "outputs": [],
   "source": [
    "df_META"
   ]
  },
  {
   "cell_type": "code",
   "execution_count": 7,
   "id": "628bd04b-1733-4fd4-8364-691500da4d3b",
   "metadata": {},
   "outputs": [],
   "source": [
    "import pandas as pd\n",
    "\n",
    "def calculate_rsi(data, period=12):\n",
    "    \"\"\"\n",
    "    Calculates the Relative Strength Index (RSI) for a given dataset.\n",
    "\n",
    "    Args:\n",
    "        data (pd.Series): A Pandas Series representing the price data.\n",
    "        period (int, optional): The lookback period for calculating RSI. Defaults to 14.\n",
    "\n",
    "    Returns:\n",
    "        pd.Series: A Pandas Series containing the RSI values.\n",
    "    \"\"\"\n",
    "    delta = data.diff()\n",
    "    gain = (delta.where(delta > 0, 0)).fillna(0)\n",
    "    loss = (-delta.where(delta < 0, 0)).fillna(0)\n",
    "    \n",
    "    avg_gain = gain.rolling(window=period, min_periods=period).mean()\n",
    "    avg_loss = loss.rolling(window=period, min_periods=period).mean()\n",
    "\n",
    "    rs = avg_gain / avg_loss\n",
    "    rsi = 100 - (100 / (1 + rs))\n",
    "    return rsi\n",
    "\n",
    "# Example usa#ge:\n",
    "#data = pd.Series([45.49, 45.71, 46.14, 46.13, 45.53, 45.81, 46.44, 46.09, 46.08, 46.71])\n",
    "#rsi_values = calculate_rsi(data)\n",
    "#print(rsi_values)"
   ]
  },
  {
   "cell_type": "code",
   "execution_count": 8,
   "id": "91208fa8-2836-4de7-87e7-79ac1b868087",
   "metadata": {},
   "outputs": [],
   "source": [
    "df_META['RSI_12'] = calculate_rsi(df_META['close'])"
   ]
  },
  {
   "cell_type": "code",
   "execution_count": 9,
   "id": "a26876b2-3410-4843-b77d-234477b03acd",
   "metadata": {},
   "outputs": [],
   "source": [
    "### data cleaning ## step\n",
    "# clean duplicate\n",
    "# is in the days of interest\n",
    "# within windows\n",
    "\n",
    "def data_cleaning(df, in_days):\n",
    "    df_his = pd.DataFrame()\n",
    "    df_return = pd.DataFrame()\n",
    "    \n",
    "    df.drop_duplicates(inplace = True)\n",
    "    df_his = df[df[\"Date_Only\"].isin(in_days)]\n",
    "    df_return = df_his[(df_his['date'].dt.time > time(9,29)) & (df_his['date'].dt.time < time(16,00))]\n",
    "\n",
    "    for i in df_return['Date_Only'].unique():\n",
    "        if df_return[df_return['Date_Only'] ==i].shape[0] % 390 != 0:\n",
    "            print(i)\n",
    "    \n",
    "    return df_return"
   ]
  },
  {
   "cell_type": "code",
   "execution_count": 10,
   "id": "2392c52b-c139-489e-ab7e-b8ba07c4f6b0",
   "metadata": {},
   "outputs": [
    {
     "data": {
      "text/plain": [
       "(100620, 14)"
      ]
     },
     "execution_count": 10,
     "metadata": {},
     "output_type": "execute_result"
    }
   ],
   "source": [
    "df_META = data_cleaning(df_META, all_dates)\n",
    "\n",
    "df_META.shape"
   ]
  },
  {
   "cell_type": "code",
   "execution_count": 11,
   "id": "67c595a2-9b2a-419e-89ad-688e7ec75371",
   "metadata": {},
   "outputs": [
    {
     "data": {
      "text/plain": [
       "(100620, 9)"
      ]
     },
     "execution_count": 11,
     "metadata": {},
     "output_type": "execute_result"
    }
   ],
   "source": [
    "df_TQQQ_trim = data_cleaning(df_TQQQ, all_dates)\n",
    "\n",
    "df_TQQQ_trim.shape"
   ]
  },
  {
   "cell_type": "code",
   "execution_count": 12,
   "id": "658bca8f-47eb-457b-ab96-8aed79b366b9",
   "metadata": {},
   "outputs": [
    {
     "name": "stdout",
     "output_type": "stream",
     "text": [
      "2025-04-08\n"
     ]
    },
    {
     "data": {
      "text/plain": [
       "(100597, 9)"
      ]
     },
     "execution_count": 12,
     "metadata": {},
     "output_type": "execute_result"
    }
   ],
   "source": [
    "df_VIX_trim = data_cleaning(df_VIX, all_dates)\n",
    "\n",
    "df_VIX_trim.shape"
   ]
  },
  {
   "cell_type": "code",
   "execution_count": 13,
   "id": "63108393-d693-4b18-8c28-3188405fddb7",
   "metadata": {},
   "outputs": [
    {
     "data": {
      "text/html": [
       "<div>\n",
       "<style scoped>\n",
       "    .dataframe tbody tr th:only-of-type {\n",
       "        vertical-align: middle;\n",
       "    }\n",
       "\n",
       "    .dataframe tbody tr th {\n",
       "        vertical-align: top;\n",
       "    }\n",
       "\n",
       "    .dataframe thead th {\n",
       "        text-align: right;\n",
       "    }\n",
       "</style>\n",
       "<table border=\"1\" class=\"dataframe\">\n",
       "  <thead>\n",
       "    <tr style=\"text-align: right;\">\n",
       "      <th></th>\n",
       "      <th>date</th>\n",
       "      <th>open</th>\n",
       "      <th>high</th>\n",
       "      <th>low</th>\n",
       "      <th>close</th>\n",
       "      <th>volume</th>\n",
       "      <th>average</th>\n",
       "      <th>barCount</th>\n",
       "      <th>Date_Only</th>\n",
       "      <th>MACD</th>\n",
       "      <th>diff_MACD</th>\n",
       "      <th>MACD_Sig</th>\n",
       "      <th>diff_M_Sig</th>\n",
       "      <th>RSI_12</th>\n",
       "    </tr>\n",
       "  </thead>\n",
       "  <tbody>\n",
       "    <tr>\n",
       "      <th>0</th>\n",
       "      <td>2024-03-22 09:30:00-04:00</td>\n",
       "      <td>507.00</td>\n",
       "      <td>507.38</td>\n",
       "      <td>505.52</td>\n",
       "      <td>506.03</td>\n",
       "      <td>99707.0</td>\n",
       "      <td>506.833</td>\n",
       "      <td>172</td>\n",
       "      <td>2024-03-22</td>\n",
       "      <td>0.000000</td>\n",
       "      <td>NaN</td>\n",
       "      <td>0.000000</td>\n",
       "      <td>NaN</td>\n",
       "      <td>NaN</td>\n",
       "    </tr>\n",
       "    <tr>\n",
       "      <th>1</th>\n",
       "      <td>2024-03-22 09:31:00-04:00</td>\n",
       "      <td>506.00</td>\n",
       "      <td>506.30</td>\n",
       "      <td>505.33</td>\n",
       "      <td>505.86</td>\n",
       "      <td>18062.0</td>\n",
       "      <td>505.705</td>\n",
       "      <td>115</td>\n",
       "      <td>2024-03-22</td>\n",
       "      <td>-0.013561</td>\n",
       "      <td>-0.013561</td>\n",
       "      <td>-0.002712</td>\n",
       "      <td>-0.002712</td>\n",
       "      <td>NaN</td>\n",
       "    </tr>\n",
       "    <tr>\n",
       "      <th>2</th>\n",
       "      <td>2024-03-22 09:32:00-04:00</td>\n",
       "      <td>505.65</td>\n",
       "      <td>505.89</td>\n",
       "      <td>504.61</td>\n",
       "      <td>504.84</td>\n",
       "      <td>25951.0</td>\n",
       "      <td>505.025</td>\n",
       "      <td>176</td>\n",
       "      <td>2024-03-22</td>\n",
       "      <td>-0.105399</td>\n",
       "      <td>-0.091838</td>\n",
       "      <td>-0.023250</td>\n",
       "      <td>-0.020537</td>\n",
       "      <td>NaN</td>\n",
       "    </tr>\n",
       "    <tr>\n",
       "      <th>3</th>\n",
       "      <td>2024-03-22 09:33:00-04:00</td>\n",
       "      <td>504.65</td>\n",
       "      <td>505.63</td>\n",
       "      <td>504.50</td>\n",
       "      <td>505.25</td>\n",
       "      <td>15252.0</td>\n",
       "      <td>505.088</td>\n",
       "      <td>117</td>\n",
       "      <td>2024-03-22</td>\n",
       "      <td>-0.143444</td>\n",
       "      <td>-0.038045</td>\n",
       "      <td>-0.047289</td>\n",
       "      <td>-0.024039</td>\n",
       "      <td>NaN</td>\n",
       "    </tr>\n",
       "    <tr>\n",
       "      <th>4</th>\n",
       "      <td>2024-03-22 09:34:00-04:00</td>\n",
       "      <td>505.28</td>\n",
       "      <td>505.31</td>\n",
       "      <td>504.52</td>\n",
       "      <td>504.60</td>\n",
       "      <td>20420.0</td>\n",
       "      <td>504.865</td>\n",
       "      <td>110</td>\n",
       "      <td>2024-03-22</td>\n",
       "      <td>-0.223469</td>\n",
       "      <td>-0.080025</td>\n",
       "      <td>-0.082525</td>\n",
       "      <td>-0.035236</td>\n",
       "      <td>NaN</td>\n",
       "    </tr>\n",
       "    <tr>\n",
       "      <th>...</th>\n",
       "      <td>...</td>\n",
       "      <td>...</td>\n",
       "      <td>...</td>\n",
       "      <td>...</td>\n",
       "      <td>...</td>\n",
       "      <td>...</td>\n",
       "      <td>...</td>\n",
       "      <td>...</td>\n",
       "      <td>...</td>\n",
       "      <td>...</td>\n",
       "      <td>...</td>\n",
       "      <td>...</td>\n",
       "      <td>...</td>\n",
       "      <td>...</td>\n",
       "    </tr>\n",
       "    <tr>\n",
       "      <th>132055</th>\n",
       "      <td>2025-04-08 15:55:00-04:00</td>\n",
       "      <td>509.65</td>\n",
       "      <td>509.65</td>\n",
       "      <td>505.24</td>\n",
       "      <td>508.04</td>\n",
       "      <td>126395.0</td>\n",
       "      <td>507.204</td>\n",
       "      <td>864</td>\n",
       "      <td>2025-04-08</td>\n",
       "      <td>-0.191831</td>\n",
       "      <td>0.096203</td>\n",
       "      <td>-0.766965</td>\n",
       "      <td>0.143784</td>\n",
       "      <td>53.701016</td>\n",
       "    </tr>\n",
       "    <tr>\n",
       "      <th>132056</th>\n",
       "      <td>2025-04-08 15:56:00-04:00</td>\n",
       "      <td>508.09</td>\n",
       "      <td>508.98</td>\n",
       "      <td>507.59</td>\n",
       "      <td>508.88</td>\n",
       "      <td>85229.0</td>\n",
       "      <td>508.218</td>\n",
       "      <td>688</td>\n",
       "      <td>2025-04-08</td>\n",
       "      <td>-0.047263</td>\n",
       "      <td>0.144568</td>\n",
       "      <td>-0.623025</td>\n",
       "      <td>0.143940</td>\n",
       "      <td>67.375307</td>\n",
       "    </tr>\n",
       "    <tr>\n",
       "      <th>132057</th>\n",
       "      <td>2025-04-08 15:57:00-04:00</td>\n",
       "      <td>508.93</td>\n",
       "      <td>509.71</td>\n",
       "      <td>508.76</td>\n",
       "      <td>509.15</td>\n",
       "      <td>125106.0</td>\n",
       "      <td>509.145</td>\n",
       "      <td>1088</td>\n",
       "      <td>2025-04-08</td>\n",
       "      <td>0.088079</td>\n",
       "      <td>0.135342</td>\n",
       "      <td>-0.480804</td>\n",
       "      <td>0.142221</td>\n",
       "      <td>66.071429</td>\n",
       "    </tr>\n",
       "    <tr>\n",
       "      <th>132058</th>\n",
       "      <td>2025-04-08 15:58:00-04:00</td>\n",
       "      <td>509.25</td>\n",
       "      <td>509.75</td>\n",
       "      <td>508.76</td>\n",
       "      <td>509.57</td>\n",
       "      <td>95853.0</td>\n",
       "      <td>509.303</td>\n",
       "      <td>830</td>\n",
       "      <td>2025-04-08</td>\n",
       "      <td>0.226617</td>\n",
       "      <td>0.138538</td>\n",
       "      <td>-0.339320</td>\n",
       "      <td>0.141484</td>\n",
       "      <td>71.653543</td>\n",
       "    </tr>\n",
       "    <tr>\n",
       "      <th>132059</th>\n",
       "      <td>2025-04-08 15:59:00-04:00</td>\n",
       "      <td>509.62</td>\n",
       "      <td>511.00</td>\n",
       "      <td>509.38</td>\n",
       "      <td>510.62</td>\n",
       "      <td>303106.0</td>\n",
       "      <td>510.170</td>\n",
       "      <td>1871</td>\n",
       "      <td>2025-04-08</td>\n",
       "      <td>0.416336</td>\n",
       "      <td>0.189719</td>\n",
       "      <td>-0.188189</td>\n",
       "      <td>0.151131</td>\n",
       "      <td>76.935887</td>\n",
       "    </tr>\n",
       "  </tbody>\n",
       "</table>\n",
       "<p>100620 rows × 14 columns</p>\n",
       "</div>"
      ],
      "text/plain": [
       "                            date    open    high     low   close    volume  \\\n",
       "0      2024-03-22 09:30:00-04:00  507.00  507.38  505.52  506.03   99707.0   \n",
       "1      2024-03-22 09:31:00-04:00  506.00  506.30  505.33  505.86   18062.0   \n",
       "2      2024-03-22 09:32:00-04:00  505.65  505.89  504.61  504.84   25951.0   \n",
       "3      2024-03-22 09:33:00-04:00  504.65  505.63  504.50  505.25   15252.0   \n",
       "4      2024-03-22 09:34:00-04:00  505.28  505.31  504.52  504.60   20420.0   \n",
       "...                          ...     ...     ...     ...     ...       ...   \n",
       "132055 2025-04-08 15:55:00-04:00  509.65  509.65  505.24  508.04  126395.0   \n",
       "132056 2025-04-08 15:56:00-04:00  508.09  508.98  507.59  508.88   85229.0   \n",
       "132057 2025-04-08 15:57:00-04:00  508.93  509.71  508.76  509.15  125106.0   \n",
       "132058 2025-04-08 15:58:00-04:00  509.25  509.75  508.76  509.57   95853.0   \n",
       "132059 2025-04-08 15:59:00-04:00  509.62  511.00  509.38  510.62  303106.0   \n",
       "\n",
       "        average  barCount   Date_Only      MACD  diff_MACD  MACD_Sig  \\\n",
       "0       506.833       172  2024-03-22  0.000000        NaN  0.000000   \n",
       "1       505.705       115  2024-03-22 -0.013561  -0.013561 -0.002712   \n",
       "2       505.025       176  2024-03-22 -0.105399  -0.091838 -0.023250   \n",
       "3       505.088       117  2024-03-22 -0.143444  -0.038045 -0.047289   \n",
       "4       504.865       110  2024-03-22 -0.223469  -0.080025 -0.082525   \n",
       "...         ...       ...         ...       ...        ...       ...   \n",
       "132055  507.204       864  2025-04-08 -0.191831   0.096203 -0.766965   \n",
       "132056  508.218       688  2025-04-08 -0.047263   0.144568 -0.623025   \n",
       "132057  509.145      1088  2025-04-08  0.088079   0.135342 -0.480804   \n",
       "132058  509.303       830  2025-04-08  0.226617   0.138538 -0.339320   \n",
       "132059  510.170      1871  2025-04-08  0.416336   0.189719 -0.188189   \n",
       "\n",
       "        diff_M_Sig     RSI_12  \n",
       "0              NaN        NaN  \n",
       "1        -0.002712        NaN  \n",
       "2        -0.020537        NaN  \n",
       "3        -0.024039        NaN  \n",
       "4        -0.035236        NaN  \n",
       "...            ...        ...  \n",
       "132055    0.143784  53.701016  \n",
       "132056    0.143940  67.375307  \n",
       "132057    0.142221  66.071429  \n",
       "132058    0.141484  71.653543  \n",
       "132059    0.151131  76.935887  \n",
       "\n",
       "[100620 rows x 14 columns]"
      ]
     },
     "execution_count": 13,
     "metadata": {},
     "output_type": "execute_result"
    }
   ],
   "source": [
    "df_META"
   ]
  },
  {
   "cell_type": "code",
   "execution_count": 15,
   "id": "84f78005-55c6-4f0d-b9cb-8312aa231869",
   "metadata": {},
   "outputs": [],
   "source": [
    "cut_time = time(12, 1, 0)"
   ]
  },
  {
   "cell_type": "code",
   "execution_count": 20,
   "id": "6b748e96-b721-4e16-8b86-e0b93f064253",
   "metadata": {},
   "outputs": [],
   "source": [
    "\n",
    "def data_sparcing_construc(df, sp_day, *, cut_time = None):\n",
    "    #df_group = df.groupby(\"Date_Only\").std(numeric_only=True)\n",
    "    df_filter_prior = data_filter_v46(df, sp_day, specific_time_before = cut_time )\n",
    "    df_group_prior = df_filter_prior.groupby(\"Date_Only\").std(numeric_only=True)\n",
    "    \n",
    "    df_filter_after = data_filter_v46(df, sp_day, specific_time_after = cut_time )\n",
    "    df_group_after = df_filter_after.groupby(\"Date_Only\").std(numeric_only=True)\n",
    "\n",
    "\n",
    "    df_group_train =pd.DataFrame()\n",
    "    df_group_train['Target_std'] = pd.DataFrame(df_group_after[['open','high','low','close']].max(axis=1))\n",
    "    df_group_train['Target_spread'] = df_filter_after.groupby('Date_Only')['open'].max() - df_filter_after.groupby('Date_Only')['open'].min()\n",
    "\n",
    "    \n",
    "    \n",
    "    df_group_train['prior_std'] = pd.DataFrame(df_group_prior[['open','high','low','close']].max(axis=1))\n",
    "    df_group_train['prior_Vol'] = pd.DataFrame(df_filter_prior.groupby(\"Date_Only\").mean()['volume'])\n",
    "    df_group_train['prior_spread'] = df_filter_prior.groupby('Date_Only')['open'].max() - df_filter_prior.groupby('Date_Only')['open'].min()\n",
    "\n",
    "    df_group_train['prev_day_spred'] = df_group_train[\"Target_spread\"].shift(1)\n",
    "    df_group_train = df_group_train.fillna(df_group_train['prior_spread'].iloc[0])\n",
    "\n",
    "    \n",
    "    df_group_train['prior_range'] =pd.DataFrame(df_filter_prior.groupby('Date_Only')['close'].max() -df_filter_prior.groupby('Date_Only')['close'].min() )\n",
    "    \n",
    "    df_initial = df_filter_prior.copy()\n",
    "    new_time = time(cut_time.hour, cut_time.minute -1)\n",
    "    df_group_train['cut_open'] = df_filter_prior[(df_filter_prior['date'].dt.time == new_time)]['open'].values\n",
    "    df_group_train['MACD'] = df_filter_prior[(df_filter_prior['date'].dt.time == new_time)]['MACD'].values\n",
    "    df_group_train['MACD_Sig'] = df_filter_prior[(df_filter_prior['date'].dt.time == new_time)]['MACD_Sig'].values\n",
    "    df_group_train['RSI_12'] = df_filter_prior[(df_filter_prior['date'].dt.time == new_time)]['RSI_12'].values\n",
    "\n",
    "    cut_name =['cut_1hr','cut_2hr','cut_3hr']\n",
    "    for i in range(2):\n",
    "        print(i)\n",
    "        prior = time(cut_time.hour - (i+1), cut_time.minute)\n",
    "        df_group_train[cut_name[i]] = df_initial[(df_initial['date'].dt.time == new_time)]['open'].values- df_initial[(df_initial['date'].dt.time == prior)]['open'].values\n",
    "\n",
    "\n",
    "    \n",
    "    return df_group_train, df_filter_prior, df_filter_after, df_group_prior, df_group_after\n",
    "    "
   ]
  },
  {
   "cell_type": "code",
   "execution_count": 21,
   "id": "b7eb65d5-801c-4dfb-b1e9-f5ea8b17a750",
   "metadata": {},
   "outputs": [
    {
     "name": "stdout",
     "output_type": "stream",
     "text": [
      "0\n",
      "1\n"
     ]
    }
   ],
   "source": [
    "df_group_train, df_filter_prior, df_filter_after, df_group_prior, df_group_after = data_sparcing_construc(df_META, all_dates, cut_time= cut_time)"
   ]
  },
  {
   "cell_type": "code",
   "execution_count": null,
   "id": "0649db1d-5682-46ab-8eed-1608db6ac60a",
   "metadata": {},
   "outputs": [],
   "source": [
    "# df_VIX_check = df_all_days_VIX[(df_all_days_VIX['date'].dt.time > time(9,29)) & (df_all_days_VIX['date'].dt.time < time(16,00))]"
   ]
  },
  {
   "cell_type": "code",
   "execution_count": 46,
   "id": "99f8e035-4133-467e-9541-88a84be33f57",
   "metadata": {},
   "outputs": [],
   "source": [
    "list_cut_time = [time(12, 1, 0),time(13, 1, 0),time(14, 1, 0), time(15, 1, 0)]"
   ]
  },
  {
   "cell_type": "code",
   "execution_count": 47,
   "id": "65290552-5f08-4778-935d-cd03880d88ea",
   "metadata": {},
   "outputs": [
    {
     "name": "stdout",
     "output_type": "stream",
     "text": [
      "0\n",
      "1\n",
      "0\n",
      "1\n",
      "0\n",
      "1\n",
      "0\n",
      "1\n"
     ]
    }
   ],
   "source": [
    "pr_spread = pd.DataFrame()\n",
    "\n",
    "for i in list_cut_time:\n",
    "    cut_time= i\n",
    "    df_group_train, df_filter_prior, df_filter_after, df_group_prior, df_group_after = data_sparcing_construc(df_META, all_dates, cut_time= cut_time)\n",
    "    pr_spread = pd.concat([pr_spread, df_group_train['Target_spread']], axis=1)\n"
   ]
  },
  {
   "cell_type": "code",
   "execution_count": 48,
   "id": "af532117-8cb2-48ef-b867-bdb093678c11",
   "metadata": {},
   "outputs": [],
   "source": [
    "pr_spread.columns = [\"12\", \"1\",\"2\",\"3\"]"
   ]
  },
  {
   "cell_type": "code",
   "execution_count": 56,
   "id": "32dc7254-8103-44cb-b563-c110d171c749",
   "metadata": {},
   "outputs": [
    {
     "data": {
      "text/plain": [
       "12    7.858566\n",
       "1     6.585000\n",
       "2     5.254845\n",
       "3     3.921357\n",
       "dtype: float64"
      ]
     },
     "execution_count": 56,
     "metadata": {},
     "output_type": "execute_result"
    }
   ],
   "source": [
    "pr_spread.mean()"
   ]
  },
  {
   "cell_type": "code",
   "execution_count": 51,
   "id": "5eb4b9ff-5162-4fba-95f9-ac5130c6998a",
   "metadata": {},
   "outputs": [
    {
     "data": {
      "text/plain": [
       "<Axes: >"
      ]
     },
     "execution_count": 51,
     "metadata": {},
     "output_type": "execute_result"
    },
    {
     "data": {
      "image/png": "[encoded data removed]",
      "text/plain": [
       "<Figure size 640x480 with 1 Axes>"
      ]
     },
     "metadata": {},
     "output_type": "display_data"
    }
   ],
   "source": [
    "pr_spread.mean().plot()"
   ]
  },
  {
   "cell_type": "code",
   "execution_count": 50,
   "id": "37f7eb17-141e-4385-b516-c00dc7d04a7d",
   "metadata": {},
   "outputs": [
    {
     "data": {
      "text/plain": [
       "12    4.356016\n",
       "1     3.847667\n",
       "2     3.268401\n",
       "3     2.399188\n",
       "dtype: float64"
      ]
     },
     "execution_count": 50,
     "metadata": {},
     "output_type": "execute_result"
    }
   ],
   "source": [
    "pr_spread.std()"
   ]
  },
  {
   "cell_type": "code",
   "execution_count": 53,
   "id": "9523b319-11f5-46cc-88cc-a88d05c656ee",
   "metadata": {},
   "outputs": [
    {
     "data": {
      "text/plain": [
       "<Axes: >"
      ]
     },
     "execution_count": 53,
     "metadata": {},
     "output_type": "execute_result"
    },
    {
     "data": {
      "image/png": "[encoded data removed]",
      "text/plain": [
       "<Figure size 640x480 with 1 Axes>"
      ]
     },
     "metadata": {},
     "output_type": "display_data"
    }
   ],
   "source": [
    "pr_spread.std().plot()"
   ]
  },
  {
   "cell_type": "code",
   "execution_count": 59,
   "id": "b64b6241-0077-4d78-89c9-33235533c7e2",
   "metadata": {},
   "outputs": [
    {
     "data": {
      "text/plain": [
       "<Axes: xlabel='Target_spread', ylabel='Proportion'>"
      ]
     },
     "execution_count": 59,
     "metadata": {},
     "output_type": "execute_result"
    },
    {
     "data": {
      "image/png": "[encoded data removed]",
      "text/plain": [
       "<Figure size 640x480 with 1 Axes>"
      ]
     },
     "metadata": {},
     "output_type": "display_data"
    }
   ],
   "source": [
    "sns.ecdfplot(df_group_train.Target_spread)"
   ]
  },
  {
   "cell_type": "code",
   "execution_count": 33,
   "id": "aa52d3ad-d304-4369-98d6-8a9df3b9c60e",
   "metadata": {},
   "outputs": [
    {
     "data": {
      "text/plain": [
       "<seaborn.axisgrid.FacetGrid at 0x1f9a837a790>"
      ]
     },
     "execution_count": 33,
     "metadata": {},
     "output_type": "execute_result"
    },
    {
     "data": {
      "image/png": "[encoded data removed]",
      "text/plain": [
       "<Figure size 500x500 with 1 Axes>"
      ]
     },
     "metadata": {},
     "output_type": "display_data"
    }
   ],
   "source": [
    "sns.displot(df_group_train.Target_spread, kde=True)"
   ]
  },
  {
   "cell_type": "code",
   "execution_count": 31,
   "id": "1555b42a-8b33-463c-9ccc-82c4e928c690",
   "metadata": {},
   "outputs": [
    {
     "ename": "AttributeError",
     "evalue": "Rectangle.set() got an unexpected keyword argument 'fit'",
     "output_type": "error",
     "traceback": [
      "\u001b[31m---------------------------------------------------------------------------\u001b[39m",
      "\u001b[31mAttributeError\u001b[39m                            Traceback (most recent call last)",
      "\u001b[36mCell\u001b[39m\u001b[36m \u001b[39m\u001b[32mIn[31]\u001b[39m\u001b[32m, line 1\u001b[39m\n\u001b[32m----> \u001b[39m\u001b[32m1\u001b[39m \u001b[43msns\u001b[49m\u001b[43m.\u001b[49m\u001b[43mdisplot\u001b[49m\u001b[43m(\u001b[49m\u001b[43mdf_group_train\u001b[49m\u001b[43m.\u001b[49m\u001b[43mTarget_spread\u001b[49m\u001b[43m,\u001b[49m\u001b[43m \u001b[49m\u001b[43mkde\u001b[49m\u001b[43m=\u001b[49m\u001b[38;5;28;43;01mTrue\u001b[39;49;00m\u001b[43m,\u001b[49m\u001b[43m \u001b[49m\u001b[43mfit\u001b[49m\u001b[43m=\u001b[49m\u001b[43mstats\u001b[49m\u001b[43m.\u001b[49m\u001b[43mnorm\u001b[49m\u001b[43m)\u001b[49m \u001b[38;5;66;03m# Fits a normal distribution\u001b[39;00m\n",
      "\u001b[36mFile \u001b[39m\u001b[32m~\\anaconda3\\envs\\sky\\Lib\\site-packages\\seaborn\\distributions.py:2193\u001b[39m, in \u001b[36mdisplot\u001b[39m\u001b[34m(data, x, y, hue, row, col, weights, kind, rug, rug_kws, log_scale, legend, palette, hue_order, hue_norm, color, col_wrap, row_order, col_order, height, aspect, facet_kws, **kwargs)\u001b[39m\n\u001b[32m   2190\u001b[39m \u001b[38;5;28;01mif\u001b[39;00m p.univariate:\n\u001b[32m   2192\u001b[39m     _assign_default_kwargs(hist_kws, p.plot_univariate_histogram, histplot)\n\u001b[32m-> \u001b[39m\u001b[32m2193\u001b[39m     \u001b[43mp\u001b[49m\u001b[43m.\u001b[49m\u001b[43mplot_univariate_histogram\u001b[49m\u001b[43m(\u001b[49m\u001b[43m*\u001b[49m\u001b[43m*\u001b[49m\u001b[43mhist_kws\u001b[49m\u001b[43m)\u001b[49m\n\u001b[32m   2195\u001b[39m \u001b[38;5;28;01melse\u001b[39;00m:\n\u001b[32m   2197\u001b[39m     _assign_default_kwargs(hist_kws, p.plot_bivariate_histogram, histplot)\n",
      "\u001b[36mFile \u001b[39m\u001b[32m~\\anaconda3\\envs\\sky\\Lib\\site-packages\\seaborn\\distributions.py:571\u001b[39m, in \u001b[36m_DistributionPlotter.plot_univariate_histogram\u001b[39m\u001b[34m(self, multiple, element, fill, common_norm, common_bins, shrink, kde, kde_kws, color, legend, line_kws, estimate_kws, **plot_kws)\u001b[39m\n\u001b[32m    566\u001b[39m \u001b[38;5;28;01mif\u001b[39;00m element == \u001b[33m\"\u001b[39m\u001b[33mbars\u001b[39m\u001b[33m\"\u001b[39m:\n\u001b[32m    567\u001b[39m \n\u001b[32m    568\u001b[39m     \u001b[38;5;66;03m# Use matplotlib bar plotting\u001b[39;00m\n\u001b[32m    570\u001b[39m     plot_func = ax.bar \u001b[38;5;28;01mif\u001b[39;00m \u001b[38;5;28mself\u001b[39m.data_variable == \u001b[33m\"\u001b[39m\u001b[33mx\u001b[39m\u001b[33m\"\u001b[39m \u001b[38;5;28;01melse\u001b[39;00m ax.barh\n\u001b[32m--> \u001b[39m\u001b[32m571\u001b[39m     artists = \u001b[43mplot_func\u001b[49m\u001b[43m(\u001b[49m\n\u001b[32m    572\u001b[39m \u001b[43m        \u001b[49m\u001b[43mhist\u001b[49m\u001b[43m[\u001b[49m\u001b[33;43m\"\u001b[39;49m\u001b[33;43medges\u001b[39;49m\u001b[33;43m\"\u001b[39;49m\u001b[43m]\u001b[49m\u001b[43m,\u001b[49m\n\u001b[32m    573\u001b[39m \u001b[43m        \u001b[49m\u001b[43mhist\u001b[49m\u001b[43m[\u001b[49m\u001b[33;43m\"\u001b[39;49m\u001b[33;43mheights\u001b[39;49m\u001b[33;43m\"\u001b[39;49m\u001b[43m]\u001b[49m\u001b[43m \u001b[49m\u001b[43m-\u001b[49m\u001b[43m \u001b[49m\u001b[43mbottom\u001b[49m\u001b[43m,\u001b[49m\n\u001b[32m    574\u001b[39m \u001b[43m        \u001b[49m\u001b[43mhist\u001b[49m\u001b[43m[\u001b[49m\u001b[33;43m\"\u001b[39;49m\u001b[33;43mwidths\u001b[39;49m\u001b[33;43m\"\u001b[39;49m\u001b[43m]\u001b[49m\u001b[43m,\u001b[49m\n\u001b[32m    575\u001b[39m \u001b[43m        \u001b[49m\u001b[43mbottom\u001b[49m\u001b[43m,\u001b[49m\n\u001b[32m    576\u001b[39m \u001b[43m        \u001b[49m\u001b[43malign\u001b[49m\u001b[43m=\u001b[49m\u001b[33;43m\"\u001b[39;49m\u001b[33;43medge\u001b[39;49m\u001b[33;43m\"\u001b[39;49m\u001b[43m,\u001b[49m\n\u001b[32m    577\u001b[39m \u001b[43m        \u001b[49m\u001b[43m*\u001b[49m\u001b[43m*\u001b[49m\u001b[43martist_kws\u001b[49m\u001b[43m,\u001b[49m\n\u001b[32m    578\u001b[39m \u001b[43m    \u001b[49m\u001b[43m)\u001b[49m\n\u001b[32m    580\u001b[39m     \u001b[38;5;28;01mfor\u001b[39;00m bar \u001b[38;5;129;01min\u001b[39;00m artists:\n\u001b[32m    581\u001b[39m         \u001b[38;5;28;01mif\u001b[39;00m \u001b[38;5;28mself\u001b[39m.data_variable == \u001b[33m\"\u001b[39m\u001b[33mx\u001b[39m\u001b[33m\"\u001b[39m:\n",
      "\u001b[36mFile \u001b[39m\u001b[32m~\\anaconda3\\envs\\sky\\Lib\\site-packages\\matplotlib\\__init__.py:1459\u001b[39m, in \u001b[36m_preprocess_data.<locals>.inner\u001b[39m\u001b[34m(ax, data, *args, **kwargs)\u001b[39m\n\u001b[32m   1456\u001b[39m \u001b[38;5;129m@functools\u001b[39m.wraps(func)\n\u001b[32m   1457\u001b[39m \u001b[38;5;28;01mdef\u001b[39;00m\u001b[38;5;250m \u001b[39m\u001b[34minner\u001b[39m(ax, *args, data=\u001b[38;5;28;01mNone\u001b[39;00m, **kwargs):\n\u001b[32m   1458\u001b[39m     \u001b[38;5;28;01mif\u001b[39;00m data \u001b[38;5;129;01mis\u001b[39;00m \u001b[38;5;28;01mNone\u001b[39;00m:\n\u001b[32m-> \u001b[39m\u001b[32m1459\u001b[39m         \u001b[38;5;28;01mreturn\u001b[39;00m \u001b[43mfunc\u001b[49m\u001b[43m(\u001b[49m\u001b[43max\u001b[49m\u001b[43m,\u001b[49m\u001b[43m \u001b[49m\u001b[43m*\u001b[49m\u001b[38;5;28;43mmap\u001b[39;49m\u001b[43m(\u001b[49m\u001b[43msanitize_sequence\u001b[49m\u001b[43m,\u001b[49m\u001b[43m \u001b[49m\u001b[43margs\u001b[49m\u001b[43m)\u001b[49m\u001b[43m,\u001b[49m\u001b[43m \u001b[49m\u001b[43m*\u001b[49m\u001b[43m*\u001b[49m\u001b[43mkwargs\u001b[49m\u001b[43m)\u001b[49m\n\u001b[32m   1461\u001b[39m     bound = new_sig.bind(ax, *args, **kwargs)\n\u001b[32m   1462\u001b[39m     auto_label = (bound.arguments.get(label_namer)\n\u001b[32m   1463\u001b[39m                   \u001b[38;5;129;01mor\u001b[39;00m bound.kwargs.get(label_namer))\n",
      "\u001b[36mFile \u001b[39m\u001b[32m~\\anaconda3\\envs\\sky\\Lib\\site-packages\\matplotlib\\axes\\_axes.py:2480\u001b[39m, in \u001b[36mAxes.bar\u001b[39m\u001b[34m(self, x, height, width, bottom, align, **kwargs)\u001b[39m\n\u001b[32m   2471\u001b[39m \u001b[38;5;28;01mfor\u001b[39;00m l, b, w, h, c, e, lw, htch, lbl \u001b[38;5;129;01min\u001b[39;00m args:\n\u001b[32m   2472\u001b[39m     r = mpatches.Rectangle(\n\u001b[32m   2473\u001b[39m         xy=(l, b), width=w, height=h,\n\u001b[32m   2474\u001b[39m         facecolor=c,\n\u001b[32m   (...)\u001b[39m\u001b[32m   2478\u001b[39m         hatch=htch,\n\u001b[32m   2479\u001b[39m         )\n\u001b[32m-> \u001b[39m\u001b[32m2480\u001b[39m     \u001b[43mr\u001b[49m\u001b[43m.\u001b[49m\u001b[43m_internal_update\u001b[49m\u001b[43m(\u001b[49m\u001b[43mkwargs\u001b[49m\u001b[43m)\u001b[49m\n\u001b[32m   2481\u001b[39m     r.get_path()._interpolation_steps = \u001b[32m100\u001b[39m\n\u001b[32m   2482\u001b[39m     \u001b[38;5;28;01mif\u001b[39;00m orientation == \u001b[33m'\u001b[39m\u001b[33mvertical\u001b[39m\u001b[33m'\u001b[39m:\n",
      "\u001b[36mFile \u001b[39m\u001b[32m~\\anaconda3\\envs\\sky\\Lib\\site-packages\\matplotlib\\artist.py:1223\u001b[39m, in \u001b[36mArtist._internal_update\u001b[39m\u001b[34m(self, kwargs)\u001b[39m\n\u001b[32m   1216\u001b[39m \u001b[38;5;28;01mdef\u001b[39;00m\u001b[38;5;250m \u001b[39m\u001b[34m_internal_update\u001b[39m(\u001b[38;5;28mself\u001b[39m, kwargs):\n\u001b[32m   1217\u001b[39m \u001b[38;5;250m    \u001b[39m\u001b[33;03m\"\"\"\u001b[39;00m\n\u001b[32m   1218\u001b[39m \u001b[33;03m    Update artist properties without prenormalizing them, but generating\u001b[39;00m\n\u001b[32m   1219\u001b[39m \u001b[33;03m    errors as if calling `set`.\u001b[39;00m\n\u001b[32m   1220\u001b[39m \n\u001b[32m   1221\u001b[39m \u001b[33;03m    The lack of prenormalization is to maintain backcompatibility.\u001b[39;00m\n\u001b[32m   1222\u001b[39m \u001b[33;03m    \"\"\"\u001b[39;00m\n\u001b[32m-> \u001b[39m\u001b[32m1223\u001b[39m     \u001b[38;5;28;01mreturn\u001b[39;00m \u001b[38;5;28;43mself\u001b[39;49m\u001b[43m.\u001b[49m\u001b[43m_update_props\u001b[49m\u001b[43m(\u001b[49m\n\u001b[32m   1224\u001b[39m \u001b[43m        \u001b[49m\u001b[43mkwargs\u001b[49m\u001b[43m,\u001b[49m\u001b[43m \u001b[49m\u001b[33;43m\"\u001b[39;49m\u001b[38;5;132;43;01m{cls.__name__}\u001b[39;49;00m\u001b[33;43m.set() got an unexpected keyword argument \u001b[39;49m\u001b[33;43m\"\u001b[39;49m\n\u001b[32m   1225\u001b[39m \u001b[43m        \u001b[49m\u001b[33;43m\"\u001b[39;49m\u001b[38;5;132;43;01m{prop_name!r}\u001b[39;49;00m\u001b[33;43m\"\u001b[39;49m\u001b[43m)\u001b[49m\n",
      "\u001b[36mFile \u001b[39m\u001b[32m~\\anaconda3\\envs\\sky\\Lib\\site-packages\\matplotlib\\artist.py:1197\u001b[39m, in \u001b[36mArtist._update_props\u001b[39m\u001b[34m(self, props, errfmt)\u001b[39m\n\u001b[32m   1195\u001b[39m             func = \u001b[38;5;28mgetattr\u001b[39m(\u001b[38;5;28mself\u001b[39m, \u001b[33mf\u001b[39m\u001b[33m\"\u001b[39m\u001b[33mset_\u001b[39m\u001b[38;5;132;01m{\u001b[39;00mk\u001b[38;5;132;01m}\u001b[39;00m\u001b[33m\"\u001b[39m, \u001b[38;5;28;01mNone\u001b[39;00m)\n\u001b[32m   1196\u001b[39m             \u001b[38;5;28;01mif\u001b[39;00m \u001b[38;5;129;01mnot\u001b[39;00m \u001b[38;5;28mcallable\u001b[39m(func):\n\u001b[32m-> \u001b[39m\u001b[32m1197\u001b[39m                 \u001b[38;5;28;01mraise\u001b[39;00m \u001b[38;5;167;01mAttributeError\u001b[39;00m(\n\u001b[32m   1198\u001b[39m                     errfmt.format(\u001b[38;5;28mcls\u001b[39m=\u001b[38;5;28mtype\u001b[39m(\u001b[38;5;28mself\u001b[39m), prop_name=k))\n\u001b[32m   1199\u001b[39m             ret.append(func(v))\n\u001b[32m   1200\u001b[39m \u001b[38;5;28;01mif\u001b[39;00m ret:\n",
      "\u001b[31mAttributeError\u001b[39m: Rectangle.set() got an unexpected keyword argument 'fit'"
     ]
    },
    {
     "data": {
      "image/png": "[encoded data removed]",
      "text/plain": [
       "<Figure size 500x500 with 1 Axes>"
      ]
     },
     "metadata": {},
     "output_type": "display_data"
    }
   ],
   "source": [
    "sns.displot(df_group_train.Target_spread, kde=True, fit=stats.norm) # Fits a normal distribution"
   ]
  },
  {
   "cell_type": "code",
   "execution_count": 30,
   "id": "84bff571-5d52-4183-8520-12d4c1f0bfca",
   "metadata": {},
   "outputs": [
    {
     "ename": "AttributeError",
     "evalue": "Rectangle.set() got an unexpected keyword argument 'fit'",
     "output_type": "error",
     "traceback": [
      "\u001b[31m---------------------------------------------------------------------------\u001b[39m",
      "\u001b[31mAttributeError\u001b[39m                            Traceback (most recent call last)",
      "\u001b[36mCell\u001b[39m\u001b[36m \u001b[39m\u001b[32mIn[30]\u001b[39m\u001b[32m, line 2\u001b[39m\n\u001b[32m      1\u001b[39m \u001b[38;5;28;01mimport\u001b[39;00m\u001b[38;5;250m \u001b[39m\u001b[34;01mscipy\u001b[39;00m\u001b[34;01m.\u001b[39;00m\u001b[34;01mstats\u001b[39;00m\u001b[38;5;250m \u001b[39m\u001b[38;5;28;01mas\u001b[39;00m\u001b[38;5;250m \u001b[39m\u001b[34;01mstats\u001b[39;00m\n\u001b[32m----> \u001b[39m\u001b[32m2\u001b[39m \u001b[43msns\u001b[49m\u001b[43m.\u001b[49m\u001b[43mdisplot\u001b[49m\u001b[43m(\u001b[49m\u001b[43mdf_group_train\u001b[49m\u001b[43m.\u001b[49m\u001b[43mTarget_spread\u001b[49m\u001b[43m,\u001b[49m\u001b[43m \u001b[49m\u001b[43mkde\u001b[49m\u001b[43m=\u001b[49m\u001b[38;5;28;43;01mTrue\u001b[39;49;00m\u001b[43m,\u001b[49m\u001b[43m \u001b[49m\u001b[43mfit\u001b[49m\u001b[43m=\u001b[49m\u001b[43mstats\u001b[49m\u001b[43m.\u001b[49m\u001b[43mgamma\u001b[49m\u001b[43m,\u001b[49m\u001b[43m \u001b[49m\u001b[43mfit_kws\u001b[49m\u001b[43m=\u001b[49m\u001b[43m{\u001b[49m\u001b[33;43m\"\u001b[39;49m\u001b[33;43mloc\u001b[39;49m\u001b[33;43m\"\u001b[39;49m\u001b[43m:\u001b[49m\u001b[32;43m0\u001b[39;49m\u001b[43m}\u001b[49m\u001b[43m)\u001b[49m \u001b[38;5;66;03m# Fixes the location parameter of the Gamma distribution to 0.\u001b[39;00m\n",
      "\u001b[36mFile \u001b[39m\u001b[32m~\\anaconda3\\envs\\sky\\Lib\\site-packages\\seaborn\\distributions.py:2193\u001b[39m, in \u001b[36mdisplot\u001b[39m\u001b[34m(data, x, y, hue, row, col, weights, kind, rug, rug_kws, log_scale, legend, palette, hue_order, hue_norm, color, col_wrap, row_order, col_order, height, aspect, facet_kws, **kwargs)\u001b[39m\n\u001b[32m   2190\u001b[39m \u001b[38;5;28;01mif\u001b[39;00m p.univariate:\n\u001b[32m   2192\u001b[39m     _assign_default_kwargs(hist_kws, p.plot_univariate_histogram, histplot)\n\u001b[32m-> \u001b[39m\u001b[32m2193\u001b[39m     \u001b[43mp\u001b[49m\u001b[43m.\u001b[49m\u001b[43mplot_univariate_histogram\u001b[49m\u001b[43m(\u001b[49m\u001b[43m*\u001b[49m\u001b[43m*\u001b[49m\u001b[43mhist_kws\u001b[49m\u001b[43m)\u001b[49m\n\u001b[32m   2195\u001b[39m \u001b[38;5;28;01melse\u001b[39;00m:\n\u001b[32m   2197\u001b[39m     _assign_default_kwargs(hist_kws, p.plot_bivariate_histogram, histplot)\n",
      "\u001b[36mFile \u001b[39m\u001b[32m~\\anaconda3\\envs\\sky\\Lib\\site-packages\\seaborn\\distributions.py:571\u001b[39m, in \u001b[36m_DistributionPlotter.plot_univariate_histogram\u001b[39m\u001b[34m(self, multiple, element, fill, common_norm, common_bins, shrink, kde, kde_kws, color, legend, line_kws, estimate_kws, **plot_kws)\u001b[39m\n\u001b[32m    566\u001b[39m \u001b[38;5;28;01mif\u001b[39;00m element == \u001b[33m\"\u001b[39m\u001b[33mbars\u001b[39m\u001b[33m\"\u001b[39m:\n\u001b[32m    567\u001b[39m \n\u001b[32m    568\u001b[39m     \u001b[38;5;66;03m# Use matplotlib bar plotting\u001b[39;00m\n\u001b[32m    570\u001b[39m     plot_func = ax.bar \u001b[38;5;28;01mif\u001b[39;00m \u001b[38;5;28mself\u001b[39m.data_variable == \u001b[33m\"\u001b[39m\u001b[33mx\u001b[39m\u001b[33m\"\u001b[39m \u001b[38;5;28;01melse\u001b[39;00m ax.barh\n\u001b[32m--> \u001b[39m\u001b[32m571\u001b[39m     artists = \u001b[43mplot_func\u001b[49m\u001b[43m(\u001b[49m\n\u001b[32m    572\u001b[39m \u001b[43m        \u001b[49m\u001b[43mhist\u001b[49m\u001b[43m[\u001b[49m\u001b[33;43m\"\u001b[39;49m\u001b[33;43medges\u001b[39;49m\u001b[33;43m\"\u001b[39;49m\u001b[43m]\u001b[49m\u001b[43m,\u001b[49m\n\u001b[32m    573\u001b[39m \u001b[43m        \u001b[49m\u001b[43mhist\u001b[49m\u001b[43m[\u001b[49m\u001b[33;43m\"\u001b[39;49m\u001b[33;43mheights\u001b[39;49m\u001b[33;43m\"\u001b[39;49m\u001b[43m]\u001b[49m\u001b[43m \u001b[49m\u001b[43m-\u001b[49m\u001b[43m \u001b[49m\u001b[43mbottom\u001b[49m\u001b[43m,\u001b[49m\n\u001b[32m    574\u001b[39m \u001b[43m        \u001b[49m\u001b[43mhist\u001b[49m\u001b[43m[\u001b[49m\u001b[33;43m\"\u001b[39;49m\u001b[33;43mwidths\u001b[39;49m\u001b[33;43m\"\u001b[39;49m\u001b[43m]\u001b[49m\u001b[43m,\u001b[49m\n\u001b[32m    575\u001b[39m \u001b[43m        \u001b[49m\u001b[43mbottom\u001b[49m\u001b[43m,\u001b[49m\n\u001b[32m    576\u001b[39m \u001b[43m        \u001b[49m\u001b[43malign\u001b[49m\u001b[43m=\u001b[49m\u001b[33;43m\"\u001b[39;49m\u001b[33;43medge\u001b[39;49m\u001b[33;43m\"\u001b[39;49m\u001b[43m,\u001b[49m\n\u001b[32m    577\u001b[39m \u001b[43m        \u001b[49m\u001b[43m*\u001b[49m\u001b[43m*\u001b[49m\u001b[43martist_kws\u001b[49m\u001b[43m,\u001b[49m\n\u001b[32m    578\u001b[39m \u001b[43m    \u001b[49m\u001b[43m)\u001b[49m\n\u001b[32m    580\u001b[39m     \u001b[38;5;28;01mfor\u001b[39;00m bar \u001b[38;5;129;01min\u001b[39;00m artists:\n\u001b[32m    581\u001b[39m         \u001b[38;5;28;01mif\u001b[39;00m \u001b[38;5;28mself\u001b[39m.data_variable == \u001b[33m\"\u001b[39m\u001b[33mx\u001b[39m\u001b[33m\"\u001b[39m:\n",
      "\u001b[36mFile \u001b[39m\u001b[32m~\\anaconda3\\envs\\sky\\Lib\\site-packages\\matplotlib\\__init__.py:1459\u001b[39m, in \u001b[36m_preprocess_data.<locals>.inner\u001b[39m\u001b[34m(ax, data, *args, **kwargs)\u001b[39m\n\u001b[32m   1456\u001b[39m \u001b[38;5;129m@functools\u001b[39m.wraps(func)\n\u001b[32m   1457\u001b[39m \u001b[38;5;28;01mdef\u001b[39;00m\u001b[38;5;250m \u001b[39m\u001b[34minner\u001b[39m(ax, *args, data=\u001b[38;5;28;01mNone\u001b[39;00m, **kwargs):\n\u001b[32m   1458\u001b[39m     \u001b[38;5;28;01mif\u001b[39;00m data \u001b[38;5;129;01mis\u001b[39;00m \u001b[38;5;28;01mNone\u001b[39;00m:\n\u001b[32m-> \u001b[39m\u001b[32m1459\u001b[39m         \u001b[38;5;28;01mreturn\u001b[39;00m \u001b[43mfunc\u001b[49m\u001b[43m(\u001b[49m\u001b[43max\u001b[49m\u001b[43m,\u001b[49m\u001b[43m \u001b[49m\u001b[43m*\u001b[49m\u001b[38;5;28;43mmap\u001b[39;49m\u001b[43m(\u001b[49m\u001b[43msanitize_sequence\u001b[49m\u001b[43m,\u001b[49m\u001b[43m \u001b[49m\u001b[43margs\u001b[49m\u001b[43m)\u001b[49m\u001b[43m,\u001b[49m\u001b[43m \u001b[49m\u001b[43m*\u001b[49m\u001b[43m*\u001b[49m\u001b[43mkwargs\u001b[49m\u001b[43m)\u001b[49m\n\u001b[32m   1461\u001b[39m     bound = new_sig.bind(ax, *args, **kwargs)\n\u001b[32m   1462\u001b[39m     auto_label = (bound.arguments.get(label_namer)\n\u001b[32m   1463\u001b[39m                   \u001b[38;5;129;01mor\u001b[39;00m bound.kwargs.get(label_namer))\n",
      "\u001b[36mFile \u001b[39m\u001b[32m~\\anaconda3\\envs\\sky\\Lib\\site-packages\\matplotlib\\axes\\_axes.py:2480\u001b[39m, in \u001b[36mAxes.bar\u001b[39m\u001b[34m(self, x, height, width, bottom, align, **kwargs)\u001b[39m\n\u001b[32m   2471\u001b[39m \u001b[38;5;28;01mfor\u001b[39;00m l, b, w, h, c, e, lw, htch, lbl \u001b[38;5;129;01min\u001b[39;00m args:\n\u001b[32m   2472\u001b[39m     r = mpatches.Rectangle(\n\u001b[32m   2473\u001b[39m         xy=(l, b), width=w, height=h,\n\u001b[32m   2474\u001b[39m         facecolor=c,\n\u001b[32m   (...)\u001b[39m\u001b[32m   2478\u001b[39m         hatch=htch,\n\u001b[32m   2479\u001b[39m         )\n\u001b[32m-> \u001b[39m\u001b[32m2480\u001b[39m     \u001b[43mr\u001b[49m\u001b[43m.\u001b[49m\u001b[43m_internal_update\u001b[49m\u001b[43m(\u001b[49m\u001b[43mkwargs\u001b[49m\u001b[43m)\u001b[49m\n\u001b[32m   2481\u001b[39m     r.get_path()._interpolation_steps = \u001b[32m100\u001b[39m\n\u001b[32m   2482\u001b[39m     \u001b[38;5;28;01mif\u001b[39;00m orientation == \u001b[33m'\u001b[39m\u001b[33mvertical\u001b[39m\u001b[33m'\u001b[39m:\n",
      "\u001b[36mFile \u001b[39m\u001b[32m~\\anaconda3\\envs\\sky\\Lib\\site-packages\\matplotlib\\artist.py:1223\u001b[39m, in \u001b[36mArtist._internal_update\u001b[39m\u001b[34m(self, kwargs)\u001b[39m\n\u001b[32m   1216\u001b[39m \u001b[38;5;28;01mdef\u001b[39;00m\u001b[38;5;250m \u001b[39m\u001b[34m_internal_update\u001b[39m(\u001b[38;5;28mself\u001b[39m, kwargs):\n\u001b[32m   1217\u001b[39m \u001b[38;5;250m    \u001b[39m\u001b[33;03m\"\"\"\u001b[39;00m\n\u001b[32m   1218\u001b[39m \u001b[33;03m    Update artist properties without prenormalizing them, but generating\u001b[39;00m\n\u001b[32m   1219\u001b[39m \u001b[33;03m    errors as if calling `set`.\u001b[39;00m\n\u001b[32m   1220\u001b[39m \n\u001b[32m   1221\u001b[39m \u001b[33;03m    The lack of prenormalization is to maintain backcompatibility.\u001b[39;00m\n\u001b[32m   1222\u001b[39m \u001b[33;03m    \"\"\"\u001b[39;00m\n\u001b[32m-> \u001b[39m\u001b[32m1223\u001b[39m     \u001b[38;5;28;01mreturn\u001b[39;00m \u001b[38;5;28;43mself\u001b[39;49m\u001b[43m.\u001b[49m\u001b[43m_update_props\u001b[49m\u001b[43m(\u001b[49m\n\u001b[32m   1224\u001b[39m \u001b[43m        \u001b[49m\u001b[43mkwargs\u001b[49m\u001b[43m,\u001b[49m\u001b[43m \u001b[49m\u001b[33;43m\"\u001b[39;49m\u001b[38;5;132;43;01m{cls.__name__}\u001b[39;49;00m\u001b[33;43m.set() got an unexpected keyword argument \u001b[39;49m\u001b[33;43m\"\u001b[39;49m\n\u001b[32m   1225\u001b[39m \u001b[43m        \u001b[49m\u001b[33;43m\"\u001b[39;49m\u001b[38;5;132;43;01m{prop_name!r}\u001b[39;49;00m\u001b[33;43m\"\u001b[39;49m\u001b[43m)\u001b[49m\n",
      "\u001b[36mFile \u001b[39m\u001b[32m~\\anaconda3\\envs\\sky\\Lib\\site-packages\\matplotlib\\artist.py:1197\u001b[39m, in \u001b[36mArtist._update_props\u001b[39m\u001b[34m(self, props, errfmt)\u001b[39m\n\u001b[32m   1195\u001b[39m             func = \u001b[38;5;28mgetattr\u001b[39m(\u001b[38;5;28mself\u001b[39m, \u001b[33mf\u001b[39m\u001b[33m\"\u001b[39m\u001b[33mset_\u001b[39m\u001b[38;5;132;01m{\u001b[39;00mk\u001b[38;5;132;01m}\u001b[39;00m\u001b[33m\"\u001b[39m, \u001b[38;5;28;01mNone\u001b[39;00m)\n\u001b[32m   1196\u001b[39m             \u001b[38;5;28;01mif\u001b[39;00m \u001b[38;5;129;01mnot\u001b[39;00m \u001b[38;5;28mcallable\u001b[39m(func):\n\u001b[32m-> \u001b[39m\u001b[32m1197\u001b[39m                 \u001b[38;5;28;01mraise\u001b[39;00m \u001b[38;5;167;01mAttributeError\u001b[39;00m(\n\u001b[32m   1198\u001b[39m                     errfmt.format(\u001b[38;5;28mcls\u001b[39m=\u001b[38;5;28mtype\u001b[39m(\u001b[38;5;28mself\u001b[39m), prop_name=k))\n\u001b[32m   1199\u001b[39m             ret.append(func(v))\n\u001b[32m   1200\u001b[39m \u001b[38;5;28;01mif\u001b[39;00m ret:\n",
      "\u001b[31mAttributeError\u001b[39m: Rectangle.set() got an unexpected keyword argument 'fit'"
     ]
    },
    {
     "data": {
      "image/png": "[encoded data removed]",
      "text/plain": [
       "<Figure size 500x500 with 1 Axes>"
      ]
     },
     "metadata": {},
     "output_type": "display_data"
    }
   ],
   "source": [
    "import scipy.stats as stats\n",
    "\n",
    "sns.displot(df_group_train.Target_spread, kde=True, fit=stats.gamma, fit_kws={\"loc\":0}) # Fixes the location parameter of the Gamma distribution to 0."
   ]
  },
  {
   "cell_type": "code",
   "execution_count": 26,
   "id": "62d6a61a-0e3c-498f-bea0-3548221cb035",
   "metadata": {},
   "outputs": [
    {
     "data": {
      "text/plain": [
       "<Axes: ylabel='Frequency'>"
      ]
     },
     "execution_count": 26,
     "metadata": {},
     "output_type": "execute_result"
    },
    {
     "data": {
      "image/png": "[encoded data removed]",
      "text/plain": [
       "<Figure size 640x480 with 1 Axes>"
      ]
     },
     "metadata": {},
     "output_type": "display_data"
    }
   ],
   "source": [
    "sns.set()\n",
    "df_group_train['prior_spread'].plot.hist()"
   ]
  },
  {
   "cell_type": "code",
   "execution_count": null,
   "id": "d77c278b-be81-4b0b-9dd8-b4ce10f019df",
   "metadata": {},
   "outputs": [],
   "source": [
    "# for d in biz_dates:\n",
    "#     for df in df_TQQQ_clean:\n",
    "#         if len(df_TQQQ_clean[df_TQQQ_clean['Date_Only']==d]) !=390:\n",
    "#             print(d)"
   ]
  },
  {
   "cell_type": "code",
   "execution_count": null,
   "id": "3ac6296b-78fa-43d7-b65c-d1a7efbbaf79",
   "metadata": {},
   "outputs": [],
   "source": [
    "# # switching\n",
    "# df_VIX = pd.DataFrame()\n",
    "# df_VIX = df_VIX_clean.copy()\n",
    "\n",
    "# df_TQQQ = pd.DataFrame()\n",
    "# df_TQQQ = df_TQQQ_clean.copy()\n",
    "\n",
    "# df_all_days_stock = pd.DataFrame()\n",
    "# df_all_days_stock = df_stock_clean.copy()"
   ]
  },
  {
   "cell_type": "code",
   "execution_count": null,
   "id": "ab96f96c-bd41-4563-b7ad-2014b6297fbc",
   "metadata": {},
   "outputs": [],
   "source": []
  },
  {
   "cell_type": "code",
   "execution_count": null,
   "id": "ba9237c8-c9f7-4804-825d-8403febaa198",
   "metadata": {},
   "outputs": [],
   "source": [
    "df_group_train_vix, *_  = data_sparcing_construc(df_VIX, all_dates, cut_time= cut_time)\n",
    "df_group_train_tqqq, *_ = data_sparcing_construc(df_TQQQ, all_dates, cut_time= cut_time)"
   ]
  },
  {
   "cell_type": "code",
   "execution_count": null,
   "id": "0de2f1c5-8d60-4e8a-ad42-615aa4ffee23",
   "metadata": {},
   "outputs": [],
   "source": [
    "df_group_train_vix"
   ]
  },
  {
   "cell_type": "code",
   "execution_count": null,
   "id": "5290a392-6d1f-4a71-9467-ef92f5e470c0",
   "metadata": {},
   "outputs": [],
   "source": [
    "df_final_jointed_vix=pd.DataFrame()\n",
    "df_final_jointed_all=pd.DataFrame()\n",
    "\n",
    "df_group_train_vix.columns =['vix_std','vix_spread','vix_prior_std','vix_Vol', 'vix_pr_spread', 'vix_pr_day_spread','vix_prior_range','vix_cut_open','vix_cut_1hr','vix_cut_2hr','vix_cut_3hr']\n",
    "df_final_jointed_vix = pd.concat([df_group_train,df_group_train_vix], axis=1)\n",
    "df_group_train_tqqq.columns =['tqqq_std','tqqq_spread','tqqq_prior_std','tqqq_Vol','tqqq_pr_spread', 'tqqq_pr_day_spread','tqqq_prior_range','tqqq_cut_open','tqqq_cut_1hr','tqqq_cut_2hr','tqqq_cut_3hr']\n",
    "df_final_jointed_all = pd.concat([df_final_jointed_vix,df_group_train_tqqq], axis=1)\n",
    "df_final_jointed_all.drop(['vix_std','vix_Vol','tqqq_std'], axis=1, inplace=True)"
   ]
  },
  {
   "cell_type": "code",
   "execution_count": null,
   "id": "6f6803c7-cc68-4303-bd03-8ba89821c114",
   "metadata": {},
   "outputs": [],
   "source": [
    "df_final_jointed_all"
   ]
  },
  {
   "cell_type": "code",
   "execution_count": null,
   "id": "923e8507-c6cb-4d2b-8d89-630c1acdcc54",
   "metadata": {},
   "outputs": [],
   "source": [
    "df_final_jointed_all.columns"
   ]
  },
  {
   "cell_type": "code",
   "execution_count": null,
   "id": "d0fd80b2-cad9-4c48-b844-7baad3a5a150",
   "metadata": {},
   "outputs": [],
   "source": [
    "df_final_jointed_all.drop(['vix_spread','tqqq_spread'], axis=1, inplace =True)"
   ]
  },
  {
   "cell_type": "code",
   "execution_count": null,
   "id": "b8ca909b-7b56-41e6-940b-339401e9cad9",
   "metadata": {},
   "outputs": [],
   "source": [
    "df_final_jointed_all.columns"
   ]
  },
  {
   "cell_type": "code",
   "execution_count": null,
   "id": "3e68a55b-bcc7-453e-84f1-729da1ef9067",
   "metadata": {},
   "outputs": [],
   "source": [
    "df_final_jointed_all.to_pickle('META_trainning_master_data.pkl')"
   ]
  },
  {
   "cell_type": "code",
   "execution_count": null,
   "id": "9b375a5f-5b57-4a9c-934a-d043269131df",
   "metadata": {},
   "outputs": [],
   "source": []
  },
  {
   "cell_type": "code",
   "execution_count": null,
   "id": "71a78e49-61ff-4ea7-94ac-ae7cbdb356e5",
   "metadata": {},
   "outputs": [],
   "source": []
  }
 ],
 "metadata": {
  "kernelspec": {
   "display_name": "Python 3 (ipykernel)",
   "language": "python",
   "name": "python3"
  },
  "language_info": {
   "codemirror_mode": {
    "name": "ipython",
    "version": 3
   },
   "file_extension": ".py",
   "mimetype": "text/x-python",
   "name": "python",
   "nbconvert_exporter": "python",
   "pygments_lexer": "ipython3",
   "version": "3.11.11"
  }
 },
 "nbformat": 4,
 "nbformat_minor": 5
}
