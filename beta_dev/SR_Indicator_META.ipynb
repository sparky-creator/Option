{
 "cells": [
  {
   "cell_type": "code",
   "execution_count": 1,
   "metadata": {},
   "outputs": [],
   "source": [
    "import talib"
   ]
  },
  {
   "cell_type": "code",
   "execution_count": 2,
   "metadata": {},
   "outputs": [],
   "source": [
    "import os\n",
    "import numpy as np\n",
    "import math\n",
    "import joblib\n",
    "import schedule\n",
    "import pandas as pd\n",
    "import plotly.graph_objects as go\n",
    "import time as st_time\n",
    "from datetime import datetime, date, timedelta, time\n",
    "os.environ['TZ'] ='America/New_York'\n",
    "\n",
    "#import yfinance as yf\n",
    "\n",
    "import seaborn as sns\n",
    "import matplotlib.pyplot as plt\n",
    "\n",
    "from sklearn.tree import DecisionTreeRegressor\n",
    "from sklearn.ensemble import RandomForestRegressor\n",
    "from sklearn.metrics import mean_squared_error, mean_absolute_error\n",
    "\n",
    "from ib_async import *\n",
    "util.startLoop()\n",
    "\n",
    "from math import sqrt\n",
    "\n",
    "from scipy.signal import savgol_filter\n",
    "from sklearn.linear_model import LinearRegression"
   ]
  },
  {
   "cell_type": "code",
   "execution_count": 3,
   "metadata": {},
   "outputs": [
    {
     "data": {
      "text/plain": [
       "<IB connected to 127.0.0.1:7496 clientId=9>"
      ]
     },
     "execution_count": 3,
     "metadata": {},
     "output_type": "execute_result"
    },
    {
     "name": "stderr",
     "output_type": "stream",
     "text": [
      "Error 1100, reqId -1: Connectivity between IBKR and Trader Workstation has been lost.\n",
      "Error 1102, reqId -1: Connectivity between IBKR and Trader Workstation has been restored - data maintained. All data farms are connected: hfarm; usfarm.nj; cashfarm; usopt; usfarm; ushmds; secdefil.\n"
     ]
    }
   ],
   "source": [
    "ib = IB()\n",
    "ib.connect(port=7496, clientId=9)"
   ]
  },
  {
   "cell_type": "code",
   "execution_count": 4,
   "metadata": {},
   "outputs": [],
   "source": [
    "symbol ='NFLX'"
   ]
  },
  {
   "cell_type": "code",
   "execution_count": 5,
   "metadata": {},
   "outputs": [
    {
     "data": {
      "text/plain": [
       "[Contract(secType='STK', conId=15124833, symbol='NFLX', exchange='SMART', primaryExchange='NASDAQ', currency='USD', localSymbol='NFLX', tradingClass='NMS')]"
      ]
     },
     "execution_count": 5,
     "metadata": {},
     "output_type": "execute_result"
    }
   ],
   "source": [
    "contract = Contract(symbol=symbol, secType='STK', exchange='SMART', currency='USD')\n",
    "ib.qualifyContracts(contract)"
   ]
  },
  {
   "cell_type": "code",
   "execution_count": 7,
   "metadata": {},
   "outputs": [],
   "source": [
    "# duration is fixed for an year\n",
    "def simple_data_req( contract, end_date , barsize =\"1 min\", data_clean = True):\n",
    "\n",
    "   \n",
    "    df_acc=pd.DataFrame()\n",
    "    df_hist=pd.DataFrame()\n",
    "\n",
    "    for i in range(1):\n",
    "        print(f'fetching data for {i}')\n",
    "        bars = ib.reqHistoricalData(contract= contract, endDateTime=end_date, barSizeSetting= barsize, durationStr= \"5 D\", whatToShow=\"TRADES\", useRTH=True)\n",
    "        df = util.df(bars)\n",
    "        end_date = end_date - timedelta(i)\n",
    "        df_acc = pd.concat([df, df_acc], ignore_index=True)\n",
    "        print(f\"head date {df_acc.head(1)['date']}\")\n",
    "        print(f\"tail date {df_acc.tail(1)['date']}\")\n",
    "\n",
    "    if barsize !='1 day':\n",
    "    \n",
    "        df_acc['Date_Only'] = df_acc['date'].dt.date\n",
    "        \n",
    "    if (data_clean == True) & (barsize !='1 day'):\n",
    "        df_hist = df_acc[(df_acc['date'].dt.time >= time(9, 30)) & (df_acc['date'].dt.time < time(16, 00))]\n",
    "    else:\n",
    "        df_hist = df_acc\n",
    "\n",
    "    df_hist.drop_duplicates(inplace=True)\n",
    "    \n",
    "    return df_hist"
   ]
  },
  {
   "cell_type": "code",
   "execution_count": 8,
   "metadata": {},
   "outputs": [],
   "source": [
    "end_date = date(2025, 4, 17)"
   ]
  },
  {
   "cell_type": "code",
   "execution_count": 9,
   "metadata": {},
   "outputs": [
    {
     "name": "stdout",
     "output_type": "stream",
     "text": [
      "fetching data for 0\n",
      "head date 0   2025-04-11 09:30:00-04:00\n",
      "Name: date, dtype: datetime64[ns, US/Eastern]\n",
      "tail date 344   2025-04-17 12:10:00-04:00\n",
      "Name: date, dtype: datetime64[ns, US/Eastern]\n"
     ]
    }
   ],
   "source": [
    "barsize =\"5 mins\"\n",
    "df_all_days_stock=pd.DataFrame()\n",
    "df_all_days_stock = simple_data_req(contract = contract, end_date = end_date, barsize= barsize )"
   ]
  },
  {
   "cell_type": "code",
   "execution_count": 10,
   "metadata": {},
   "outputs": [],
   "source": [
    "series = df_all_days_stock['close']\n",
    "series.index = np.arange(series.shape[0])"
   ]
  },
  {
   "cell_type": "code",
   "execution_count": 11,
   "metadata": {},
   "outputs": [],
   "source": [
    "def pythag(pt1, pt2):\n",
    "    a_sq = (pt2[0] - pt1[0]) ** 2\n",
    "    b_sq = (pt2[1] - pt1[1]) ** 2\n",
    "    return sqrt(a_sq + b_sq)"
   ]
  },
  {
   "cell_type": "code",
   "execution_count": 12,
   "metadata": {},
   "outputs": [],
   "source": [
    "def regression_ceof(pts):\n",
    "    X = np.array([pt[0] for pt in pts]).reshape(-1, 1)\n",
    "    y = np.array([pt[1] for pt in pts])\n",
    "    model = LinearRegression()\n",
    "    model.fit(X, y)\n",
    "    return model.coef_[0], model.intercept_"
   ]
  },
  {
   "cell_type": "code",
   "execution_count": 13,
   "metadata": {},
   "outputs": [],
   "source": [
    "def local_min_max(pts):\n",
    "    local_min = []\n",
    "    local_max = []\n",
    "    prev_pts = [(0, pts[0]), (1, pts[1])]\n",
    "    for i in range(1, len(pts) - 1):\n",
    "        append_to = ''\n",
    "        if pts[i-1] > pts[i] < pts[i+1]:\n",
    "            append_to = 'min'\n",
    "        elif pts[i-1] < pts[i] > pts[i+1]:\n",
    "            append_to = 'max'\n",
    "        if append_to:\n",
    "            if local_min or local_max:\n",
    "                prev_distance = pythag(prev_pts[0], prev_pts[1]) * 0.5\n",
    "                curr_distance = pythag(prev_pts[1], (i, pts[i]))\n",
    "                if curr_distance >= prev_distance:\n",
    "                    prev_pts[0] = prev_pts[1]\n",
    "                    prev_pts[1] = (i, pts[i])\n",
    "                    if append_to == 'min':\n",
    "                        local_min.append((i, pts[i]))\n",
    "                    else:\n",
    "                        local_max.append((i, pts[i]))\n",
    "            else:\n",
    "                prev_pts[0] = prev_pts[1]\n",
    "                prev_pts[1] = (i, pts[i])\n",
    "                if append_to == 'min':\n",
    "                    local_min.append((i, pts[i]))\n",
    "                else:\n",
    "                    local_max.append((i, pts[i]))\n",
    "    return local_min, local_max"
   ]
  },
  {
   "cell_type": "code",
   "execution_count": 14,
   "metadata": {},
   "outputs": [
    {
     "data": {
      "text/plain": [
       "25"
      ]
     },
     "execution_count": 14,
     "metadata": {},
     "output_type": "execute_result"
    }
   ],
   "source": [
    "month_diff = series.shape[0] // 30\n",
    "if month_diff == 0:\n",
    "    month_diff = 1\n",
    "month_diff\n",
    "smooth = int(2 * month_diff + 3)\n",
    "smooth"
   ]
  },
  {
   "cell_type": "code",
   "execution_count": 15,
   "metadata": {},
   "outputs": [
    {
     "data": {
      "text/plain": [
       "<matplotlib.legend.Legend at 0x19a267aea50>"
      ]
     },
     "execution_count": 15,
     "metadata": {},
     "output_type": "execute_result"
    },
    {
     "data": {
      "image/png": "[encoded data removed]",
      "text/plain": [
       "<Figure size 640x480 with 1 Axes>"
      ]
     },
     "metadata": {},
     "output_type": "display_data"
    }
   ],
   "source": [
    "pts = savgol_filter(series, smooth, 3)\n",
    "plt.title(symbol)\n",
    "plt.xlabel('Days')\n",
    "plt.ylabel('Prices')\n",
    "plt.plot(pts, label=f'Smooth {symbol}')\n",
    "plt.legend()"
   ]
  },
  {
   "cell_type": "code",
   "execution_count": 16,
   "metadata": {},
   "outputs": [],
   "source": [
    "local_min, local_max = local_min_max(pts)\n",
    "all_points = local_min + local_max\n",
    "arr = []\n",
    "for i, j in all_points:\n",
    "    arr.append(j)\n",
    "\n",
    "arr = np.array(arr)\n",
    "    "
   ]
  },
  {
   "cell_type": "code",
   "execution_count": 17,
   "metadata": {},
   "outputs": [
    {
     "name": "stdout",
     "output_type": "stream",
     "text": [
      "[array([912.65392077, 915.72415845, 917.19397295, 917.40268792,\n",
      "       920.15267826, 923.97476329, 933.17536521, 935.75252174,\n",
      "       942.55612174]), array([953.27130821]), array([968.33789372, 970.15648502, 973.13669891, 974.29902415,\n",
      "       974.73874203, 975.41435749, 976.21078261, 977.68261063,\n",
      "       979.89120773, 983.73771014, 984.05558841, 988.26028986])]\n",
      "924.2873544812664\n",
      "977.1601158913537\n"
     ]
    }
   ],
   "source": [
    "\n",
    "\n",
    "def group_close_numbers(arr, threshold):\n",
    "    arr_sorted = np.sort(arr)\n",
    "    diffs = np.diff(arr_sorted)\n",
    "    group_indices = np.where(diffs > threshold)[0] + 1\n",
    "    groups = np.split(arr_sorted, group_indices)\n",
    "    return groups\n",
    "\n",
    "# Example usage:\n",
    "threshold = 10\n",
    "result = group_close_numbers(arr, threshold)\n",
    "print(result)\n",
    "\n",
    "key_line = []\n",
    "\n",
    "for i in result:\n",
    "    if len(i) >= 2:\n",
    "        print(i.mean())\n",
    "        key_line.append(i.mean())\n",
    "# Expected output: [array([1, 2, 3, 5]), array([ 8]), array([15]), array([20, 22])]"
   ]
  },
  {
   "cell_type": "code",
   "execution_count": 18,
   "metadata": {},
   "outputs": [
    {
     "data": {
      "text/plain": [
       "[np.float64(924.2873544812664), np.float64(977.1601158913537)]"
      ]
     },
     "execution_count": 18,
     "metadata": {},
     "output_type": "execute_result"
    }
   ],
   "source": [
    "key_line"
   ]
  },
  {
   "cell_type": "code",
   "execution_count": 19,
   "metadata": {},
   "outputs": [
    {
     "data": {
      "text/plain": [
       "<matplotlib.legend.Legend at 0x19a2a9b0cd0>"
      ]
     },
     "execution_count": 19,
     "metadata": {},
     "output_type": "execute_result"
    },
    {
     "data": {
      "image/png": "[encoded data removed]",
      "text/plain": [
       "<Figure size 640x480 with 1 Axes>"
      ]
     },
     "metadata": {},
     "output_type": "display_data"
    }
   ],
   "source": [
    "\n",
    "\n",
    "fig, ax = plt.subplots()\n",
    "\n",
    "for i in key_line:\n",
    "    ax.axhline(y=i, color='r', linestyle='--', label=i.round())\n",
    "\n",
    "plt.title(symbol)\n",
    "plt.xlabel('Days')\n",
    "plt.ylabel('Prices')\n",
    "plt.plot(pts, label=f'Smooth {symbol}')\n",
    "for pt in local_min:\n",
    "    plt.scatter(pt[0], pt[1], c='r')\n",
    "for pt in local_max:\n",
    "    plt.scatter(pt[0], pt[1], c='g')\n",
    "\n",
    "\n",
    "plt.plot(series, label=symbol)\n",
    "\n",
    "plt.legend()"
   ]
  },
  {
   "cell_type": "code",
   "execution_count": 20,
   "metadata": {},
   "outputs": [],
   "source": [
    "df = df_all_days_stock.copy()"
   ]
  },
  {
   "cell_type": "code",
   "execution_count": null,
   "metadata": {},
   "outputs": [],
   "source": [
    "def detect_candlestick_patterns(df):\n",
    "    # Drop rows with missing values\n",
    "    #df = df.dropna(subset=['Open', 'High', 'Low', 'Adj Close'])\n",
    "\n",
    "    # Check if there are enough rows to calculate patterns\n",
    "    if len(df) < 5:\n",
    "        print(\"Not enough data to detect patterns.\")\n",
    "        return df\n",
    "\n",
    "    # Convert DataFrame columns to numpy arrays\n",
    "    open_prices = df['open'].values.reshape(-len(df),)\n",
    "    high_prices = df['high'].values.reshape(-len(df),)\n",
    "    low_prices = df['low'].values.reshape(-len(df),)\n",
    "    close_prices = df['close'].values.reshape(-len(df),)  # Use 'Adj Close' instead of 'Close'\n",
    "    \n",
    "    # Ensure all arrays have the same length\n",
    "    if not (len(open_prices) == len(high_prices) == len(low_prices) == len(close_prices)):\n",
    "        print(\"Input arrays have different lengths.\")\n",
    "        return df\n",
    "    \n",
    "    # Candlestick pattern detection\n",
    "    patterns = {\n",
    "        'DOJI' : talib.CDLDOJI(open_prices, high_prices, low_prices, close_prices),\n",
    "        'HANGINGMAN' :talib.CDLHANGINGMAN(open_prices, high_prices, low_prices, close_prices),\n",
    "        'Engulfing': talib.CDLENGULFING(open_prices, high_prices, low_prices, close_prices),\n",
    "        'MORNINGSTAR': talib.CDLMORNINGSTAR(open_prices, high_prices, low_prices, close_prices, penetration=0.3),\n",
    "        'HAMMER': talib.CDLHAMMER(open_prices, high_prices, low_prices, close_prices),\n",
    "        'INVERTEDHAMMER': talib.CDLINVERTEDHAMMER(open_prices, high_prices, low_prices, close_prices),\n",
    "        'PIERCING': talib.CDLPIERCING(open_prices, high_prices, low_prices, close_prices),\n",
    "        '3WHITESOLDIERS': talib.CDL3WHITESOLDIERS(open_prices, high_prices, low_prices, close_prices),\n",
    "        'RISEFALL3METHODS': talib.CDLRISEFALL3METHODS(open_prices, high_prices, low_prices, close_prices),\n",
    "    }\n",
    "\n",
    "    # Add detected patterns to the DataFrame\n",
    "    for pattern_name, pattern in patterns.items():\n",
    "        df[pattern_name] = pattern\n",
    "    return df\n",
    "\n",
    "\n",
    "# Filter for selected patterns\n",
    "def filter_patterns(df):\n",
    "\n",
    "    detected_patterns = df[(df['DOJI'] != 0) |\n",
    "                            (df['HANGINGMAN'] != 0) |\n",
    "                            (df['Engulfing'] != 0) |\n",
    "                           (df['MORNINGSTAR'] != 0) |\n",
    "                           (df['HAMMER'] != 0) |\n",
    "                           (df['INVERTEDHAMMER'] != 0) |\n",
    "                           (df['PIERCING'] != 0) |\n",
    "                           (df['3WHITESOLDIERS'] != 0) |\n",
    "                           (df['RISEFALL3METHODS'] != 0)]\n",
    "    return detected_patterns"
   ]
  },
  {
   "cell_type": "code",
   "execution_count": null,
   "metadata": {},
   "outputs": [],
   "source": [
    "df_with_patterns = detect_candlestick_patterns(df)"
   ]
  },
  {
   "cell_type": "code",
   "execution_count": null,
   "metadata": {},
   "outputs": [],
   "source": [
    "pattern_counts = df[['DOJI','HANGINGMAN','Engulfing','INVERTEDHAMMER', 'MORNINGSTAR', 'HAMMER', 'PIERCING', \n",
    "                     '3WHITESOLDIERS', \n",
    "                     'RISEFALL3METHODS']].apply(lambda x: x[x != 0].count())\n",
    "pattern_counts"
   ]
  },
  {
   "cell_type": "code",
   "execution_count": null,
   "metadata": {},
   "outputs": [],
   "source": [
    "df_with_patterns = detect_candlestick_patterns(df)\n",
    "detected_patterns = filter_patterns(df_with_patterns)"
   ]
  },
  {
   "cell_type": "code",
   "execution_count": null,
   "metadata": {},
   "outputs": [],
   "source": [
    "detected_patterns"
   ]
  },
  {
   "cell_type": "code",
   "execution_count": null,
   "metadata": {},
   "outputs": [],
   "source": [
    "df_test = df_with_patterns.copy()"
   ]
  },
  {
   "cell_type": "code",
   "execution_count": null,
   "metadata": {},
   "outputs": [],
   "source": [
    "def heavy(x):\n",
    "    a = df_test['volume'].mean()\n",
    "    if x > 1*a:\n",
    "        return True\n",
    "    else:\n",
    "        return False"
   ]
  },
  {
   "cell_type": "code",
   "execution_count": null,
   "metadata": {},
   "outputs": [],
   "source": [
    "df_test['heavy_V']=df_test['volume'].apply(heavy)"
   ]
  },
  {
   "cell_type": "code",
   "execution_count": null,
   "metadata": {},
   "outputs": [],
   "source": [
    "def calculate_rsi(data, period=12):\n",
    "    \"\"\"\n",
    "    Calculates the Relative Strength Index (RSI) for a given dataset.\n",
    "\n",
    "    Args:\n",
    "        data (pd.Series): A Pandas Series representing the price data.\n",
    "        period (int, optional): The lookback period for calculating RSI. Defaults to 14.\n",
    "\n",
    "    Returns:\n",
    "        pd.Series: A Pandas Series containing the RSI values.\n",
    "    \"\"\"\n",
    "    delta = data.diff()\n",
    "    gain = (delta.where(delta > 0, 0)).fillna(0)\n",
    "    loss = (-delta.where(delta < 0, 0)).fillna(0)\n",
    "    \n",
    "    avg_gain = gain.rolling(window=period, min_periods=period).mean()\n",
    "    avg_loss = loss.rolling(window=period, min_periods=period).mean()\n",
    "\n",
    "    rs = avg_gain / avg_loss\n",
    "    rsi = 100 - (100 / (1 + rs))\n",
    "    return rsi"
   ]
  },
  {
   "cell_type": "code",
   "execution_count": null,
   "metadata": {},
   "outputs": [],
   "source": [
    "\n",
    "def calculate_macd(data, fast_period=12, slow_period=26, signal_period=9):\n",
    "    \"\"\"\n",
    "    Calculates the MACD indicator for a given time series data.\n",
    "\n",
    "    Args:\n",
    "        data (pd.Series): Time series data (e.g., closing prices).\n",
    "        fast_period (int): Period for the fast EMA (default: 12).\n",
    "        slow_period (int): Period for the slow EMA (default: 26).\n",
    "        signal_period (int): Period for the signal line EMA (default: 9).\n",
    "\n",
    "    Returns:\n",
    "        pd.DataFrame: DataFrame containing MACD, signal line, and histogram.\n",
    "    \"\"\"\n",
    "    fast_ema = data.ewm(span=fast_period, adjust=False).mean()\n",
    "    slow_ema = data.ewm(span=slow_period, adjust=False).mean()\n",
    "    macd_line = fast_ema - slow_ema\n",
    "    signal_line = macd_line.ewm(span=signal_period, adjust=False).mean()\n",
    "    histogram = macd_line - signal_line\n",
    "\n",
    "    macd_df = pd.DataFrame({\n",
    "        'MACD': macd_line,\n",
    "        'Signal_Line': signal_line,\n",
    "        'Histogram': histogram\n",
    "    })\n",
    "    return macd_df\n",
    "\n",
    "# Example usage with sample data\n",
    "#data = pd.Series(np.random.rand(100))\n",
    "data = df_test['close']\n",
    "df_test['MACD']= calculate_macd(data)['MACD']\n",
    "df_test['diff_MACD'] = df_test['MACD'].diff()\n",
    "#df_META['MACD_Sig'] =calculate_macd(data)['Signal_Line']\n",
    "#df_META['diff_M_Sig'] = df_META['MACD_Sig'].diff()\n",
    "df_test['RSI_12'] = calculate_rsi(df_test['close'])\n",
    "df_test['diff_RSI'] = df_test['RSI_12'].diff()\n",
    "#df_META['diff_RSI_MACD'] = calculate_rsi(df_META['diff_MACD'])"
   ]
  },
  {
   "cell_type": "code",
   "execution_count": null,
   "metadata": {},
   "outputs": [],
   "source": [
    "\n",
    "# Assuming df_test is your DataFrame with a DateTime index\n",
    "fig = go.Figure(data=[go.Candlestick(x=df_test.index,\n",
    "                                     open=df_test['open'],\n",
    "                                     high=df_test['high'],\n",
    "                                     low=df_test['low'],\n",
    "                                     close=df_test['close'],\n",
    "                                     name='Nifty Candlestick')])\n",
    "\n",
    "# Add annotations for patterns\n",
    "pattern_columns = ['DOJI','HANGINGMAN','Engulfing','INVERTEDHAMMER', 'MORNINGSTAR', 'HAMMER', 'PIERCING', \n",
    "                     '3WHITESOLDIERS', \n",
    "                     'RISEFALL3METHODS']\n",
    "\n",
    "for idx in range(len(df_test)):\n",
    "    for pattern in pattern_columns:\n",
    "        if df_test.iloc[idx][pattern] != 0 and df_test.iloc[idx]['heavy_V'] == True: # edited\n",
    "            if (df_test.iloc[idx]['diff_MACD'] > 0) &  (df_test.iloc[idx]['RSI_12'] > 30) &  (df_test.iloc[idx]['diff_RSI'] > 0)  == True:\n",
    "                fig.add_annotation(\n",
    "                    x=df_test.index[idx],\n",
    "                    y=df_test.iloc[idx]['high'] + (df_test.iloc[idx]['high'] - df_test.iloc[idx]['low']) * 0.3,  # Adjust the offset to be 10% of the candle height\n",
    "                    text=pattern,\n",
    "                    showarrow=True,\n",
    "                    arrowhead=1,\n",
    "                    textangle=90,\n",
    "                    yshift=5  # Optional: Shift the text slightly down if needed\n",
    "                )\n",
    "\n",
    "\n",
    "fig.update_xaxes(\n",
    "    rangeslider_visible=False,\n",
    "    rangebreaks=[\n",
    "        # Remove weekends\n",
    "        dict(bounds=[\"sat\", \"mon\"]),  # Skips Saturday and Sunday\n",
    "        \n",
    "        # Remove non-trading hours\n",
    "        dict(bounds=[16, 9.5], pattern=\"hour\"),  # Skips from 4:00 PM (16) to 9:30 AM (9.5)\n",
    "        \n",
    "        # Optionally, remove specific holidays by specifying exact dates\n",
    "        # dict(values=[\"2024-01-01\", \"2024-12-25\"])\n",
    "    ]\n",
    ")\n",
    "\n",
    "\n",
    "# Customize the layout\n",
    "fig.update_layout(title='S&P500 Candlestick Chart with Skipped Non-Trading Hours',\n",
    "                  xaxis_title='Date',\n",
    "                  yaxis_title='Price',\n",
    "                  width=1000,\n",
    "                  height=600)\n",
    "\n",
    "fig.update_layout(\n",
    "    dragmode='zoom',  # Default interaction is zoom\n",
    "    hovermode='x',    # Hover effect on the x-axis\n",
    "    xaxis_rangeslider_visible=False  # Keep the range slider hidden\n",
    ")\n",
    "\n",
    "# Display the interactive plot\n",
    "fig.show()"
   ]
  },
  {
   "cell_type": "code",
   "execution_count": null,
   "metadata": {},
   "outputs": [],
   "source": [
    "\n",
    "# Assuming df_test is your DataFrame with a DateTime index\n",
    "fig = go.Figure(data=[go.Candlestick(x=df_test.index,\n",
    "                                     open=df_test['open'],\n",
    "                                     high=df_test['high'],\n",
    "                                     low=df_test['low'],\n",
    "                                     close=df_test['close'],\n",
    "                                     name='Nifty Candlestick')])\n",
    "\n",
    "# Add annotations for patterns\n",
    "pattern_columns = ['DOJI','HANGINGMAN','Engulfing','INVERTEDHAMMER', 'MORNINGSTAR', 'HAMMER', 'PIERCING', \n",
    "                     '3WHITESOLDIERS', \n",
    "                     'RISEFALL3METHODS']\n",
    "\n",
    "for idx in range(len(df_test)):\n",
    "    for pattern in pattern_columns:\n",
    "        if df_test.iloc[idx][pattern] != 0 :  # edited\n",
    "           \n",
    "            fig.add_annotation(\n",
    "                x=df_test.index[idx],\n",
    "                y=df_test.iloc[idx]['high'] + (df_test.iloc[idx]['high'] - df_test.iloc[idx]['low']) * 0.3,  # Adjust the offset to be 10% of the candle height\n",
    "                text=pattern,\n",
    "                showarrow=True,\n",
    "                arrowhead=1,\n",
    "                textangle=90,\n",
    "                yshift=5  # Optional: Shift the text slightly down if needed\n",
    "                )\n",
    "\n",
    "\n",
    "fig.update_xaxes(\n",
    "    rangeslider_visible=False,\n",
    "    rangebreaks=[\n",
    "        # Remove weekends\n",
    "        dict(bounds=[\"sat\", \"mon\"]),  # Skips Saturday and Sunday\n",
    "        \n",
    "        # Remove non-trading hours\n",
    "        dict(bounds=[16, 9.5], pattern=\"hour\"),  # Skips from 4:00 PM (16) to 9:30 AM (9.5)\n",
    "        \n",
    "        # Optionally, remove specific holidays by specifying exact dates\n",
    "        # dict(values=[\"2024-01-01\", \"2024-12-25\"])\n",
    "    ]\n",
    ")\n",
    "\n",
    "\n",
    "# Customize the layout\n",
    "fig.update_layout(title='S&P500 Candlestick Chart with Skipped Non-Trading Hours',\n",
    "                  xaxis_title='Date',\n",
    "                  yaxis_title='Price',\n",
    "                  width=1000,\n",
    "                  height=600)\n",
    "\n",
    "fig.update_layout(\n",
    "    dragmode='zoom',  # Default interaction is zoom\n",
    "    hovermode='x',    # Hover effect on the x-axis\n",
    "    xaxis_rangeslider_visible=False  # Keep the range slider hidden\n",
    ")\n",
    "\n",
    "# Display the interactive plot\n",
    "fig.show()"
   ]
  },
  {
   "cell_type": "code",
   "execution_count": null,
   "metadata": {},
   "outputs": [],
   "source": [
    "# Calculate AVGH10, AVGL10, MINL10, and STOC1\n",
    "AVGH10 = df['high'].rolling(window=10).mean()\n",
    "AVGL10 = df['low'].rolling(window=10).mean()\n",
    "MINL10 = df['low'].rolling(window=10).min()\n",
    "STOC1 = 100 * (df['close'] - MINL10) / (AVGH10 - MINL10)"
   ]
  },
  {
   "cell_type": "code",
   "execution_count": null,
   "metadata": {},
   "outputs": [],
   "source": [
    "O1 = df['open'].shift(1)\n",
    "C1 = df['close'].shift(1)\n",
    "\n",
    "# Add a new column 'Engulfing' to indicate if the Engulfing pattern is identified\n",
    "df['Engulfing'] = np.where(\n",
    "    (O1 > C1) &                                          # Condition 1\n",
    "    (10 * (df['close'] - df['open']) >= 7 * (df['high'] - df['low'])) &  # Condition 2\n",
    "    (df['close'] > O1) &                                        # Condition 3\n",
    "    (C1 > df['open']) &                                         # Condition 4\n",
    "    (10 * (df['high'] - df['low']) >= 12 * (AVGH10 - AVGL10)) & # Condition 5\n",
    "    (~np.isnan(AVGH10) & ~np.isnan(AVGL10)),  # Ensure no NaN values\n",
    "    1,  # If all conditions are met\n",
    "    0   # Otherwise\n",
    ")\n",
    "\n",
    "df[df['Engulfing'] != 0].head()"
   ]
  },
  {
   "cell_type": "code",
   "execution_count": null,
   "metadata": {},
   "outputs": [],
   "source": [
    "df['DOJI'] = np.where(\n",
    "    (20 * abs(df['open'] - df['close']) <= df['high'] - df['low']) &  # Condition\n",
    "    (~df[['high', 'low', 'open', 'close']].isna().any(axis=1)),      # Ensure no NaN values\n",
    "    1,  # If the condition is met\n",
    "    0   # Otherwise\n",
    ")\n",
    "\n",
    "df[df['DOJI'] != 0]"
   ]
  },
  {
   "cell_type": "code",
   "execution_count": null,
   "metadata": {},
   "outputs": [],
   "source": [
    "# Shift the DataFrame by one and two to get the previous days' and two days ago's open, Close, high, and low\n",
    "O1 = df['open'].shift(1)\n",
    "C1 = df['close'].shift(1)\n",
    "H1 = df['high'].shift(1)\n",
    "L1 = df['low'].shift(1)\n",
    "\n",
    "O2 = df['open'].shift(2)\n",
    "C2 = df['close'].shift(2)\n",
    "H2 = df['high'].shift(2)\n",
    "L2 = df['low'].shift(2)\n",
    "\n",
    "# Add a new column 'MorningStar' to indicate if the Morning Star pattern is identified\n",
    "df['MORNINGSTAR'] = np.where(\n",
    "    (O2 > C2) &                                            # Condition 1\n",
    "    (5 * (O2 - C2) > 3 * (H2 - L2)) &          # Condition 2\n",
    "    (C2 > O1) &                                            # Condition 3\n",
    "    (2 * abs(O1 - C1) < abs(O2 - C2)) &        # Condition 4\n",
    "    (H1 - L1 > 3 * (C1 - O1)) &                # Condition 5\n",
    "    (df['close'] > df['open']) &                                       # Condition 6\n",
    "    (df['open'] > O1) &                                          # Condition 7\n",
    "    (df['open'] > C1) &                                          # Condition 8\n",
    "    ((~np.isnan(O2) & ~np.isnan(C2) & ~np.isnan(O1) & ~np.isnan(H1))),  # Ensure no NaN values\n",
    "    1,  # If all conditions are met\n",
    "    0   # Otherwise\n",
    ")\n",
    "\n",
    "df[df['MORNINGSTAR'] != 0]"
   ]
  },
  {
   "cell_type": "code",
   "execution_count": null,
   "metadata": {},
   "outputs": [],
   "source": [
    "MINL5 = df['low'].rolling(window=5).min()\n",
    "\n",
    "# Implement the pattern formula\n",
    "df['HAMMER'] = np.where(\n",
    "    (5 * abs(df['close'] - df['open']) <= df['high'] - df['low']) &            # Condition 1\n",
    "    (10 * abs(df['open'] - df['close']) >= df['high'] - df['low']) &           # Condition 2\n",
    "    (2 * df['open'] >= df['high'] + df['low']) &                               # Condition 3\n",
    "    (STOC1 >= 50) &                                                      # Condition 4\n",
    "    ((20 * df['open'] >= 19 * df['high'] + df['low']) | (STOC1 >= 95)) & # Condition 5 (OR condition)\n",
    "    (10 * (df['high'] - df['low']) >= 8 * (AVGH10 - AVGL10)) &     # Condition 6\n",
    "    (df['low'] == MINL5) &                                               # Condition 7\n",
    "    (df['high'] > df['low']),                                                  # Condition 8\n",
    "    1,  # If all conditions are met\n",
    "    0   # Otherwise\n",
    ")\n",
    "\n",
    "df[df['HAMMER'] == 1]"
   ]
  },
  {
   "cell_type": "code",
   "execution_count": null,
   "metadata": {},
   "outputs": [],
   "source": [
    "AVGH10_1 = df['high'].shift(1).rolling(window=10).mean()\n",
    "AVGL10_1 = df['low'].shift(1).rolling(window=10).mean()\n",
    "\n",
    "# Define the Harami pattern based on the given formula\n",
    "df['HARAMI'] = np.where(\n",
    "    (10 * (O1 - C1) >= 7 * (H1 - L1)) &  # Condition 1\n",
    "    (H1 - L1 >= AVGH10_1 - AVGL10_1) &                          # Condition 2\n",
    "    (df['close'] > df['open']) &                                                                             # Condition 3\n",
    "    (df['open'] > C1) &                                                                    # Condition 4\n",
    "    (O1 > df['close']) &                                                                    # Condition 5\n",
    "    (6 * (O1 - C1) >= 10 * (df['close'] - df['open'])),                   # Condition 6\n",
    "    1,  # If all conditions are met\n",
    "    0   # Otherwise\n",
    ")\n",
    "\n",
    "df[df['HARAMI'] != 0].head()"
   ]
  },
  {
   "cell_type": "code",
   "execution_count": null,
   "metadata": {},
   "outputs": [],
   "source": [
    "# Counting occurrences of each pattern\n",
    "pattern_counts = df[['DOJI', 'Engulfing', 'HAMMER', 'HANGINGMAN', \n",
    "                     'HARAMI', \n",
    "                     'MORNINGSTAR']].apply(lambda x: x[x != 0].count())"
   ]
  },
  {
   "cell_type": "code",
   "execution_count": null,
   "metadata": {},
   "outputs": [],
   "source": [
    "pattern_counts"
   ]
  },
  {
   "cell_type": "code",
   "execution_count": null,
   "metadata": {},
   "outputs": [],
   "source": [
    "local_min_slope, local_min_int = regression_ceof(local_min)\n",
    "local_max_slope, local_max_int = regression_ceof(local_max)\n",
    "support = (local_min_slope * np.array(series.index)) + local_min_int\n",
    "resistance = (local_max_slope * np.array(series.index)) + local_max_int"
   ]
  },
  {
   "cell_type": "code",
   "execution_count": null,
   "metadata": {},
   "outputs": [],
   "source": [
    "plt.title(symbol)\n",
    "plt.xlabel('Days')\n",
    "plt.ylabel('Prices')\n",
    "plt.plot(series, label=symbol)\n",
    "plt.plot(support, label='Support', c='r')\n",
    "plt.plot(resistance, label='Resistance', c='g')\n",
    "plt.legend()"
   ]
  },
  {
   "cell_type": "code",
   "execution_count": null,
   "metadata": {},
   "outputs": [],
   "source": [
    "df_test = df.copy()"
   ]
  },
  {
   "cell_type": "code",
   "execution_count": null,
   "metadata": {},
   "outputs": [],
   "source": [
    "df_test['volume'].mean()"
   ]
  },
  {
   "cell_type": "code",
   "execution_count": null,
   "metadata": {},
   "outputs": [],
   "source": [
    "def heavy(x):\n",
    "    a = df_test['volume'].mean()\n",
    "    if x > a:\n",
    "        return True\n",
    "    else:\n",
    "        return False"
   ]
  },
  {
   "cell_type": "code",
   "execution_count": null,
   "metadata": {},
   "outputs": [],
   "source": [
    "df_test['heavy_V']=df_test['volume'].apply(heavy)"
   ]
  },
  {
   "cell_type": "code",
   "execution_count": null,
   "metadata": {},
   "outputs": [],
   "source": [
    "df_test['heavy_V'].value_counts()"
   ]
  },
  {
   "cell_type": "code",
   "execution_count": null,
   "metadata": {},
   "outputs": [],
   "source": [
    "def calculate_rsi(data, period=4):\n",
    "    \"\"\"\n",
    "    Calculates the Relative Strength Index (RSI) for a given dataset.\n",
    "\n",
    "    Args:\n",
    "        data (pd.Series): A Pandas Series representing the price data.\n",
    "        period (int, optional): The lookback period for calculating RSI. Defaults to 14.\n",
    "\n",
    "    Returns:\n",
    "        pd.Series: A Pandas Series containing the RSI values.\n",
    "    \"\"\"\n",
    "    delta = data.diff()\n",
    "    gain = (delta.where(delta > 0, 0)).fillna(0)\n",
    "    loss = (-delta.where(delta < 0, 0)).fillna(0)\n",
    "    \n",
    "    avg_gain = gain.rolling(window=period, min_periods=period).mean()\n",
    "    avg_loss = loss.rolling(window=period, min_periods=period).mean()\n",
    "\n",
    "    rs = avg_gain / avg_loss\n",
    "    rsi = 100 - (100 / (1 + rs))\n",
    "    return rsi"
   ]
  },
  {
   "cell_type": "code",
   "execution_count": null,
   "metadata": {},
   "outputs": [],
   "source": [
    "\n",
    "def calculate_macd(data, fast_period=12, slow_period=26, signal_period=9):\n",
    "    \"\"\"\n",
    "    Calculates the MACD indicator for a given time series data.\n",
    "\n",
    "    Args:\n",
    "        data (pd.Series): Time series data (e.g., closing prices).\n",
    "        fast_period (int): Period for the fast EMA (default: 12).\n",
    "        slow_period (int): Period for the slow EMA (default: 26).\n",
    "        signal_period (int): Period for the signal line EMA (default: 9).\n",
    "\n",
    "    Returns:\n",
    "        pd.DataFrame: DataFrame containing MACD, signal line, and histogram.\n",
    "    \"\"\"\n",
    "    fast_ema = data.ewm(span=fast_period, adjust=False).mean()\n",
    "    slow_ema = data.ewm(span=slow_period, adjust=False).mean()\n",
    "    macd_line = fast_ema - slow_ema\n",
    "    signal_line = macd_line.ewm(span=signal_period, adjust=False).mean()\n",
    "    histogram = macd_line - signal_line\n",
    "\n",
    "    macd_df = pd.DataFrame({\n",
    "        'MACD': macd_line,\n",
    "        'Signal_Line': signal_line,\n",
    "        'Histogram': histogram\n",
    "    })\n",
    "    return macd_df\n",
    "\n",
    "# Example usage with sample data\n",
    "#data = pd.Series(np.random.rand(100))\n",
    "data = df_test['close']\n",
    "df_test['MACD']= calculate_macd(data)['MACD']\n",
    "df_test['diff_MACD'] = df_test['MACD'].diff()\n",
    "#df_META['MACD_Sig'] =calculate_macd(data)['Signal_Line']\n",
    "#df_META['diff_M_Sig'] = df_META['MACD_Sig'].diff()\n",
    "df_test['RSI'] = calculate_rsi(df_test['close'], period=6)\n",
    "#df_META['diff_RSI_MACD'] = calculate_rsi(df_META['diff_MACD'])"
   ]
  },
  {
   "cell_type": "code",
   "execution_count": null,
   "metadata": {},
   "outputs": [],
   "source": [
    "\n",
    "# Assuming df_test is your DataFrame with a DateTime index\n",
    "fig = go.Figure(data=[go.Candlestick(x=df_test.index,\n",
    "                                     open=df_test['open'],\n",
    "                                     high=df_test['high'],\n",
    "                                     low=df_test['low'],\n",
    "                                     close=df_test['close'],\n",
    "                                     name='Nifty Candlestick')])\n",
    "\n",
    "# Add annotations for patterns\n",
    "pattern_columns = ['DOJI', 'Engulfing', 'HAMMER', 'HANGINGMAN', \n",
    "                     'HARAMI', \n",
    "                     'MORNINGSTAR']\n",
    "\n",
    "for idx in range(len(df_test)):\n",
    "    for pattern in pattern_columns:\n",
    "        if df_test.iloc[idx][pattern] != 0 and df_test.iloc[idx]['heavy_V'] == True: # edited\n",
    "            if (df_test.iloc[idx]['diff_MACD'] > 0) &  (df_test.iloc[idx]['RSI'] > 30) &  (df_test.iloc[idx]['RSI'] < 75)  == True:\n",
    "                fig.add_annotation(\n",
    "                    x=df_test.index[idx],\n",
    "                    y=df_test.iloc[idx]['high'] + (df_test.iloc[idx]['high'] - df_test.iloc[idx]['low']) * 0.3,  # Adjust the offset to be 10% of the candle height\n",
    "                    text=pattern,\n",
    "                    showarrow=True,\n",
    "                    arrowhead=1,\n",
    "                    textangle=90,\n",
    "                    yshift=5  # Optional: Shift the text slightly down if needed\n",
    "                )\n",
    "\n",
    "\n",
    "fig.update_xaxes(\n",
    "    rangeslider_visible=False,\n",
    "    rangebreaks=[\n",
    "        # Remove weekends\n",
    "        dict(bounds=[\"sat\", \"mon\"]),  # Skips Saturday and Sunday\n",
    "        \n",
    "        # Remove non-trading hours\n",
    "        dict(bounds=[16, 9.5], pattern=\"hour\"),  # Skips from 4:00 PM (16) to 9:30 AM (9.5)\n",
    "        \n",
    "        # Optionally, remove specific holidays by specifying exact dates\n",
    "        # dict(values=[\"2024-01-01\", \"2024-12-25\"])\n",
    "    ]\n",
    ")\n",
    "\n",
    "\n",
    "# Customize the layout\n",
    "fig.update_layout(title=symbol,\n",
    "                  xaxis_title='Date',\n",
    "                  yaxis_title='Price',\n",
    "                  width=1000,\n",
    "                  height=600)\n",
    "\n",
    "fig.update_layout(\n",
    "    dragmode='zoom',  # Default interaction is zoom\n",
    "    hovermode='x',    # Hover effect on the x-axis\n",
    "    xaxis_rangeslider_visible=False  # Keep the range slider hidden\n",
    ")\n",
    "\n",
    "# Display the interactive plot\n",
    "fig.show()"
   ]
  },
  {
   "cell_type": "code",
   "execution_count": null,
   "metadata": {},
   "outputs": [],
   "source": [
    "\n",
    "# Assuming df_test is your DataFrame with a DateTime index\n",
    "fig = go.Figure(data=[go.Candlestick(x=df_test.index,\n",
    "                                     open=df_test['open'],\n",
    "                                     high=df_test['high'],\n",
    "                                     low=df_test['low'],\n",
    "                                     close=df_test['close'],\n",
    "                                     name='Nifty Candlestick')])\n",
    "\n",
    "# Add annotations for patterns\n",
    "pattern_columns = ['DOJI', 'Engulfing', 'HAMMER', 'HANGINGMAN', \n",
    "                     'HARAMI', \n",
    "                     'MORNINGSTAR']\n",
    "\n",
    "for idx in range(len(df_test)):\n",
    "    for pattern in pattern_columns:\n",
    "        if df_test.iloc[idx][pattern] != 0 and df_test.iloc[idx]['heavy_V'] == True: # edited\n",
    "            if (df_test.iloc[idx]['diff_MACD'] < 0) &  (df_test.iloc[idx]['RSI'] > 75)  == True:\n",
    "                fig.add_annotation(\n",
    "                    x=df_test.index[idx],\n",
    "                    y=df_test.iloc[idx]['high'] + (df_test.iloc[idx]['high'] - df_test.iloc[idx]['low']) * 0.3,  # Adjust the offset to be 10% of the candle height\n",
    "                    text=pattern,\n",
    "                    showarrow=True,\n",
    "                    arrowhead=1,\n",
    "                    textangle=90,\n",
    "                    yshift=5  # Optional: Shift the text slightly down if needed\n",
    "                )\n",
    "\n",
    "\n",
    "fig.update_xaxes(\n",
    "    rangeslider_visible=False,\n",
    "    rangebreaks=[\n",
    "        # Remove weekends\n",
    "        dict(bounds=[\"sat\", \"mon\"]),  # Skips Saturday and Sunday\n",
    "        \n",
    "        # Remove non-trading hours\n",
    "        dict(bounds=[16, 9.5], pattern=\"hour\"),  # Skips from 4:00 PM (16) to 9:30 AM (9.5)\n",
    "        \n",
    "        # Optionally, remove specific holidays by specifying exact dates\n",
    "        # dict(values=[\"2024-01-01\", \"2024-12-25\"])\n",
    "    ]\n",
    ")\n",
    "\n",
    "\n",
    "# Customize the layout\n",
    "fig.update_layout(title=symbol,\n",
    "                  xaxis_title='Date',\n",
    "                  yaxis_title='Price',\n",
    "                  width=1000,\n",
    "                  height=600)\n",
    "\n",
    "fig.update_layout(\n",
    "    dragmode='zoom',  # Default interaction is zoom\n",
    "    hovermode='x',    # Hover effect on the x-axis\n",
    "    xaxis_rangeslider_visible=False  # Keep the range slider hidden\n",
    ")\n",
    "\n",
    "# Display the interactive plot\n",
    "fig.show()"
   ]
  },
  {
   "cell_type": "code",
   "execution_count": null,
   "metadata": {},
   "outputs": [],
   "source": []
  },
  {
   "cell_type": "code",
   "execution_count": null,
   "metadata": {},
   "outputs": [],
   "source": []
  },
  {
   "cell_type": "code",
   "execution_count": null,
   "metadata": {},
   "outputs": [],
   "source": []
  }
 ],
 "metadata": {
  "kernelspec": {
   "display_name": "Python 3 (ipykernel)",
   "language": "python",
   "name": "python3"
  },
  "language_info": {
   "codemirror_mode": {
    "name": "ipython",
    "version": 3
   },
   "file_extension": ".py",
   "mimetype": "text/x-python",
   "name": "python",
   "nbconvert_exporter": "python",
   "pygments_lexer": "ipython3",
   "version": "3.13.2"
  }
 },
 "nbformat": 4,
 "nbformat_minor": 4
}
