{
 "cells": [
  {
   "cell_type": "code",
   "execution_count": 1,
   "id": "f0d96f9c-561a-4b14-a127-9527ed2fa86a",
   "metadata": {},
   "outputs": [],
   "source": [
    "import os\n",
    "import numpy as np\n",
    "import pandas as pd\n",
    "from datetime import datetime, date, timedelta, time\n",
    "os.environ['TZ'] ='America/New_York'\n",
    "\n",
    "import yfinance as yf\n",
    "\n",
    "import seaborn as sns\n",
    "import matplotlib.pyplot as plt\n",
    "\n",
    "from sklearn.tree import DecisionTreeRegressor\n",
    "from sklearn.ensemble import RandomForestRegressor\n",
    "from sklearn.metrics import mean_squared_error, mean_absolute_error\n",
    "\n",
    "from ib_async import *\n",
    "util.startLoop()"
   ]
  },
  {
   "cell_type": "markdown",
   "id": "b49f8d42-045b-4c3b-bb98-0d5acdb61696",
   "metadata": {},
   "source": [
    "### Data Prep for Inferencing"
   ]
  },
  {
   "cell_type": "code",
   "execution_count": 2,
   "id": "78d4390b-5d51-473d-8b43-99cfd36e358a",
   "metadata": {},
   "outputs": [
    {
     "data": {
      "text/plain": [
       "<IB connected to 127.0.0.1:4001 clientId=7>"
      ]
     },
     "execution_count": 2,
     "metadata": {},
     "output_type": "execute_result"
    }
   ],
   "source": [
    "ib = IB()\n",
    "ib.connect(port=4001, clientId=7)"
   ]
  },
  {
   "cell_type": "code",
   "execution_count": 3,
   "id": "4cf65e41-67cb-49d6-8bff-a910f14600e9",
   "metadata": {},
   "outputs": [
    {
     "data": {
      "text/plain": [
       "[Contract(secType='STK', conId=107113386, symbol='META', exchange='SMART', primaryExchange='NASDAQ', currency='USD', localSymbol='META', tradingClass='NMS')]"
      ]
     },
     "execution_count": 3,
     "metadata": {},
     "output_type": "execute_result"
    }
   ],
   "source": [
    "contract = Contract(symbol='META', secType='STK', exchange='SMART', currency='USD')\n",
    "ib.qualifyContracts(contract)"
   ]
  },
  {
   "cell_type": "code",
   "execution_count": 4,
   "id": "e2a181d2-4ba7-4cfa-861f-256b0d87336c",
   "metadata": {},
   "outputs": [
    {
     "data": {
      "text/plain": [
       "[Contract(secType='IND', conId=13455763, symbol='VIX', exchange='CBOE', currency='USD', localSymbol='VIX')]"
      ]
     },
     "execution_count": 4,
     "metadata": {},
     "output_type": "execute_result"
    }
   ],
   "source": [
    "contract_vix = Contract(symbol= 'VIX', secType = 'IND',exchange = 'CBOE', currency='USD')\n",
    "ib.qualifyContracts(contract_vix)"
   ]
  },
  {
   "cell_type": "code",
   "execution_count": 5,
   "id": "5db09cf3-e7fc-48ae-bd09-1814e51b5a16",
   "metadata": {},
   "outputs": [
    {
     "data": {
      "text/plain": [
       "[Contract(secType='STK', conId=72539702, symbol='TQQQ', exchange='SMART', primaryExchange='NASDAQ', currency='USD', localSymbol='TQQQ', tradingClass='NMS')]"
      ]
     },
     "execution_count": 5,
     "metadata": {},
     "output_type": "execute_result"
    }
   ],
   "source": [
    "contract_nas = Contract(symbol= 'TQQQ', secType = 'STK',exchange = 'SMART', currency='USD')\n",
    "ib.qualifyContracts(contract_nas)"
   ]
  },
  {
   "cell_type": "code",
   "execution_count": 6,
   "id": "fe3c69b4-8edf-4908-a798-35f519661718",
   "metadata": {},
   "outputs": [],
   "source": [
    "class Data_Request :\n",
    "\n",
    "    \"\"\"\n",
    "    Returns PD data containning equity price with specific time control\n",
    "\n",
    "    Returns:\n",
    "        pd: information regarding the contract of interst.\n",
    "    \"\"\"\n",
    "    \n",
    "    def __init__(self, list_days, contract, barsize, duration, *,specific_time= None, specific_pick_time= None):\n",
    "\n",
    "        self.list_days = list_days\n",
    "        self.contract = contract\n",
    "        #self.init_date = init_date\n",
    "        self.barsize = barsize\n",
    "        self.duration = duration\n",
    "        self.specific_time = specific_time # cut off time . Time object: time(14, 30, 0)\n",
    "        self.specific_pick_time= specific_pick_time\n",
    "\n",
    "    def D_request(self):\n",
    "\n",
    "        his_df =pd.DataFrame()\n",
    "        \n",
    "        for i in range(len(self.list_days)):\n",
    "            init_date=self.list_days[i]\n",
    "            bars = ib.reqHistoricalData(self.contract, init_date, barSizeSetting=self.barsize, durationStr=self.duration, whatToShow=\"TRADES\", useRTH=True)\n",
    "            add_his_df = pd.DataFrame(bars)\n",
    "            add_his_df['date'] = pd.to_datetime(add_his_df['date'])\n",
    "            print(f'retriveing data for {init_date}')\n",
    "\n",
    "            if self.specific_time is not None:\n",
    "                cut_off = datetime.combine(self.list_days[i],self.specific_time)  # need logic if specific_time is defined\n",
    "                pd_cut_off = pd.to_datetime(cut_off).tz_localize('US/Eastern')\n",
    "            #datetime64_eastern = pd.Timestamp(date_time_str).tz_localize('US/Eastern')\n",
    "                add_his_df = add_his_df[add_his_df['date'] > pd_cut_off]\n",
    "            \n",
    "            if self.specific_pick_time is not None:\n",
    "                pick_time = datetime.combine(self.list_days[i],self.specific_pick_time)  # need logic if specific_time is defined\n",
    "                pd_pick_time = pd.to_datetime(pick_time).tz_localize('US/Eastern')\n",
    "            #datetime64_eastern = pd.Timestamp(date_time_str).tz_localize('US/Eastern')\n",
    "                add_his_df = add_his_df[add_his_df['date'] == pd_pick_time]\n",
    "\n",
    "            \n",
    "            his_df = pd.concat([his_df, add_his_df], ignore_index=True)\n",
    "            his_df['Date_Only'] = his_df['date'].dt.date\n",
    "            print(len(his_df))\n",
    "\n",
    "        \n",
    "        return his_df\n"
   ]
  },
  {
   "cell_type": "code",
   "execution_count": 7,
   "id": "9c0c04d6-a811-459d-b4eb-677b1d46b103",
   "metadata": {},
   "outputs": [],
   "source": [
    "# picking out Friday and before specific-time data\n",
    "\n",
    "#specific_time = time(14, 30, 0)\n",
    "def data_filter(df_initial, list_days, specific_time_before = None, specific_time_after= None, on_time= None):\n",
    "    his_df = pd.DataFrame()\n",
    "    for i in range(len(list_days)):\n",
    "        init_date=list_days[i]\n",
    "        if specific_time_before is not None:\n",
    "            add_his_df = df_initial[(df_initial['date'].dt.date == init_date) & (df_initial['date'].dt.time < specific_time_before)]\n",
    "           \n",
    "            \n",
    "        if specific_time_after is not None:\n",
    "            add_his_df = df_initial[(df_initial['date'].dt.date == init_date) & (df_initial['date'].dt.time >= specific_time_after)]\n",
    "\n",
    "        if on_time is not None:\n",
    "            add_his_df = df_initial[(df_initial['date'].dt.date == init_date) & (df_initial['date'].dt.time == on_time)]\n",
    "\n",
    "        if (specific_time_before is None and specific_time_after is None) and on_time is None:\n",
    "            add_his_df = df_initial[(df_initial['date'].dt.date == init_date)]\n",
    "        \n",
    "        print(len(his_df))\n",
    "        print(f'retrieving {init_date}')\n",
    "        per_proc = np.round(i+1/len(list_days)*100, decimals=1)\n",
    "        print(f'{per_proc} percent is done')\n",
    "        his_df = pd.concat([his_df, add_his_df], ignore_index=True)\n",
    "        his_df.drop_duplicates(subset=None, keep='first', inplace=True)\n",
    "        his_df['Date_Only'] = his_df['date'].dt.date\n",
    "    return his_df"
   ]
  },
  {
   "cell_type": "code",
   "execution_count": 8,
   "id": "287a6330-c731-47bc-8be7-65516105d735",
   "metadata": {},
   "outputs": [],
   "source": [
    "def get_fridays_in_range(start_date, end_date):\n",
    "    \"\"\"\n",
    "    Returns a list of dates that are Fridays within the given date range.\n",
    "\n",
    "    Args:\n",
    "        start_date (date): The start date of the range.\n",
    "        end_date (date): The end date of the range.\n",
    "\n",
    "    Returns:\n",
    "        list: A list of date objects representing Fridays within the range.\n",
    "    \"\"\"\n",
    "    fridays = []\n",
    "    all_dates = []\n",
    "    current_date = start_date\n",
    "    all_current_date = start_date\n",
    "\n",
    "    # Adjust to the first Friday\n",
    "    days_until_friday = (4 - current_date.weekday()) % 7\n",
    "    current_date += timedelta(days=days_until_friday)\n",
    "\n",
    "    while current_date <= end_date:\n",
    "        fridays.append(current_date)\n",
    "        current_date += timedelta(days=7) # Move to the next Friday\n",
    "\n",
    "    while all_current_date <= end_date:\n",
    "        all_dates.append(all_current_date)\n",
    "        all_current_date += timedelta(days=1)\n",
    "    \n",
    "    return fridays, all_dates\n",
    "\n",
    "# Example Usage\n",
    "start_date = date(2024, 1, 1)\n",
    "end_date = date(2025, 4, 1)\n",
    "\n",
    "fridays, all_dates = get_fridays_in_range(start_date, end_date)\n",
    "# removing Non-trading Holidays\n",
    "fridays.remove(date(2024, 3, 29))\n",
    "fridays.remove(date(2024, 11, 29))"
   ]
  },
  {
   "cell_type": "code",
   "execution_count": 9,
   "id": "862892f9-c4b7-427f-8ef4-36f3035f9ecc",
   "metadata": {},
   "outputs": [],
   "source": [
    "now =datetime.now()\n",
    "#print(now.date())\n",
    "#print(now.time().minute)\n",
    "#infer_time = time(now.time().hour, now.time().minute -15 )\n",
    "#infer_time = time(now.time().hour, now.time().minute)\n",
    "inferencing_date = now.date()\n",
    "infer_time = time(14,30,0)\n",
    "#infer_time = time(14,30,0)"
   ]
  },
  {
   "cell_type": "markdown",
   "id": "34c8eb67-543d-4ad9-b613-d44a8b3f966c",
   "metadata": {},
   "source": [
    "### Inferencing Data Set Collection ###"
   ]
  },
  {
   "cell_type": "code",
   "execution_count": 10,
   "id": "7aa3420a-ca6d-4482-8a76-12a8f9915135",
   "metadata": {},
   "outputs": [
    {
     "name": "stdout",
     "output_type": "stream",
     "text": [
      "retriveing data for 2025-04-04\n",
      "780\n"
     ]
    }
   ],
   "source": [
    "barsize =\"30 secs\"\n",
    "duration = \"1 D\"\n",
    "#DR_stock_meta = Data_Request( \" \",contract, barsize, duration)\n",
    "DR_stock_meta = Data_Request([inferencing_date], contract, barsize, duration)\n",
    "df_all_days_stock = DR_stock_meta.D_request()"
   ]
  },
  {
   "cell_type": "code",
   "execution_count": 11,
   "id": "d21e8784-60e4-458a-a468-73890f6b53f7",
   "metadata": {},
   "outputs": [
    {
     "name": "stdout",
     "output_type": "stream",
     "text": [
      "retriveing data for 2025-04-04\n",
      "1620\n",
      "retriveing data for 2025-04-04\n",
      "780\n"
     ]
    }
   ],
   "source": [
    "DR_IND_VIX = Data_Request([inferencing_date], contract_vix, barsize, duration)\n",
    "DR_STK_TQQQ = Data_Request([inferencing_date], contract_nas, barsize, duration)\n",
    "df_all_days_VIX = DR_IND_VIX.D_request()\n",
    "df_all_days_TQQQ = DR_STK_TQQQ.D_request()"
   ]
  },
  {
   "cell_type": "code",
   "execution_count": 12,
   "id": "f8187a55-3b5c-4f64-b4f7-906e464f53dd",
   "metadata": {},
   "outputs": [
    {
     "name": "stdout",
     "output_type": "stream",
     "text": [
      "                         date    open    high     low   close    volume  \\\n",
      "779 2025-04-04 15:59:30-04:00  504.71  505.07  504.32  504.74  200485.0   \n",
      "\n",
      "     average  barCount   Date_Only  \n",
      "779  504.631      1289  2025-04-04  \n",
      "                          date   open   high    low  close  volume  average  \\\n",
      "1619 2025-04-04 15:59:30-05:00  45.31  45.31  45.31  45.31     0.0      0.0   \n",
      "\n",
      "      barCount   Date_Only  \n",
      "1619         0  2025-04-04  \n",
      "                         date   open   high    low  close    volume  average  \\\n",
      "779 2025-04-04 15:59:30-04:00  41.12  41.19  41.03  41.09  645543.0   41.089   \n",
      "\n",
      "     barCount   Date_Only  \n",
      "779      1467  2025-04-04  \n"
     ]
    }
   ],
   "source": [
    "print(df_all_days_stock.tail(1))\n",
    "print(df_all_days_VIX.tail(1))\n",
    "print(df_all_days_TQQQ.tail(1))"
   ]
  },
  {
   "cell_type": "code",
   "execution_count": null,
   "id": "7da33195-3d19-4b79-99e1-4151ee20eb80",
   "metadata": {},
   "outputs": [],
   "source": []
  },
  {
   "cell_type": "code",
   "execution_count": null,
   "id": "af053f54-d77c-4899-8395-b9d7a26ea793",
   "metadata": {},
   "outputs": [],
   "source": [
    "#df_all_days_stock = DR_stock_meta.D_request()"
   ]
  },
  {
   "cell_type": "code",
   "execution_count": 13,
   "id": "6b748e96-b721-4e16-8b86-e0b93f064253",
   "metadata": {},
   "outputs": [],
   "source": [
    "\n",
    "def data_sparcing_construc(df, sp_day, *, cut_time = None):\n",
    "    #df_group = df.groupby(\"Date_Only\").std(numeric_only=True)\n",
    "    df_filter_prior = data_filter(df, sp_day, specific_time_before = cut_time )\n",
    "    df_group_prior = df_filter_prior.groupby(\"Date_Only\").std(numeric_only=True)\n",
    "    \n",
    "    #df_filter_after = data_filter(df, sp_day, specific_time_after = cut_time )\n",
    "    #df_group_after = df_filter_after.groupby(\"Date_Only\").std(numeric_only=True)\n",
    "\n",
    "\n",
    "    df_group_train =pd.DataFrame()\n",
    "    #df_group_train['Target_std'] = pd.DataFrame(df_group_after[['open','high','low','close']].max(axis=1))\n",
    "    df_group_train['prior_std'] = pd.DataFrame(df_group_prior[['open','high','low','close']].max(axis=1))\n",
    "    df_group_train['prior_Vol'] = pd.DataFrame(df_filter_prior.groupby(\"Date_Only\").mean()['volume'])\n",
    "\n",
    "\n",
    "    df_group_train['prior_range'] =pd.DataFrame(df_filter_prior.groupby('Date_Only')['close'].max() -df_filter_prior.groupby('Date_Only')['close'].min() )\n",
    "\n",
    "    df_initial = df_filter_prior\n",
    "    new_time = time(cut_time.hour, cut_time.minute -1)\n",
    "    df_group_train['cut_open'] = df_initial[(df_initial['date'].dt.time == new_time)]['open'].values\n",
    "    \n",
    "    cut_name =['cut_1hr','cut_2hr','cut_3hr']\n",
    "    for i in range(3):\n",
    "        print(f'time avaiable {i}')\n",
    "        prior = time(cut_time.hour - (i+1), cut_time.minute)\n",
    "        df_group_train[cut_name[i]] = df_initial[(df_initial['date'].dt.time == new_time)]['open'].values- df_initial[(df_initial['date'].dt.time == prior)]['open'].values\n",
    "\n",
    "    #df_group_train['Class_target'] = df_filter_after[(df_filter_after['date'].dt.time == time(15, 49, 0))]['close'].values- df_initial[(df_initial['date'].dt.time == new_time)]['open'].values\n",
    "    \n",
    "    return df_group_train, df_filter_prior, df_group_prior\n",
    "    "
   ]
  },
  {
   "cell_type": "code",
   "execution_count": 14,
   "id": "e0839af3-ef97-46fa-8ce3-fcbbd6fcabcb",
   "metadata": {},
   "outputs": [
    {
     "name": "stdout",
     "output_type": "stream",
     "text": [
      "14:30:00\n"
     ]
    }
   ],
   "source": [
    "#print(now.time().minute)\n",
    "#infer_time = time(now.time().hour, now.time().minute -15 )\n",
    "print(infer_time)"
   ]
  },
  {
   "cell_type": "code",
   "execution_count": 15,
   "id": "f2c47ffa-f38e-4bf4-99f9-282ea20e9bb2",
   "metadata": {},
   "outputs": [
    {
     "data": {
      "text/html": [
       "<div>\n",
       "<style scoped>\n",
       "    .dataframe tbody tr th:only-of-type {\n",
       "        vertical-align: middle;\n",
       "    }\n",
       "\n",
       "    .dataframe tbody tr th {\n",
       "        vertical-align: top;\n",
       "    }\n",
       "\n",
       "    .dataframe thead th {\n",
       "        text-align: right;\n",
       "    }\n",
       "</style>\n",
       "<table border=\"1\" class=\"dataframe\">\n",
       "  <thead>\n",
       "    <tr style=\"text-align: right;\">\n",
       "      <th></th>\n",
       "      <th>date</th>\n",
       "      <th>open</th>\n",
       "      <th>high</th>\n",
       "      <th>low</th>\n",
       "      <th>close</th>\n",
       "      <th>volume</th>\n",
       "      <th>average</th>\n",
       "      <th>barCount</th>\n",
       "      <th>Date_Only</th>\n",
       "    </tr>\n",
       "  </thead>\n",
       "  <tbody>\n",
       "    <tr>\n",
       "      <th>0</th>\n",
       "      <td>2025-04-04 09:30:00-04:00</td>\n",
       "      <td>506.89</td>\n",
       "      <td>508.20</td>\n",
       "      <td>505.05</td>\n",
       "      <td>505.28</td>\n",
       "      <td>583710.0</td>\n",
       "      <td>506.248</td>\n",
       "      <td>1218</td>\n",
       "      <td>2025-04-04</td>\n",
       "    </tr>\n",
       "    <tr>\n",
       "      <th>1</th>\n",
       "      <td>2025-04-04 09:30:30-04:00</td>\n",
       "      <td>505.28</td>\n",
       "      <td>505.69</td>\n",
       "      <td>502.43</td>\n",
       "      <td>503.62</td>\n",
       "      <td>198419.0</td>\n",
       "      <td>504.138</td>\n",
       "      <td>1205</td>\n",
       "      <td>2025-04-04</td>\n",
       "    </tr>\n",
       "    <tr>\n",
       "      <th>2</th>\n",
       "      <td>2025-04-04 09:31:00-04:00</td>\n",
       "      <td>503.69</td>\n",
       "      <td>510.00</td>\n",
       "      <td>503.35</td>\n",
       "      <td>508.59</td>\n",
       "      <td>141298.0</td>\n",
       "      <td>507.088</td>\n",
       "      <td>755</td>\n",
       "      <td>2025-04-04</td>\n",
       "    </tr>\n",
       "    <tr>\n",
       "      <th>3</th>\n",
       "      <td>2025-04-04 09:31:30-04:00</td>\n",
       "      <td>508.55</td>\n",
       "      <td>510.60</td>\n",
       "      <td>508.33</td>\n",
       "      <td>510.20</td>\n",
       "      <td>65991.0</td>\n",
       "      <td>509.771</td>\n",
       "      <td>411</td>\n",
       "      <td>2025-04-04</td>\n",
       "    </tr>\n",
       "    <tr>\n",
       "      <th>4</th>\n",
       "      <td>2025-04-04 09:32:00-04:00</td>\n",
       "      <td>510.11</td>\n",
       "      <td>510.80</td>\n",
       "      <td>509.03</td>\n",
       "      <td>509.84</td>\n",
       "      <td>74243.0</td>\n",
       "      <td>509.947</td>\n",
       "      <td>464</td>\n",
       "      <td>2025-04-04</td>\n",
       "    </tr>\n",
       "    <tr>\n",
       "      <th>...</th>\n",
       "      <td>...</td>\n",
       "      <td>...</td>\n",
       "      <td>...</td>\n",
       "      <td>...</td>\n",
       "      <td>...</td>\n",
       "      <td>...</td>\n",
       "      <td>...</td>\n",
       "      <td>...</td>\n",
       "      <td>...</td>\n",
       "    </tr>\n",
       "    <tr>\n",
       "      <th>775</th>\n",
       "      <td>2025-04-04 15:57:30-04:00</td>\n",
       "      <td>505.49</td>\n",
       "      <td>505.49</td>\n",
       "      <td>504.54</td>\n",
       "      <td>504.76</td>\n",
       "      <td>110267.0</td>\n",
       "      <td>505.118</td>\n",
       "      <td>768</td>\n",
       "      <td>2025-04-04</td>\n",
       "    </tr>\n",
       "    <tr>\n",
       "      <th>776</th>\n",
       "      <td>2025-04-04 15:58:00-04:00</td>\n",
       "      <td>504.82</td>\n",
       "      <td>505.83</td>\n",
       "      <td>504.44</td>\n",
       "      <td>505.58</td>\n",
       "      <td>104134.0</td>\n",
       "      <td>504.948</td>\n",
       "      <td>637</td>\n",
       "      <td>2025-04-04</td>\n",
       "    </tr>\n",
       "    <tr>\n",
       "      <th>777</th>\n",
       "      <td>2025-04-04 15:58:30-04:00</td>\n",
       "      <td>505.59</td>\n",
       "      <td>505.69</td>\n",
       "      <td>504.96</td>\n",
       "      <td>505.00</td>\n",
       "      <td>97282.0</td>\n",
       "      <td>505.359</td>\n",
       "      <td>674</td>\n",
       "      <td>2025-04-04</td>\n",
       "    </tr>\n",
       "    <tr>\n",
       "      <th>778</th>\n",
       "      <td>2025-04-04 15:59:00-04:00</td>\n",
       "      <td>505.07</td>\n",
       "      <td>505.09</td>\n",
       "      <td>504.32</td>\n",
       "      <td>504.68</td>\n",
       "      <td>168555.0</td>\n",
       "      <td>504.581</td>\n",
       "      <td>1248</td>\n",
       "      <td>2025-04-04</td>\n",
       "    </tr>\n",
       "    <tr>\n",
       "      <th>779</th>\n",
       "      <td>2025-04-04 15:59:30-04:00</td>\n",
       "      <td>504.71</td>\n",
       "      <td>505.07</td>\n",
       "      <td>504.32</td>\n",
       "      <td>504.74</td>\n",
       "      <td>200485.0</td>\n",
       "      <td>504.631</td>\n",
       "      <td>1289</td>\n",
       "      <td>2025-04-04</td>\n",
       "    </tr>\n",
       "  </tbody>\n",
       "</table>\n",
       "<p>780 rows × 9 columns</p>\n",
       "</div>"
      ],
      "text/plain": [
       "                         date    open    high     low   close    volume  \\\n",
       "0   2025-04-04 09:30:00-04:00  506.89  508.20  505.05  505.28  583710.0   \n",
       "1   2025-04-04 09:30:30-04:00  505.28  505.69  502.43  503.62  198419.0   \n",
       "2   2025-04-04 09:31:00-04:00  503.69  510.00  503.35  508.59  141298.0   \n",
       "3   2025-04-04 09:31:30-04:00  508.55  510.60  508.33  510.20   65991.0   \n",
       "4   2025-04-04 09:32:00-04:00  510.11  510.80  509.03  509.84   74243.0   \n",
       "..                        ...     ...     ...     ...     ...       ...   \n",
       "775 2025-04-04 15:57:30-04:00  505.49  505.49  504.54  504.76  110267.0   \n",
       "776 2025-04-04 15:58:00-04:00  504.82  505.83  504.44  505.58  104134.0   \n",
       "777 2025-04-04 15:58:30-04:00  505.59  505.69  504.96  505.00   97282.0   \n",
       "778 2025-04-04 15:59:00-04:00  505.07  505.09  504.32  504.68  168555.0   \n",
       "779 2025-04-04 15:59:30-04:00  504.71  505.07  504.32  504.74  200485.0   \n",
       "\n",
       "     average  barCount   Date_Only  \n",
       "0    506.248      1218  2025-04-04  \n",
       "1    504.138      1205  2025-04-04  \n",
       "2    507.088       755  2025-04-04  \n",
       "3    509.771       411  2025-04-04  \n",
       "4    509.947       464  2025-04-04  \n",
       "..       ...       ...         ...  \n",
       "775  505.118       768  2025-04-04  \n",
       "776  504.948       637  2025-04-04  \n",
       "777  505.359       674  2025-04-04  \n",
       "778  504.581      1248  2025-04-04  \n",
       "779  504.631      1289  2025-04-04  \n",
       "\n",
       "[780 rows x 9 columns]"
      ]
     },
     "execution_count": 15,
     "metadata": {},
     "output_type": "execute_result"
    }
   ],
   "source": [
    "df_all_days_stock"
   ]
  },
  {
   "cell_type": "code",
   "execution_count": 16,
   "id": "b7eb65d5-801c-4dfb-b1e9-f5ea8b17a750",
   "metadata": {},
   "outputs": [
    {
     "name": "stdout",
     "output_type": "stream",
     "text": [
      "0\n",
      "retrieving 2025-04-04\n",
      "100.0 percent is done\n",
      "time avaiable 0\n",
      "time avaiable 1\n",
      "time avaiable 2\n"
     ]
    }
   ],
   "source": [
    "df_group_train, df_filter_prior, df_group_prior = data_sparcing_construc(df_all_days_stock, [inferencing_date], cut_time= infer_time)"
   ]
  },
  {
   "cell_type": "code",
   "execution_count": 17,
   "id": "ba9237c8-c9f7-4804-825d-8403febaa198",
   "metadata": {},
   "outputs": [
    {
     "name": "stdout",
     "output_type": "stream",
     "text": [
      "0\n",
      "retrieving 2025-04-04\n",
      "100.0 percent is done\n",
      "time avaiable 0\n",
      "time avaiable 1\n",
      "time avaiable 2\n"
     ]
    }
   ],
   "source": [
    "df_group_train_tqqq, *_ = data_sparcing_construc(df_all_days_TQQQ, [inferencing_date], cut_time= infer_time)"
   ]
  },
  {
   "cell_type": "code",
   "execution_count": 18,
   "id": "2549cdbc-137d-41f8-9dd9-3a57e99ff2bf",
   "metadata": {},
   "outputs": [],
   "source": [
    "# end time needs to be adjusted\n",
    "#vix_infer_time = time(now.time().hour -1, now.time().minute )\n",
    "vix_infer_time = infer_time "
   ]
  },
  {
   "cell_type": "code",
   "execution_count": 20,
   "id": "314e64f1-8d83-4d25-a574-83902484e4f5",
   "metadata": {},
   "outputs": [
    {
     "name": "stdout",
     "output_type": "stream",
     "text": [
      "0\n",
      "retrieving 2025-04-04\n",
      "100.0 percent is done\n",
      "time avaiable 0\n",
      "time avaiable 1\n",
      "time avaiable 2\n"
     ]
    }
   ],
   "source": [
    "df_group_train_vix, *_ = data_sparcing_construc(df_all_days_VIX, [inferencing_date], cut_time= vix_infer_time)"
   ]
  },
  {
   "cell_type": "code",
   "execution_count": 21,
   "id": "5290a392-6d1f-4a71-9467-ef92f5e470c0",
   "metadata": {},
   "outputs": [],
   "source": [
    "df_final_joninted_vix=pd.DataFrame()\n",
    "df_final_joninted_all=pd.DataFrame()\n",
    "\n",
    "df_group_train_vix.columns =['vix_prior_std','vix_Vol','vix_prior_range','vix_cut_open','vix_cut_1hr','vix_cut_2hr','vix_cut_3hr']\n",
    "df_final_jointed_vix = pd.concat([df_group_train,df_group_train_vix], axis=1)\n",
    "df_group_train_tqqq.columns =['tqqq_prior_std','tqqq_Vol','tqqq_prior_range','tqqq_cut_open','tqqq_cut_1hr','tqqq_cut_2hr','tqqq_cut_3hr']\n",
    "df_final_jointed_all = pd.concat([df_final_jointed_vix,df_group_train_tqqq], axis=1)\n",
    "df_final_jointed_all.drop(['vix_Vol'], axis=1, inplace=True)"
   ]
  },
  {
   "cell_type": "code",
   "execution_count": 22,
   "id": "6f6803c7-cc68-4303-bd03-8ba89821c114",
   "metadata": {},
   "outputs": [
    {
     "data": {
      "text/html": [
       "<div>\n",
       "<style scoped>\n",
       "    .dataframe tbody tr th:only-of-type {\n",
       "        vertical-align: middle;\n",
       "    }\n",
       "\n",
       "    .dataframe tbody tr th {\n",
       "        vertical-align: top;\n",
       "    }\n",
       "\n",
       "    .dataframe thead th {\n",
       "        text-align: right;\n",
       "    }\n",
       "</style>\n",
       "<table border=\"1\" class=\"dataframe\">\n",
       "  <thead>\n",
       "    <tr style=\"text-align: right;\">\n",
       "      <th></th>\n",
       "      <th>prior_std</th>\n",
       "      <th>prior_Vol</th>\n",
       "      <th>prior_range</th>\n",
       "      <th>cut_open</th>\n",
       "      <th>cut_1hr</th>\n",
       "      <th>cut_2hr</th>\n",
       "      <th>cut_3hr</th>\n",
       "      <th>vix_prior_std</th>\n",
       "      <th>vix_prior_range</th>\n",
       "      <th>vix_cut_open</th>\n",
       "      <th>vix_cut_1hr</th>\n",
       "      <th>vix_cut_2hr</th>\n",
       "      <th>vix_cut_3hr</th>\n",
       "      <th>tqqq_prior_std</th>\n",
       "      <th>tqqq_Vol</th>\n",
       "      <th>tqqq_prior_range</th>\n",
       "      <th>tqqq_cut_open</th>\n",
       "      <th>tqqq_cut_1hr</th>\n",
       "      <th>tqqq_cut_2hr</th>\n",
       "      <th>tqqq_cut_3hr</th>\n",
       "    </tr>\n",
       "    <tr>\n",
       "      <th>Date_Only</th>\n",
       "      <th></th>\n",
       "      <th></th>\n",
       "      <th></th>\n",
       "      <th></th>\n",
       "      <th></th>\n",
       "      <th></th>\n",
       "      <th></th>\n",
       "      <th></th>\n",
       "      <th></th>\n",
       "      <th></th>\n",
       "      <th></th>\n",
       "      <th></th>\n",
       "      <th></th>\n",
       "      <th></th>\n",
       "      <th></th>\n",
       "      <th></th>\n",
       "      <th></th>\n",
       "      <th></th>\n",
       "      <th></th>\n",
       "      <th></th>\n",
       "    </tr>\n",
       "  </thead>\n",
       "  <tbody>\n",
       "    <tr>\n",
       "      <th>2025-04-04</th>\n",
       "      <td>3.358475</td>\n",
       "      <td>28984.31</td>\n",
       "      <td>22.77</td>\n",
       "      <td>508.59</td>\n",
       "      <td>0.45</td>\n",
       "      <td>2.54</td>\n",
       "      <td>-2.22</td>\n",
       "      <td>4.578754</td>\n",
       "      <td>15.55</td>\n",
       "      <td>42.66</td>\n",
       "      <td>-0.05</td>\n",
       "      <td>1.03</td>\n",
       "      <td>2.17</td>\n",
       "      <td>1.173603</td>\n",
       "      <td>262132.476667</td>\n",
       "      <td>4.72</td>\n",
       "      <td>42.14</td>\n",
       "      <td>-0.37</td>\n",
       "      <td>-0.73</td>\n",
       "      <td>-2.17</td>\n",
       "    </tr>\n",
       "  </tbody>\n",
       "</table>\n",
       "</div>"
      ],
      "text/plain": [
       "            prior_std  prior_Vol  prior_range  cut_open  cut_1hr  cut_2hr  \\\n",
       "Date_Only                                                                   \n",
       "2025-04-04   3.358475   28984.31        22.77    508.59     0.45     2.54   \n",
       "\n",
       "            cut_3hr  vix_prior_std  vix_prior_range  vix_cut_open  \\\n",
       "Date_Only                                                           \n",
       "2025-04-04    -2.22       4.578754            15.55         42.66   \n",
       "\n",
       "            vix_cut_1hr  vix_cut_2hr  vix_cut_3hr  tqqq_prior_std  \\\n",
       "Date_Only                                                           \n",
       "2025-04-04        -0.05         1.03         2.17        1.173603   \n",
       "\n",
       "                 tqqq_Vol  tqqq_prior_range  tqqq_cut_open  tqqq_cut_1hr  \\\n",
       "Date_Only                                                                  \n",
       "2025-04-04  262132.476667              4.72          42.14         -0.37   \n",
       "\n",
       "            tqqq_cut_2hr  tqqq_cut_3hr  \n",
       "Date_Only                               \n",
       "2025-04-04         -0.73         -2.17  "
      ]
     },
     "execution_count": 22,
     "metadata": {},
     "output_type": "execute_result"
    }
   ],
   "source": [
    "df_final_jointed_all"
   ]
  },
  {
   "cell_type": "markdown",
   "id": "56d446b6-7827-412e-9e35-80fb0c4fcb05",
   "metadata": {},
   "source": [
    "### INFERENCING###"
   ]
  },
  {
   "cell_type": "code",
   "execution_count": 23,
   "id": "9b375a5f-5b57-4a9c-934a-d043269131df",
   "metadata": {},
   "outputs": [],
   "source": [
    "df_final_jointed_all.reset_index(inplace=True)\n",
    "inference_data = df_final_jointed_all.drop('Date_Only', axis=1)"
   ]
  },
  {
   "cell_type": "code",
   "execution_count": 24,
   "id": "2b854690-a671-4c54-ae31-e502ea7927c4",
   "metadata": {},
   "outputs": [
    {
     "data": {
      "text/plain": [
       "(1, 20)"
      ]
     },
     "execution_count": 24,
     "metadata": {},
     "output_type": "execute_result"
    }
   ],
   "source": [
    "inference_data.shape"
   ]
  },
  {
   "cell_type": "code",
   "execution_count": 29,
   "id": "8c70c6fb-8dff-4216-b7c4-62d6b53cbbc2",
   "metadata": {},
   "outputs": [],
   "source": [
    "import joblib\n",
    "# Assuming 'model' is your trained model object\n",
    "filename = 'xgb_model_w_all.joblib'\n",
    "loaded_model = joblib.load(filename)"
   ]
  },
  {
   "cell_type": "code",
   "execution_count": 30,
   "id": "0c8466e3-b735-4c1e-8091-b7b2eb0816b8",
   "metadata": {},
   "outputs": [],
   "source": [
    "yhat = loaded_model.predict(inference_data)"
   ]
  },
  {
   "cell_type": "code",
   "execution_count": 31,
   "id": "68599f33-bc1f-4d7f-8cee-9c98d39a098a",
   "metadata": {},
   "outputs": [
    {
     "data": {
      "text/plain": [
       "array([2.0154476], dtype=float32)"
      ]
     },
     "execution_count": 31,
     "metadata": {},
     "output_type": "execute_result"
    }
   ],
   "source": [
    "yhat"
   ]
  },
  {
   "cell_type": "code",
   "execution_count": 27,
   "id": "22434279-be29-4ca2-b27c-857abddd693d",
   "metadata": {},
   "outputs": [
    {
     "data": {
      "text/plain": [
       "array([1.291517], dtype=float32)"
      ]
     },
     "execution_count": 27,
     "metadata": {},
     "output_type": "execute_result"
    }
   ],
   "source": [
    "# old model array([1.291517], dtype=float32)"
   ]
  },
  {
   "cell_type": "code",
   "execution_count": 32,
   "id": "75008cf3-e306-4519-99df-2e203e35d91b",
   "metadata": {},
   "outputs": [],
   "source": [
    "#entry  = df_all_days_stock.iloc[600]['close']\n",
    "entry = df_all_days_stock.tail(1)['close'].values"
   ]
  },
  {
   "cell_type": "code",
   "execution_count": 35,
   "id": "38f04bad-7bd4-42a6-8376-258f49658079",
   "metadata": {},
   "outputs": [],
   "source": [
    "y_value = entry\n",
    "y_value_p = entry + yhat[0]*3\n",
    "y_value_m = entry - yhat[0]*3"
   ]
  },
  {
   "cell_type": "code",
   "execution_count": 36,
   "id": "7d3817d6-e9f5-4952-b365-463156175b02",
   "metadata": {},
   "outputs": [
    {
     "data": {
      "text/plain": [
       "array([5.038619], dtype=float32)"
      ]
     },
     "execution_count": 36,
     "metadata": {},
     "output_type": "execute_result"
    }
   ],
   "source": [
    "yhat*2.5"
   ]
  },
  {
   "cell_type": "code",
   "execution_count": 37,
   "id": "3d054413-5db1-4445-8683-6123be4e8e38",
   "metadata": {},
   "outputs": [
    {
     "name": "stdout",
     "output_type": "stream",
     "text": [
      "[510.78634285] [498.69365715]\n"
     ]
    }
   ],
   "source": [
    "print(y_value_p,y_value_m )"
   ]
  },
  {
   "cell_type": "code",
   "execution_count": 38,
   "id": "a7747af4-6229-4720-a862-7f69539b77bf",
   "metadata": {},
   "outputs": [
    {
     "data": {
      "text/plain": [
       "<matplotlib.lines.Line2D at 0x138b89b2090>"
      ]
     },
     "execution_count": 38,
     "metadata": {},
     "output_type": "execute_result"
    },
    {
     "data": {
      "image/png": "[encoded data removed]",
      "text/plain": [
       "<Figure size 640x480 with 1 Axes>"
      ]
     },
     "metadata": {},
     "output_type": "display_data"
    }
   ],
   "source": [
    "#df_all_days_stock['close'].plot(xlim=(300,400), ylim=(575,587))\n",
    "df_all_days_stock['close'].plot()\n",
    "plt.xlabel('time')\n",
    "plt.axhline(y=y_value, color='r', linestyle='--', label=f'y = {y_value}')\n",
    "plt.axhline(y=y_value_p, color='black', linestyle='--', label=f'y = {y_value_p}')\n",
    "plt.axhline(y=y_value_m, color='black', linestyle='--', label=f'y = {y_value_m}')"
   ]
  },
  {
   "cell_type": "code",
   "execution_count": null,
   "id": "8d198710-b644-45f9-aa63-c3d8e5b49832",
   "metadata": {},
   "outputs": [],
   "source": [
    "## checking right options"
   ]
  },
  {
   "cell_type": "code",
   "execution_count": null,
   "id": "6ff655d0-d50b-434c-a34a-5b1dad512f14",
   "metadata": {},
   "outputs": [],
   "source": [
    "def get_option_chain(symbol):\n",
    "    contract = Stock(symbol=symbol, exchange='SMART', currency='USD')\n",
    "    ib.qualifyContracts(contract)\n",
    "    chains = ib.reqSecDefOptParams(underlyingSymbol=contract.symbol, futFopExchange=\"\", underlyingSecType=contract.secType, underlyingConId=contract.conId)\n",
    "    chain = [ c for c in chains if c.exchange =='SMART'][0]\n",
    "    return chain"
   ]
  },
  {
   "cell_type": "code",
   "execution_count": null,
   "id": "9da00574-5557-4c6d-b511-e4010407ecf8",
   "metadata": {},
   "outputs": [],
   "source": [
    "def get_options_chain_for_expiry(symbol, expiry, min_strike=0, max_strike=np.Inf):\n",
    "    option_chain = get_option_chain(symbol)\n",
    "    options=[]\n",
    "    for strike in option_chain.strikes:\n",
    "        if strike <= max_strike and strike >= min_strike:\n",
    "            for right in ['C', 'P']:\n",
    "                option = Option(symbol=symbol, lastTradeDateOrContractMonth=expiry, strike=strike, right=right, exchange='SMART', currency='USD')\n",
    "                options.append(option)\n",
    "    valid_options=ib.qualifyContracts(*options)\n",
    "    return valid_options"
   ]
  },
  {
   "cell_type": "code",
   "execution_count": null,
   "id": "0dd975fe-838f-4671-bbda-7acb5275d426",
   "metadata": {},
   "outputs": [],
   "source": [
    "### OPTION"
   ]
  },
  {
   "cell_type": "code",
   "execution_count": null,
   "id": "6f5bf7fb-f9ab-4e96-a886-bd206b37b1b5",
   "metadata": {},
   "outputs": [],
   "source": [
    "contract = Contract(symbol='META', secType='STK', exchange='SMART', currency='USD')\n",
    "ib.qualifyContracts(contract)"
   ]
  },
  {
   "cell_type": "code",
   "execution_count": null,
   "id": "4279b4da-f3cd-4faf-a2e8-08178b7866ff",
   "metadata": {},
   "outputs": [],
   "source": [
    "print(entry)"
   ]
  },
  {
   "cell_type": "code",
   "execution_count": null,
   "id": "dfffd4bd-e625-4463-badf-584181bcff4a",
   "metadata": {},
   "outputs": [],
   "source": [
    "print(y_value_p, y_value_m) "
   ]
  },
  {
   "cell_type": "code",
   "execution_count": null,
   "id": "876fe6c2-d172-4999-aa92-ea2afe0d78f8",
   "metadata": {},
   "outputs": [],
   "source": [
    "valid_options = get_options_chain_for_expiry(\"META\", \"20250404\", min_strike=500, max_strike=520)"
   ]
  },
  {
   "cell_type": "code",
   "execution_count": null,
   "id": "7f932c77-2a36-472c-ac8f-3c67d266dc04",
   "metadata": {},
   "outputs": [],
   "source": [
    "tickers_dict = {}\n",
    "for option in valid_options:\n",
    "    tickers_dict[(option.right, option.strike)] = ib.reqMktData(contract =option, genericTickList=\"\", snapshot=False, regulatorySnapshot=False)"
   ]
  },
  {
   "cell_type": "code",
   "execution_count": null,
   "id": "0a2017cf-23fe-4820-8bfe-0db01f7076a4",
   "metadata": {},
   "outputs": [],
   "source": [
    "ticker_call_to_sell_margin = tickers_dict['C', 520]\n",
    "ticker_call_to_sell_margin.midpoint()"
   ]
  },
  {
   "cell_type": "code",
   "execution_count": null,
   "id": "5dab3391-7af1-447f-b33b-3f6c6b7b65fb",
   "metadata": {},
   "outputs": [],
   "source": [
    "\n",
    "ticker_call_to_sell = tickers_dict['C', 515]\n",
    "ticker_call_to_sell.midpoint()"
   ]
  },
  {
   "cell_type": "code",
   "execution_count": null,
   "id": "95adf5db-5b80-478c-aa92-2dd8f594ebaa",
   "metadata": {},
   "outputs": [],
   "source": [
    "ticker_put_to_sell = tickers_dict['P', 500]\n",
    "ticker_put_to_sell.midpoint()"
   ]
  },
  {
   "cell_type": "code",
   "execution_count": null,
   "id": "e98847b4-dde2-4bd8-9819-782c6d95cb3e",
   "metadata": {},
   "outputs": [],
   "source": [
    "ticker_put_to_sell_margin = tickers_dict['P', 500]\n",
    "ticker_put_to_sell_margin.midpoint()"
   ]
  },
  {
   "cell_type": "code",
   "execution_count": null,
   "id": "edb2cb0b-f913-45df-a0e6-31c00a78f3a0",
   "metadata": {},
   "outputs": [],
   "source": [
    "print(f'current price({entry}')"
   ]
  },
  {
   "cell_type": "code",
   "execution_count": null,
   "id": "31585f0e-23c0-46b3-9771-9bbe9fe3f13a",
   "metadata": {},
   "outputs": [],
   "source": []
  }
 ],
 "metadata": {
  "kernelspec": {
   "display_name": "Python 3 (ipykernel)",
   "language": "python",
   "name": "python3"
  },
  "language_info": {
   "codemirror_mode": {
    "name": "ipython",
    "version": 3
   },
   "file_extension": ".py",
   "mimetype": "text/x-python",
   "name": "python",
   "nbconvert_exporter": "python",
   "pygments_lexer": "ipython3",
   "version": "3.12.7"
  }
 },
 "nbformat": 4,
 "nbformat_minor": 5
}
